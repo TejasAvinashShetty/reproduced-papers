{
 "metadata": {
  "name": "",
  "signature": "sha256:c43d11b1b64597366763b5c5028f59cd214978b7df07d54ad289117ba89cbacf"
 },
 "nbformat": 3,
 "nbformat_minor": 0,
 "worksheets": [
  {
   "cells": [
    {
     "cell_type": "heading",
     "level": 1,
     "metadata": {},
     "source": [
      "Reproduce: Gr\u00f6blacher et. al., Nature 460, 724 (2009)."
     ]
    },
    {
     "cell_type": "markdown",
     "metadata": {},
     "source": [
      "Reproduced by: Eunjong Kim (<a href=\"mailto:ekim7206@gmail.com\">ekim7206@gmail.com</a>)"
     ]
    },
    {
     "cell_type": "markdown",
     "metadata": {},
     "source": [
      "In this notebook, I find the expression for the normal mode splitting of optomechanical system, following the supplementary information of [<a href=\"http://dx.doi.org/10.1038/nature08171\">Gr\u00f6blacher et. al., Nature <b>460</b>, 724 (2009).</a>]"
     ]
    },
    {
     "cell_type": "heading",
     "level": 3,
     "metadata": {},
     "source": [
      "Setup Modules"
     ]
    },
    {
     "cell_type": "code",
     "collapsed": false,
     "input": [
      "from sympy import *\n",
      "init_printing()"
     ],
     "language": "python",
     "metadata": {},
     "outputs": [],
     "prompt_number": 1
    },
    {
     "cell_type": "code",
     "collapsed": false,
     "input": [
      "from sympsi.operator import Operator\n",
      "from sympsi.boson import BosonOp\n",
      "from sympsi.dagger import Dagger"
     ],
     "language": "python",
     "metadata": {},
     "outputs": [],
     "prompt_number": 2
    },
    {
     "cell_type": "code",
     "collapsed": false,
     "input": [
      "# Constants\n",
      "d = symbols(\"Delta\", real=True)  # detuning\n",
      "hbar, g, O, wp, wm = symbols(\"hbar, g, Omega, omega_+, omega_-\", positive=True)"
     ],
     "language": "python",
     "metadata": {},
     "outputs": [],
     "prompt_number": 3
    },
    {
     "cell_type": "markdown",
     "metadata": {},
     "source": [
      "The linearized Hamiltonian for a driven cavity mode coupled via radiation pressure to a harmonically bound mirror is\n",
      "\n",
      "$$\n",
      "H = -\\frac{\\hbar\\Delta}{2} (X_c^2 + P_c^2 ) + \\frac{\\hbar\\Omega}{2} (X_m^2 + P_m^2 ) - \\hbar g X_c X_m\n",
      "$$\n",
      "\n",
      "where $\\Omega$ is the frequency of the mechanical resonator, $\\Delta\\equiv \\omega_L - (\\omega_c-\\delta_{rp})$ is the effective detuning between the driving field and the cavity frequency$.($\\delta_{rp}$ is the mean shift of the cavity frequency arising from radiation frequency.)"
     ]
    },
    {
     "cell_type": "markdown",
     "metadata": {},
     "source": [
      "This can either be expressed in terms of the matrix equation with vector $\\vec{R}\\equiv [X_c,\\ P_c,\\ X_m,\\ P_m]^T$:\n",
      "\n",
      "$$\n",
      "H =\\frac{\\hbar}{2} \\vec{R}^T M \\vec{R}\n",
      "$$\n",
      "where $M$ is the matrix defined as"
     ]
    },
    {
     "cell_type": "code",
     "collapsed": false,
     "input": [
      "M = Matrix([[-d, 0, -g, 0],\n",
      "            [0, -d, 0, 0],\n",
      "            [-g, 0, O, 0],\n",
      "            [0, 0, 0, O]])\n",
      "M"
     ],
     "language": "python",
     "metadata": {},
     "outputs": [
      {
       "latex": [
        "$$\\left[\\begin{matrix}- \\Delta & 0 & - g & 0\\\\0 & - \\Delta & 0 & 0\\\\- g & 0 & \\Omega & 0\\\\0 & 0 & 0 & \\Omega\\end{matrix}\\right]$$"
       ],
       "metadata": {},
       "output_type": "pyout",
       "png": "[encoded data removed]",
       "prompt_number": 4,
       "text": [
        "\u23a1-\u0394  0   -g  0\u23a4\n",
        "\u23a2             \u23a5\n",
        "\u23a20   -\u0394  0   0\u23a5\n",
        "\u23a2             \u23a5\n",
        "\u23a2-g  0   \u03a9   0\u23a5\n",
        "\u23a2             \u23a5\n",
        "\u23a30   0   0   \u03a9\u23a6"
       ]
      }
     ],
     "prompt_number": 4
    },
    {
     "cell_type": "code",
     "collapsed": false,
     "input": [
      "# Operators\n",
      "Xc, Xm = Operator('X_c'), Operator('X_m')  # Position Quadratures\n",
      "Pc, Pm = Operator('P_c'), Operator('P_m')  # Momentum Quadratures\n",
      "ac, am = BosonOp('a_c'), BosonOp('a_m')    # Boson Operators"
     ],
     "language": "python",
     "metadata": {},
     "outputs": [],
     "prompt_number": 5
    },
    {
     "cell_type": "markdown",
     "metadata": {},
     "source": [
      "The quadrature operators are related to the annihilation and creation operators by the following linear equation:\n",
      "$$ \\vec{R} = Q \\vec{A}$$\n",
      "where $\\vec{A} \\equiv [a_c,\\ a^\\dagger_c,\\ a_m,\\ a^\\dagger_m]^T$, and $Q$ is the coefficient matrix"
     ]
    },
    {
     "cell_type": "code",
     "collapsed": false,
     "input": [
      "R = Matrix([Xc, Pc, Xm, Pm])\n",
      "A = Matrix([ac, Dagger(ac), am, Dagger(am)])\n",
      "Q = Matrix([[1, 1, 0, 0],\n",
      "            [-I, I, 0, 0],\n",
      "            [0, 0, 1, 1],\n",
      "            [0, 0, -I, I]])/sqrt(2)\n",
      "Eq(R, MatMul(Q, A))"
     ],
     "language": "python",
     "metadata": {},
     "outputs": [
      {
       "latex": [
        "$$\\left[\\begin{matrix}X_{c}\\\\P_{c}\\\\X_{m}\\\\P_{m}\\end{matrix}\\right] = \\left[\\begin{matrix}\\frac{\\sqrt{2}}{2} & \\frac{\\sqrt{2}}{2} & 0 & 0\\\\- \\frac{\\sqrt{2} i}{2} & \\frac{\\sqrt{2} i}{2} & 0 & 0\\\\0 & 0 & \\frac{\\sqrt{2}}{2} & \\frac{\\sqrt{2}}{2}\\\\0 & 0 & - \\frac{\\sqrt{2} i}{2} & \\frac{\\sqrt{2} i}{2}\\end{matrix}\\right] \\left[\\begin{matrix}{a_c}\\\\{{a_c}^\\dagger}\\\\{a_m}\\\\{{a_m}^\\dagger}\\end{matrix}\\right]$$"
       ],
       "metadata": {},
       "output_type": "pyout",
       "png": "[encoded data removed]",
       "prompt_number": 6,
       "text": [
        "        \u23a1    ___       ___                     \u23a4       \n",
        "        \u23a2  \u2572\u2571 2      \u2572\u2571 2                      \u23a5       \n",
        "\u23a1X_c\u23a4 = \u23a2  \u2500\u2500\u2500\u2500\u2500     \u2500\u2500\u2500\u2500\u2500       0         0   \u23a5\u22c5\u23a1a_c \u23a4\n",
        "\u23a2   \u23a5   \u23a2    2         2                       \u23a5 \u23a2    \u23a5\n",
        "\u23a2P_c\u23a5   \u23a2                                      \u23a5 \u23a2   \u2020\u23a5\n",
        "\u23a2   \u23a5   \u23a2   ___       ___                      \u23a5 \u23a2a_c \u23a5\n",
        "\u23a2X_m\u23a5   \u23a2-\u2572\u2571 2 \u22c5\u2148   \u2572\u2571 2 \u22c5\u2148                    \u23a5 \u23a2    \u23a5\n",
        "\u23a2   \u23a5   \u23a2\u2500\u2500\u2500\u2500\u2500\u2500\u2500\u2500\u2500  \u2500\u2500\u2500\u2500\u2500\u2500\u2500      0         0   \u23a5 \u23a2a_m \u23a5\n",
        "\u23a3P_m\u23a6   \u23a2    2         2                       \u23a5 \u23a2    \u23a5\n",
        "        \u23a2                                      \u23a5 \u23a2   \u2020\u23a5\n",
        "        \u23a2                        ___       ___ \u23a5 \u23a3a_m \u23a6\n",
        "        \u23a2                      \u2572\u2571 2      \u2572\u2571 2  \u23a5       \n",
        "        \u23a2    0         0       \u2500\u2500\u2500\u2500\u2500     \u2500\u2500\u2500\u2500\u2500 \u23a5       \n",
        "        \u23a2                        2         2   \u23a5       \n",
        "        \u23a2                                      \u23a5       \n",
        "        \u23a2                       ___       ___  \u23a5       \n",
        "        \u23a2                    -\u2572\u2571 2 \u22c5\u2148   \u2572\u2571 2 \u22c5\u2148\u23a5       \n",
        "        \u23a2    0         0     \u2500\u2500\u2500\u2500\u2500\u2500\u2500\u2500\u2500  \u2500\u2500\u2500\u2500\u2500\u2500\u2500\u23a5       \n",
        "        \u23a3                        2         2   \u23a6       "
       ]
      }
     ],
     "prompt_number": 6
    },
    {
     "cell_type": "markdown",
     "metadata": {},
     "source": [
      "i.e., $$X_{\\alpha} = \\frac{a_{\\alpha}+a^\\dagger_{\\alpha}}{\\sqrt{2}},\\quad P_{\\alpha} = -i\\frac{a_{\\alpha}-a^\\dagger_{\\alpha}}{\\sqrt{2}}\\quad (\\alpha = c, m)$$"
     ]
    },
    {
     "cell_type": "markdown",
     "metadata": {},
     "source": [
      "The quadratures satisfy the canonical commutation relations $$[X_\\alpha, P_\\beta] = i \\delta_{\\alpha, \\beta},\\quad [X_\\alpha, X_\\beta] = [P_\\alpha, P_\\beta] = 0.$$\n",
      "which are condensed into one simple equation\n",
      "$$\n",
      "[\\vec{R}_{i}, \\vec{R}_{j}] = i J_{ij}\n",
      "$$\n",
      "where $J$ is the matrix defined as"
     ]
    },
    {
     "cell_type": "code",
     "collapsed": false,
     "input": [
      "# Constraint representative of the canonical commutation relation\n",
      "J = Matrix([[0, 1, 0, 0],\n",
      "            [-1, 0, 0, 0],\n",
      "            [0, 0, 0, 1],\n",
      "            [0, 0, -1, 0]])\n",
      "J"
     ],
     "language": "python",
     "metadata": {},
     "outputs": [
      {
       "latex": [
        "$$\\left[\\begin{matrix}0 & 1 & 0 & 0\\\\-1 & 0 & 0 & 0\\\\0 & 0 & 0 & 1\\\\0 & 0 & -1 & 0\\end{matrix}\\right]$$"
       ],
       "metadata": {},
       "output_type": "pyout",
       "png": "[encoded data removed]",
       "prompt_number": 7,
       "text": [
        "\u23a10   1  0   0\u23a4\n",
        "\u23a2            \u23a5\n",
        "\u23a2-1  0  0   0\u23a5\n",
        "\u23a2            \u23a5\n",
        "\u23a20   0  0   1\u23a5\n",
        "\u23a2            \u23a5\n",
        "\u23a30   0  -1  0\u23a6"
       ]
      }
     ],
     "prompt_number": 7
    },
    {
     "cell_type": "markdown",
     "metadata": {},
     "source": [
      "Note that the matrix $J$ has simple properties:   $\\quad J^T = J^{-1} = -J, \\quad J^2=-I$."
     ]
    },
    {
     "cell_type": "markdown",
     "metadata": {},
     "source": [
      "Our goal is to find a linear transformation $S$ that converts the original coordinates $\\vec{R}$ into the normal mode coordinates $\\vec{R}^{NM} = [X_+, P_+, X_-, P_-]^T = S\\vec{R}$, whose Hamiltonian representation is\n",
      "$$ H = \\frac{\\hbar\\omega_+}{2} \\left( X_+^2 + P_+^2 \\right) + \\frac{\\hbar \\omega_-}{2} \\left( X_-^2 + P_-^2\\right) $$"
     ]
    },
    {
     "cell_type": "code",
     "collapsed": false,
     "input": [
      "# Operators in the normal mode coordinates\n",
      "X_p, X_m = Operator('X_+'), Operator('X_-')  # Position Quadratures\n",
      "P_p, P_m = Operator('P_+'), Operator('P_-')  # Momentum Quadratures\n",
      "a_p, a_m = BosonOp('a_+'), BosonOp('a_-')    # Boson Operators"
     ],
     "language": "python",
     "metadata": {},
     "outputs": [],
     "prompt_number": 8
    },
    {
     "cell_type": "code",
     "collapsed": false,
     "input": [
      "Rnm = Matrix([X_p, P_p, X_m, P_m])\n",
      "Anm = Matrix([a_p, Dagger(a_p), a_m, Dagger(a_m)])\n",
      "Eq(Rnm, MatMul(Q, Anm))"
     ],
     "language": "python",
     "metadata": {},
     "outputs": [
      {
       "latex": [
        "$$\\left[\\begin{matrix}X_{+}\\\\P_{+}\\\\X_{-}\\\\P_{-}\\end{matrix}\\right] = \\left[\\begin{matrix}\\frac{\\sqrt{2}}{2} & \\frac{\\sqrt{2}}{2} & 0 & 0\\\\- \\frac{\\sqrt{2} i}{2} & \\frac{\\sqrt{2} i}{2} & 0 & 0\\\\0 & 0 & \\frac{\\sqrt{2}}{2} & \\frac{\\sqrt{2}}{2}\\\\0 & 0 & - \\frac{\\sqrt{2} i}{2} & \\frac{\\sqrt{2} i}{2}\\end{matrix}\\right] \\left[\\begin{matrix}{a_+}\\\\{{a_+}^\\dagger}\\\\{a_-}\\\\{{a_-}^\\dagger}\\end{matrix}\\right]$$"
       ],
       "metadata": {},
       "output_type": "pyout",
       "png": "[encoded data removed]",
       "prompt_number": 9,
       "text": [
        "       \u23a1    ___       ___                     \u23a4      \n",
        "       \u23a2  \u2572\u2571 2      \u2572\u2571 2                      \u23a5      \n",
        "\u23a1X\u208a\u23a4 = \u23a2  \u2500\u2500\u2500\u2500\u2500     \u2500\u2500\u2500\u2500\u2500       0         0   \u23a5\u22c5\u23a1a\u208a \u23a4\n",
        "\u23a2  \u23a5   \u23a2    2         2                       \u23a5 \u23a2   \u23a5\n",
        "\u23a2P\u208a\u23a5   \u23a2                                      \u23a5 \u23a2  \u2020\u23a5\n",
        "\u23a2  \u23a5   \u23a2   ___       ___                      \u23a5 \u23a2a\u208a \u23a5\n",
        "\u23a2X\u208b\u23a5   \u23a2-\u2572\u2571 2 \u22c5\u2148   \u2572\u2571 2 \u22c5\u2148                    \u23a5 \u23a2   \u23a5\n",
        "\u23a2  \u23a5   \u23a2\u2500\u2500\u2500\u2500\u2500\u2500\u2500\u2500\u2500  \u2500\u2500\u2500\u2500\u2500\u2500\u2500      0         0   \u23a5 \u23a2a\u208b \u23a5\n",
        "\u23a3P\u208b\u23a6   \u23a2    2         2                       \u23a5 \u23a2   \u23a5\n",
        "       \u23a2                                      \u23a5 \u23a2  \u2020\u23a5\n",
        "       \u23a2                        ___       ___ \u23a5 \u23a3a\u208b \u23a6\n",
        "       \u23a2                      \u2572\u2571 2      \u2572\u2571 2  \u23a5      \n",
        "       \u23a2    0         0       \u2500\u2500\u2500\u2500\u2500     \u2500\u2500\u2500\u2500\u2500 \u23a5      \n",
        "       \u23a2                        2         2   \u23a5      \n",
        "       \u23a2                                      \u23a5      \n",
        "       \u23a2                       ___       ___  \u23a5      \n",
        "       \u23a2                    -\u2572\u2571 2 \u22c5\u2148   \u2572\u2571 2 \u22c5\u2148\u23a5      \n",
        "       \u23a2    0         0     \u2500\u2500\u2500\u2500\u2500\u2500\u2500\u2500\u2500  \u2500\u2500\u2500\u2500\u2500\u2500\u2500\u23a5      \n",
        "       \u23a3                        2         2   \u23a6      "
       ]
      }
     ],
     "prompt_number": 9
    },
    {
     "cell_type": "markdown",
     "metadata": {},
     "source": [
      "This can either be expressed in terms of the matrix equation with vector $\\vec{R}^{NM}$:\n",
      "\n",
      "$$\n",
      "H = \\frac{\\hbar}{2} \\left(\\vec{R}^{NM}\\right)^T D \\vec{R}^{NM}\n",
      "= \\frac{\\hbar}{2} \\left(S\\vec{R}\\right)^T D \\left(S\\vec{R}\\right)\n",
      "= \\frac{\\hbar}{2} \\vec{R}^T \\left(S^T D S\\right)\\vec{R}\n",
      "$$\n",
      "where $D$ is the diagonal matrix defined as"
     ]
    },
    {
     "cell_type": "code",
     "collapsed": false,
     "input": [
      "D = diag(wp, wp, wm, wm)\n",
      "D"
     ],
     "language": "python",
     "metadata": {},
     "outputs": [
      {
       "latex": [
        "$$\\left[\\begin{matrix}\\omega_{+} & 0 & 0 & 0\\\\0 & \\omega_{+} & 0 & 0\\\\0 & 0 & \\omega_{-} & 0\\\\0 & 0 & 0 & \\omega_{-}\\end{matrix}\\right]$$"
       ],
       "metadata": {},
       "output_type": "pyout",
       "png": "[encoded data removed]",
       "prompt_number": 10,
       "text": [
        "\u23a1\u03c9\u208a  0   0   0 \u23a4\n",
        "\u23a2              \u23a5\n",
        "\u23a20   \u03c9\u208a  0   0 \u23a5\n",
        "\u23a2              \u23a5\n",
        "\u23a20   0   \u03c9\u208b  0 \u23a5\n",
        "\u23a2              \u23a5\n",
        "\u23a30   0   0   \u03c9\u208b\u23a6"
       ]
      }
     ],
     "prompt_number": 10
    },
    {
     "cell_type": "markdown",
     "metadata": {},
     "source": [
      "1) Comparing with the matrix representation of Hamiltonian in the original coordinates, it follows that $M = S^T D S$.\n",
      "\n",
      "(<b>NOTE</b>:  This transformation betweeen $M$ and $D$ is not in general a similarity transformation, so that $M$ and $D$ doesn't need not share a same set of eigenvalues.)"
     ]
    },
    {
     "cell_type": "markdown",
     "metadata": {},
     "source": [
      "2) In addition to this condition, the transformation matrix $S$ is subject to the cannonical commutation relations between quadratures of the normal mode coordinates, which gives another constraint on $S$ :\n",
      "\n",
      "\\begin{align}\n",
      "iJ_{ij} = \\left[\\vec{R}^{NM}_{i}, \\vec{R}^{NM}_{j}\\right] = \\left[\\sum_{k} S_{ik} \\vec{R}_{k}, \\sum_{l} S_{jl} \\vec{R}_{l}\\right] = \\sum_{k, l} S_{ik} \\left[ \\vec{R}_{k}, \\vec{R}_{l}\\right] (S^T)_{lj} = i \\sum_{k, l} S_{ik} J_{kl} (S^T)_{lj} = i(SJS^T)_{ij} \\quad\\Rightarrow\\quad J=SJS^T\n",
      "\\end{align}"
     ]
    },
    {
     "cell_type": "markdown",
     "metadata": {},
     "source": [
      "The latter property, which guarantees that the canonical commutation relations are conserved under the transformation, are often termed as a <i>symplectic transformation</i>."
     ]
    },
    {
     "cell_type": "markdown",
     "metadata": {},
     "source": [
      "The conditions 1) and 2) described above themselves doesn't say anything about the normal mode frequencies $\\omega_+,\\ \\omega_-$ or the transformation matrix $S$. But, combining two matrix equations, we can get a meaningful relation useful in getting normal mode frequencies."
     ]
    },
    {
     "cell_type": "markdown",
     "metadata": {},
     "source": [
      "First, we can readily notice that the matrix $S$ should be invertible. This is due to the fact that $\\det{J} = 1$, so the determinant of the rhs of condition 2),\n",
      "\n",
      "$$\\det{(SJS^T)} = \\det{S} \\cdot\\det{J}\\cdot \\det{S^T} = \\det{J} (\\det{S})^2$$\n",
      "\n",
      "should also be 1. If $\\det{S} = 0$, this cannot be the case. It naturally follows that $|\\det{S}|=1$."
     ]
    },
    {
     "cell_type": "markdown",
     "metadata": {},
     "source": [
      "Second, multiplying $J^{-1} S^{-1}$ on the left of the both sides of 2), we get\n",
      "\n",
      "$$\n",
      "J^{-1} S ^{-1}J = -J S ^{-1} J = (-J S^{-1}) SJS^T = -J^2 S^T = S^T.\n",
      "$$"
     ]
    },
    {
     "cell_type": "markdown",
     "metadata": {},
     "source": [
      "Finally, substituting into 1),\n",
      "\n",
      "$$\n",
      "M = S^T D S = (J^{-1} S^{-1} J)DS = J^{-1} S^{-1}(JD) S \\quad \\Rightarrow \\quad JM = S^{-1}(JD) S.\n",
      "$$\n",
      "\n",
      "we find that $JM$ and $JD$ are related by the similarity transformation. As a consequence, the matrices $JD$ and $JM$ share the same set of eigenvalues."
     ]
    },
    {
     "cell_type": "markdown",
     "metadata": {},
     "source": [
      "Now, let \n",
      "$$\n",
      "A^{-1} (JM) A = B^{-1} (JD) B = \\mathrm{diag}{(\\lambda_1, \\lambda_2, \\lambda_3, \\lambda_4)}.\n",
      "$$\n",
      "\n",
      "(with this definition, $S = BA^{-1}$)."
     ]
    },
    {
     "cell_type": "markdown",
     "metadata": {},
     "source": [
      "Extracting the eigenvectors and eigenvalues for two matrices $JM$ and $JD$,"
     ]
    },
    {
     "cell_type": "code",
     "collapsed": false,
     "input": [
      "# extracting eigenvectors and eigenvalues for J*M\n",
      "[(e1,_,[v1]), (e2,_,[v2]), (e3,_,[v3]), (e4,_,[v4])] = (J * M).eigenvects()"
     ],
     "language": "python",
     "metadata": {},
     "outputs": [],
     "prompt_number": 11
    },
    {
     "cell_type": "code",
     "collapsed": false,
     "input": [
      "e1, e2, e3, e4"
     ],
     "language": "python",
     "metadata": {},
     "outputs": [
      {
       "latex": [
        "$$\\left ( - \\sqrt{- \\frac{\\Delta^{2}}{2} - \\frac{\\Omega^{2}}{2} - \\frac{1}{2} \\sqrt{\\Delta^{4} - 2 \\Delta^{2} \\Omega^{2} - 4 \\Delta \\Omega g^{2} + \\Omega^{4}}}, \\quad \\sqrt{- \\frac{\\Delta^{2}}{2} - \\frac{\\Omega^{2}}{2} - \\frac{1}{2} \\sqrt{\\Delta^{4} - 2 \\Delta^{2} \\Omega^{2} - 4 \\Delta \\Omega g^{2} + \\Omega^{4}}}, \\quad - \\sqrt{- \\frac{\\Delta^{2}}{2} - \\frac{\\Omega^{2}}{2} + \\frac{1}{2} \\sqrt{\\Delta^{4} - 2 \\Delta^{2} \\Omega^{2} - 4 \\Delta \\Omega g^{2} + \\Omega^{4}}}, \\quad \\sqrt{- \\frac{\\Delta^{2}}{2} - \\frac{\\Omega^{2}}{2} + \\frac{1}{2} \\sqrt{\\Delta^{4} - 2 \\Delta^{2} \\Omega^{2} - 4 \\Delta \\Omega g^{2} + \\Omega^{4}}}\\right )$$"
       ],
       "metadata": {},
       "output_type": "pyout",
       "png": "[encoded data removed]",
       "prompt_number": 12,
       "text": [
        "\u239b       _______________________________________________        _______________\n",
        "\u239c      \u2571                ______________________________        \u2571               \n",
        "\u239c     \u2571     2    2     \u2571  4      2  2          2    4        \u2571     2    2     \n",
        "\u239c    \u2571     \u0394    \u03a9    \u2572\u2571  \u0394  - 2\u22c5\u0394 \u22c5\u03a9  - 4\u22c5\u0394\u22c5\u03a9\u22c5g  + \u03a9        \u2571     \u0394    \u03a9    \u2572\u2571\n",
        "\u239c-  \u2571    - \u2500\u2500 - \u2500\u2500 - \u2500\u2500\u2500\u2500\u2500\u2500\u2500\u2500\u2500\u2500\u2500\u2500\u2500\u2500\u2500\u2500\u2500\u2500\u2500\u2500\u2500\u2500\u2500\u2500\u2500\u2500\u2500\u2500\u2500\u2500\u2500\u2500\u2500 ,   \u2571    - \u2500\u2500 - \u2500\u2500 - \u2500\u2500\n",
        "\u239d \u2572\u2571       2    2                    2                   \u2572\u2571       2    2      \n",
        "\n",
        "________________________________         _____________________________________\n",
        " ______________________________         \u2571                _____________________\n",
        "\u2571  4      2  2          2    4         \u2571     2    2     \u2571  4      2  2        \n",
        "  \u0394  - 2\u22c5\u0394 \u22c5\u03a9  - 4\u22c5\u0394\u22c5\u03a9\u22c5g  + \u03a9         \u2571     \u0394    \u03a9    \u2572\u2571  \u0394  - 2\u22c5\u0394 \u22c5\u03a9  - 4\u22c5\u0394\u22c5\u03a9\n",
        "\u2500\u2500\u2500\u2500\u2500\u2500\u2500\u2500\u2500\u2500\u2500\u2500\u2500\u2500\u2500\u2500\u2500\u2500\u2500\u2500\u2500\u2500\u2500\u2500\u2500\u2500\u2500\u2500\u2500\u2500\u2500 , -  \u2571    - \u2500\u2500 - \u2500\u2500 + \u2500\u2500\u2500\u2500\u2500\u2500\u2500\u2500\u2500\u2500\u2500\u2500\u2500\u2500\u2500\u2500\u2500\u2500\u2500\u2500\u2500\u2500\u2500\u2500\n",
        "              2                    \u2572\u2571       2    2                    2       \n",
        "\n",
        "__________        _______________________________________________\u239e\n",
        "_________        \u2571                ______________________________ \u239f\n",
        "  2    4        \u2571     2    2     \u2571  4      2  2          2    4  \u239f\n",
        "\u22c5g  + \u03a9        \u2571     \u0394    \u03a9    \u2572\u2571  \u0394  - 2\u22c5\u0394 \u22c5\u03a9  - 4\u22c5\u0394\u22c5\u03a9\u22c5g  + \u03a9   \u239f\n",
        "\u2500\u2500\u2500\u2500\u2500\u2500\u2500\u2500\u2500 ,   \u2571    - \u2500\u2500 - \u2500\u2500 + \u2500\u2500\u2500\u2500\u2500\u2500\u2500\u2500\u2500\u2500\u2500\u2500\u2500\u2500\u2500\u2500\u2500\u2500\u2500\u2500\u2500\u2500\u2500\u2500\u2500\u2500\u2500\u2500\u2500\u2500\u2500\u2500\u2500 \u239f\n",
        "            \u2572\u2571       2    2                    2                 \u23a0"
       ]
      }
     ],
     "prompt_number": 12
    },
    {
     "cell_type": "code",
     "collapsed": false,
     "input": [
      "# extracting eigenvectors and eigenvalues for J*D\n",
      "[(f1,_,[w1]), (f2,_,[w2]), (f3,_,[w3]), (f4,_,[w4])] = (J * D).eigenvects()"
     ],
     "language": "python",
     "metadata": {},
     "outputs": [],
     "prompt_number": 13
    },
    {
     "cell_type": "code",
     "collapsed": false,
     "input": [
      "f1, f2, f3, f4"
     ],
     "language": "python",
     "metadata": {},
     "outputs": [
      {
       "latex": [
        "$$\\left ( - i \\omega_{+}, \\quad i \\omega_{+}, \\quad - i \\omega_{-}, \\quad i \\omega_{-}\\right )$$"
       ],
       "metadata": {},
       "output_type": "pyout",
       "png": "[encoded data removed]",
       "prompt_number": 14,
       "text": [
        "(-\u2148\u22c5\u03c9\u208a, \u2148\u22c5\u03c9\u208a, -\u2148\u22c5\u03c9\u208b, \u2148\u22c5\u03c9\u208b)"
       ]
      }
     ],
     "prompt_number": 14
    },
    {
     "cell_type": "markdown",
     "metadata": {},
     "source": [
      "there is a one-to-one correspondence between eigenvalues, which gives us the normal mode frequencies $\\omega_{\\pm}$:"
     ]
    },
    {
     "cell_type": "code",
     "collapsed": false,
     "input": [
      "wpsol = solve(e2-f2, wp)[0]\n",
      "Eq(wp, wpsol)"
     ],
     "language": "python",
     "metadata": {},
     "outputs": [
      {
       "latex": [
        "$$\\omega_{+} = - \\frac{\\sqrt{2} i}{2} \\sqrt{- \\Delta^{2} - \\Omega^{2} - \\sqrt{\\Delta^{4} - 2 \\Delta^{2} \\Omega^{2} - 4 \\Delta \\Omega g^{2} + \\Omega^{4}}}$$"
       ],
       "metadata": {},
       "output_type": "pyout",
       "png": "[encoded data removed]",
       "prompt_number": 15,
       "text": [
        "                  _______________________________________________ \n",
        "                 \u2571                ______________________________  \n",
        "        ___     \u2571     2    2     \u2571  4      2  2          2    4   \n",
        "     -\u2572\u2571 2 \u22c5\u2148\u22c5\u2572\u2571   - \u0394  - \u03a9  - \u2572\u2571  \u0394  - 2\u22c5\u0394 \u22c5\u03a9  - 4\u22c5\u0394\u22c5\u03a9\u22c5g  + \u03a9    \n",
        "\u03c9\u208a = \u2500\u2500\u2500\u2500\u2500\u2500\u2500\u2500\u2500\u2500\u2500\u2500\u2500\u2500\u2500\u2500\u2500\u2500\u2500\u2500\u2500\u2500\u2500\u2500\u2500\u2500\u2500\u2500\u2500\u2500\u2500\u2500\u2500\u2500\u2500\u2500\u2500\u2500\u2500\u2500\u2500\u2500\u2500\u2500\u2500\u2500\u2500\u2500\u2500\u2500\u2500\u2500\u2500\u2500\u2500\u2500\u2500\u2500\u2500\u2500\u2500\n",
        "                                   2                              "
       ]
      }
     ],
     "prompt_number": 15
    },
    {
     "cell_type": "code",
     "collapsed": false,
     "input": [
      "wmsol = solve(e4-f4, wm)[0]\n",
      "Eq(wm, wmsol)"
     ],
     "language": "python",
     "metadata": {},
     "outputs": [
      {
       "latex": [
        "$$\\omega_{-} = - \\frac{\\sqrt{2} i}{2} \\sqrt{- \\Delta^{2} - \\Omega^{2} + \\sqrt{\\Delta^{4} - 2 \\Delta^{2} \\Omega^{2} - 4 \\Delta \\Omega g^{2} + \\Omega^{4}}}$$"
       ],
       "metadata": {},
       "output_type": "pyout",
       "png": "[encoded data removed]",
       "prompt_number": 16,
       "text": [
        "                  _______________________________________________ \n",
        "                 \u2571                ______________________________  \n",
        "        ___     \u2571     2    2     \u2571  4      2  2          2    4   \n",
        "     -\u2572\u2571 2 \u22c5\u2148\u22c5\u2572\u2571   - \u0394  - \u03a9  + \u2572\u2571  \u0394  - 2\u22c5\u0394 \u22c5\u03a9  - 4\u22c5\u0394\u22c5\u03a9\u22c5g  + \u03a9    \n",
        "\u03c9\u208b = \u2500\u2500\u2500\u2500\u2500\u2500\u2500\u2500\u2500\u2500\u2500\u2500\u2500\u2500\u2500\u2500\u2500\u2500\u2500\u2500\u2500\u2500\u2500\u2500\u2500\u2500\u2500\u2500\u2500\u2500\u2500\u2500\u2500\u2500\u2500\u2500\u2500\u2500\u2500\u2500\u2500\u2500\u2500\u2500\u2500\u2500\u2500\u2500\u2500\u2500\u2500\u2500\u2500\u2500\u2500\u2500\u2500\u2500\u2500\u2500\u2500\n",
        "                                   2                              "
       ]
      }
     ],
     "prompt_number": 16
    },
    {
     "cell_type": "code",
     "collapsed": false,
     "input": [
      "# simpler expression without an imaginary number\n",
      "wpsol = sqrt((d**2 + O**2 + sqrt((d**2 -O**2)**2 -4*d*O*g**2))/2)\n",
      "wmsol = sqrt((d**2 + O**2 - sqrt((d**2 -O**2)**2 -4*d*O*g**2))/2)"
     ],
     "language": "python",
     "metadata": {},
     "outputs": [],
     "prompt_number": 17
    },
    {
     "cell_type": "code",
     "collapsed": false,
     "input": [
      "Eq(wp, wpsol), Eq(wm, wmsol)"
     ],
     "language": "python",
     "metadata": {},
     "outputs": [
      {
       "latex": [
        "$$\\left ( \\omega_{+} = \\sqrt{\\frac{\\Delta^{2}}{2} + \\frac{\\Omega^{2}}{2} + \\frac{1}{2} \\sqrt{- 4 \\Delta \\Omega g^{2} + \\left(\\Delta^{2} - \\Omega^{2}\\right)^{2}}}, \\quad \\omega_{-} = \\sqrt{\\frac{\\Delta^{2}}{2} + \\frac{\\Omega^{2}}{2} - \\frac{1}{2} \\sqrt{- 4 \\Delta \\Omega g^{2} + \\left(\\Delta^{2} - \\Omega^{2}\\right)^{2}}}\\right )$$"
       ],
       "metadata": {},
       "output_type": "pyout",
       "png": "[encoded data removed]",
       "prompt_number": 18,
       "text": [
        "\u239b            _________________________________________              __________\n",
        "\u239c           \u2571               _________________________              \u2571          \n",
        "\u239c          \u2571               \u2571                       2              \u2571           \n",
        "\u239c         \u2571    2    2     \u2571           2   \u239b 2    2\u239e              \u2571    2    2  \n",
        "\u239c        \u2571    \u0394    \u03a9    \u2572\u2571   - 4\u22c5\u0394\u22c5\u03a9\u22c5g  + \u239d\u0394  - \u03a9 \u23a0             \u2571    \u0394    \u03a9   \n",
        "\u239c\u03c9\u208a =   \u2571     \u2500\u2500 + \u2500\u2500 + \u2500\u2500\u2500\u2500\u2500\u2500\u2500\u2500\u2500\u2500\u2500\u2500\u2500\u2500\u2500\u2500\u2500\u2500\u2500\u2500\u2500\u2500\u2500\u2500\u2500\u2500\u2500\u2500\u2500 , \u03c9\u208b =   \u2571     \u2500\u2500 + \u2500\u2500 -\n",
        "\u239d     \u2572\u2571      2    2                  2                      \u2572\u2571      2    2   \n",
        "\n",
        "_______________________________\u239e\n",
        "     _________________________ \u239f\n",
        "    \u2571                       2  \u239f\n",
        "   \u2571           2   \u239b 2    2\u239e   \u239f\n",
        " \u2572\u2571   - 4\u22c5\u0394\u22c5\u03a9\u22c5g  + \u239d\u0394  - \u03a9 \u23a0   \u239f\n",
        " \u2500\u2500\u2500\u2500\u2500\u2500\u2500\u2500\u2500\u2500\u2500\u2500\u2500\u2500\u2500\u2500\u2500\u2500\u2500\u2500\u2500\u2500\u2500\u2500\u2500\u2500\u2500\u2500\u2500 \u239f\n",
        "               2               \u23a0"
       ]
      }
     ],
     "prompt_number": 18
    },
    {
     "cell_type": "markdown",
     "metadata": {},
     "source": [
      "Now, try to find the transformation matrix $S$. First construct matrices $A$ and $B$ from the eigenvectors multiplied by arbitrary constants (which will be determined later)"
     ]
    },
    {
     "cell_type": "code",
     "collapsed": false,
     "input": [
      "# arbitrary constants\n",
      "aa, bb, cc, dd = symbols(\"alpha, beta, gamma, delta\")\n",
      "x, y, z, w = symbols(\"x, y, z, w\")"
     ],
     "language": "python",
     "metadata": {},
     "outputs": [],
     "prompt_number": 19
    },
    {
     "cell_type": "code",
     "collapsed": false,
     "input": [
      "ee2, ff2 = simplify(sqrt(2)*e2), sqrt(2)*f2\n",
      "ee4, ff4 = simplify(sqrt(2)*e4), sqrt(2)*f4\n",
      "subs_dic = {ee2:ff2, ee2**2+2*d**2:ff2**2+2*d**2, ee4:ff4, ee4**2+2*d**2: ff4**2+2*d**2}\n",
      "u1, u2, u3, u4 = (v1.subs(subs_dic), v2.subs(subs_dic),\n",
      "                  v3.subs(subs_dic), v4.subs(subs_dic))"
     ],
     "language": "python",
     "metadata": {},
     "outputs": [],
     "prompt_number": 20
    },
    {
     "cell_type": "code",
     "collapsed": false,
     "input": [
      "A = (x*u1).row_join(y*u2).row_join(z*u3).row_join(w*u4)\n",
      "A = simplify(A)\n",
      "A"
     ],
     "language": "python",
     "metadata": {},
     "outputs": [
      {
       "latex": [
        "$$\\left[\\begin{matrix}- \\frac{i \\Delta \\Omega g x}{\\omega_{+} \\left(\\Delta^{2} - \\omega_{+}^{2}\\right)} & \\frac{i \\Delta \\Omega g y}{\\omega_{+} \\left(\\Delta^{2} - \\omega_{+}^{2}\\right)} & - \\frac{i \\Delta \\Omega g z}{\\omega_{-} \\left(\\Delta^{2} - \\omega_{-}^{2}\\right)} & \\frac{i \\Delta \\Omega g w}{\\omega_{-} \\left(\\Delta^{2} - \\omega_{-}^{2}\\right)}\\\\\\frac{\\Omega g x}{\\Delta^{2} - \\omega_{+}^{2}} & \\frac{\\Omega g y}{\\Delta^{2} - \\omega_{+}^{2}} & \\frac{\\Omega g z}{\\Delta^{2} - \\omega_{-}^{2}} & \\frac{\\Omega g w}{\\Delta^{2} - \\omega_{-}^{2}}\\\\\\frac{i x}{\\omega_{+}} \\Omega & - \\frac{i y}{\\omega_{+}} \\Omega & \\frac{i z}{\\omega_{-}} \\Omega & - \\frac{i w}{\\omega_{-}} \\Omega\\\\x & y & z & w\\end{matrix}\\right]$$"
       ],
       "metadata": {},
       "output_type": "pyout",
       "png": "[encoded data removed]",
       "prompt_number": 21,
       "text": [
        "\u23a1 -\u2148\u22c5\u0394\u22c5\u03a9\u22c5g\u22c5x      \u2148\u22c5\u0394\u22c5\u03a9\u22c5g\u22c5y     -\u2148\u22c5\u0394\u22c5\u03a9\u22c5g\u22c5z      \u2148\u22c5\u0394\u22c5\u03a9\u22c5g\u22c5w  \u23a4\n",
        "\u23a2\u2500\u2500\u2500\u2500\u2500\u2500\u2500\u2500\u2500\u2500\u2500\u2500\u2500  \u2500\u2500\u2500\u2500\u2500\u2500\u2500\u2500\u2500\u2500\u2500\u2500\u2500  \u2500\u2500\u2500\u2500\u2500\u2500\u2500\u2500\u2500\u2500\u2500\u2500\u2500  \u2500\u2500\u2500\u2500\u2500\u2500\u2500\u2500\u2500\u2500\u2500\u2500\u2500\u23a5\n",
        "\u23a2   \u239b 2     2\u239e     \u239b 2     2\u239e     \u239b 2     2\u239e     \u239b 2     2\u239e\u23a5\n",
        "\u23a2\u03c9\u208a\u22c5\u239d\u0394  - \u03c9\u208a \u23a0  \u03c9\u208a\u22c5\u239d\u0394  - \u03c9\u208a \u23a0  \u03c9\u208b\u22c5\u239d\u0394  - \u03c9\u208b \u23a0  \u03c9\u208b\u22c5\u239d\u0394  - \u03c9\u208b \u23a0\u23a5\n",
        "\u23a2                                                          \u23a5\n",
        "\u23a2   \u03a9\u22c5g\u22c5x          \u03a9\u22c5g\u22c5y          \u03a9\u22c5g\u22c5z          \u03a9\u22c5g\u22c5w     \u23a5\n",
        "\u23a2  \u2500\u2500\u2500\u2500\u2500\u2500\u2500\u2500       \u2500\u2500\u2500\u2500\u2500\u2500\u2500\u2500       \u2500\u2500\u2500\u2500\u2500\u2500\u2500\u2500       \u2500\u2500\u2500\u2500\u2500\u2500\u2500\u2500   \u23a5\n",
        "\u23a2   2     2        2     2        2     2        2     2   \u23a5\n",
        "\u23a2  \u0394  - \u03c9\u208a        \u0394  - \u03c9\u208a        \u0394  - \u03c9\u208b        \u0394  - \u03c9\u208b    \u23a5\n",
        "\u23a2                                                          \u23a5\n",
        "\u23a2    \u2148\u22c5\u03a9\u22c5x         -\u2148\u22c5\u03a9\u22c5y          \u2148\u22c5\u03a9\u22c5z         -\u2148\u22c5\u03a9\u22c5w    \u23a5\n",
        "\u23a2    \u2500\u2500\u2500\u2500\u2500         \u2500\u2500\u2500\u2500\u2500\u2500\u2500         \u2500\u2500\u2500\u2500\u2500         \u2500\u2500\u2500\u2500\u2500\u2500\u2500   \u23a5\n",
        "\u23a2      \u03c9\u208a             \u03c9\u208a             \u03c9\u208b             \u03c9\u208b     \u23a5\n",
        "\u23a2                                                          \u23a5\n",
        "\u23a3      x              y              z              w      \u23a6"
       ]
      }
     ],
     "prompt_number": 21
    },
    {
     "cell_type": "code",
     "collapsed": false,
     "input": [
      "B = (aa*w1).row_join(bb*w2).row_join(cc*w3).row_join(dd*w4)\n",
      "B"
     ],
     "language": "python",
     "metadata": {},
     "outputs": [
      {
       "latex": [
        "$$\\left[\\begin{matrix}i \\alpha & - i \\beta & 0 & 0\\\\\\alpha & \\beta & 0 & 0\\\\0 & 0 & i \\gamma & - i \\delta\\\\0 & 0 & \\gamma & \\delta\\end{matrix}\\right]$$"
       ],
       "metadata": {},
       "output_type": "pyout",
       "png": "[encoded data removed]",
       "prompt_number": 22,
       "text": [
        "\u23a1\u2148\u22c5\u03b1  -\u2148\u22c5\u03b2   0    0  \u23a4\n",
        "\u23a2                    \u23a5\n",
        "\u23a2 \u03b1    \u03b2     0    0  \u23a5\n",
        "\u23a2                    \u23a5\n",
        "\u23a2 0    0    \u2148\u22c5\u03b3  -\u2148\u22c5\u03b4\u23a5\n",
        "\u23a2                    \u23a5\n",
        "\u23a3 0    0     \u03b3    \u03b4  \u23a6"
       ]
      }
     ],
     "prompt_number": 22
    },
    {
     "cell_type": "markdown",
     "metadata": {},
     "source": [
      "and use the relation $S = B A^{-1}$."
     ]
    },
    {
     "cell_type": "code",
     "collapsed": false,
     "input": [
      "Ainv = A.inv()\n",
      "Ainv = simplify(Ainv)\n",
      "S = simplify(B * Ainv)\n",
      "\n",
      "S = Matrix([[simplify(S[i, j].factor()) for j in range(4)] for i in range(4)])\n",
      "S"
     ],
     "language": "python",
     "metadata": {},
     "outputs": [
      {
       "latex": [
        "$$\\left[\\begin{matrix}- \\frac{\\omega_{+} \\left(\\Delta - \\omega_{+}\\right) \\left(\\Delta + \\omega_{+}\\right) \\left(\\Delta - \\omega_{-}\\right) \\left(\\Delta + \\omega_{-}\\right) \\left(\\alpha y + \\beta x\\right)}{2 \\Delta \\Omega g x y \\left(\\omega_{+} - \\omega_{-}\\right) \\left(\\omega_{+} + \\omega_{-}\\right)} & \\frac{i \\left(\\Delta - \\omega_{+}\\right) \\left(\\Delta + \\omega_{+}\\right) \\left(\\Delta - \\omega_{-}\\right) \\left(\\Delta + \\omega_{-}\\right) \\left(\\alpha y - \\beta x\\right)}{2 \\Omega g x y \\left(\\omega_{+} - \\omega_{-}\\right) \\left(\\omega_{+} + \\omega_{-}\\right)} & - \\frac{\\omega_{+} \\left(\\Delta - \\omega_{+}\\right) \\left(\\Delta + \\omega_{+}\\right) \\left(\\alpha y + \\beta x\\right)}{2 \\Omega x y \\left(\\omega_{+} - \\omega_{-}\\right) \\left(\\omega_{+} + \\omega_{-}\\right)} & - \\frac{i \\left(\\Delta - \\omega_{+}\\right) \\left(\\Delta + \\omega_{+}\\right) \\left(\\alpha y - \\beta x\\right)}{2 x y \\left(\\omega_{+} - \\omega_{-}\\right) \\left(\\omega_{+} + \\omega_{-}\\right)}\\\\\\frac{i \\omega_{+} \\left(\\Delta - \\omega_{+}\\right) \\left(\\Delta + \\omega_{+}\\right) \\left(\\Delta - \\omega_{-}\\right) \\left(\\Delta + \\omega_{-}\\right) \\left(\\alpha y - \\beta x\\right)}{2 \\Delta \\Omega g x y \\left(\\omega_{+} - \\omega_{-}\\right) \\left(\\omega_{+} + \\omega_{-}\\right)} & \\frac{\\left(\\Delta - \\omega_{+}\\right) \\left(\\Delta + \\omega_{+}\\right) \\left(\\Delta - \\omega_{-}\\right) \\left(\\Delta + \\omega_{-}\\right) \\left(\\alpha y + \\beta x\\right)}{2 \\Omega g x y \\left(\\omega_{+} - \\omega_{-}\\right) \\left(\\omega_{+} + \\omega_{-}\\right)} & \\frac{i \\omega_{+} \\left(\\Delta - \\omega_{+}\\right) \\left(\\Delta + \\omega_{+}\\right) \\left(\\alpha y - \\beta x\\right)}{2 \\Omega x y \\left(\\omega_{+} - \\omega_{-}\\right) \\left(\\omega_{+} + \\omega_{-}\\right)} & - \\frac{\\left(\\Delta - \\omega_{+}\\right) \\left(\\Delta + \\omega_{+}\\right) \\left(\\alpha y + \\beta x\\right)}{2 x y \\left(\\omega_{+} - \\omega_{-}\\right) \\left(\\omega_{+} + \\omega_{-}\\right)}\\\\\\frac{\\omega_{-} \\left(\\Delta - \\omega_{+}\\right) \\left(\\Delta + \\omega_{+}\\right) \\left(\\Delta - \\omega_{-}\\right) \\left(\\Delta + \\omega_{-}\\right) \\left(\\delta z + \\gamma w\\right)}{2 \\Delta \\Omega g w z \\left(\\omega_{+} - \\omega_{-}\\right) \\left(\\omega_{+} + \\omega_{-}\\right)} & \\frac{i \\left(\\Delta - \\omega_{+}\\right) \\left(\\Delta + \\omega_{+}\\right) \\left(\\Delta - \\omega_{-}\\right) \\left(\\Delta + \\omega_{-}\\right) \\left(\\delta z - \\gamma w\\right)}{2 \\Omega g w z \\left(\\omega_{+} - \\omega_{-}\\right) \\left(\\omega_{+} + \\omega_{-}\\right)} & \\frac{\\omega_{-} \\left(\\Delta - \\omega_{-}\\right) \\left(\\Delta + \\omega_{-}\\right) \\left(\\delta z + \\gamma w\\right)}{2 \\Omega w z \\left(\\omega_{+} - \\omega_{-}\\right) \\left(\\omega_{+} + \\omega_{-}\\right)} & - \\frac{i \\left(\\Delta - \\omega_{-}\\right) \\left(\\Delta + \\omega_{-}\\right) \\left(\\delta z - \\gamma w\\right)}{2 w z \\left(\\omega_{+} - \\omega_{-}\\right) \\left(\\omega_{+} + \\omega_{-}\\right)}\\\\\\frac{i \\omega_{-} \\left(\\Delta - \\omega_{+}\\right) \\left(\\Delta + \\omega_{+}\\right) \\left(\\Delta - \\omega_{-}\\right) \\left(\\Delta + \\omega_{-}\\right) \\left(\\delta z - \\gamma w\\right)}{2 \\Delta \\Omega g w z \\left(\\omega_{+} - \\omega_{-}\\right) \\left(\\omega_{+} + \\omega_{-}\\right)} & - \\frac{\\left(\\Delta - \\omega_{+}\\right) \\left(\\Delta + \\omega_{+}\\right) \\left(\\Delta - \\omega_{-}\\right) \\left(\\Delta + \\omega_{-}\\right) \\left(\\delta z + \\gamma w\\right)}{2 \\Omega g w z \\left(\\omega_{+} - \\omega_{-}\\right) \\left(\\omega_{+} + \\omega_{-}\\right)} & \\frac{i \\omega_{-} \\left(\\Delta - \\omega_{-}\\right) \\left(\\Delta + \\omega_{-}\\right) \\left(\\delta z - \\gamma w\\right)}{2 \\Omega w z \\left(\\omega_{+} - \\omega_{-}\\right) \\left(\\omega_{+} + \\omega_{-}\\right)} & \\frac{\\left(\\Delta - \\omega_{-}\\right) \\left(\\Delta + \\omega_{-}\\right) \\left(\\delta z + \\gamma w\\right)}{2 w z \\left(\\omega_{+} - \\omega_{-}\\right) \\left(\\omega_{+} + \\omega_{-}\\right)}\\end{matrix}\\right]$$"
       ],
       "metadata": {},
       "output_type": "pyout",
       "png": "[encoded data removed]",
       "prompt_number": 23,
       "text": [
        "\u23a1-\u03c9\u208a\u22c5(\u0394 - \u03c9\u208a)\u22c5(\u0394 + \u03c9\u208a)\u22c5(\u0394 - \u03c9\u208b)\u22c5(\u0394 + \u03c9\u208b)\u22c5(\u03b1\u22c5y + \u03b2\u22c5x)   \u2148\u22c5(\u0394 - \u03c9\u208a)\u22c5(\u0394 + \u03c9\u208a)\u22c5(\u0394 \n",
        "\u23a2\u2500\u2500\u2500\u2500\u2500\u2500\u2500\u2500\u2500\u2500\u2500\u2500\u2500\u2500\u2500\u2500\u2500\u2500\u2500\u2500\u2500\u2500\u2500\u2500\u2500\u2500\u2500\u2500\u2500\u2500\u2500\u2500\u2500\u2500\u2500\u2500\u2500\u2500\u2500\u2500\u2500\u2500\u2500\u2500\u2500\u2500\u2500\u2500\u2500\u2500\u2500\u2500  \u2500\u2500\u2500\u2500\u2500\u2500\u2500\u2500\u2500\u2500\u2500\u2500\u2500\u2500\u2500\u2500\u2500\u2500\u2500\u2500\u2500\u2500\u2500\n",
        "\u23a2          2\u22c5\u0394\u22c5\u03a9\u22c5g\u22c5x\u22c5y\u22c5(\u03c9\u208a - \u03c9\u208b)\u22c5(\u03c9\u208a + \u03c9\u208b)                       2\u22c5\u03a9\u22c5g\u22c5x\u22c5y\u22c5(\u03c9\u208a\n",
        "\u23a2                                                                             \n",
        "\u23a2\u2148\u22c5\u03c9\u208a\u22c5(\u0394 - \u03c9\u208a)\u22c5(\u0394 + \u03c9\u208a)\u22c5(\u0394 - \u03c9\u208b)\u22c5(\u0394 + \u03c9\u208b)\u22c5(\u03b1\u22c5y - \u03b2\u22c5x)   (\u0394 - \u03c9\u208a)\u22c5(\u0394 + \u03c9\u208a)\u22c5(\u0394 -\n",
        "\u23a2\u2500\u2500\u2500\u2500\u2500\u2500\u2500\u2500\u2500\u2500\u2500\u2500\u2500\u2500\u2500\u2500\u2500\u2500\u2500\u2500\u2500\u2500\u2500\u2500\u2500\u2500\u2500\u2500\u2500\u2500\u2500\u2500\u2500\u2500\u2500\u2500\u2500\u2500\u2500\u2500\u2500\u2500\u2500\u2500\u2500\u2500\u2500\u2500\u2500\u2500\u2500\u2500   \u2500\u2500\u2500\u2500\u2500\u2500\u2500\u2500\u2500\u2500\u2500\u2500\u2500\u2500\u2500\u2500\u2500\u2500\u2500\u2500\u2500\u2500\n",
        "\u23a2          2\u22c5\u0394\u22c5\u03a9\u22c5g\u22c5x\u22c5y\u22c5(\u03c9\u208a - \u03c9\u208b)\u22c5(\u03c9\u208a + \u03c9\u208b)                       2\u22c5\u03a9\u22c5g\u22c5x\u22c5y\u22c5(\u03c9\u208a\n",
        "\u23a2                                                                             \n",
        "\u23a2 \u03c9\u208b\u22c5(\u0394 - \u03c9\u208a)\u22c5(\u0394 + \u03c9\u208a)\u22c5(\u0394 - \u03c9\u208b)\u22c5(\u0394 + \u03c9\u208b)\u22c5(\u03b4\u22c5z + \u03b3\u22c5w)   \u2148\u22c5(\u0394 - \u03c9\u208a)\u22c5(\u0394 + \u03c9\u208a)\u22c5(\u0394 \n",
        "\u23a2 \u2500\u2500\u2500\u2500\u2500\u2500\u2500\u2500\u2500\u2500\u2500\u2500\u2500\u2500\u2500\u2500\u2500\u2500\u2500\u2500\u2500\u2500\u2500\u2500\u2500\u2500\u2500\u2500\u2500\u2500\u2500\u2500\u2500\u2500\u2500\u2500\u2500\u2500\u2500\u2500\u2500\u2500\u2500\u2500\u2500\u2500\u2500\u2500\u2500\u2500   \u2500\u2500\u2500\u2500\u2500\u2500\u2500\u2500\u2500\u2500\u2500\u2500\u2500\u2500\u2500\u2500\u2500\u2500\u2500\u2500\u2500\u2500\u2500\n",
        "\u23a2          2\u22c5\u0394\u22c5\u03a9\u22c5g\u22c5w\u22c5z\u22c5(\u03c9\u208a - \u03c9\u208b)\u22c5(\u03c9\u208a + \u03c9\u208b)                       2\u22c5\u03a9\u22c5g\u22c5w\u22c5z\u22c5(\u03c9\u208a\n",
        "\u23a2                                                                             \n",
        "\u23a2\u2148\u22c5\u03c9\u208b\u22c5(\u0394 - \u03c9\u208a)\u22c5(\u0394 + \u03c9\u208a)\u22c5(\u0394 - \u03c9\u208b)\u22c5(\u0394 + \u03c9\u208b)\u22c5(\u03b4\u22c5z - \u03b3\u22c5w)  -(\u0394 - \u03c9\u208a)\u22c5(\u0394 + \u03c9\u208a)\u22c5(\u0394 -\n",
        "\u23a2\u2500\u2500\u2500\u2500\u2500\u2500\u2500\u2500\u2500\u2500\u2500\u2500\u2500\u2500\u2500\u2500\u2500\u2500\u2500\u2500\u2500\u2500\u2500\u2500\u2500\u2500\u2500\u2500\u2500\u2500\u2500\u2500\u2500\u2500\u2500\u2500\u2500\u2500\u2500\u2500\u2500\u2500\u2500\u2500\u2500\u2500\u2500\u2500\u2500\u2500\u2500\u2500  \u2500\u2500\u2500\u2500\u2500\u2500\u2500\u2500\u2500\u2500\u2500\u2500\u2500\u2500\u2500\u2500\u2500\u2500\u2500\u2500\u2500\u2500\u2500\n",
        "\u23a3          2\u22c5\u0394\u22c5\u03a9\u22c5g\u22c5w\u22c5z\u22c5(\u03c9\u208a - \u03c9\u208b)\u22c5(\u03c9\u208a + \u03c9\u208b)                       2\u22c5\u03a9\u22c5g\u22c5w\u22c5z\u22c5(\u03c9\u208a\n",
        "\n",
        "- \u03c9\u208b)\u22c5(\u0394 + \u03c9\u208b)\u22c5(\u03b1\u22c5y - \u03b2\u22c5x)  -\u03c9\u208a\u22c5(\u0394 - \u03c9\u208a)\u22c5(\u0394 + \u03c9\u208a)\u22c5(\u03b1\u22c5y + \u03b2\u22c5x)   -\u2148\u22c5(\u0394 - \u03c9\u208a)\u22c5(\u0394\n",
        "\u2500\u2500\u2500\u2500\u2500\u2500\u2500\u2500\u2500\u2500\u2500\u2500\u2500\u2500\u2500\u2500\u2500\u2500\u2500\u2500\u2500\u2500\u2500\u2500\u2500\u2500  \u2500\u2500\u2500\u2500\u2500\u2500\u2500\u2500\u2500\u2500\u2500\u2500\u2500\u2500\u2500\u2500\u2500\u2500\u2500\u2500\u2500\u2500\u2500\u2500\u2500\u2500\u2500\u2500\u2500\u2500\u2500\u2500\u2500\u2500  \u2500\u2500\u2500\u2500\u2500\u2500\u2500\u2500\u2500\u2500\u2500\u2500\u2500\u2500\n",
        " - \u03c9\u208b)\u22c5(\u03c9\u208a + \u03c9\u208b)               2\u22c5\u03a9\u22c5x\u22c5y\u22c5(\u03c9\u208a - \u03c9\u208b)\u22c5(\u03c9\u208a + \u03c9\u208b)          2\u22c5x\u22c5y\u22c5(\u03c9\u208a \n",
        "                                                                              \n",
        " \u03c9\u208b)\u22c5(\u0394 + \u03c9\u208b)\u22c5(\u03b1\u22c5y + \u03b2\u22c5x)   \u2148\u22c5\u03c9\u208a\u22c5(\u0394 - \u03c9\u208a)\u22c5(\u0394 + \u03c9\u208a)\u22c5(\u03b1\u22c5y - \u03b2\u22c5x)   -(\u0394 - \u03c9\u208a)\u22c5(\u0394 \n",
        "\u2500\u2500\u2500\u2500\u2500\u2500\u2500\u2500\u2500\u2500\u2500\u2500\u2500\u2500\u2500\u2500\u2500\u2500\u2500\u2500\u2500\u2500\u2500\u2500\u2500   \u2500\u2500\u2500\u2500\u2500\u2500\u2500\u2500\u2500\u2500\u2500\u2500\u2500\u2500\u2500\u2500\u2500\u2500\u2500\u2500\u2500\u2500\u2500\u2500\u2500\u2500\u2500\u2500\u2500\u2500\u2500\u2500\u2500\u2500   \u2500\u2500\u2500\u2500\u2500\u2500\u2500\u2500\u2500\u2500\u2500\u2500\u2500\n",
        " - \u03c9\u208b)\u22c5(\u03c9\u208a + \u03c9\u208b)               2\u22c5\u03a9\u22c5x\u22c5y\u22c5(\u03c9\u208a - \u03c9\u208b)\u22c5(\u03c9\u208a + \u03c9\u208b)          2\u22c5x\u22c5y\u22c5(\u03c9\u208a \n",
        "                                                                              \n",
        "- \u03c9\u208b)\u22c5(\u0394 + \u03c9\u208b)\u22c5(\u03b4\u22c5z - \u03b3\u22c5w)   \u03c9\u208b\u22c5(\u0394 - \u03c9\u208b)\u22c5(\u0394 + \u03c9\u208b)\u22c5(\u03b4\u22c5z + \u03b3\u22c5w)   -\u2148\u22c5(\u0394 - \u03c9\u208b)\u22c5(\u0394\n",
        "\u2500\u2500\u2500\u2500\u2500\u2500\u2500\u2500\u2500\u2500\u2500\u2500\u2500\u2500\u2500\u2500\u2500\u2500\u2500\u2500\u2500\u2500\u2500\u2500\u2500\u2500   \u2500\u2500\u2500\u2500\u2500\u2500\u2500\u2500\u2500\u2500\u2500\u2500\u2500\u2500\u2500\u2500\u2500\u2500\u2500\u2500\u2500\u2500\u2500\u2500\u2500\u2500\u2500\u2500\u2500\u2500\u2500\u2500   \u2500\u2500\u2500\u2500\u2500\u2500\u2500\u2500\u2500\u2500\u2500\u2500\u2500\u2500\n",
        " - \u03c9\u208b)\u22c5(\u03c9\u208a + \u03c9\u208b)               2\u22c5\u03a9\u22c5w\u22c5z\u22c5(\u03c9\u208a - \u03c9\u208b)\u22c5(\u03c9\u208a + \u03c9\u208b)          2\u22c5w\u22c5z\u22c5(\u03c9\u208a \n",
        "                                                                              \n",
        " \u03c9\u208b)\u22c5(\u0394 + \u03c9\u208b)\u22c5(\u03b4\u22c5z + \u03b3\u22c5w)   \u2148\u22c5\u03c9\u208b\u22c5(\u0394 - \u03c9\u208b)\u22c5(\u0394 + \u03c9\u208b)\u22c5(\u03b4\u22c5z - \u03b3\u22c5w)    (\u0394 - \u03c9\u208b)\u22c5(\u0394 \n",
        "\u2500\u2500\u2500\u2500\u2500\u2500\u2500\u2500\u2500\u2500\u2500\u2500\u2500\u2500\u2500\u2500\u2500\u2500\u2500\u2500\u2500\u2500\u2500\u2500\u2500\u2500  \u2500\u2500\u2500\u2500\u2500\u2500\u2500\u2500\u2500\u2500\u2500\u2500\u2500\u2500\u2500\u2500\u2500\u2500\u2500\u2500\u2500\u2500\u2500\u2500\u2500\u2500\u2500\u2500\u2500\u2500\u2500\u2500\u2500\u2500    \u2500\u2500\u2500\u2500\u2500\u2500\u2500\u2500\u2500\u2500\u2500\u2500\n",
        " - \u03c9\u208b)\u22c5(\u03c9\u208a + \u03c9\u208b)               2\u22c5\u03a9\u22c5w\u22c5z\u22c5(\u03c9\u208a - \u03c9\u208b)\u22c5(\u03c9\u208a + \u03c9\u208b)          2\u22c5w\u22c5z\u22c5(\u03c9\u208a \n",
        "\n",
        " + \u03c9\u208a)\u22c5(\u03b1\u22c5y - \u03b2\u22c5x) \u23a4\n",
        "\u2500\u2500\u2500\u2500\u2500\u2500\u2500\u2500\u2500\u2500\u2500\u2500\u2500\u2500\u2500\u2500\u2500\u2500\u2500\u23a5\n",
        "- \u03c9\u208b)\u22c5(\u03c9\u208a + \u03c9\u208b)    \u23a5\n",
        "                   \u23a5\n",
        "+ \u03c9\u208a)\u22c5(\u03b1\u22c5y + \u03b2\u22c5x)  \u23a5\n",
        "\u2500\u2500\u2500\u2500\u2500\u2500\u2500\u2500\u2500\u2500\u2500\u2500\u2500\u2500\u2500\u2500\u2500\u2500 \u23a5\n",
        "- \u03c9\u208b)\u22c5(\u03c9\u208a + \u03c9\u208b)    \u23a5\n",
        "                   \u23a5\n",
        " + \u03c9\u208b)\u22c5(\u03b4\u22c5z - \u03b3\u22c5w) \u23a5\n",
        "\u2500\u2500\u2500\u2500\u2500\u2500\u2500\u2500\u2500\u2500\u2500\u2500\u2500\u2500\u2500\u2500\u2500\u2500\u2500\u23a5\n",
        "- \u03c9\u208b)\u22c5(\u03c9\u208a + \u03c9\u208b)    \u23a5\n",
        "                   \u23a5\n",
        "+ \u03c9\u208b)\u22c5(\u03b4\u22c5z + \u03b3\u22c5w)  \u23a5\n",
        "\u2500\u2500\u2500\u2500\u2500\u2500\u2500\u2500\u2500\u2500\u2500\u2500\u2500\u2500\u2500\u2500\u2500  \u23a5\n",
        "- \u03c9\u208b)\u22c5(\u03c9\u208a + \u03c9\u208b)    \u23a6"
       ]
      }
     ],
     "prompt_number": 23
    },
    {
     "cell_type": "markdown",
     "metadata": {},
     "source": [
      "The aritrary constants can be determined by the condition 2), $J = SJS^T$. Calculating $SJS^T$, we get "
     ]
    },
    {
     "cell_type": "code",
     "collapsed": false,
     "input": [
      "SJST = simplify(S * J * S.T)\n",
      "SJST = Matrix([[simplify(SJST[i,j].subs({wp:wpsol, wm:wmsol}).factor()) for j in range(4)] for i in range(4)])"
     ],
     "language": "python",
     "metadata": {},
     "outputs": [],
     "prompt_number": 24
    },
    {
     "cell_type": "markdown",
     "metadata": {},
     "source": [
      "The non-vanishing terms are (0, 1), (1, 0), (2, 3), (3, 2)-th elements and should be set to be equal to"
     ]
    },
    {
     "cell_type": "code",
     "collapsed": false,
     "input": [
      "Eq(1, simplify(SJST[0, 1].subs(subs_dic).factor()))"
     ],
     "language": "python",
     "metadata": {},
     "outputs": [
      {
       "latex": [
        "$$1 = \\frac{\\sqrt{2} \\alpha \\beta \\sqrt{\\Delta^{2} + \\Omega^{2} + \\sqrt{\\Delta^{4} - 2 \\Delta^{2} \\Omega^{2} - 4 \\Delta \\Omega g^{2} + \\Omega^{4}}}}{4 \\Omega x y \\left(\\Delta^{4} - 2 \\Delta^{2} \\Omega^{2} - 4 \\Delta \\Omega g^{2} + \\Omega^{4}\\right)} \\left(\\Delta^{4} - 2 \\Delta^{2} \\Omega^{2} - \\Delta^{2} \\sqrt{\\Delta^{4} - 2 \\Delta^{2} \\Omega^{2} - 4 \\Delta \\Omega g^{2} + \\Omega^{4}} - 4 \\Delta \\Omega g^{2} + \\Omega^{4} + \\Omega^{2} \\sqrt{\\Delta^{4} - 2 \\Delta^{2} \\Omega^{2} - 4 \\Delta \\Omega g^{2} + \\Omega^{4}}\\right)$$"
       ],
       "metadata": {},
       "output_type": "pyout",
       "png": "[encoded data removed]",
       "prompt_number": 25,
       "text": [
        "                  _____________________________________________               \n",
        "                 \u2571              ______________________________  \u239b             \n",
        "      ___       \u2571   2    2     \u2571  4      2  2          2    4   \u239c 4      2  2 \n",
        "    \u2572\u2571 2 \u22c5\u03b1\u22c5\u03b2\u22c5\u2572\u2571   \u0394  + \u03a9  + \u2572\u2571  \u0394  - 2\u22c5\u0394 \u22c5\u03a9  - 4\u22c5\u0394\u22c5\u03a9\u22c5g  + \u03a9   \u22c5\u239d\u0394  - 2\u22c5\u0394 \u22c5\u03a9  \n",
        "1 = \u2500\u2500\u2500\u2500\u2500\u2500\u2500\u2500\u2500\u2500\u2500\u2500\u2500\u2500\u2500\u2500\u2500\u2500\u2500\u2500\u2500\u2500\u2500\u2500\u2500\u2500\u2500\u2500\u2500\u2500\u2500\u2500\u2500\u2500\u2500\u2500\u2500\u2500\u2500\u2500\u2500\u2500\u2500\u2500\u2500\u2500\u2500\u2500\u2500\u2500\u2500\u2500\u2500\u2500\u2500\u2500\u2500\u2500\u2500\u2500\u2500\u2500\u2500\u2500\u2500\u2500\u2500\u2500\u2500\u2500\u2500\u2500\u2500\u2500\n",
        "                                                                             \u239b\n",
        "                                                                     4\u22c5\u03a9\u22c5x\u22c5y\u22c5\u239d\n",
        "\n",
        "                                                                              \n",
        "        ______________________________                         _______________\n",
        "   2   \u2571  4      2  2          2    4           2    4    2   \u2571  4      2  2  \n",
        "- \u0394 \u22c5\u2572\u2571  \u0394  - 2\u22c5\u0394 \u22c5\u03a9  - 4\u22c5\u0394\u22c5\u03a9\u22c5g  + \u03a9   - 4\u22c5\u0394\u22c5\u03a9\u22c5g  + \u03a9  + \u03a9 \u22c5\u2572\u2571  \u0394  - 2\u22c5\u0394 \u22c5\u03a9  -\n",
        "\u2500\u2500\u2500\u2500\u2500\u2500\u2500\u2500\u2500\u2500\u2500\u2500\u2500\u2500\u2500\u2500\u2500\u2500\u2500\u2500\u2500\u2500\u2500\u2500\u2500\u2500\u2500\u2500\u2500\u2500\u2500\u2500\u2500\u2500\u2500\u2500\u2500\u2500\u2500\u2500\u2500\u2500\u2500\u2500\u2500\u2500\u2500\u2500\u2500\u2500\u2500\u2500\u2500\u2500\u2500\u2500\u2500\u2500\u2500\u2500\u2500\u2500\u2500\u2500\u2500\u2500\u2500\u2500\u2500\u2500\u2500\u2500\u2500\u2500\u2500\u2500\u2500\u2500\n",
        " 4      2  2          2    4\u239e                                                 \n",
        "\u0394  - 2\u22c5\u0394 \u22c5\u03a9  - 4\u22c5\u0394\u22c5\u03a9\u22c5g  + \u03a9 \u23a0                                                 \n",
        "\n",
        "                \n",
        "_______________\u239e\n",
        "        2    4 \u239f\n",
        " 4\u22c5\u0394\u22c5\u03a9\u22c5g  + \u03a9  \u23a0\n",
        "\u2500\u2500\u2500\u2500\u2500\u2500\u2500\u2500\u2500\u2500\u2500\u2500\u2500\u2500\u2500\u2500\n",
        "                \n",
        "                "
       ]
      }
     ],
     "prompt_number": 25
    },
    {
     "cell_type": "code",
     "collapsed": false,
     "input": [
      "Eq(1, simplify(SJST[2, 3].subs(subs_dic).factor()))"
     ],
     "language": "python",
     "metadata": {},
     "outputs": [
      {
       "latex": [
        "$$1 = \\frac{\\sqrt{2} \\delta \\gamma \\sqrt{\\Delta^{2} + \\Omega^{2} - \\sqrt{\\Delta^{4} - 2 \\Delta^{2} \\Omega^{2} - 4 \\Delta \\Omega g^{2} + \\Omega^{4}}}}{4 \\Omega w z \\left(\\Delta^{4} - 2 \\Delta^{2} \\Omega^{2} - 4 \\Delta \\Omega g^{2} + \\Omega^{4}\\right)} \\left(\\Delta^{4} - 2 \\Delta^{2} \\Omega^{2} + \\Delta^{2} \\sqrt{\\Delta^{4} - 2 \\Delta^{2} \\Omega^{2} - 4 \\Delta \\Omega g^{2} + \\Omega^{4}} - 4 \\Delta \\Omega g^{2} + \\Omega^{4} - \\Omega^{2} \\sqrt{\\Delta^{4} - 2 \\Delta^{2} \\Omega^{2} - 4 \\Delta \\Omega g^{2} + \\Omega^{4}}\\right)$$"
       ],
       "metadata": {},
       "output_type": "pyout",
       "png": "[encoded data removed]",
       "prompt_number": 26,
       "text": [
        "                  _____________________________________________               \n",
        "                 \u2571              ______________________________  \u239b             \n",
        "      ___       \u2571   2    2     \u2571  4      2  2          2    4   \u239c 4      2  2 \n",
        "    \u2572\u2571 2 \u22c5\u03b4\u22c5\u03b3\u22c5\u2572\u2571   \u0394  + \u03a9  - \u2572\u2571  \u0394  - 2\u22c5\u0394 \u22c5\u03a9  - 4\u22c5\u0394\u22c5\u03a9\u22c5g  + \u03a9   \u22c5\u239d\u0394  - 2\u22c5\u0394 \u22c5\u03a9  \n",
        "1 = \u2500\u2500\u2500\u2500\u2500\u2500\u2500\u2500\u2500\u2500\u2500\u2500\u2500\u2500\u2500\u2500\u2500\u2500\u2500\u2500\u2500\u2500\u2500\u2500\u2500\u2500\u2500\u2500\u2500\u2500\u2500\u2500\u2500\u2500\u2500\u2500\u2500\u2500\u2500\u2500\u2500\u2500\u2500\u2500\u2500\u2500\u2500\u2500\u2500\u2500\u2500\u2500\u2500\u2500\u2500\u2500\u2500\u2500\u2500\u2500\u2500\u2500\u2500\u2500\u2500\u2500\u2500\u2500\u2500\u2500\u2500\u2500\u2500\u2500\n",
        "                                                                             \u239b\n",
        "                                                                     4\u22c5\u03a9\u22c5w\u22c5z\u22c5\u239d\n",
        "\n",
        "                                                                              \n",
        "        ______________________________                         _______________\n",
        "   2   \u2571  4      2  2          2    4           2    4    2   \u2571  4      2  2  \n",
        "+ \u0394 \u22c5\u2572\u2571  \u0394  - 2\u22c5\u0394 \u22c5\u03a9  - 4\u22c5\u0394\u22c5\u03a9\u22c5g  + \u03a9   - 4\u22c5\u0394\u22c5\u03a9\u22c5g  + \u03a9  - \u03a9 \u22c5\u2572\u2571  \u0394  - 2\u22c5\u0394 \u22c5\u03a9  -\n",
        "\u2500\u2500\u2500\u2500\u2500\u2500\u2500\u2500\u2500\u2500\u2500\u2500\u2500\u2500\u2500\u2500\u2500\u2500\u2500\u2500\u2500\u2500\u2500\u2500\u2500\u2500\u2500\u2500\u2500\u2500\u2500\u2500\u2500\u2500\u2500\u2500\u2500\u2500\u2500\u2500\u2500\u2500\u2500\u2500\u2500\u2500\u2500\u2500\u2500\u2500\u2500\u2500\u2500\u2500\u2500\u2500\u2500\u2500\u2500\u2500\u2500\u2500\u2500\u2500\u2500\u2500\u2500\u2500\u2500\u2500\u2500\u2500\u2500\u2500\u2500\u2500\u2500\u2500\n",
        " 4      2  2          2    4\u239e                                                 \n",
        "\u0394  - 2\u22c5\u0394 \u22c5\u03a9  - 4\u22c5\u0394\u22c5\u03a9\u22c5g  + \u03a9 \u23a0                                                 \n",
        "\n",
        "                \n",
        "_______________\u239e\n",
        "        2    4 \u239f\n",
        " 4\u22c5\u0394\u22c5\u03a9\u22c5g  + \u03a9  \u23a0\n",
        "\u2500\u2500\u2500\u2500\u2500\u2500\u2500\u2500\u2500\u2500\u2500\u2500\u2500\u2500\u2500\u2500\n",
        "                \n",
        "                "
       ]
      }
     ],
     "prompt_number": 26
    },
    {
     "cell_type": "markdown",
     "metadata": {},
     "source": [
      "I will choose the arbitrary constants to be\n",
      "\n",
      "\\begin{align}\n",
      "x &= y = \\sqrt{\\frac{\\omega_+ (\\omega_+^2 - \\Delta^2)}{\\Omega (\\omega_+^2 - \\omega_-^2)}},\\\\\n",
      "z &= w = \\sqrt{\\frac{\\omega_- (\\Delta^2 - \\omega_-^2)}{\\Omega (\\omega_+^2 - \\omega_-^2)}},\\\\\n",
      "\\alpha&=\\beta=\\gamma=\\delta = 1\n",
      "\\end{align}"
     ]
    },
    {
     "cell_type": "markdown",
     "metadata": {},
     "source": [
      "then, the transformation matrix $S$ becomes"
     ]
    },
    {
     "cell_type": "code",
     "collapsed": false,
     "input": [
      "S_ = S.subs({x: sqrt(wp * (wp**2 - d**2)/(O*(wp**2-wm**2))),\n",
      "        y: sqrt(wp * (wp**2 - d**2)/(O*(wp**2-wm**2))),\n",
      "        z: sqrt(wm * (d**2 - wm**2)/(O*(wp**2-wm**2))),\n",
      "        w: sqrt(wm * (d**2 - wm**2)/(O*(wp**2-wm**2))),\n",
      "        aa:1, bb:1, cc:1, dd:1})\n",
      "S_ = Matrix([[simplify(S_[i,j].factor()).factor() for j in range(4)] for i in range(4)])\n",
      "S_"
     ],
     "language": "python",
     "metadata": {},
     "outputs": [
      {
       "latex": [
        "$$\\left[\\begin{matrix}- \\frac{\\sqrt{\\omega_{+}} \\left(\\Delta - \\omega_{+}\\right) \\left(\\Delta + \\omega_{+}\\right) \\left(\\Delta - \\omega_{-}\\right) \\left(\\Delta + \\omega_{-}\\right)}{\\Delta \\sqrt{\\Omega} g \\sqrt{- \\frac{\\left(\\Delta - \\omega_{+}\\right) \\left(\\Delta + \\omega_{+}\\right)}{\\omega_{+}^{2} - \\omega_{-}^{2}}} \\left(\\omega_{+} - \\omega_{-}\\right) \\left(\\omega_{+} + \\omega_{-}\\right)} & 0 & - \\frac{\\sqrt{\\omega_{+}} \\left(\\Delta - \\omega_{+}\\right) \\left(\\Delta + \\omega_{+}\\right)}{\\sqrt{\\Omega} \\sqrt{- \\frac{\\left(\\Delta - \\omega_{+}\\right) \\left(\\Delta + \\omega_{+}\\right)}{\\omega_{+}^{2} - \\omega_{-}^{2}}} \\left(\\omega_{+} - \\omega_{-}\\right) \\left(\\omega_{+} + \\omega_{-}\\right)} & 0\\\\0 & \\frac{\\left(\\Delta - \\omega_{+}\\right) \\left(\\Delta + \\omega_{+}\\right) \\left(\\Delta - \\omega_{-}\\right) \\left(\\Delta + \\omega_{-}\\right)}{\\sqrt{\\Omega} g \\sqrt{\\omega_{+}} \\sqrt{- \\frac{\\left(\\Delta - \\omega_{+}\\right) \\left(\\Delta + \\omega_{+}\\right)}{\\omega_{+}^{2} - \\omega_{-}^{2}}} \\left(\\omega_{+} - \\omega_{-}\\right) \\left(\\omega_{+} + \\omega_{-}\\right)} & 0 & - \\frac{\\sqrt{\\Omega} \\left(\\Delta - \\omega_{+}\\right) \\left(\\Delta + \\omega_{+}\\right)}{\\sqrt{\\omega_{+}} \\sqrt{- \\frac{\\left(\\Delta - \\omega_{+}\\right) \\left(\\Delta + \\omega_{+}\\right)}{\\omega_{+}^{2} - \\omega_{-}^{2}}} \\left(\\omega_{+} - \\omega_{-}\\right) \\left(\\omega_{+} + \\omega_{-}\\right)}\\\\\\frac{\\sqrt{\\omega_{-}} \\left(\\Delta - \\omega_{+}\\right) \\left(\\Delta + \\omega_{+}\\right) \\left(\\Delta - \\omega_{-}\\right) \\left(\\Delta + \\omega_{-}\\right)}{\\Delta \\sqrt{\\Omega} g \\sqrt{\\frac{\\left(\\Delta - \\omega_{-}\\right) \\left(\\Delta + \\omega_{-}\\right)}{\\omega_{+}^{2} - \\omega_{-}^{2}}} \\left(\\omega_{+} - \\omega_{-}\\right) \\left(\\omega_{+} + \\omega_{-}\\right)} & 0 & \\frac{\\sqrt{\\omega_{-}} \\left(\\Delta - \\omega_{-}\\right) \\left(\\Delta + \\omega_{-}\\right)}{\\sqrt{\\Omega} \\sqrt{\\frac{\\left(\\Delta - \\omega_{-}\\right) \\left(\\Delta + \\omega_{-}\\right)}{\\omega_{+}^{2} - \\omega_{-}^{2}}} \\left(\\omega_{+} - \\omega_{-}\\right) \\left(\\omega_{+} + \\omega_{-}\\right)} & 0\\\\0 & - \\frac{\\left(\\Delta - \\omega_{+}\\right) \\left(\\Delta + \\omega_{+}\\right) \\left(\\Delta - \\omega_{-}\\right) \\left(\\Delta + \\omega_{-}\\right)}{\\sqrt{\\Omega} g \\sqrt{\\omega_{-}} \\sqrt{\\frac{\\left(\\Delta - \\omega_{-}\\right) \\left(\\Delta + \\omega_{-}\\right)}{\\omega_{+}^{2} - \\omega_{-}^{2}}} \\left(\\omega_{+} - \\omega_{-}\\right) \\left(\\omega_{+} + \\omega_{-}\\right)} & 0 & \\frac{\\sqrt{\\Omega} \\left(\\Delta - \\omega_{-}\\right) \\left(\\Delta + \\omega_{-}\\right)}{\\sqrt{\\omega_{-}} \\sqrt{\\frac{\\left(\\Delta - \\omega_{-}\\right) \\left(\\Delta + \\omega_{-}\\right)}{\\omega_{+}^{2} - \\omega_{-}^{2}}} \\left(\\omega_{+} - \\omega_{-}\\right) \\left(\\omega_{+} + \\omega_{-}\\right)}\\end{matrix}\\right]$$"
       ],
       "metadata": {},
       "output_type": "pyout",
       "png": "[encoded data removed]",
       "prompt_number": 27,
       "text": [
        "\u23a1         ____                                                                \n",
        "\u23a2      -\u2572\u2571 \u03c9\u208a \u22c5(\u0394 - \u03c9\u208a)\u22c5(\u0394 + \u03c9\u208a)\u22c5(\u0394 - \u03c9\u208b)\u22c5(\u0394 + \u03c9\u208b)                            \n",
        "\u23a2\u2500\u2500\u2500\u2500\u2500\u2500\u2500\u2500\u2500\u2500\u2500\u2500\u2500\u2500\u2500\u2500\u2500\u2500\u2500\u2500\u2500\u2500\u2500\u2500\u2500\u2500\u2500\u2500\u2500\u2500\u2500\u2500\u2500\u2500\u2500\u2500\u2500\u2500\u2500\u2500\u2500\u2500\u2500\u2500\u2500\u2500\u2500\u2500\u2500\u2500\u2500\u2500\u2500\u2500\u2500\u2500                     \n",
        "\u23a2               _____________________                                         \n",
        "\u23a2    ___       \u2571 -(\u0394 - \u03c9\u208a)\u22c5(\u0394 + \u03c9\u208a)                                           \n",
        "\u23a2\u0394\u22c5\u2572\u2571 \u03a9 \u22c5g\u22c5   \u2571  \u2500\u2500\u2500\u2500\u2500\u2500\u2500\u2500\u2500\u2500\u2500\u2500\u2500\u2500\u2500\u2500\u2500\u2500\u2500 \u22c5(\u03c9\u208a - \u03c9\u208b)\u22c5(\u03c9\u208a + \u03c9\u208b)                     \n",
        "\u23a2            \u2571          2     2                                               \n",
        "\u23a2          \u2572\u2571         \u03c9\u208a  - \u03c9\u208b                                                \n",
        "\u23a2                                                                             \n",
        "\u23a2                                                                             \n",
        "\u23a2                                                                       (\u0394 - \u03c9\n",
        "\u23a2                           0                              \u2500\u2500\u2500\u2500\u2500\u2500\u2500\u2500\u2500\u2500\u2500\u2500\u2500\u2500\u2500\u2500\u2500\u2500\u2500\n",
        "\u23a2                                                                             \n",
        "\u23a2                                                            ___     ____     \n",
        "\u23a2                                                          \u2572\u2571 \u03a9 \u22c5g\u22c5\u2572\u2571 \u03c9\u208a \u22c5   \u2571\n",
        "\u23a2                                                                           \u2571 \n",
        "\u23a2                                                                         \u2572\u2571  \n",
        "\u23a2                                                                             \n",
        "\u23a2         ____                                                                \n",
        "\u23a2       \u2572\u2571 \u03c9\u208b \u22c5(\u0394 - \u03c9\u208a)\u22c5(\u0394 + \u03c9\u208a)\u22c5(\u0394 - \u03c9\u208b)\u22c5(\u0394 + \u03c9\u208b)                            \n",
        "\u23a2 \u2500\u2500\u2500\u2500\u2500\u2500\u2500\u2500\u2500\u2500\u2500\u2500\u2500\u2500\u2500\u2500\u2500\u2500\u2500\u2500\u2500\u2500\u2500\u2500\u2500\u2500\u2500\u2500\u2500\u2500\u2500\u2500\u2500\u2500\u2500\u2500\u2500\u2500\u2500\u2500\u2500\u2500\u2500\u2500\u2500\u2500\u2500\u2500\u2500\u2500\u2500\u2500\u2500\u2500                      \n",
        "\u23a2                ___________________                                          \n",
        "\u23a2     ___       \u2571 (\u0394 - \u03c9\u208b)\u22c5(\u0394 + \u03c9\u208b)                                           \n",
        "\u23a2 \u0394\u22c5\u2572\u2571 \u03a9 \u22c5g\u22c5   \u2571  \u2500\u2500\u2500\u2500\u2500\u2500\u2500\u2500\u2500\u2500\u2500\u2500\u2500\u2500\u2500\u2500\u2500 \u22c5(\u03c9\u208a - \u03c9\u208b)\u22c5(\u03c9\u208a + \u03c9\u208b)                      \n",
        "\u23a2             \u2571         2     2                                               \n",
        "\u23a2           \u2572\u2571        \u03c9\u208a  - \u03c9\u208b                                                \n",
        "\u23a2                                                                             \n",
        "\u23a2                                                                             \n",
        "\u23a2                                                                      -(\u0394 - \u03c9\n",
        "\u23a2                           0                               \u2500\u2500\u2500\u2500\u2500\u2500\u2500\u2500\u2500\u2500\u2500\u2500\u2500\u2500\u2500\u2500\u2500\u2500\n",
        "\u23a2                                                                             \n",
        "\u23a2                                                             ___     ____    \n",
        "\u23a2                                                           \u2572\u2571 \u03a9 \u22c5g\u22c5\u2572\u2571 \u03c9\u208b \u22c5   \n",
        "\u23a2                                                                            \u2571\n",
        "\u23a3                                                                          \u2572\u2571 \n",
        "\n",
        "                                                            ____              \n",
        "                                                         -\u2572\u2571 \u03c9\u208a \u22c5(\u0394 - \u03c9\u208a)\u22c5(\u0394 +\n",
        "           0                                \u2500\u2500\u2500\u2500\u2500\u2500\u2500\u2500\u2500\u2500\u2500\u2500\u2500\u2500\u2500\u2500\u2500\u2500\u2500\u2500\u2500\u2500\u2500\u2500\u2500\u2500\u2500\u2500\u2500\u2500\u2500\u2500\u2500\u2500\n",
        "                                                       _____________________  \n",
        "                                              ___     \u2571 -(\u0394 - \u03c9\u208a)\u22c5(\u0394 + \u03c9\u208a)    \n",
        "                                            \u2572\u2571 \u03a9 \u22c5   \u2571  \u2500\u2500\u2500\u2500\u2500\u2500\u2500\u2500\u2500\u2500\u2500\u2500\u2500\u2500\u2500\u2500\u2500\u2500\u2500 \u22c5(\n",
        "                                                    \u2571          2     2        \n",
        "                                                  \u2572\u2571         \u03c9\u208a  - \u03c9\u208b         \n",
        "                                                                              \n",
        "                                                                              \n",
        "\u208a)\u22c5(\u0394 + \u03c9\u208a)\u22c5(\u0394 - \u03c9\u208b)\u22c5(\u0394 + \u03c9\u208b)                                                 \n",
        "\u2500\u2500\u2500\u2500\u2500\u2500\u2500\u2500\u2500\u2500\u2500\u2500\u2500\u2500\u2500\u2500\u2500\u2500\u2500\u2500\u2500\u2500\u2500\u2500\u2500\u2500\u2500\u2500\u2500\u2500\u2500\u2500\u2500\u2500\u2500\u2500\u2500\u2500\u2500\u2500\u2500\u2500                           0        \n",
        " _____________________                                                        \n",
        "\u2571 -(\u0394 - \u03c9\u208a)\u22c5(\u0394 + \u03c9\u208a)                                                          \n",
        "  \u2500\u2500\u2500\u2500\u2500\u2500\u2500\u2500\u2500\u2500\u2500\u2500\u2500\u2500\u2500\u2500\u2500\u2500\u2500 \u22c5(\u03c9\u208a - \u03c9\u208b)\u22c5(\u03c9\u208a + \u03c9\u208b)                                    \n",
        "         2     2                                                              \n",
        "       \u03c9\u208a  - \u03c9\u208b                                                               \n",
        "                                                                              \n",
        "                                                            ____              \n",
        "                                                          \u2572\u2571 \u03c9\u208b \u22c5(\u0394 - \u03c9\u208b)\u22c5(\u0394 +\n",
        "           0                                 \u2500\u2500\u2500\u2500\u2500\u2500\u2500\u2500\u2500\u2500\u2500\u2500\u2500\u2500\u2500\u2500\u2500\u2500\u2500\u2500\u2500\u2500\u2500\u2500\u2500\u2500\u2500\u2500\u2500\u2500\u2500\u2500\u2500\n",
        "                                                        ___________________   \n",
        "                                               ___     \u2571 (\u0394 - \u03c9\u208b)\u22c5(\u0394 + \u03c9\u208b)    \n",
        "                                             \u2572\u2571 \u03a9 \u22c5   \u2571  \u2500\u2500\u2500\u2500\u2500\u2500\u2500\u2500\u2500\u2500\u2500\u2500\u2500\u2500\u2500\u2500\u2500 \u22c5(\u03c9\n",
        "                                                     \u2571         2     2        \n",
        "                                                   \u2572\u2571        \u03c9\u208a  - \u03c9\u208b         \n",
        "                                                                              \n",
        "                                                                              \n",
        "\u208a)\u22c5(\u0394 + \u03c9\u208a)\u22c5(\u0394 - \u03c9\u208b)\u22c5(\u0394 + \u03c9\u208b)                                                 \n",
        "\u2500\u2500\u2500\u2500\u2500\u2500\u2500\u2500\u2500\u2500\u2500\u2500\u2500\u2500\u2500\u2500\u2500\u2500\u2500\u2500\u2500\u2500\u2500\u2500\u2500\u2500\u2500\u2500\u2500\u2500\u2500\u2500\u2500\u2500\u2500\u2500\u2500\u2500\u2500\u2500\u2500                            0        \n",
        "  ___________________                                                         \n",
        " \u2571 (\u0394 - \u03c9\u208b)\u22c5(\u0394 + \u03c9\u208b)                                                          \n",
        "\u2571  \u2500\u2500\u2500\u2500\u2500\u2500\u2500\u2500\u2500\u2500\u2500\u2500\u2500\u2500\u2500\u2500\u2500 \u22c5(\u03c9\u208a - \u03c9\u208b)\u22c5(\u03c9\u208a + \u03c9\u208b)                                     \n",
        "         2     2                                                              \n",
        "       \u03c9\u208a  - \u03c9\u208b                                                               \n",
        "\n",
        "                                                                         \u23a4\n",
        " \u03c9\u208a)                                                                     \u23a5\n",
        "\u2500\u2500\u2500\u2500\u2500\u2500\u2500\u2500\u2500\u2500\u2500\u2500\u2500\u2500\u2500\u2500\u2500\u2500                            0                          \u23a5\n",
        "                                                                         \u23a5\n",
        "                                                                         \u23a5\n",
        "\u03c9\u208a - \u03c9\u208b)\u22c5(\u03c9\u208a + \u03c9\u208b)                                                       \u23a5\n",
        "                                                                         \u23a5\n",
        "                                                                         \u23a5\n",
        "                                                                         \u23a5\n",
        "                                     ___                                 \u23a5\n",
        "                                  -\u2572\u2571 \u03a9 \u22c5(\u0394 - \u03c9\u208a)\u22c5(\u0394 + \u03c9\u208a)               \u23a5\n",
        "                    \u2500\u2500\u2500\u2500\u2500\u2500\u2500\u2500\u2500\u2500\u2500\u2500\u2500\u2500\u2500\u2500\u2500\u2500\u2500\u2500\u2500\u2500\u2500\u2500\u2500\u2500\u2500\u2500\u2500\u2500\u2500\u2500\u2500\u2500\u2500\u2500\u2500\u2500\u2500\u2500\u2500\u2500\u2500\u2500\u2500\u2500\u2500\u2500\u2500\u2500\u2500\u2500\u2500\u23a5\n",
        "                                _____________________                    \u23a5\n",
        "                      ____     \u2571 -(\u0394 - \u03c9\u208a)\u22c5(\u0394 + \u03c9\u208a)                      \u23a5\n",
        "                    \u2572\u2571 \u03c9\u208a \u22c5   \u2571  \u2500\u2500\u2500\u2500\u2500\u2500\u2500\u2500\u2500\u2500\u2500\u2500\u2500\u2500\u2500\u2500\u2500\u2500\u2500 \u22c5(\u03c9\u208a - \u03c9\u208b)\u22c5(\u03c9\u208a + \u03c9\u208b)\u23a5\n",
        "                             \u2571          2     2                          \u23a5\n",
        "                           \u2572\u2571         \u03c9\u208a  - \u03c9\u208b                           \u23a5\n",
        "                                                                         \u23a5\n",
        "                                                                         \u23a5\n",
        " \u03c9\u208b)                                                                     \u23a5\n",
        "\u2500\u2500\u2500\u2500\u2500\u2500\u2500\u2500\u2500\u2500\u2500\u2500\u2500\u2500\u2500\u2500\u2500                             0                          \u23a5\n",
        "                                                                         \u23a5\n",
        "                                                                         \u23a5\n",
        "\u208a - \u03c9\u208b)\u22c5(\u03c9\u208a + \u03c9\u208b)                                                        \u23a5\n",
        "                                                                         \u23a5\n",
        "                                                                         \u23a5\n",
        "                                                                         \u23a5\n",
        "                                     ___                                 \u23a5\n",
        "                                   \u2572\u2571 \u03a9 \u22c5(\u0394 - \u03c9\u208b)\u22c5(\u0394 + \u03c9\u208b)               \u23a5\n",
        "                     \u2500\u2500\u2500\u2500\u2500\u2500\u2500\u2500\u2500\u2500\u2500\u2500\u2500\u2500\u2500\u2500\u2500\u2500\u2500\u2500\u2500\u2500\u2500\u2500\u2500\u2500\u2500\u2500\u2500\u2500\u2500\u2500\u2500\u2500\u2500\u2500\u2500\u2500\u2500\u2500\u2500\u2500\u2500\u2500\u2500\u2500\u2500\u2500\u2500\u2500\u2500 \u23a5\n",
        "                                 ___________________                     \u23a5\n",
        "                       ____     \u2571 (\u0394 - \u03c9\u208b)\u22c5(\u0394 + \u03c9\u208b)                      \u23a5\n",
        "                     \u2572\u2571 \u03c9\u208b \u22c5   \u2571  \u2500\u2500\u2500\u2500\u2500\u2500\u2500\u2500\u2500\u2500\u2500\u2500\u2500\u2500\u2500\u2500\u2500 \u22c5(\u03c9\u208a - \u03c9\u208b)\u22c5(\u03c9\u208a + \u03c9\u208b) \u23a5\n",
        "                              \u2571         2     2                          \u23a5\n",
        "                            \u2572\u2571        \u03c9\u208a  - \u03c9\u208b                           \u23a6"
       ]
      }
     ],
     "prompt_number": 27
    },
    {
     "cell_type": "markdown",
     "metadata": {},
     "source": [
      "Let's check if this matrix satisfies the two conditions we discussed above:"
     ]
    },
    {
     "cell_type": "heading",
     "level": 5,
     "metadata": {},
     "source": [
      "Check 1 : $M = S^T D S$"
     ]
    },
    {
     "cell_type": "code",
     "collapsed": false,
     "input": [
      "#check1\n",
      "STDS_ = simplify(S_.T * D * S_)\n",
      "STDS_ = Matrix([[simplify(STDS_[i,j].subs({wp:wpsol, wm:wmsol}).factor()) for j in range(4)] for i in range(4)])\n",
      "STDS_"
     ],
     "language": "python",
     "metadata": {},
     "outputs": [
      {
       "latex": [
        "$$\\left[\\begin{matrix}- \\Delta & 0 & - g & 0\\\\0 & - \\Delta & 0 & 0\\\\- g & 0 & \\Omega & 0\\\\0 & 0 & 0 & \\Omega\\end{matrix}\\right]$$"
       ],
       "metadata": {},
       "output_type": "pyout",
       "png": "[encoded data removed]",
       "prompt_number": 28,
       "text": [
        "\u23a1-\u0394  0   -g  0\u23a4\n",
        "\u23a2             \u23a5\n",
        "\u23a20   -\u0394  0   0\u23a5\n",
        "\u23a2             \u23a5\n",
        "\u23a2-g  0   \u03a9   0\u23a5\n",
        "\u23a2             \u23a5\n",
        "\u23a30   0   0   \u03a9\u23a6"
       ]
      }
     ],
     "prompt_number": 28
    },
    {
     "cell_type": "heading",
     "level": 5,
     "metadata": {},
     "source": [
      "Check 2 : $J = S J S^T$"
     ]
    },
    {
     "cell_type": "code",
     "collapsed": false,
     "input": [
      "#check2\n",
      "SJST_ = simplify(S_ * J * S_.T)\n",
      "SJST_ = Matrix([[simplify(SJST_[i,j].subs({wp:wpsol, wm:wmsol}).factor()) for j in range(4)] for i in range(4)])\n",
      "SJST_"
     ],
     "language": "python",
     "metadata": {},
     "outputs": [
      {
       "latex": [
        "$$\\left[\\begin{matrix}0 & 1 & 0 & 0\\\\-1 & 0 & 0 & 0\\\\0 & 0 & 0 & 1\\\\0 & 0 & -1 & 0\\end{matrix}\\right]$$"
       ],
       "metadata": {},
       "output_type": "pyout",
       "png": "[encoded data removed]",
       "prompt_number": 29,
       "text": [
        "\u23a10   1  0   0\u23a4\n",
        "\u23a2            \u23a5\n",
        "\u23a2-1  0  0   0\u23a5\n",
        "\u23a2            \u23a5\n",
        "\u23a20   0  0   1\u23a5\n",
        "\u23a2            \u23a5\n",
        "\u23a30   0  -1  0\u23a6"
       ]
      }
     ],
     "prompt_number": 29
    },
    {
     "cell_type": "markdown",
     "metadata": {},
     "source": [
      "Both conditions are fully satisfied with this transformation $S$."
     ]
    },
    {
     "cell_type": "code",
     "collapsed": false,
     "input": [
      "T = simplify((Q.inv() * S_ * Q))\n",
      "T"
     ],
     "language": "python",
     "metadata": {},
     "outputs": [
      {
       "latex": [
        "$$\\left[\\begin{matrix}- \\frac{\\sqrt{- \\frac{\\Delta^{2} - \\omega_{+}^{2}}{\\omega_{+}^{2} - \\omega_{-}^{2}}} \\left(\\Delta - \\omega_{+}\\right) \\left(\\Delta - \\omega_{-}\\right) \\left(\\Delta + \\omega_{-}\\right) \\left(\\omega_{+}^{2} - \\omega_{-}^{2}\\right)}{2 \\Delta \\sqrt{\\Omega} g \\sqrt{\\omega_{+}} \\left(\\omega_{+} - \\omega_{-}\\right) \\left(\\omega_{+} + \\omega_{-}\\right)} & \\frac{\\sqrt{\\frac{- \\Delta^{2} + \\omega_{+}^{2}}{\\omega_{+}^{2} - \\omega_{-}^{2}}} \\left(\\Delta + \\omega_{+}\\right) \\left(\\Delta - \\omega_{-}\\right) \\left(\\Delta + \\omega_{-}\\right) \\left(\\omega_{+}^{2} - \\omega_{-}^{2}\\right)}{2 \\Delta \\sqrt{\\Omega} g \\sqrt{\\omega_{+}} \\left(\\omega_{+} - \\omega_{-}\\right) \\left(\\omega_{+} + \\omega_{-}\\right)} & \\frac{\\sqrt{- \\frac{\\left(\\Delta - \\omega_{+}\\right) \\left(\\Delta + \\omega_{+}\\right)}{\\omega_{+}^{2} - \\omega_{-}^{2}}} \\left(\\Omega + \\omega_{+}\\right) \\left(\\omega_{+}^{2} - \\omega_{-}^{2}\\right)}{2 \\sqrt{\\Omega} \\sqrt{\\omega_{+}} \\left(\\omega_{+} - \\omega_{-}\\right) \\left(\\omega_{+} + \\omega_{-}\\right)} & - \\frac{\\sqrt{- \\frac{\\left(\\Delta - \\omega_{+}\\right) \\left(\\Delta + \\omega_{+}\\right)}{\\omega_{+}^{2} - \\omega_{-}^{2}}} \\left(\\Omega - \\omega_{+}\\right) \\left(\\omega_{+}^{2} - \\omega_{-}^{2}\\right)}{2 \\sqrt{\\Omega} \\sqrt{\\omega_{+}} \\left(\\omega_{+} - \\omega_{-}\\right) \\left(\\omega_{+} + \\omega_{-}\\right)}\\\\\\frac{\\sqrt{\\frac{- \\Delta^{2} + \\omega_{+}^{2}}{\\omega_{+}^{2} - \\omega_{-}^{2}}} \\left(\\Delta + \\omega_{+}\\right) \\left(\\Delta - \\omega_{-}\\right) \\left(\\Delta + \\omega_{-}\\right) \\left(\\omega_{+}^{2} - \\omega_{-}^{2}\\right)}{2 \\Delta \\sqrt{\\Omega} g \\sqrt{\\omega_{+}} \\left(\\omega_{+} - \\omega_{-}\\right) \\left(\\omega_{+} + \\omega_{-}\\right)} & - \\frac{\\sqrt{- \\frac{\\Delta^{2} - \\omega_{+}^{2}}{\\omega_{+}^{2} - \\omega_{-}^{2}}} \\left(\\Delta - \\omega_{+}\\right) \\left(\\Delta - \\omega_{-}\\right) \\left(\\Delta + \\omega_{-}\\right) \\left(\\omega_{+}^{2} - \\omega_{-}^{2}\\right)}{2 \\Delta \\sqrt{\\Omega} g \\sqrt{\\omega_{+}} \\left(\\omega_{+} - \\omega_{-}\\right) \\left(\\omega_{+} + \\omega_{-}\\right)} & - \\frac{\\sqrt{- \\frac{\\left(\\Delta - \\omega_{+}\\right) \\left(\\Delta + \\omega_{+}\\right)}{\\omega_{+}^{2} - \\omega_{-}^{2}}} \\left(\\Omega - \\omega_{+}\\right) \\left(\\omega_{+}^{2} - \\omega_{-}^{2}\\right)}{2 \\sqrt{\\Omega} \\sqrt{\\omega_{+}} \\left(\\omega_{+} - \\omega_{-}\\right) \\left(\\omega_{+} + \\omega_{-}\\right)} & \\frac{\\sqrt{- \\frac{\\left(\\Delta - \\omega_{+}\\right) \\left(\\Delta + \\omega_{+}\\right)}{\\omega_{+}^{2} - \\omega_{-}^{2}}} \\left(\\Omega + \\omega_{+}\\right) \\left(\\omega_{+}^{2} - \\omega_{-}^{2}\\right)}{2 \\sqrt{\\Omega} \\sqrt{\\omega_{+}} \\left(\\omega_{+} - \\omega_{-}\\right) \\left(\\omega_{+} + \\omega_{-}\\right)}\\\\\\frac{\\sqrt{\\frac{\\Delta^{2} - \\omega_{-}^{2}}{\\omega_{+}^{2} - \\omega_{-}^{2}}} \\left(- \\Delta + \\omega_{-}\\right) \\left(\\Delta - \\omega_{+}\\right) \\left(\\Delta + \\omega_{+}\\right) \\left(\\omega_{+}^{2} - \\omega_{-}^{2}\\right)}{2 \\Delta \\sqrt{\\Omega} g \\sqrt{\\omega_{-}} \\left(\\omega_{+} - \\omega_{-}\\right) \\left(\\omega_{+} + \\omega_{-}\\right)} & \\frac{\\sqrt{\\frac{\\Delta^{2} - \\omega_{-}^{2}}{\\omega_{+}^{2} - \\omega_{-}^{2}}} \\left(\\Delta - \\omega_{+}\\right) \\left(\\Delta + \\omega_{+}\\right) \\left(\\Delta + \\omega_{-}\\right) \\left(\\omega_{+}^{2} - \\omega_{-}^{2}\\right)}{2 \\Delta \\sqrt{\\Omega} g \\sqrt{\\omega_{-}} \\left(\\omega_{+} - \\omega_{-}\\right) \\left(\\omega_{+} + \\omega_{-}\\right)} & \\frac{\\sqrt{\\frac{\\left(\\Delta - \\omega_{-}\\right) \\left(\\Delta + \\omega_{-}\\right)}{\\omega_{+}^{2} - \\omega_{-}^{2}}} \\left(\\Omega + \\omega_{-}\\right) \\left(\\omega_{+}^{2} - \\omega_{-}^{2}\\right)}{2 \\sqrt{\\Omega} \\sqrt{\\omega_{-}} \\left(\\omega_{+} - \\omega_{-}\\right) \\left(\\omega_{+} + \\omega_{-}\\right)} & \\frac{\\sqrt{\\frac{\\left(\\Delta - \\omega_{-}\\right) \\left(\\Delta + \\omega_{-}\\right)}{\\omega_{+}^{2} - \\omega_{-}^{2}}} \\left(- \\Omega + \\omega_{-}\\right) \\left(\\omega_{+}^{2} - \\omega_{-}^{2}\\right)}{2 \\sqrt{\\Omega} \\sqrt{\\omega_{-}} \\left(\\omega_{+} - \\omega_{-}\\right) \\left(\\omega_{+} + \\omega_{-}\\right)}\\\\\\frac{\\sqrt{\\frac{\\Delta^{2} - \\omega_{-}^{2}}{\\omega_{+}^{2} - \\omega_{-}^{2}}} \\left(\\Delta - \\omega_{+}\\right) \\left(\\Delta + \\omega_{+}\\right) \\left(\\Delta + \\omega_{-}\\right) \\left(\\omega_{+}^{2} - \\omega_{-}^{2}\\right)}{2 \\Delta \\sqrt{\\Omega} g \\sqrt{\\omega_{-}} \\left(\\omega_{+} - \\omega_{-}\\right) \\left(\\omega_{+} + \\omega_{-}\\right)} & \\frac{\\sqrt{\\frac{\\Delta^{2} - \\omega_{-}^{2}}{\\omega_{+}^{2} - \\omega_{-}^{2}}} \\left(- \\Delta + \\omega_{-}\\right) \\left(\\Delta - \\omega_{+}\\right) \\left(\\Delta + \\omega_{+}\\right) \\left(\\omega_{+}^{2} - \\omega_{-}^{2}\\right)}{2 \\Delta \\sqrt{\\Omega} g \\sqrt{\\omega_{-}} \\left(\\omega_{+} - \\omega_{-}\\right) \\left(\\omega_{+} + \\omega_{-}\\right)} & \\frac{\\sqrt{\\frac{\\left(\\Delta - \\omega_{-}\\right) \\left(\\Delta + \\omega_{-}\\right)}{\\omega_{+}^{2} - \\omega_{-}^{2}}} \\left(- \\Omega + \\omega_{-}\\right) \\left(\\omega_{+}^{2} - \\omega_{-}^{2}\\right)}{2 \\sqrt{\\Omega} \\sqrt{\\omega_{-}} \\left(\\omega_{+} - \\omega_{-}\\right) \\left(\\omega_{+} + \\omega_{-}\\right)} & \\frac{\\sqrt{\\frac{\\left(\\Delta - \\omega_{-}\\right) \\left(\\Delta + \\omega_{-}\\right)}{\\omega_{+}^{2} - \\omega_{-}^{2}}} \\left(\\Omega + \\omega_{-}\\right) \\left(\\omega_{+}^{2} - \\omega_{-}^{2}\\right)}{2 \\sqrt{\\Omega} \\sqrt{\\omega_{-}} \\left(\\omega_{+} - \\omega_{-}\\right) \\left(\\omega_{+} + \\omega_{-}\\right)}\\end{matrix}\\right]$$"
       ],
       "metadata": {},
       "output_type": "pyout",
       "png": "[encoded data removed]",
       "prompt_number": 30,
       "text": [
        "\u23a1       ______________                                                  ______\n",
        "\u23a2      \u2571  \u239b 2     2\u239e                                                   \u2571    2 \n",
        "\u23a2     \u2571  -\u239d\u0394  - \u03c9\u208a \u23a0                              \u239b  2     2\u239e         \u2571  - \u0394  \n",
        "\u23a2-   \u2571   \u2500\u2500\u2500\u2500\u2500\u2500\u2500\u2500\u2500\u2500\u2500\u2500 \u22c5(\u0394 - \u03c9\u208a)\u22c5(\u0394 - \u03c9\u208b)\u22c5(\u0394 + \u03c9\u208b)\u22c5\u239d\u03c9\u208a  - \u03c9\u208b \u23a0        \u2571   \u2500\u2500\u2500\u2500\u2500\n",
        "\u23a2   \u2571       2     2                                                 \u2571      2  \n",
        "\u23a2 \u2572\u2571      \u03c9\u208a  - \u03c9\u208b                                                \u2572\u2571     \u03c9\u208a  -\n",
        "\u23a2\u2500\u2500\u2500\u2500\u2500\u2500\u2500\u2500\u2500\u2500\u2500\u2500\u2500\u2500\u2500\u2500\u2500\u2500\u2500\u2500\u2500\u2500\u2500\u2500\u2500\u2500\u2500\u2500\u2500\u2500\u2500\u2500\u2500\u2500\u2500\u2500\u2500\u2500\u2500\u2500\u2500\u2500\u2500\u2500\u2500\u2500\u2500\u2500\u2500\u2500\u2500\u2500\u2500\u2500\u2500\u2500\u2500\u2500\u2500\u2500\u2500    \u2500\u2500\u2500\u2500\u2500\u2500\u2500\u2500\u2500\u2500\u2500\u2500\n",
        "\u23a2                  ___     ____                                               \n",
        "\u23a2            2\u22c5\u0394\u22c5\u2572\u2571 \u03a9 \u22c5g\u22c5\u2572\u2571 \u03c9\u208a \u22c5(\u03c9\u208a - \u03c9\u208b)\u22c5(\u03c9\u208a + \u03c9\u208b)                         2\u22c5\n",
        "\u23a2                                                                             \n",
        "\u23a2        ____________                                                  _______\n",
        "\u23a2       \u2571    2     2                                                  \u2571  \u239b 2  \n",
        "\u23a2      \u2571  - \u0394  + \u03c9\u208a                              \u239b  2     2\u239e         \u2571  -\u239d\u0394  -\n",
        "\u23a2     \u2571   \u2500\u2500\u2500\u2500\u2500\u2500\u2500\u2500\u2500\u2500 \u22c5(\u0394 + \u03c9\u208a)\u22c5(\u0394 - \u03c9\u208b)\u22c5(\u0394 + \u03c9\u208b)\u22c5\u239d\u03c9\u208a  - \u03c9\u208b \u23a0    -   \u2571   \u2500\u2500\u2500\u2500\u2500\u2500\n",
        "\u23a2    \u2571      2     2                                                \u2571       2  \n",
        "\u23a2  \u2572\u2571     \u03c9\u208a  - \u03c9\u208b                                               \u2572\u2571      \u03c9\u208a  -\n",
        "\u23a2  \u2500\u2500\u2500\u2500\u2500\u2500\u2500\u2500\u2500\u2500\u2500\u2500\u2500\u2500\u2500\u2500\u2500\u2500\u2500\u2500\u2500\u2500\u2500\u2500\u2500\u2500\u2500\u2500\u2500\u2500\u2500\u2500\u2500\u2500\u2500\u2500\u2500\u2500\u2500\u2500\u2500\u2500\u2500\u2500\u2500\u2500\u2500\u2500\u2500\u2500\u2500\u2500\u2500\u2500\u2500\u2500\u2500    \u2500\u2500\u2500\u2500\u2500\u2500\u2500\u2500\u2500\u2500\u2500\u2500\u2500\u2500\n",
        "\u23a2                  ___     ____                                               \n",
        "\u23a2            2\u22c5\u0394\u22c5\u2572\u2571 \u03a9 \u22c5g\u22c5\u2572\u2571 \u03c9\u208a \u22c5(\u03c9\u208a - \u03c9\u208b)\u22c5(\u03c9\u208a + \u03c9\u208b)                         2\u22c5\n",
        "\u23a2                                                                             \n",
        "\u23a2        ___________                                                    ______\n",
        "\u23a2       \u2571   2     2                                                    \u2571   2  \n",
        "\u23a2      \u2571   \u0394  - \u03c9\u208b                               \u239b  2     2\u239e          \u2571   \u0394  -\n",
        "\u23a2     \u2571   \u2500\u2500\u2500\u2500\u2500\u2500\u2500\u2500\u2500 \u22c5(-\u0394 + \u03c9\u208b)\u22c5(\u0394 - \u03c9\u208a)\u22c5(\u0394 + \u03c9\u208a)\u22c5\u239d\u03c9\u208a  - \u03c9\u208b \u23a0         \u2571   \u2500\u2500\u2500\u2500\u2500\n",
        "\u23a2    \u2571      2     2                                                 \u2571      2  \n",
        "\u23a2  \u2572\u2571     \u03c9\u208a  - \u03c9\u208b                                                \u2572\u2571     \u03c9\u208a  -\n",
        "\u23a2  \u2500\u2500\u2500\u2500\u2500\u2500\u2500\u2500\u2500\u2500\u2500\u2500\u2500\u2500\u2500\u2500\u2500\u2500\u2500\u2500\u2500\u2500\u2500\u2500\u2500\u2500\u2500\u2500\u2500\u2500\u2500\u2500\u2500\u2500\u2500\u2500\u2500\u2500\u2500\u2500\u2500\u2500\u2500\u2500\u2500\u2500\u2500\u2500\u2500\u2500\u2500\u2500\u2500\u2500\u2500\u2500\u2500      \u2500\u2500\u2500\u2500\u2500\u2500\u2500\u2500\u2500\u2500\u2500\u2500\n",
        "\u23a2                  ___     ____                                               \n",
        "\u23a2            2\u22c5\u0394\u22c5\u2572\u2571 \u03a9 \u22c5g\u22c5\u2572\u2571 \u03c9\u208b \u22c5(\u03c9\u208a - \u03c9\u208b)\u22c5(\u03c9\u208a + \u03c9\u208b)                        2\u22c5\u0394\n",
        "\u23a2                                                                             \n",
        "\u23a2        ___________                                                    ______\n",
        "\u23a2       \u2571   2     2                                                    \u2571   2  \n",
        "\u23a2      \u2571   \u0394  - \u03c9\u208b                              \u239b  2     2\u239e           \u2571   \u0394  -\n",
        "\u23a2     \u2571   \u2500\u2500\u2500\u2500\u2500\u2500\u2500\u2500\u2500 \u22c5(\u0394 - \u03c9\u208a)\u22c5(\u0394 + \u03c9\u208a)\u22c5(\u0394 + \u03c9\u208b)\u22c5\u239d\u03c9\u208a  - \u03c9\u208b \u23a0          \u2571   \u2500\u2500\u2500\u2500\u2500\n",
        "\u23a2    \u2571      2     2                                                 \u2571      2  \n",
        "\u23a2  \u2572\u2571     \u03c9\u208a  - \u03c9\u208b                                                \u2572\u2571     \u03c9\u208a  -\n",
        "\u23a2  \u2500\u2500\u2500\u2500\u2500\u2500\u2500\u2500\u2500\u2500\u2500\u2500\u2500\u2500\u2500\u2500\u2500\u2500\u2500\u2500\u2500\u2500\u2500\u2500\u2500\u2500\u2500\u2500\u2500\u2500\u2500\u2500\u2500\u2500\u2500\u2500\u2500\u2500\u2500\u2500\u2500\u2500\u2500\u2500\u2500\u2500\u2500\u2500\u2500\u2500\u2500\u2500\u2500\u2500\u2500\u2500       \u2500\u2500\u2500\u2500\u2500\u2500\u2500\u2500\u2500\u2500\u2500\u2500\n",
        "\u23a2                 ___     ____                                                \n",
        "\u23a3           2\u22c5\u0394\u22c5\u2572\u2571 \u03a9 \u22c5g\u22c5\u2572\u2571 \u03c9\u208b \u22c5(\u03c9\u208a - \u03c9\u208b)\u22c5(\u03c9\u208a + \u03c9\u208b)                          2\u22c5\n",
        "\n",
        "______                                                                        \n",
        "    2                                                  _____________________  \n",
        "+ \u03c9\u208a                              \u239b  2     2\u239e         \u2571 -(\u0394 - \u03c9\u208a)\u22c5(\u0394 + \u03c9\u208a)    \n",
        "\u2500\u2500\u2500\u2500\u2500 \u22c5(\u0394 + \u03c9\u208a)\u22c5(\u0394 - \u03c9\u208b)\u22c5(\u0394 + \u03c9\u208b)\u22c5\u239d\u03c9\u208a  - \u03c9\u208b \u23a0        \u2571  \u2500\u2500\u2500\u2500\u2500\u2500\u2500\u2500\u2500\u2500\u2500\u2500\u2500\u2500\u2500\u2500\u2500\u2500\u2500 \u22c5(\n",
        "   2                                                \u2571          2     2        \n",
        " \u03c9\u208b                                               \u2572\u2571         \u03c9\u208a  - \u03c9\u208b         \n",
        "\u2500\u2500\u2500\u2500\u2500\u2500\u2500\u2500\u2500\u2500\u2500\u2500\u2500\u2500\u2500\u2500\u2500\u2500\u2500\u2500\u2500\u2500\u2500\u2500\u2500\u2500\u2500\u2500\u2500\u2500\u2500\u2500\u2500\u2500\u2500\u2500\u2500\u2500\u2500\u2500\u2500\u2500\u2500\u2500\u2500     \u2500\u2500\u2500\u2500\u2500\u2500\u2500\u2500\u2500\u2500\u2500\u2500\u2500\u2500\u2500\u2500\u2500\u2500\u2500\u2500\u2500\u2500\u2500\u2500\u2500\u2500\u2500\u2500\n",
        "    ___     ____                                             ___   ____       \n",
        "\u0394\u22c5\u2572\u2571 \u03a9 \u22c5g\u22c5\u2572\u2571 \u03c9\u208a \u22c5(\u03c9\u208a - \u03c9\u208b)\u22c5(\u03c9\u208a + \u03c9\u208b)                     2\u22c5\u2572\u2571 \u03a9 \u22c5\u2572\u2571 \u03c9\u208a \u22c5(\u03c9\u208a - \n",
        "                                                                              \n",
        "_______                                                                       \n",
        "   2\u239e                                                  _____________________  \n",
        " \u03c9\u208a \u23a0                              \u239b  2     2\u239e        \u2571 -(\u0394 - \u03c9\u208a)\u22c5(\u0394 + \u03c9\u208a)    \n",
        "\u2500\u2500\u2500\u2500\u2500\u2500 \u22c5(\u0394 - \u03c9\u208a)\u22c5(\u0394 - \u03c9\u208b)\u22c5(\u0394 + \u03c9\u208b)\u22c5\u239d\u03c9\u208a  - \u03c9\u208b \u23a0   -   \u2571  \u2500\u2500\u2500\u2500\u2500\u2500\u2500\u2500\u2500\u2500\u2500\u2500\u2500\u2500\u2500\u2500\u2500\u2500\u2500 \u22c5(\n",
        "   2                                                \u2571          2     2        \n",
        " \u03c9\u208b                                               \u2572\u2571         \u03c9\u208a  - \u03c9\u208b         \n",
        "\u2500\u2500\u2500\u2500\u2500\u2500\u2500\u2500\u2500\u2500\u2500\u2500\u2500\u2500\u2500\u2500\u2500\u2500\u2500\u2500\u2500\u2500\u2500\u2500\u2500\u2500\u2500\u2500\u2500\u2500\u2500\u2500\u2500\u2500\u2500\u2500\u2500\u2500\u2500\u2500\u2500\u2500\u2500\u2500\u2500\u2500\u2500  \u2500\u2500\u2500\u2500\u2500\u2500\u2500\u2500\u2500\u2500\u2500\u2500\u2500\u2500\u2500\u2500\u2500\u2500\u2500\u2500\u2500\u2500\u2500\u2500\u2500\u2500\u2500\u2500\u2500\n",
        "    ___     ____                                             ___   ____       \n",
        "\u0394\u22c5\u2572\u2571 \u03a9 \u22c5g\u22c5\u2572\u2571 \u03c9\u208a \u22c5(\u03c9\u208a - \u03c9\u208b)\u22c5(\u03c9\u208a + \u03c9\u208b)                     2\u22c5\u2572\u2571 \u03a9 \u22c5\u2572\u2571 \u03c9\u208a \u22c5(\u03c9\u208a - \n",
        "                                                                              \n",
        "_____                                                                         \n",
        "   2                                                    ___________________   \n",
        " \u03c9\u208b                              \u239b  2     2\u239e           \u2571 (\u0394 - \u03c9\u208b)\u22c5(\u0394 + \u03c9\u208b)    \n",
        "\u2500\u2500\u2500\u2500 \u22c5(\u0394 - \u03c9\u208a)\u22c5(\u0394 + \u03c9\u208a)\u22c5(\u0394 + \u03c9\u208b)\u22c5\u239d\u03c9\u208a  - \u03c9\u208b \u23a0          \u2571  \u2500\u2500\u2500\u2500\u2500\u2500\u2500\u2500\u2500\u2500\u2500\u2500\u2500\u2500\u2500\u2500\u2500 \u22c5(\u03a9\n",
        "   2                                                 \u2571         2     2        \n",
        " \u03c9\u208b                                                \u2572\u2571        \u03c9\u208a  - \u03c9\u208b         \n",
        "\u2500\u2500\u2500\u2500\u2500\u2500\u2500\u2500\u2500\u2500\u2500\u2500\u2500\u2500\u2500\u2500\u2500\u2500\u2500\u2500\u2500\u2500\u2500\u2500\u2500\u2500\u2500\u2500\u2500\u2500\u2500\u2500\u2500\u2500\u2500\u2500\u2500\u2500\u2500\u2500\u2500\u2500\u2500\u2500       \u2500\u2500\u2500\u2500\u2500\u2500\u2500\u2500\u2500\u2500\u2500\u2500\u2500\u2500\u2500\u2500\u2500\u2500\u2500\u2500\u2500\u2500\u2500\u2500\u2500\u2500\u2500\n",
        "   ___     ____                                              ___   ____       \n",
        "\u22c5\u2572\u2571 \u03a9 \u22c5g\u22c5\u2572\u2571 \u03c9\u208b \u22c5(\u03c9\u208a - \u03c9\u208b)\u22c5(\u03c9\u208a + \u03c9\u208b)                      2\u22c5\u2572\u2571 \u03a9 \u22c5\u2572\u2571 \u03c9\u208b \u22c5(\u03c9\u208a - \n",
        "                                                                              \n",
        "_____                                                                         \n",
        "   2                                                   ___________________    \n",
        " \u03c9\u208b                               \u239b  2     2\u239e         \u2571 (\u0394 - \u03c9\u208b)\u22c5(\u0394 + \u03c9\u208b)     \n",
        "\u2500\u2500\u2500\u2500 \u22c5(-\u0394 + \u03c9\u208b)\u22c5(\u0394 - \u03c9\u208a)\u22c5(\u0394 + \u03c9\u208a)\u22c5\u239d\u03c9\u208a  - \u03c9\u208b \u23a0        \u2571  \u2500\u2500\u2500\u2500\u2500\u2500\u2500\u2500\u2500\u2500\u2500\u2500\u2500\u2500\u2500\u2500\u2500 \u22c5(-\u03a9\n",
        "   2                                                \u2571         2     2         \n",
        " \u03c9\u208b                                               \u2572\u2571        \u03c9\u208a  - \u03c9\u208b          \n",
        "\u2500\u2500\u2500\u2500\u2500\u2500\u2500\u2500\u2500\u2500\u2500\u2500\u2500\u2500\u2500\u2500\u2500\u2500\u2500\u2500\u2500\u2500\u2500\u2500\u2500\u2500\u2500\u2500\u2500\u2500\u2500\u2500\u2500\u2500\u2500\u2500\u2500\u2500\u2500\u2500\u2500\u2500\u2500\u2500\u2500     \u2500\u2500\u2500\u2500\u2500\u2500\u2500\u2500\u2500\u2500\u2500\u2500\u2500\u2500\u2500\u2500\u2500\u2500\u2500\u2500\u2500\u2500\u2500\u2500\u2500\u2500\u2500\u2500\n",
        "    ___     ____                                            ___   ____        \n",
        "\u0394\u22c5\u2572\u2571 \u03a9 \u22c5g\u22c5\u2572\u2571 \u03c9\u208b \u22c5(\u03c9\u208a - \u03c9\u208b)\u22c5(\u03c9\u208a + \u03c9\u208b)                    2\u22c5\u2572\u2571 \u03a9 \u22c5\u2572\u2571 \u03c9\u208b \u22c5(\u03c9\u208a - \u03c9\n",
        "\n",
        "                                                                       \u23a4\n",
        "                            _____________________                      \u23a5\n",
        "        \u239b  2     2\u239e        \u2571 -(\u0394 - \u03c9\u208a)\u22c5(\u0394 + \u03c9\u208a)            \u239b  2     2\u239e \u23a5\n",
        "\u03a9 + \u03c9\u208a)\u22c5\u239d\u03c9\u208a  - \u03c9\u208b \u23a0   -   \u2571  \u2500\u2500\u2500\u2500\u2500\u2500\u2500\u2500\u2500\u2500\u2500\u2500\u2500\u2500\u2500\u2500\u2500\u2500\u2500 \u22c5(\u03a9 - \u03c9\u208a)\u22c5\u239d\u03c9\u208a  - \u03c9\u208b \u23a0 \u23a5\n",
        "                         \u2571          2     2                            \u23a5\n",
        "                       \u2572\u2571         \u03c9\u208a  - \u03c9\u208b                             \u23a5\n",
        "\u2500\u2500\u2500\u2500\u2500\u2500\u2500\u2500\u2500\u2500\u2500\u2500\u2500\u2500\u2500\u2500\u2500\u2500\u2500   \u2500\u2500\u2500\u2500\u2500\u2500\u2500\u2500\u2500\u2500\u2500\u2500\u2500\u2500\u2500\u2500\u2500\u2500\u2500\u2500\u2500\u2500\u2500\u2500\u2500\u2500\u2500\u2500\u2500\u2500\u2500\u2500\u2500\u2500\u2500\u2500\u2500\u2500\u2500\u2500\u2500\u2500\u2500\u2500\u2500\u2500\u2500\u2500\u2500\u23a5\n",
        "                                  ___   ____                           \u23a5\n",
        "\u03c9\u208b)\u22c5(\u03c9\u208a + \u03c9\u208b)                 2\u22c5\u2572\u2571 \u03a9 \u22c5\u2572\u2571 \u03c9\u208a \u22c5(\u03c9\u208a - \u03c9\u208b)\u22c5(\u03c9\u208a + \u03c9\u208b)       \u23a5\n",
        "                                                                       \u23a5\n",
        "                                                                       \u23a5\n",
        "                            _____________________                      \u23a5\n",
        "        \u239b  2     2\u239e        \u2571 -(\u0394 - \u03c9\u208a)\u22c5(\u0394 + \u03c9\u208a)            \u239b  2     2\u239e \u23a5\n",
        "\u03a9 - \u03c9\u208a)\u22c5\u239d\u03c9\u208a  - \u03c9\u208b \u23a0       \u2571  \u2500\u2500\u2500\u2500\u2500\u2500\u2500\u2500\u2500\u2500\u2500\u2500\u2500\u2500\u2500\u2500\u2500\u2500\u2500 \u22c5(\u03a9 + \u03c9\u208a)\u22c5\u239d\u03c9\u208a  - \u03c9\u208b \u23a0 \u23a5\n",
        "                         \u2571          2     2                            \u23a5\n",
        "                       \u2572\u2571         \u03c9\u208a  - \u03c9\u208b                             \u23a5\n",
        "\u2500\u2500\u2500\u2500\u2500\u2500\u2500\u2500\u2500\u2500\u2500\u2500\u2500\u2500\u2500\u2500\u2500\u2500\u2500\u2500   \u2500\u2500\u2500\u2500\u2500\u2500\u2500\u2500\u2500\u2500\u2500\u2500\u2500\u2500\u2500\u2500\u2500\u2500\u2500\u2500\u2500\u2500\u2500\u2500\u2500\u2500\u2500\u2500\u2500\u2500\u2500\u2500\u2500\u2500\u2500\u2500\u2500\u2500\u2500\u2500\u2500\u2500\u2500\u2500\u2500\u2500\u2500 \u23a5\n",
        "                                  ___   ____                           \u23a5\n",
        "\u03c9\u208b)\u22c5(\u03c9\u208a + \u03c9\u208b)                 2\u22c5\u2572\u2571 \u03a9 \u22c5\u2572\u2571 \u03c9\u208a \u22c5(\u03c9\u208a - \u03c9\u208b)\u22c5(\u03c9\u208a + \u03c9\u208b)       \u23a5\n",
        "                                                                       \u23a5\n",
        "                                                                       \u23a5\n",
        "                            ___________________                        \u23a5\n",
        "       \u239b  2     2\u239e         \u2571 (\u0394 - \u03c9\u208b)\u22c5(\u0394 + \u03c9\u208b)            \u239b  2     2\u239e  \u23a5\n",
        " + \u03c9\u208b)\u22c5\u239d\u03c9\u208a  - \u03c9\u208b \u23a0        \u2571  \u2500\u2500\u2500\u2500\u2500\u2500\u2500\u2500\u2500\u2500\u2500\u2500\u2500\u2500\u2500\u2500\u2500 \u22c5(-\u03a9 + \u03c9\u208b)\u22c5\u239d\u03c9\u208a  - \u03c9\u208b \u23a0  \u23a5\n",
        "                         \u2571         2     2                             \u23a5\n",
        "                       \u2572\u2571        \u03c9\u208a  - \u03c9\u208b                              \u23a5\n",
        "\u2500\u2500\u2500\u2500\u2500\u2500\u2500\u2500\u2500\u2500\u2500\u2500\u2500\u2500\u2500\u2500\u2500\u2500     \u2500\u2500\u2500\u2500\u2500\u2500\u2500\u2500\u2500\u2500\u2500\u2500\u2500\u2500\u2500\u2500\u2500\u2500\u2500\u2500\u2500\u2500\u2500\u2500\u2500\u2500\u2500\u2500\u2500\u2500\u2500\u2500\u2500\u2500\u2500\u2500\u2500\u2500\u2500\u2500\u2500\u2500\u2500\u2500\u2500\u2500  \u23a5\n",
        "                                 ___   ____                            \u23a5\n",
        "\u03c9\u208b)\u22c5(\u03c9\u208a + \u03c9\u208b)                2\u22c5\u2572\u2571 \u03a9 \u22c5\u2572\u2571 \u03c9\u208b \u22c5(\u03c9\u208a - \u03c9\u208b)\u22c5(\u03c9\u208a + \u03c9\u208b)        \u23a5\n",
        "                                                                       \u23a5\n",
        "                                                                       \u23a5\n",
        "                             ___________________                       \u23a5\n",
        "       \u239b  2     2\u239e          \u2571 (\u0394 - \u03c9\u208b)\u22c5(\u0394 + \u03c9\u208b)           \u239b  2     2\u239e  \u23a5\n",
        " + \u03c9\u208b)\u22c5\u239d\u03c9\u208a  - \u03c9\u208b \u23a0         \u2571  \u2500\u2500\u2500\u2500\u2500\u2500\u2500\u2500\u2500\u2500\u2500\u2500\u2500\u2500\u2500\u2500\u2500 \u22c5(\u03a9 + \u03c9\u208b)\u22c5\u239d\u03c9\u208a  - \u03c9\u208b \u23a0  \u23a5\n",
        "                          \u2571         2     2                            \u23a5\n",
        "                        \u2572\u2571        \u03c9\u208a  - \u03c9\u208b                             \u23a5\n",
        "\u2500\u2500\u2500\u2500\u2500\u2500\u2500\u2500\u2500\u2500\u2500\u2500\u2500\u2500\u2500\u2500\u2500\u2500      \u2500\u2500\u2500\u2500\u2500\u2500\u2500\u2500\u2500\u2500\u2500\u2500\u2500\u2500\u2500\u2500\u2500\u2500\u2500\u2500\u2500\u2500\u2500\u2500\u2500\u2500\u2500\u2500\u2500\u2500\u2500\u2500\u2500\u2500\u2500\u2500\u2500\u2500\u2500\u2500\u2500\u2500\u2500\u2500\u2500  \u23a5\n",
        "                                  ___   ____                           \u23a5\n",
        "\u208b)\u22c5(\u03c9\u208a + \u03c9\u208b)                  2\u22c5\u2572\u2571 \u03a9 \u22c5\u2572\u2571 \u03c9\u208b \u22c5(\u03c9\u208a - \u03c9\u208b)\u22c5(\u03c9\u208a + \u03c9\u208b)       \u23a6"
       ]
      }
     ],
     "prompt_number": 30
    },
    {
     "cell_type": "heading",
     "level": 3,
     "metadata": {},
     "source": [
      "Special Case: Red-detuned side ($\\Delta = -\\Omega$)"
     ]
    },
    {
     "cell_type": "markdown",
     "metadata": {},
     "source": [
      "Here, I will consider the special case of the optomechanical system, where the driving field is tuned to the upper sideband ($\\Delta = -\\Omega$). The transformation matrix $S$ becomes"
     ]
    },
    {
     "cell_type": "code",
     "collapsed": false,
     "input": [
      "S__ = simplify(S_.subs({d: -O, wp: wpsol.subs(d, -O), wm: wmsol.subs(d, -O)}))\n",
      "lhs = Rnm\n",
      "rhs = MatMul(S__, R)\n",
      "Eq(lhs, rhs)"
     ],
     "language": "python",
     "metadata": {},
     "outputs": [
      {
       "latex": [
        "$$\\left[\\begin{matrix}X_{+}\\\\P_{+}\\\\X_{-}\\\\P_{-}\\end{matrix}\\right] = \\left[\\begin{matrix}- \\frac{\\sqrt{2} \\sqrt[4]{\\Omega + g}}{2 \\sqrt[4]{\\Omega}} & 0 & \\frac{\\sqrt{2} \\sqrt[4]{\\Omega + g}}{2 \\sqrt[4]{\\Omega}} & 0\\\\0 & - \\frac{\\sqrt{2} \\sqrt[4]{\\Omega}}{2 \\sqrt[4]{\\Omega + g}} & 0 & \\frac{\\sqrt{2} \\sqrt[4]{\\Omega}}{2 \\sqrt[4]{\\Omega + g}}\\\\\\frac{\\sqrt{2} \\sqrt[4]{\\Omega - g}}{2 \\sqrt[4]{\\Omega}} & 0 & \\frac{\\sqrt{2} \\sqrt[4]{\\Omega - g}}{2 \\sqrt[4]{\\Omega}} & 0\\\\0 & \\frac{\\sqrt{2} \\sqrt[4]{\\Omega}}{2 \\sqrt[4]{\\Omega - g}} & 0 & \\frac{\\sqrt{2} \\sqrt[4]{\\Omega}}{2 \\sqrt[4]{\\Omega - g}}\\end{matrix}\\right] \\left[\\begin{matrix}X_{c}\\\\P_{c}\\\\X_{m}\\\\P_{m}\\end{matrix}\\right]$$"
       ],
       "metadata": {},
       "output_type": "pyout",
       "png": "[encoded data removed]",
       "prompt_number": 31,
       "text": [
        "       \u23a1   ___ 4 _______                    ___ 4 _______             \u23a4      \n",
        "       \u23a2-\u2572\u2571 2 \u22c5\u2572\u2571 \u03a9 + g                   \u2572\u2571 2 \u22c5\u2572\u2571 \u03a9 + g              \u23a5      \n",
        "\u23a1X\u208a\u23a4 = \u23a2\u2500\u2500\u2500\u2500\u2500\u2500\u2500\u2500\u2500\u2500\u2500\u2500\u2500\u2500\u2500\u2500\u2500        0        \u2500\u2500\u2500\u2500\u2500\u2500\u2500\u2500\u2500\u2500\u2500\u2500\u2500\u2500\u2500       0     \u23a5\u22c5\u23a1X_c\u23a4\n",
        "\u23a2  \u23a5   \u23a2       4 ___                            4 ___                 \u23a5 \u23a2   \u23a5\n",
        "\u23a2P\u208a\u23a5   \u23a2     2\u22c5\u2572\u2571 \u03a9                           2\u22c5\u2572\u2571 \u03a9                  \u23a5 \u23a2P_c\u23a5\n",
        "\u23a2  \u23a5   \u23a2                                                              \u23a5 \u23a2   \u23a5\n",
        "\u23a2X\u208b\u23a5   \u23a2                      ___ 4 ___                      ___ 4 ___\u23a5 \u23a2X_m\u23a5\n",
        "\u23a2  \u23a5   \u23a2                   -\u2572\u2571 2 \u22c5\u2572\u2571 \u03a9                     \u2572\u2571 2 \u22c5\u2572\u2571 \u03a9 \u23a5 \u23a2   \u23a5\n",
        "\u23a3P\u208b\u23a6   \u23a2        0          \u2500\u2500\u2500\u2500\u2500\u2500\u2500\u2500\u2500\u2500\u2500\u2500\u2500         0         \u2500\u2500\u2500\u2500\u2500\u2500\u2500\u2500\u2500\u2500\u2500\u23a5 \u23a3P_m\u23a6\n",
        "       \u23a2                      4 _______                      4 _______\u23a5      \n",
        "       \u23a2                    2\u22c5\u2572\u2571 \u03a9 + g                     2\u22c5\u2572\u2571 \u03a9 + g \u23a5      \n",
        "       \u23a2                                                              \u23a5      \n",
        "       \u23a2   ___ 4 _______                    ___ 4 _______             \u23a5      \n",
        "       \u23a2 \u2572\u2571 2 \u22c5\u2572\u2571 \u03a9 - g                   \u2572\u2571 2 \u22c5\u2572\u2571 \u03a9 - g              \u23a5      \n",
        "       \u23a2 \u2500\u2500\u2500\u2500\u2500\u2500\u2500\u2500\u2500\u2500\u2500\u2500\u2500\u2500\u2500         0        \u2500\u2500\u2500\u2500\u2500\u2500\u2500\u2500\u2500\u2500\u2500\u2500\u2500\u2500\u2500       0     \u23a5      \n",
        "       \u23a2       4 ___                            4 ___                 \u23a5      \n",
        "       \u23a2     2\u22c5\u2572\u2571 \u03a9                           2\u22c5\u2572\u2571 \u03a9                  \u23a5      \n",
        "       \u23a2                                                              \u23a5      \n",
        "       \u23a2                      ___ 4 ___                      ___ 4 ___\u23a5      \n",
        "       \u23a2                    \u2572\u2571 2 \u22c5\u2572\u2571 \u03a9                     \u2572\u2571 2 \u22c5\u2572\u2571 \u03a9 \u23a5      \n",
        "       \u23a2        0           \u2500\u2500\u2500\u2500\u2500\u2500\u2500\u2500\u2500\u2500\u2500          0         \u2500\u2500\u2500\u2500\u2500\u2500\u2500\u2500\u2500\u2500\u2500\u23a5      \n",
        "       \u23a2                      4 _______                      4 _______\u23a5      \n",
        "       \u23a3                    2\u22c5\u2572\u2571 \u03a9 - g                     2\u22c5\u2572\u2571 \u03a9 - g \u23a6      "
       ]
      }
     ],
     "prompt_number": 31
    },
    {
     "cell_type": "markdown",
     "metadata": {},
     "source": [
      "so that\n",
      "\\begin{align}\n",
      "X_{\\pm} &= \\sqrt{\\frac{\\Omega\\pm g}{4\\Omega}} \\left(\\mp X_c + X_p\\right),\\\\\n",
      "P_{\\pm} &= \\sqrt{\\frac{\\Omega}{4(\\Omega\\pm g)}} \\left(\\mp P_c + P_p\\right).\n",
      "\\end{align}"
     ]
    },
    {
     "cell_type": "markdown",
     "metadata": {},
     "source": [
      "It can be easily shown that this transformation is in consistent with the original Hamiltonian."
     ]
    },
    {
     "cell_type": "code",
     "collapsed": false,
     "input": [
      "H = hbar * wp/2 *(X_p**2 + P_p**2) + hbar * wm/2 * (X_m**2 + P_m**2)\n",
      "H"
     ],
     "language": "python",
     "metadata": {},
     "outputs": [
      {
       "latex": [
        "$$\\frac{\\hbar \\omega_{+}}{2} \\left(\\left(P_{+}\\right)^{2} + \\left(X_{+}\\right)^{2}\\right) + \\frac{\\hbar \\omega_{-}}{2} \\left(\\left(P_{-}\\right)^{2} + \\left(X_{-}\\right)^{2}\\right)$$"
       ],
       "metadata": {},
       "output_type": "pyout",
       "png": "[encoded data removed]",
       "prompt_number": 32,
       "text": [
        "      \u239b  2     2\u239e         \u239b  2     2\u239e\n",
        "h\u0305\u22c5\u03c9\u208a\u22c5\u239dP\u208a  + X\u208a \u23a0   h\u0305\u22c5\u03c9\u208b\u22c5\u239dP\u208b  + X\u208b \u23a0\n",
        "\u2500\u2500\u2500\u2500\u2500\u2500\u2500\u2500\u2500\u2500\u2500\u2500\u2500\u2500\u2500\u2500\u2500 + \u2500\u2500\u2500\u2500\u2500\u2500\u2500\u2500\u2500\u2500\u2500\u2500\u2500\u2500\u2500\u2500\u2500\n",
        "        2                   2        "
       ]
      }
     ],
     "prompt_number": 32
    },
    {
     "cell_type": "markdown",
     "metadata": {},
     "source": [
      "By substituting into the normal mode Hamiltonian,"
     ]
    },
    {
     "cell_type": "code",
     "collapsed": false,
     "input": [
      "H_ = H.subs({wp: wpsol.subs(d, -O), wm: wmsol.subs(d, -O),\n",
      "             X_p: (rhs.doit())[0],\n",
      "             P_p: (rhs.doit())[1],\n",
      "             X_m: (rhs.doit())[2],\n",
      "             P_m: (rhs.doit())[3],\n",
      "             })\n",
      "simplify(H_.expand().factor()).subs({sqrt(((O+g)**2).expand()): O+g,\n",
      "                                     Xm * Xc: Xc * Xm,\n",
      "                                     Pm * Pc: Pc * Pm}).expand()"
     ],
     "language": "python",
     "metadata": {},
     "outputs": [
      {
       "latex": [
        "$$\\frac{\\Omega \\hbar}{2} \\left(P_{c}\\right)^{2} + \\frac{\\Omega \\hbar}{2} \\left(P_{m}\\right)^{2} + \\frac{\\Omega \\hbar}{2} \\left(X_{c}\\right)^{2} + \\frac{\\Omega \\hbar}{2} \\left(X_{m}\\right)^{2} - g \\hbar X_{c} X_{m}$$"
       ],
       "metadata": {},
       "output_type": "pyout",
       "png": "[encoded data removed]",
       "prompt_number": 33,
       "text": [
        "        2           2           2           2               \n",
        "\u03a9\u22c5h\u0305\u22c5P_c    \u03a9\u22c5h\u0305\u22c5P_m    \u03a9\u22c5h\u0305\u22c5X_c    \u03a9\u22c5h\u0305\u22c5X_m                \n",
        "\u2500\u2500\u2500\u2500\u2500\u2500\u2500\u2500\u2500 + \u2500\u2500\u2500\u2500\u2500\u2500\u2500\u2500\u2500 + \u2500\u2500\u2500\u2500\u2500\u2500\u2500\u2500\u2500 + \u2500\u2500\u2500\u2500\u2500\u2500\u2500\u2500\u2500 - g\u22c5h\u0305\u22c5X_c\u22c5X_m\n",
        "    2           2           2           2                   "
       ]
      }
     ],
     "prompt_number": 33
    },
    {
     "cell_type": "heading",
     "level": 1,
     "metadata": {},
     "source": [
      "Version Information"
     ]
    },
    {
     "cell_type": "code",
     "collapsed": false,
     "input": [
      "%reload_ext version_information\n",
      "\n",
      "%version_information sympy, sympsi"
     ],
     "language": "python",
     "metadata": {},
     "outputs": [
      {
       "html": [
        "<table><tr><th>Software</th><th>Version</th></tr><tr><td>Python</td><td>3.4.1 (default, Sep 20 2014, 19:44:17) [GCC 4.2.1 Compatible Apple LLVM 5.1 (clang-503.0.40)]</td></tr><tr><td>IPython</td><td>2.3.0</td></tr><tr><td>OS</td><td>posix [darwin]</td></tr><tr><td>sympy</td><td>0.7.5-git</td></tr><tr><td>sympsi</td><td>0.1.0.dev-7811a68</td></tr><tr><td colspan='2'>Tue Oct 21 00:24:43 2014 JST</td></tr></table>"
       ],
       "json": [
        "{\"Software versions\": [{\"version\": \"3.4.1 (default, Sep 20 2014, 19:44:17) [GCC 4.2.1 Compatible Apple LLVM 5.1 (clang-503.0.40)]\", \"module\": \"Python\"}, {\"version\": \"2.3.0\", \"module\": \"IPython\"}, {\"version\": \"posix [darwin]\", \"module\": \"OS\"}, {\"version\": \"0.7.5-git\", \"module\": \"sympy\"}, {\"version\": \"0.1.0.dev-7811a68\", \"module\": \"sympsi\"}]}"
       ],
       "latex": [
        "\\begin{tabular}{|l|l|}\\hline\n",
        "{\\bf Software} & {\\bf Version} \\\\ \\hline\\hline\n",
        "Python & 3.4.1 (default, Sep 20 2014, 19:44:17) [GCC 4.2.1 Compatible Apple LLVM 5.1 (clang-503.0.40)] \\\\ \\hline\n",
        "IPython & 2.3.0 \\\\ \\hline\n",
        "OS & posix [darwin] \\\\ \\hline\n",
        "sympy & 0.7.5-git \\\\ \\hline\n",
        "sympsi & 0.1.0.dev-7811a68 \\\\ \\hline\n",
        "\\hline \\multicolumn{2}{|l|}{Tue Oct 21 00:24:43 2014 JST} \\\\ \\hline\n",
        "\\end{tabular}\n"
       ],
       "metadata": {},
       "output_type": "pyout",
       "prompt_number": 1,
       "text": [
        "Software versions\n",
        "Python 3.4.1 (default, Sep 20 2014, 19:44:17) [GCC 4.2.1 Compatible Apple LLVM 5.1 (clang-503.0.40)]\n",
        "IPython 2.3.0\n",
        "OS posix [darwin]\n",
        "sympy 0.7.5-git\n",
        "sympsi 0.1.0.dev-7811a68\n",
        "<tr><td colspan='2'>Tue Oct 21 00:24:43 2014 JST</td></tr>"
       ]
      }
     ],
     "prompt_number": 1
    }
   ],
   "metadata": {}
  }
 ]
}