{
 "cells": [
  {
   "cell_type": "markdown",
   "metadata": {},
   "source": [
    "# Reproduce: Quantum electrodynamics near a photonic bandgap (Preliminary)"
   ]
  },
  {
   "cell_type": "markdown",
   "metadata": {},
   "source": [
    "Yanbing Liu and Andrew A Houck, Quantum electrodynamics near a photonic bandgap, Nat. Phys., (2016)."
   ]
  },
  {
   "cell_type": "markdown",
   "metadata": {},
   "source": [
    "Reproduced by <strong>Eunjong Kim</strong> (eunjongkim@caltech.edu)"
   ]
  },
  {
   "cell_type": "markdown",
   "metadata": {},
   "source": [
    "## Symbolic Calculation of the transfer matrix and eigenequation"
   ]
  },
  {
   "cell_type": "markdown",
   "metadata": {},
   "source": [
    "In this section, we derive the equation (1) of "
   ]
  },
  {
   "cell_type": "code",
   "execution_count": 1,
   "metadata": {
    "collapsed": true
   },
   "outputs": [],
   "source": [
    "import sympy as sp\n",
    "sp.init_printing()"
   ]
  },
  {
   "cell_type": "code",
   "execution_count": 2,
   "metadata": {
    "collapsed": true
   },
   "outputs": [],
   "source": [
    "# Define symbolic variables corresponding to frequency,\n",
    "# wavevector, and size of the unit cell\n",
    "omega = sp.Symbol(r'\\omega')\n",
    "k = sp.Symbol(r'k')\n",
    "d = sp.Symbol(r'd')"
   ]
  },
  {
   "cell_type": "code",
   "execution_count": 3,
   "metadata": {
    "collapsed": false
   },
   "outputs": [],
   "source": [
    "# Number of sections in a unit cell\n",
    "M = 2\n",
    "\n",
    "# Define a list of phase velocity, characteristic impedance,\n",
    "# and length of each section of the unit cell\n",
    "v = []; Z = []; l = [];\n",
    "for idx in range(M):\n",
    "    v.append(sp.Symbol(r'v_{s%d}' % idx))\n",
    "    Z.append(sp.Symbol(r'Z_{s%d}' % idx))\n",
    "    l.append(sp.Symbol(r'l_{s%d}' % idx))"
   ]
  },
  {
   "cell_type": "code",
   "execution_count": 4,
   "metadata": {
    "collapsed": true
   },
   "outputs": [],
   "source": [
    "def CPW_ABCD(omega, idx):\n",
    "    \"\"\"\n",
    "    Construct an ABCD matrix (symbolic) of the coplanar waveguide of specified index\n",
    "    \"\"\"\n",
    "    A = sp.cos(omega * l[idx] / v[idx])\n",
    "    B = sp.I * sp.sin(omega * l[idx] / v[idx]) * Z[idx]\n",
    "    C = sp.I * sp.sin(omega * l[idx] / v[idx]) / Z[idx]\n",
    "    D = sp.cos(omega * l[idx] / v[idx])\n",
    "    return sp.Matrix([[A, B], [C, D]])\n",
    "\n",
    "#def qubit_ABCD(omega):\n",
    "#    A = 1\n",
    "#    B = 0\n",
    "#    C = - sp.I * gamma / (omega-omega_a) / Z0\n",
    "#    D = \n",
    "#    return sp.Matrix([[A, B], [C, D]])"
   ]
  },
  {
   "cell_type": "code",
   "execution_count": 5,
   "metadata": {
    "collapsed": false
   },
   "outputs": [
    {
     "data": {
      "image/png": "[encoded data removed]",
      "text/latex": [
       "$$\\left[\\begin{matrix}- \\frac{Z_{s0}}{Z_{s1}} \\sin{\\left (\\frac{\\omega l_{s0}}{v_{s0}} \\right )} \\sin{\\left (\\frac{\\omega l_{s1}}{v_{s1}} \\right )} + \\cos{\\left (\\frac{\\omega l_{s0}}{v_{s0}} \\right )} \\cos{\\left (\\frac{\\omega l_{s1}}{v_{s1}} \\right )} & i Z_{s0} \\sin{\\left (\\frac{\\omega l_{s0}}{v_{s0}} \\right )} \\cos{\\left (\\frac{\\omega l_{s1}}{v_{s1}} \\right )} + i Z_{s1} \\sin{\\left (\\frac{\\omega l_{s1}}{v_{s1}} \\right )} \\cos{\\left (\\frac{\\omega l_{s0}}{v_{s0}} \\right )}\\\\\\frac{i}{Z_{s1}} \\sin{\\left (\\frac{\\omega l_{s1}}{v_{s1}} \\right )} \\cos{\\left (\\frac{\\omega l_{s0}}{v_{s0}} \\right )} + \\frac{i}{Z_{s0}} \\sin{\\left (\\frac{\\omega l_{s0}}{v_{s0}} \\right )} \\cos{\\left (\\frac{\\omega l_{s1}}{v_{s1}} \\right )} & \\cos{\\left (\\frac{\\omega l_{s0}}{v_{s0}} \\right )} \\cos{\\left (\\frac{\\omega l_{s1}}{v_{s1}} \\right )} - \\frac{Z_{s1}}{Z_{s0}} \\sin{\\left (\\frac{\\omega l_{s0}}{v_{s0}} \\right )} \\sin{\\left (\\frac{\\omega l_{s1}}{v_{s1}} \\right )}\\end{matrix}\\right]$$"
      ],
      "text/plain": [
       "⎡            ⎛\\omega⋅l_{s0}⎞    ⎛\\omega⋅l_{s1}⎞                               \n",
       "⎢  Z_{s0}⋅sin⎜─────────────⎟⋅sin⎜─────────────⎟                               \n",
       "⎢            ⎝    v_{s0}   ⎠    ⎝    v_{s1}   ⎠      ⎛\\omega⋅l_{s0}⎞    ⎛\\omeg\n",
       "⎢- ──────────────────────────────────────────── + cos⎜─────────────⎟⋅cos⎜─────\n",
       "⎢                     Z_{s1}                         ⎝    v_{s0}   ⎠    ⎝    v\n",
       "⎢                                                                             \n",
       "⎢       ⎛\\omega⋅l_{s1}⎞    ⎛\\omega⋅l_{s0}⎞        ⎛\\omega⋅l_{s0}⎞    ⎛\\omega⋅l\n",
       "⎢  ⅈ⋅sin⎜─────────────⎟⋅cos⎜─────────────⎟   ⅈ⋅sin⎜─────────────⎟⋅cos⎜────────\n",
       "⎢       ⎝    v_{s1}   ⎠    ⎝    v_{s0}   ⎠        ⎝    v_{s0}   ⎠    ⎝    v_{s\n",
       "⎢  ─────────────────────────────────────── + ─────────────────────────────────\n",
       "⎣                   Z_{s1}                                    Z_{s0}          \n",
       "\n",
       "                                                                              \n",
       "                                                                              \n",
       "a⋅l_{s1}⎞              ⎛\\omega⋅l_{s0}⎞    ⎛\\omega⋅l_{s1}⎞               ⎛\\omeg\n",
       "────────⎟  ⅈ⋅Z_{s0}⋅sin⎜─────────────⎟⋅cos⎜─────────────⎟ + ⅈ⋅Z_{s1}⋅sin⎜─────\n",
       "_{s1}   ⎠              ⎝    v_{s0}   ⎠    ⎝    v_{s1}   ⎠               ⎝    v\n",
       "                                                                              \n",
       "_{s1}⎞                                                            ⎛\\omega⋅l_{s\n",
       "─────⎟                                                  Z_{s1}⋅sin⎜───────────\n",
       "1}   ⎠             ⎛\\omega⋅l_{s0}⎞    ⎛\\omega⋅l_{s1}⎞             ⎝    v_{s0} \n",
       "──────          cos⎜─────────────⎟⋅cos⎜─────────────⎟ - ──────────────────────\n",
       "                   ⎝    v_{s0}   ⎠    ⎝    v_{s1}   ⎠                      Z_{\n",
       "\n",
       "                            ⎤\n",
       "                            ⎥\n",
       "a⋅l_{s1}⎞    ⎛\\omega⋅l_{s0}⎞⎥\n",
       "────────⎟⋅cos⎜─────────────⎟⎥\n",
       "_{s1}   ⎠    ⎝    v_{s0}   ⎠⎥\n",
       "                            ⎥\n",
       "0}⎞    ⎛\\omega⋅l_{s1}⎞      ⎥\n",
       "──⎟⋅sin⎜─────────────⎟      ⎥\n",
       "  ⎠    ⎝    v_{s1}   ⎠      ⎥\n",
       "──────────────────────      ⎥\n",
       "s0}                         ⎦"
      ]
     },
     "execution_count": 5,
     "metadata": {},
     "output_type": "execute_result"
    }
   ],
   "source": [
    "M = CPW_ABCD(omega, 0) * CPW_ABCD(omega, 1)\n",
    "M"
   ]
  },
  {
   "cell_type": "code",
   "execution_count": 6,
   "metadata": {
    "collapsed": false
   },
   "outputs": [
    {
     "data": {
      "image/png": "[encoded data removed]",
      "text/latex": [
       "$$\\frac{Z_{s0}}{2 Z_{s1}} \\sin{\\left (\\frac{\\omega l_{s0}}{v_{s0}} \\right )} \\sin{\\left (\\frac{\\omega l_{s1}}{v_{s1}} \\right )} + \\cos{\\left (k \\left(l_{s0} + l_{s1}\\right) \\right )} - \\cos{\\left (\\frac{\\omega l_{s0}}{v_{s0}} \\right )} \\cos{\\left (\\frac{\\omega l_{s1}}{v_{s1}} \\right )} + \\frac{Z_{s1}}{2 Z_{s0}} \\sin{\\left (\\frac{\\omega l_{s0}}{v_{s0}} \\right )} \\sin{\\left (\\frac{\\omega l_{s1}}{v_{s1}} \\right )} = 0$$"
      ],
      "text/plain": [
       "          ⎛\\omega⋅l_{s0}⎞    ⎛\\omega⋅l_{s1}⎞                                  \n",
       "Z_{s0}⋅sin⎜─────────────⎟⋅sin⎜─────────────⎟                                  \n",
       "          ⎝    v_{s0}   ⎠    ⎝    v_{s1}   ⎠                                 ⎛\n",
       "──────────────────────────────────────────── + cos(k⋅(l_{s0} + l_{s1})) - cos⎜\n",
       "                  2⋅Z_{s1}                                                   ⎝\n",
       "\n",
       "                                              ⎛\\omega⋅l_{s0}⎞    ⎛\\omega⋅l_{s1\n",
       "                                    Z_{s1}⋅sin⎜─────────────⎟⋅sin⎜────────────\n",
       "\\omega⋅l_{s0}⎞    ⎛\\omega⋅l_{s1}⎞             ⎝    v_{s0}   ⎠    ⎝    v_{s1}  \n",
       "─────────────⎟⋅cos⎜─────────────⎟ + ──────────────────────────────────────────\n",
       "    v_{s0}   ⎠    ⎝    v_{s1}   ⎠                     2⋅Z_{s0}                \n",
       "\n",
       "}⎞    \n",
       "─⎟    \n",
       " ⎠    \n",
       "── = 0\n",
       "      "
      ]
     },
     "execution_count": 6,
     "metadata": {},
     "output_type": "execute_result"
    }
   ],
   "source": [
    "Expr = sp.simplify(sp.det(M * sp.exp(sp.I*k*d) - sp.eye(2))/(2 * sp.exp(sp.I*k*d))).subs(d, sum(l))\n",
    "sp.Eq(Expr, 0)"
   ]
  },
  {
   "cell_type": "markdown",
   "metadata": {},
   "source": [
    "Equation (1) is obtained."
   ]
  },
  {
   "cell_type": "code",
   "execution_count": 7,
   "metadata": {
    "collapsed": true
   },
   "outputs": [],
   "source": [
    "#def ABCDtoS(M, Z0):\n",
    "#    [[A, B], [C, D]] = M\n",
    "#    S11 = \n",
    "#    S12 = \n",
    "#    S21 = \n",
    "#    S22 = \n"
   ]
  },
  {
   "cell_type": "code",
   "execution_count": 8,
   "metadata": {
    "collapsed": false
   },
   "outputs": [],
   "source": [
    "import numpy as np\n",
    "import numpy.linalg as la\n",
    "from scipy.optimize import brentq\n",
    "from scipy.integrate import quad"
   ]
  },
  {
   "cell_type": "markdown",
   "metadata": {},
   "source": [
    "The eigenfrequency is given by $\\omega_0 /2\\pi= 7.79\\textrm{ GHz}$"
   ]
  },
  {
   "cell_type": "code",
   "execution_count": 9,
   "metadata": {
    "collapsed": false
   },
   "outputs": [],
   "source": [
    "omega0 = 2 * np.pi * 7.7e9"
   ]
  },
  {
   "cell_type": "code",
   "execution_count": 10,
   "metadata": {
    "collapsed": false
   },
   "outputs": [],
   "source": [
    "l0, l1 = 0.45e-3, 8e-3\n",
    "Z0, Z1 = 28, 125\n",
    "d = l0 + l1\n",
    "v_p = omega0 * d / np.pi"
   ]
  },
  {
   "cell_type": "code",
   "execution_count": 11,
   "metadata": {
    "collapsed": false
   },
   "outputs": [],
   "source": [
    "expr = Expr.subs({l[0]: l0, l[1]: l1,\n",
    "                  Z[0]: Z0, Z[1]: Z1,\n",
    "                  v[0]: v_p, v[1]: v_p})"
   ]
  },
  {
   "cell_type": "code",
   "execution_count": 12,
   "metadata": {
    "collapsed": false
   },
   "outputs": [],
   "source": [
    "func = sp.lambdify((omega, k), expr, \"numpy\")"
   ]
  },
  {
   "cell_type": "code",
   "execution_count": 13,
   "metadata": {
    "collapsed": false
   },
   "outputs": [],
   "source": [
    "N_kPts = 100\n",
    "N_band = 4\n",
    "\n",
    "d = 0.45e-3 + 8e-3\n",
    "kPts = np.linspace(- np.pi / d, np.pi / d, N_kPts)"
   ]
  },
  {
   "cell_type": "code",
   "execution_count": 14,
   "metadata": {
    "collapsed": false
   },
   "outputs": [],
   "source": [
    "freq = np.zeros((N_band, N_kPts))\n",
    "\n",
    "for n in range(N_band):\n",
    "    for idx, k_ in enumerate(kPts):\n",
    "        # search for eigenfrequency between n\\omega_0 and (n+1)\\omega_0\n",
    "        freq[n, idx] = brentq(func, n * omega0, (n+1) * omega0, args=(k_)) / (2 * np.pi)"
   ]
  },
  {
   "cell_type": "code",
   "execution_count": 15,
   "metadata": {
    "collapsed": true
   },
   "outputs": [],
   "source": [
    "# setup for plots\n",
    "import matplotlib.pyplot as plt\n",
    "from matplotlib import rcParams, cm\n",
    "%matplotlib inline\n",
    "rcParams.update({\"text.usetex\": True, \"font.size\": 16})"
   ]
  },
  {
   "cell_type": "code",
   "execution_count": 16,
   "metadata": {
    "collapsed": false
   },
   "outputs": [
    {
     "data": {
      "image/png": "[encoded data removed]",
      "text/plain": [
       "<matplotlib.figure.Figure at 0x1156f8c88>"
      ]
     },
     "metadata": {},
     "output_type": "display_data"
    }
   ],
   "source": [
    "fig, ax = plt.subplots(1, 1, figsize=(5, 5))\n",
    "fig_colors = ['green','red','blue', 'purple']\n",
    "for n in range(N_band):\n",
    "    ax.plot(kPts / (np.pi / d), freq[n, :] / 1e9, color=fig_colors[n])\n",
    "\n",
    "ax.set_xlabel(r'Wavevector $k/(\\pi/d)$');\n",
    "ax.set_ylabel('Frequency [GHz]');"
   ]
  },
  {
   "cell_type": "markdown",
   "metadata": {},
   "source": [
    "### PDE Solving using the discretization"
   ]
  },
  {
   "cell_type": "markdown",
   "metadata": {},
   "source": [
    "To analyze the mode structure (Bloch wavefunction) of an infinite microwave photonic crystal, we solve the following series of differential equations\n",
    "\n",
    "$$\n",
    "\\frac{\\partial}{\\partial x} V(x, t) = -l(x) \\frac{\\partial}{\\partial t} I(x,t), \\quad \\frac{\\partial}{\\partial x} I(x, t) = -c(x) \\frac{\\partial}{\\partial t} V(x,t)\n",
    "$$\n",
    "\n",
    "which reduces to a single partial differential equation of $V(x, t)$\n",
    "\n",
    "$$\n",
    "\\frac{\\partial}{\\partial x} \\left[ \\frac{v_p}{Z_c(x)} \\frac{\\partial V(x,t)}{\\partial x}\\right]\n",
    "= \\frac{1}{v_p Z_c(x)} \\frac{\\partial^2}{\\partial t^2} V(x,t)\n",
    "$$"
   ]
  },
  {
   "cell_type": "markdown",
   "metadata": {},
   "source": [
    "The characteristic impedance $Z_c(x) = \\sqrt{l(x)/c(x)}$ inside the unit cell ($-d/2< x < d/2$) is let to be\n",
    "$$\n",
    "Z_c (x) = \n",
    "$$\n",
    "while the phase velocity $v_p = 1/\\sqrt{l(x)c(x)}$ is a constant."
   ]
  },
  {
   "cell_type": "markdown",
   "metadata": {},
   "source": [
    "The time-independent ODE is obtained by separation of variables $V(x, t) = V(x) e^{i\\omega t}$\n",
    "$$\n",
    "\\frac{d}{dx} \\left[\\frac{1}{Z_c(x)} \\frac{dV(x)}{dx}\\right] = - \\left(\\frac{\\omega}{v_p}\\right)^2 \\frac{V(x)}{Z_c(x)}\n",
    "$$"
   ]
  },
  {
   "cell_type": "markdown",
   "metadata": {},
   "source": [
    "We solve the partial differential equation\n",
    "\n",
    "\n"
   ]
  },
  {
   "cell_type": "markdown",
   "metadata": {},
   "source": [
    "For numerical calculation of the mode structure, we impose the periodic boundary condition $Z_c(x) = Z_c(x+d)$ Fourier series expand $1/Z_c(x)$ as\n",
    "$$\n",
    "\\frac{1}{Z_c (x)} = \\sum_{m} \\eta_{m} e^{i2\\pi m x/d}.\n",
    "$$"
   ]
  },
  {
   "cell_type": "markdown",
   "metadata": {},
   "source": [
    "Here the Fourier coefficients $\\eta_m$ are written as\n",
    "$$\\eta_m = \\frac{1}{d} \\int_{-d/2}^{d/2} dx \\frac{e^{-i 2\\pi m x/d}}{Z_c(x)}$$"
   ]
  },
  {
   "cell_type": "code",
   "execution_count": 17,
   "metadata": {
    "collapsed": false
   },
   "outputs": [],
   "source": [
    "# Characteristic impedance inside the unit cell\n",
    "def Zc(x):\n",
    "    return Z1 * ((x > -l1/2) * (x < l1/2)) \\\n",
    "           + Z0 * ((x < -l1/2) + (x > l1/2))\n",
    "\n",
    "def eta(n_):\n",
    "    \"\"\"\n",
    "    The n-th discrete Fourier coefficient of 1/Zc(x).\n",
    "    Imaginary part vanishes due to the even parity of Zc(x)\n",
    "    with respect to the x = 0 plane.\n",
    "    \"\"\"\n",
    "    integrand = lambda x: (1 / Zc(x) * np.exp(-2j*np.pi*n_*x/d))\n",
    "    return quad(integrand, -d/2, d/2)[0] / d"
   ]
  },
  {
   "cell_type": "code",
   "execution_count": 18,
   "metadata": {
    "collapsed": false
   },
   "outputs": [],
   "source": [
    "N_xPts = 100\n",
    "xPts = np.linspace(-d/2, d/2, N_xPts)"
   ]
  },
  {
   "cell_type": "code",
   "execution_count": 19,
   "metadata": {
    "collapsed": false
   },
   "outputs": [
    {
     "name": "stderr",
     "output_type": "stream",
     "text": [
      "/opt/local/Library/Frameworks/Python.framework/Versions/3.4/lib/python3.4/site-packages/scipy/integrate/quadpack.py:380: ComplexWarning: Casting complex values to real discards the imaginary part\n",
      "  return _quadpack._qagse(func,a,b,args,full_output,epsabs,epsrel,limit)\n"
     ]
    }
   ],
   "source": [
    "# discrete Fourier space dimension\n",
    "L = 10\n",
    "n = np.arange(- 2 * L, 2 * L + 1)\n",
    "eta_array = np.zeros(4 * L + 1)\n",
    "for n_ in n:\n",
    "    eta_array[n_ + 2 * L] = eta(n_)"
   ]
  },
  {
   "cell_type": "code",
   "execution_count": 20,
   "metadata": {
    "collapsed": false
   },
   "outputs": [
    {
     "data": {
      "image/png": "[encoded data removed]",
      "text/plain": [
       "<matplotlib.figure.Figure at 0x115884b70>"
      ]
     },
     "metadata": {},
     "output_type": "display_data"
    }
   ],
   "source": [
    "fig, axes = plt.subplots(1, 2, figsize=(10, 4))\n",
    "\n",
    "axes[0].plot(xPts/d, Zc(xPts), color=fig_colors[0], lw=2)\n",
    "axes[0].set_xlabel('Position in unit cell $x/d$')\n",
    "axes[0].set_ylabel(r'Characteristic Impedance $Z_c$   [$\\Omega$]')\n",
    "axes[0].set_xlim([-1/2, 1/2]);\n",
    "\n",
    "axes[1].bar(n, eta_array, color=fig_colors[2]);\n",
    "axes[1].set_xlabel(r'$m$')\n",
    "axes[1].set_xlim([-2*L, 2*L]);\n",
    "axes[1].set_ylabel(r'Discrete Fourier Coefficient $\\eta_m$  [$\\Omega^{-1}$]')\n",
    "fig.tight_layout();"
   ]
  },
  {
   "cell_type": "markdown",
   "metadata": {},
   "source": [
    "To solve this differential equation, we introduce eigenfunctions of the Bloch form $V_k(x) = u_k(x) e^{ikx}$ which satisfies $u_k(x+d) = u_k(x)$ and thus can be Fourier series expanded as\n",
    "$$ u_k(x) = \\sum_{m} c_{k,m} e^{i2\\pi m x/d}$$"
   ]
  },
  {
   "cell_type": "markdown",
   "metadata": {},
   "source": [
    "$$\n",
    "\\frac{d}{dx} \\left[\\sum_{m} \\eta_{m} e^{i2\\pi m x/d} \\frac{d}{dx}\\sum_{m'} c_{k,m'} e^{i(k+2\\pi m' /d)x}\\right] = - \\left(\\frac{\\omega}{v_p}\\right)^2 \\sum_{m} \\eta_{m} e^{i2\\pi m x/d}\\sum_{m'} c_{k,m'} e^{i(k+2\\pi m' /d)x}\n",
    "$$"
   ]
  },
  {
   "cell_type": "markdown",
   "metadata": {},
   "source": [
    "$$\n",
    "\\frac{d}{dx} \\left[\\sum_{m,m'} \\eta_{m} i\\left(k+\\frac{2\\pi m'}{d}\\right)c_{k,m'} e^{i[k+2\\pi (m+m') /d]x}\\right] = - \\left(\\frac{\\omega}{v_p}\\right)^2 \\sum_{m,m'} \\eta_{m} c_{k,m'} e^{i[k+2\\pi (m+m') /d)]x}\n",
    "$$"
   ]
  },
  {
   "cell_type": "markdown",
   "metadata": {},
   "source": [
    "$$\n",
    "\\sum_{m,m'} \\eta_{m} i\\left(k+\\frac{2\\pi m'}{d}\\right)i\\left(k+\\frac{2\\pi (m+m')}{d}\\right) c_{k,m'} e^{i[k+2\\pi (m+m') /d]x} = - \\left(\\frac{\\omega}{v_p}\\right)^2 \\sum_{m,m'} \\eta_{m} c_{k,m'} e^{i[k+2\\pi (m+m') /d)]x}\n",
    "$$"
   ]
  },
  {
   "cell_type": "markdown",
   "metadata": {},
   "source": [
    "We introduce a new index $n$ to replace $m = n-m'$\n",
    "$$\n",
    "-\\sum_{m', n} \\eta_{n-m'} \\left(k+\\frac{2\\pi m'}{d}\\right)\\left(k+\\frac{2\\pi n}{d}\\right) c_{k,m'} e^{i(k+2\\pi n /d)x} = - \\left(\\frac{\\omega}{v_p}\\right)^2 \\sum_{m',n} \\eta_{n-m'} c_{k,m'} e^{i(k+ 2\\pi n /d)x}\n",
    "$$"
   ]
  },
  {
   "cell_type": "markdown",
   "metadata": {},
   "source": [
    "Applying the inverse Fourier transform $\\frac{1}{d}\\int_{-d/2}^{d/2} dx \\ e^{-i(k+2\\pi m/d)x}$,\n",
    "$$\n",
    "-\\sum_{m', n} \\eta_{n-m'} \\left(k+\\frac{2\\pi m'}{d}\\right)\\left(k+\\frac{2\\pi n}{d}\\right) c_{k,m'}\\left[ \\frac{1}{d}\\int_{-d/2}^{d/2}dx\\ e^{i2\\pi (n-m)x /d }\\right] = - \\left(\\frac{\\omega}{v_p}\\right)^2 \\sum_{m',n} \\eta_{n-m'} c_{k,m'}\\left[ \\frac{1}{d}\\int_{-d/2}^{d/2}dx\\ e^{i2\\pi (n-m)x /d }\\right]\n",
    "$$"
   ]
  },
  {
   "cell_type": "markdown",
   "metadata": {},
   "source": [
    "The delta function identity\n",
    "$$\n",
    "\\frac{1}{d}\\int_{-d/2}^{d/2} dx\\ e^{i2\\pi (n-m)x /d} = \\delta_{n,m}\n",
    "$$\n",
    "reduces the equation into a summation only in one index $m'$\n",
    "$$\n",
    "\\sum_{m'} \\eta_{m-m'} \\left(k + \\frac{2\\pi m}{d}\\right)\\left(k + \\frac{2\\pi m'}{d}\\right) c_{k, m'}\n",
    "=  \\left(\\frac{\\omega}{v_p}\\right)^2 \\sum_{m'} \\eta_{m-m'} c_{k,m'}\n",
    "$$"
   ]
  },
  {
   "cell_type": "markdown",
   "metadata": {},
   "source": [
    "By identifying the matrices $\\mathbf{A}$, $\\mathbf{B}$, and $\\mathbf{c}$ as\n",
    "\n",
    "$$[\\mathbf{A}]_{m, m'} = \\eta_{m-m'},\\quad\n",
    "[\\mathbf{B}]_{m, m'} = \\eta_{m-m'} \\left(k + \\frac{2\\pi m}{d}\\right) \\left(k + \\frac{2\\pi m'}{d}\\right),\\quad\n",
    "[\\mathbf{c}]_m' = c_{k, m'},$$\n",
    "\n",
    "This is a matrix equation $\\mathbf{B}\\mathbf{c} = (\\omega/v_p)^2 \\mathbf{A}\\mathbf{c}$ which can be viewed as an eigenequation\n",
    "$$(\\mathbf{A}^{-1}\\mathbf{B})\\mathbf{c} = \\left(\\frac{\\omega}{v_p}\\right)^2 \\mathbf{c}$$"
   ]
  },
  {
   "cell_type": "code",
   "execution_count": 21,
   "metadata": {
    "collapsed": false
   },
   "outputs": [],
   "source": [
    "A = np.zeros((2 * L + 1, 2 * L + 1))\n",
    "for i in range(2 * L + 1):\n",
    "    for j in range(2 * L + 1):\n",
    "        m, m_ = i - L, j - L   # index offset\n",
    "        A[i, j] = eta_array[m - m_ + 2 * L]\n",
    "\n",
    "def B(k):\n",
    "    temp = np.zeros((2 * L + 1, 2 * L + 1))\n",
    "    for i in range(2 * L + 1):\n",
    "        for j in range(2 * L + 1):\n",
    "            m, m_ = i - L, j - L   # index offset\n",
    "            temp[i, j] = (eta_array[m - m_ + 2 * L]\n",
    "                          * (k + 2 * np.pi * m / d)\n",
    "                          * (k + 2 * np.pi * m_ / d))\n",
    "    return temp\n",
    "\n",
    "def Op(k):\n",
    "    return np.dot(la.inv(A), B(k))"
   ]
  },
  {
   "cell_type": "code",
   "execution_count": 22,
   "metadata": {
    "collapsed": false
   },
   "outputs": [],
   "source": [
    "def solve_eigenequation(k):\n",
    "    eig_vals, eig_vecs = la.eig(Op(k))\n",
    "    # sorting eigenvalues and eigenvectors\n",
    "    idx = eig_vals.argsort()\n",
    "    eig_vals = eig_vals[idx]\n",
    "    eig_vecs = eig_vecs[:,idx]\n",
    "    \n",
    "    eig_freq = np.sqrt(eig_vals) * v_p / (2*np.pi)\n",
    "    return eig_freq, eig_vecs"
   ]
  },
  {
   "cell_type": "code",
   "execution_count": 23,
   "metadata": {
    "collapsed": false
   },
   "outputs": [],
   "source": [
    "def Bloch_wavefunc(x, c):\n",
    "    \"\"\"`1\n",
    "    Given the amplitudes [c],\n",
    "    Calculate the Bloch wavefunction\n",
    "\n",
    "        u_k (x) = sum_{n} c_{k, n} exp(i2\\pi n x/d)\n",
    "\n",
    "    and return its absolute value.\n",
    "    \"\"\"\n",
    "    V = np.zeros(len(x))\n",
    "    for n in range(2 * L + 1):\n",
    "        V = V + c[n] * np.exp(2j * np.pi * (n - L) * x / d)\n",
    "    return abs(V)"
   ]
  },
  {
   "cell_type": "code",
   "execution_count": 24,
   "metadata": {
    "collapsed": true
   },
   "outputs": [],
   "source": [
    "X, Y = np.meshgrid(kPts, xPts)\n",
    "\n",
    "N_modes = 2  # Number of modes to consider\n",
    "eig_funcs = []\n",
    "eig_freqs = []\n",
    "for n in range(N_modes):\n",
    "    eig_funcs.append(np.zeros((len(kPts), len(xPts))))\n",
    "    eig_freqs.append(np.zeros(len(kPts)))"
   ]
  },
  {
   "cell_type": "code",
   "execution_count": 25,
   "metadata": {
    "collapsed": false
   },
   "outputs": [],
   "source": [
    "for idx, k_ in enumerate(kPts):\n",
    "    eig_vals, eig_vecs = solve_eigenequation(k_)\n",
    "    for n in range(N_modes):\n",
    "        eig_funcs[n][:, idx] = Bloch_wavefunc(xPts, eig_vecs[:, n])\n",
    "        eig_freqs[n][idx] = eig_vals[n]"
   ]
  },
  {
   "cell_type": "code",
   "execution_count": 26,
   "metadata": {
    "collapsed": false
   },
   "outputs": [
    {
     "data": {
      "image/png": "[encoded data removed]",
      "text/plain": [
       "<matplotlib.figure.Figure at 0x1159ec828>"
      ]
     },
     "metadata": {},
     "output_type": "display_data"
    }
   ],
   "source": [
    "fig, axes = plt.subplots(2, 2, figsize=(11, 9))\n",
    "\n",
    "# Band structure\n",
    "for n in range(N_modes):\n",
    "    axes[0, 0].plot(kPts/(np.pi/d), eig_freqs[n]/1e9, label=r'$n=%d$' % n, lw=2)\n",
    "axes[0, 0].set_xlabel(r'Wavevector  $k/(\\pi/d)$')\n",
    "axes[0, 0].set_ylabel(r'Frequency $\\omega/2\\pi$   [GHz]')\n",
    "axes[0, 0].set_title('Band Structure')\n",
    "axes[0, 0].legend(loc=0)\n",
    "\n",
    "# Mode structure\n",
    "p0 = axes[1, 0].pcolor(X/(np.pi/d), Y/d, eig_funcs[0], cmap=cm.jet, vmin=0, vmax=1.5)\n",
    "p1 = axes[1, 1].pcolor(X/(np.pi/d), Y/d, eig_funcs[1], cmap=cm.jet, vmin=0, vmax=1.5)\n",
    "axes[1, 0].set_xlabel(r'Wavevector  $k/(\\pi/d)$'); axes[1, 1].set_xlabel(r'Wavevector  $k/(\\pi/d)$')\n",
    "axes[1, 0].set_ylabel(r'Position in unit cell  $x/d$')\n",
    "axes[1, 0].set_xlim([-1, 1]); axes[1, 1].set_xlim([-1, 1])\n",
    "axes[1, 0].set_ylim([-0.5, 0.5]); axes[1, 1].set_ylim([-0.5, 0.5])\n",
    "axes[1, 0].set_title(r'Mode structure ($n=0$ band)')\n",
    "axes[1, 1].set_title(r'Mode structure ($n=1$ band)');\n",
    "fig.tight_layout()\n",
    "\n",
    "fig.subplots_adjust(right=0.85)\n",
    "cbar_ax = fig.add_axes([0.9, 0.15, 0.03, 0.3])\n",
    "fig.colorbar(p1, cax=cbar_ax);"
   ]
  },
  {
   "cell_type": "markdown",
   "metadata": {},
   "source": [
    "## Version Information"
   ]
  },
  {
   "cell_type": "code",
   "execution_count": 27,
   "metadata": {
    "collapsed": false
   },
   "outputs": [
    {
     "data": {
      "application/json": {
       "Software versions": [
        {
         "module": "Python",
         "version": "3.4.5 64bit [GCC 4.2.1 Compatible Apple LLVM 7.0.2 (clang-700.1.81)]"
        },
        {
         "module": "IPython",
         "version": "5.0.0"
        },
        {
         "module": "OS",
         "version": "Darwin 15.6.0 x86_64 i386 64bit"
        },
        {
         "module": "sympy",
         "version": "1.0"
        },
        {
         "module": "numpy",
         "version": "1.11.1"
        },
        {
         "module": "scipy",
         "version": "0.18.0"
        },
        {
         "module": "matplotlib",
         "version": "1.5.2"
        }
       ]
      },
      "text/html": [
       "<table><tr><th>Software</th><th>Version</th></tr><tr><td>Python</td><td>3.4.5 64bit [GCC 4.2.1 Compatible Apple LLVM 7.0.2 (clang-700.1.81)]</td></tr><tr><td>IPython</td><td>5.0.0</td></tr><tr><td>OS</td><td>Darwin 15.6.0 x86_64 i386 64bit</td></tr><tr><td>sympy</td><td>1.0</td></tr><tr><td>numpy</td><td>1.11.1</td></tr><tr><td>scipy</td><td>0.18.0</td></tr><tr><td>matplotlib</td><td>1.5.2</td></tr><tr><td colspan='2'>Sun Aug 21 20:30:30 2016 PDT</td></tr></table>"
      ],
      "text/latex": [
       "\\begin{tabular}{|l|l|}\\hline\n",
       "{\\bf Software} & {\\bf Version} \\\\ \\hline\\hline\n",
       "Python & 3.4.5 64bit [GCC 4.2.1 Compatible Apple LLVM 7.0.2 (clang-700.1.81)] \\\\ \\hline\n",
       "IPython & 5.0.0 \\\\ \\hline\n",
       "OS & Darwin 15.6.0 x86\\_64 i386 64bit \\\\ \\hline\n",
       "sympy & 1.0 \\\\ \\hline\n",
       "numpy & 1.11.1 \\\\ \\hline\n",
       "scipy & 0.18.0 \\\\ \\hline\n",
       "matplotlib & 1.5.2 \\\\ \\hline\n",
       "\\hline \\multicolumn{2}{|l|}{Sun Aug 21 20:30:30 2016 PDT} \\\\ \\hline\n",
       "\\end{tabular}\n"
      ],
      "text/plain": [
       "Software versions\n",
       "Python 3.4.5 64bit [GCC 4.2.1 Compatible Apple LLVM 7.0.2 (clang-700.1.81)]\n",
       "IPython 5.0.0\n",
       "OS Darwin 15.6.0 x86_64 i386 64bit\n",
       "sympy 1.0\n",
       "numpy 1.11.1\n",
       "scipy 0.18.0\n",
       "matplotlib 1.5.2\n",
       "Sun Aug 21 20:30:30 2016 PDT"
      ]
     },
     "execution_count": 27,
     "metadata": {},
     "output_type": "execute_result"
    }
   ],
   "source": [
    "%reload_ext version_information\n",
    "\n",
    "%version_information sympy, numpy, scipy, matplotlib"
   ]
  }
 ],
 "metadata": {
  "kernelspec": {
   "display_name": "Python 3",
   "language": "python",
   "name": "python3"
  },
  "language_info": {
   "codemirror_mode": {
    "name": "ipython",
    "version": 3
   },
   "file_extension": ".py",
   "mimetype": "text/x-python",
   "name": "python",
   "nbconvert_exporter": "python",
   "pygments_lexer": "ipython3",
   "version": "3.4.5"
  }
 },
 "nbformat": 4,
 "nbformat_minor": 0
}
