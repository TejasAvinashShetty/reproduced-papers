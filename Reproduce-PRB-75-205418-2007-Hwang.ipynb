{
 "cells": [
  {
   "cell_type": "markdown",
   "metadata": {},
   "source": [
    "# Reproduce: Dielectric function, screening, and plasmons in two-dimensional graphene"
   ]
  },
  {
   "cell_type": "markdown",
   "metadata": {},
   "source": [
    "E. H. Hwang and S. Das Sarma, <i>Dielectric function, screening, and plasmons in two-dimensional graphene</i>, Phys. Rev. B <strong>75</strong>, 205418 (2007)."
   ]
  },
  {
   "cell_type": "markdown",
   "metadata": {},
   "source": [
    "Reproduced by <strong>Eunjong Kim</strong> (ekim7206@gmail.com)"
   ]
  },
  {
   "cell_type": "code",
   "execution_count": 1,
   "metadata": {
    "collapsed": true
   },
   "outputs": [],
   "source": [
    "from numpy import *\n",
    "from scipy.integrate import dblquad\n",
    "import matplotlib\n",
    "import matplotlib.pyplot as plt"
   ]
  },
  {
   "cell_type": "code",
   "execution_count": 2,
   "metadata": {
    "collapsed": false
   },
   "outputs": [],
   "source": [
    "%matplotlib inline\n",
    "\n",
    "# matplotlib setup\n",
    "matplotlib.rcParams['font.size'] = 18\n",
    "matplotlib.rcParams['text.usetex'] = True"
   ]
  },
  {
   "cell_type": "markdown",
   "metadata": {},
   "source": [
    "Unlike conventional 2D systems with quadratic dispersion, the graphene shows a linear energy-momentum relation \n",
    "$$\\varepsilon_{\\mathbf{k}s} = s\\hbar v_\\mathrm{F} |\\mathbf{k}| $$\n",
    "near the $K, K'$ points of the Brillouin zone. Here, $v_\\mathrm{F}$ is the 2D Fermi velocity and $s=\\pm1$ is the band index. Based on this linear relation, the dynamical screening function (dielectric function) can be obtained using the random-phase approximation (RPA):\n",
    "$$\\epsilon(\\mathbf{q},\\omega) = 1 + v_\\mathrm{C}(\\mathbf{q})\\Pi(\\mathbf{q},\\omega)$$\n",
    "where $v_\\mathrm{C}(\\mathbf{q}) = 2\\pi e^2/\\kappa q$ is the 2D Coulomb potential in the momentum space."
   ]
  },
  {
   "cell_type": "markdown",
   "metadata": {},
   "source": [
    "$\\Pi(\\mathbf{q},\\omega)$ is the 2D polarizability given by\n",
    "$$\\Pi(\\mathbf{q},\\omega) = -g_s g_v\\sum_{s,s' = \\pm 1} \\int \\frac{d^2 k}{(2\\pi)^2} \\frac{f_{\\mathbf{k},s} - f_{\\mathbf{k+q},s'}}{\\hbar \\omega + \\varepsilon_{\\mathbf{k},s} - \\varepsilon_{\\mathbf{k+q},s'}+i\\eta} F_{s, s'}(\\mathbf{k},\\mathbf{k+q}),$$\n",
    "where $g_s=g_v=2$ denote the spin and valley degeneracies and $\\eta\\rightarrow 0^+$ is an infinitesimal positive number. $F_{s,s'}(\\mathbf{k},\\mathbf{k}')= (1 + ss'\\cos{\\theta_{\\mathbf{k},\\mathbf{k}'}})/2$ is the overlap between wavefunctions with $\\theta_{\\mathbf{k},\\mathbf{k}'}$ being the angle between vectors $\\mathbf{k}$ and $\\mathbf{k}'$. Here, $f_{\\mathbf{k}, s}$ is the Fermi distribution function."
   ]
  },
  {
   "cell_type": "markdown",
   "metadata": {},
   "source": [
    "The 2D polarizability can be decomposed into two parts, $\\Pi = \\Pi^{+} + \\Pi^{-}$, with"
   ]
  },
  {
   "cell_type": "markdown",
   "metadata": {},
   "source": [
    "$$\\Pi^{+}(\\mathbf{q}, \\omega) = -\\frac{g_s g_v}{2} \\int \\frac{d^{2}k}{(2\\pi)^2}\\left[\\frac{(f_{\\mathbf{k},+} - f_{\\mathbf{k+q},+})(1 + \\cos{\\theta_{\\mathbf{k},\\mathbf{k+q}}})}{\\hbar\\omega + \\varepsilon_{\\mathbf{k},+}-\\varepsilon_{\\mathbf{k+q},+} + i\\eta}\n",
    "+\\frac{f_{\\mathbf{k},+} (1 - \\cos{\\theta_{\\mathbf{k},\\mathbf{k+q}}})}{\\hbar\\omega + \\varepsilon_{\\mathbf{k},+}-\\varepsilon_{\\mathbf{k+q},-} + i\\eta} \n",
    "-\\frac{f_{\\mathbf{k+q},+}(1 - \\cos{\\theta_{\\mathbf{k},\\mathbf{k+q}}})}{\\hbar\\omega + \\varepsilon_{\\mathbf{k},-}-\\varepsilon_{\\mathbf{k+q},+} + i\\eta}\\right],$$"
   ]
  },
  {
   "cell_type": "markdown",
   "metadata": {},
   "source": [
    "$$\\Pi^{-}(\\mathbf{q}, \\omega) = -\\frac{g_s g_v}{2} \\int \\frac{d^{2}k}{(2\\pi)^2}\\left[\\frac{(f_{\\mathbf{k},-} - f_{\\mathbf{k+q},-})(1 + \\cos{\\theta_{\\mathbf{k},\\mathbf{k+q}}})}{\\hbar\\omega + \\varepsilon_{\\mathbf{k},-}-\\varepsilon_{\\mathbf{k+q},-} + i\\eta}\n",
    "+\\frac{f_{\\mathbf{k},-} (1 - \\cos{\\theta_{\\mathbf{k},\\mathbf{k+q}}})}{\\hbar\\omega + \\varepsilon_{\\mathbf{k},-}-\\varepsilon_{\\mathbf{k+q},+} + i\\eta} \n",
    "-\\frac{f_{\\mathbf{k+q},-}(1 - \\cos{\\theta_{\\mathbf{k},\\mathbf{k+q}}})}{\\hbar\\omega + \\varepsilon_{\\mathbf{k},+}-\\varepsilon_{\\mathbf{k+q},-} + i\\eta}\\right].$$"
   ]
  },
  {
   "cell_type": "code",
   "execution_count": 3,
   "metadata": {
    "collapsed": true
   },
   "outputs": [],
   "source": [
    "def energy(k, phi, q, s):\n",
    "    '''\n",
    "    Linear energy dispersion near the K point of the momentum space\n",
    "    '''\n",
    "    return (s * sqrt(k ** 2 + q ** 2 + 2 * k * q * cos(phi)))"
   ]
  },
  {
   "cell_type": "markdown",
   "metadata": {},
   "source": [
    "$$\\cos{\\theta_{\\mathbf{k},\\mathbf{k+q}}} = \\frac{\\mathbf{k}\\cdot\\mathbf{k+q}}{k|\\mathbf{k+q}|} = \\frac{k + q\\cos{\\phi}}{\\sqrt{k^2 + q^2 + 2kq\\cos{\\phi}}}$$"
   ]
  },
  {
   "cell_type": "code",
   "execution_count": 4,
   "metadata": {
    "collapsed": true
   },
   "outputs": [],
   "source": [
    "def cosine(k, phi, q):\n",
    "    '''\n",
    "    cosine between the two vectors k and k + q as a function of phi,\n",
    "    which is the angle bewteen k and q.\n",
    "    '''\n",
    "    return ((k + q * cos(phi)) / sqrt(k**2 + q**2 + 2 * k * q * cos(phi)))"
   ]
  },
  {
   "cell_type": "markdown",
   "metadata": {},
   "source": [
    "In the zero-temperature limit $T\\rightarrow 0$, the Fermi distribution function $f_{\\mathbf{k} s}$ reduces to a simple step function or unity depending on the band index $s=\\pm 1$:\n",
    "$$f_{\\mathbf{k} s} = \\left[e^{\\beta(\\varepsilon_{\\mathbf{k}s}-\\mu)} + 1\\right]^{-1}\\quad \\xrightarrow{T\\rightarrow 0} \\quad \\Theta(\\varepsilon_\\mathrm{F} - \\varepsilon_{\\mathbf{k}s}) = \n",
    "\\begin{cases} \\Theta(k_\\mathrm{F} - k) & \\textrm{for }s= +1 \\\\\n",
    "              1 & \\textrm{for }s=-1 \n",
    "\\end{cases}$$\n",
    "Here, the Fermi energy is defined as $\\varepsilon_\\mathrm{F} = \\hbar v_\\mathrm{F}k_\\mathrm{F}$, with $k_\\mathrm{F}$ being the Fermi wavevector."
   ]
  },
  {
   "cell_type": "code",
   "execution_count": 5,
   "metadata": {
    "collapsed": false
   },
   "outputs": [],
   "source": [
    "N = 20\n",
    "\n",
    "# range of q/kF values: 0 to 5\n",
    "q = linspace(1e-2, 5, N)"
   ]
  },
  {
   "cell_type": "code",
   "execution_count": 6,
   "metadata": {
    "collapsed": true
   },
   "outputs": [],
   "source": [
    "# empty arrays to store polarizability values\n",
    "polarizability_p, polarizability_m = zeros(len(q)), zeros(len(q))"
   ]
  },
  {
   "cell_type": "code",
   "execution_count": 7,
   "metadata": {
    "collapsed": true
   },
   "outputs": [],
   "source": [
    "eta = 1e-4"
   ]
  },
  {
   "cell_type": "markdown",
   "metadata": {},
   "source": [
    "We express the plus and the minus polarizabilities in simpler forms and perform the numerical integration:"
   ]
  },
  {
   "cell_type": "markdown",
   "metadata": {},
   "source": [
    "$$\\Pi^{+}(\\mathbf{q}, \\omega) \\xrightarrow{T\\rightarrow0} -\\frac{g_s g_v}{2} \\int \\frac{d^{2}k}{(2\\pi)^2}\\left\\{\\frac{[\\Theta(k_\\mathrm{F} - k) - \\Theta(k_\\mathrm{F} - |\\mathbf{k+q}|)](1 + \\cos{\\theta_{\\mathbf{k},\\mathbf{k+q}}})}{\\hbar\\omega + \\varepsilon_{\\mathbf{k},+}-\\varepsilon_{\\mathbf{k+q},+} + i\\eta}\n",
    "+\\left[\\frac{\\Theta(k_\\mathrm{F} - k)}{\\hbar\\omega + \\varepsilon_{\\mathbf{k},+}-\\varepsilon_{\\mathbf{k+q},-} + i\\eta} \n",
    "-\\frac{\\Theta(k_\\mathrm{F} - |\\mathbf{k+q}|)}{\\hbar\\omega + \\varepsilon_{\\mathbf{k},-}-\\varepsilon_{\\mathbf{k+q},+} + i\\eta} \\right](1 - \\cos{\\theta_{\\mathbf{k},\\mathbf{k+q}}})\\right\\} $$"
   ]
  },
  {
   "cell_type": "markdown",
   "metadata": {},
   "source": [
    "$$= -\\frac{g_s g_v}{2}\\left[ \\int_{k<k_\\mathrm{F}} \\frac{d^{2}k}{(2\\pi)^2}\\left(\\frac{1 + \\cos{\\theta_{\\mathbf{k},\\mathbf{k+q}}}}{\\hbar\\omega + \\varepsilon_{\\mathbf{k},+}-\\varepsilon_{\\mathbf{k+q},+} + i\\eta}\n",
    "+\\frac{1 - \\cos{\\theta_{\\mathbf{k},\\mathbf{k+q}}}}{\\hbar\\omega + \\varepsilon_{\\mathbf{k},+}-\\varepsilon_{\\mathbf{k+q},-} + i\\eta} \n",
    "\\right)\n",
    "-\\int_{|\\mathbf{k+q}|<k_\\mathrm{F}} \\frac{d^{2}k}{(2\\pi)^2}\n",
    "\\left(\\frac{1 + \\cos{\\theta_{\\mathbf{k},\\mathbf{k+q}}}}{\\hbar\\omega + \\varepsilon_{\\mathbf{k},+}-\\varepsilon_{\\mathbf{k+q},+} + i\\eta} + \n",
    "\\frac{1 - \\cos{\\theta_{\\mathbf{k},\\mathbf{k+q}}}}{\\hbar\\omega + \\varepsilon_{\\mathbf{k},-}-\\varepsilon_{\\mathbf{k+q},+} + i\\eta} \\right)\n",
    "\\right]$$"
   ]
  },
  {
   "cell_type": "markdown",
   "metadata": {},
   "source": [
    "$$= -\\frac{g_s g_v}{2} \\int_{k<k_\\mathrm{F}} \\frac{d^{2}k}{(2\\pi)^2}\\left[\\left(\\frac{1 + \\cos{\\theta_{\\mathbf{k},\\mathbf{k+q}}}}{\\hbar\\omega + \\varepsilon_{\\mathbf{k},+}-\\varepsilon_{\\mathbf{k+q},+} + i\\eta}\n",
    "+\\frac{1 - \\cos{\\theta_{\\mathbf{k},\\mathbf{k+q}}}}{\\hbar\\omega + \\varepsilon_{\\mathbf{k},+}-\\varepsilon_{\\mathbf{k+q},-} + i\\eta} \n",
    "\\right)\n",
    "-\n",
    "\\left(\\frac{1 + \\cos{\\theta_{\\mathbf{k-q},\\mathbf{k}}}}{\\hbar\\omega + \\varepsilon_{\\mathbf{k-q},+}-\\varepsilon_{\\mathbf{k},+} + i\\eta} + \n",
    "\\frac{1 - \\cos{\\theta_{\\mathbf{k-q},\\mathbf{k}}}}{\\hbar\\omega + \\varepsilon_{\\mathbf{k-q},-}-\\varepsilon_{\\mathbf{k},+} + i\\eta} \\right)\n",
    "\\right]$$"
   ]
  },
  {
   "cell_type": "markdown",
   "metadata": {},
   "source": [
    "$$= -\\frac{g_s g_v}{2} \\int_{k<k_\\mathrm{F}} \\frac{d^{2}k}{(2\\pi)^2}\\left[\\left(\\frac{1 + \\cos{\\theta_{\\mathbf{k},\\mathbf{k+q}}}}{\\hbar\\omega + \\varepsilon_{\\mathbf{k},+}-\\varepsilon_{\\mathbf{k+q},+} + i\\eta}\n",
    "+\\frac{1 - \\cos{\\theta_{\\mathbf{k},\\mathbf{k+q}}}}{\\hbar\\omega + \\varepsilon_{\\mathbf{k},+}-\\varepsilon_{\\mathbf{k+q},-} + i\\eta} \n",
    "\\right)\n",
    "-\n",
    "\\left(\\frac{1 + \\cos{\\theta_{\\mathbf{k-q},\\mathbf{k}}}}{\\hbar\\omega + \\varepsilon_{\\mathbf{k-q},+}-\\varepsilon_{\\mathbf{k},+} + i\\eta} + \n",
    "\\frac{1 - \\cos{\\theta_{\\mathbf{k-q},\\mathbf{k}}}}{\\hbar\\omega + \\varepsilon_{\\mathbf{k-q},-}-\\varepsilon_{\\mathbf{k},+} + i\\eta} \\right)\n",
    "\\right]$$"
   ]
  },
  {
   "cell_type": "markdown",
   "metadata": {},
   "source": [
    "$$\\therefore-\\frac{\\Pi^{+}(\\mathbf{q},\\omega)}{D(\\varepsilon_\\mathrm{F})} = \\int_{\\tilde{k}<1} \\frac{d^{2}\\tilde{k}}{4\\pi}\\left[\\left(\\frac{1 + \\cos{\\theta_{\\mathbf{k},\\mathbf{k+q}}}}{\\tilde{\\omega} + \\tilde{\\varepsilon}_{\\mathbf{k},+}-\\tilde{\\varepsilon}_{\\mathbf{k+q},+} + i\\tilde{\\eta}}\n",
    "+\\frac{1 - \\cos{\\theta_{\\mathbf{k},\\mathbf{k+q}}}}{\\tilde{\\omega} + \\tilde{\\varepsilon}_{\\mathbf{k},+}-\\tilde{\\varepsilon}_{\\mathbf{k+q},-} + i\\tilde{\\eta}}\n",
    "\\right)\n",
    "-\n",
    "\\left(\\frac{1 + \\cos{\\theta_{\\mathbf{k-q},\\mathbf{k}}}}{\\tilde{\\omega} + \\tilde{\\varepsilon}_{\\mathbf{k-q},+}-\\tilde{\\varepsilon}_{\\mathbf{k},+} + i\\tilde{\\eta}} + \n",
    "\\frac{1 - \\cos{\\theta_{\\mathbf{k-q},\\mathbf{k}}}}{\\tilde{\\omega} + \\tilde{\\varepsilon}_{\\mathbf{k-q},-}-\\tilde{\\varepsilon}_{\\mathbf{k},+} + i\\tilde{\\eta}} \\right)\n",
    "\\right] $$"
   ]
  },
  {
   "cell_type": "code",
   "execution_count": 8,
   "metadata": {
    "collapsed": true
   },
   "outputs": [],
   "source": [
    "def polarizability_p_integrand(k, phi, q, omega):\n",
    "    '''\n",
    "    For the evaluation of this dblquad, k-integration followed\n",
    "    by phi-integration is more efficient.\n",
    "    '''\n",
    "    e11 = (1 + cosine(k, phi, q)) / (omega + energy(k, phi, 0, +1) - energy(k, phi, q, +1) + 1j * eta)\n",
    "    e12 = (1 - cosine(k, phi, q)) / (omega + energy(k, phi, 0, +1) - energy(k, phi, q, -1) + 1j * eta)\n",
    "    e1 = e11 + e12\n",
    "\n",
    "    e21 = (1 + cosine(k, phi, -q)) / (omega + energy(k, phi, -q, +1) - energy(k, phi, 0, +1) + 1j * eta)\n",
    "    e22 = (1 - cosine(k, phi, -q)) / (omega + energy(k, phi, -q, -1) - energy(k, phi, 0, +1) + 1j * eta)\n",
    "    e2 = -(e21 + e22)\n",
    "    return - k * real(e1 + e2) / (4 * pi)"
   ]
  },
  {
   "cell_type": "code",
   "execution_count": 9,
   "metadata": {
    "collapsed": false
   },
   "outputs": [
    {
     "name": "stderr",
     "output_type": "stream",
     "text": [
      "/opt/local/Library/Frameworks/Python.framework/Versions/3.4/lib/python3.4/site-packages/scipy/integrate/quadpack.py:352: IntegrationWarning: The maximum number of subdivisions (50) has been achieved.\n",
      "  If increasing the limit yields no improvement it is advised to analyze \n",
      "  the integrand in order to determine the difficulties.  If the position of a \n",
      "  local difficulty can be determined (singularity, discontinuity) one will \n",
      "  probably gain from splitting up the interval and calling the integrator \n",
      "  on the subranges.  Perhaps a special-purpose integrator should be used.\n",
      "  warnings.warn(msg, IntegrationWarning)\n"
     ]
    }
   ],
   "source": [
    "omega = 0\n",
    "\n",
    "for idx, q_ in enumerate(q):\n",
    "    polarizability_p[idx] = dblquad(polarizability_p_integrand, 0, 2*pi,\n",
    "                                    lambda k:0, lambda k: 1,\n",
    "                                    args=(q_,omega))[0]"
   ]
  },
  {
   "cell_type": "markdown",
   "metadata": {},
   "source": [
    "$$\\Pi^{-}(\\mathbf{q}, \\omega) \\xrightarrow{T\\rightarrow0} -\\frac{g_s g_v}{2} \\int \\frac{d^{2}k}{(2\\pi)^2}\\left[\n",
    "\\frac{ 1}{\\hbar\\omega + \\varepsilon_{\\mathbf{k},-}-\\varepsilon_{\\mathbf{k+q},+} + i\\eta} \n",
    "-\\frac{1}{\\hbar\\omega + \\varepsilon_{\\mathbf{k},+}-\\varepsilon_{\\mathbf{k+q},-} + i\\eta}\\right](1 - \\cos{\\theta_{\\mathbf{k},\\mathbf{k+q}}}) $$"
   ]
  },
  {
   "cell_type": "markdown",
   "metadata": {},
   "source": [
    "$$\\therefore- \\frac{\\Pi^{-}(\\mathbf{q}, \\omega)}{D(\\varepsilon_\\mathrm{F})}= \\int \\frac{ d^{2}\\tilde{k}}{4\\pi}\\left[\n",
    "\\frac{1}{\\tilde{\\omega} + \\tilde{\\varepsilon}_{\\mathbf{k},-}-\\tilde{\\varepsilon}_{\\mathbf{k+q},+} + i\\tilde{\\eta}} \n",
    "-\\frac{1}{\\tilde{\\omega} + \\tilde{\\varepsilon}_{\\mathbf{k},+}-\\tilde{\\varepsilon}_{\\mathbf{k+q},-} + i\\tilde{\\eta}}\\right](1 - \\cos{\\theta_{\\mathbf{k},\\mathbf{k+q}}}) $$"
   ]
  },
  {
   "cell_type": "markdown",
   "metadata": {},
   "source": [
    "where $\\tilde{\\omega} = \\hbar\\omega/\\varepsilon_\\mathrm{F}$, $\\tilde{\\varepsilon}_{\\mathbf{k},s} = \\varepsilon_{\\mathbf{k},s}/\\varepsilon_\\mathrm{F}$, and $\\tilde{k} = k/k_\\mathrm{F}$. Here $$D(\\varepsilon_\\mathrm{F}) = \\frac{g_s g_v}{2\\pi} \\frac{k_\\mathrm{F}}{\\hbar v_\\mathrm{F}}$$\n",
    "is the density of states at the Fermi energy. Note that the static polarizability at $q=0$ satisfies $$\\Pi(0, 0) = \\Pi^{+}(0,0) + \\Pi^{-} (0, 0) = -D(\\varepsilon_\\mathrm{F}).$$"
   ]
  },
  {
   "cell_type": "code",
   "execution_count": 10,
   "metadata": {
    "collapsed": false
   },
   "outputs": [],
   "source": [
    "def polarizability_m_integrand(phi, k, q, omega):\n",
    "    '''\n",
    "    For the evaluation of this dblquad, phi-integration followed by\n",
    "    k-integration is much more efficient.\n",
    "    '''\n",
    "    e1 = + 1 / (omega + energy(k, phi, 0, -1) - energy(k, phi, q, +1) + 1j * eta)\n",
    "    e2 = - 1 / (omega + energy(k, phi, 0, +1) - energy(k, phi, q, -1) + 1j * eta)\n",
    "    e = real(e1 + e2) * (1 - cosine(k, phi, q))\n",
    "    return - k * e / (4 * pi)"
   ]
  },
  {
   "cell_type": "code",
   "execution_count": 11,
   "metadata": {
    "collapsed": false
   },
   "outputs": [
    {
     "name": "stderr",
     "output_type": "stream",
     "text": [
      "/opt/local/Library/Frameworks/Python.framework/Versions/3.4/lib/python3.4/site-packages/scipy/integrate/quadpack.py:352: IntegrationWarning: The occurrence of roundoff error is detected, which prevents \n",
      "  the requested tolerance from being achieved.  The error may be \n",
      "  underestimated.\n",
      "  warnings.warn(msg, IntegrationWarning)\n"
     ]
    }
   ],
   "source": [
    "# cutoff wavevector for numerical integration\n",
    "k_c = 5e1\n",
    "\n",
    "omega = 0\n",
    "\n",
    "for idx, q_ in enumerate(q):\n",
    "    polarizability_m[idx] = dblquad(polarizability_m_integrand, 0, k_c,\n",
    "                                    lambda phi: 0, lambda phi: 2 * pi,\n",
    "                                    args=(q_, omega))[0]"
   ]
  },
  {
   "cell_type": "code",
   "execution_count": 12,
   "metadata": {
    "collapsed": false
   },
   "outputs": [
    {
     "data": {
      "image/png": "[encoded data removed]",
      "text/plain": [
       "<matplotlib.figure.Figure at 0x1100449b0>"
      ]
     },
     "metadata": {},
     "output_type": "display_data"
    }
   ],
   "source": [
    "fig, ax = plt.subplots(1,1, figsize=(6,6))\n",
    "\n",
    "ax.plot(q, polarizability_p, label=r'$\\Pi^{+}$', lw=2)\n",
    "ax.plot(q, polarizability_m, label=r'$\\Pi^{-}$', lw=2)\n",
    "ax.plot(q, polarizability_p + polarizability_m, label=r'$\\Pi_\\mathrm{tot}$', lw=2)\n",
    "\n",
    "ax.set_xlabel(r'$q/k_\\mathrm{F}$')\n",
    "ax.set_ylabel(r'$- \\Pi(q,\\omega=0)/D(\\varepsilon_\\mathrm{F})$')\n",
    "fig.text(0.18, 0.93, r'Static polarizability for 2D graphene')\n",
    "ax.set_xlim([0, 5]); ax.set_ylim([0, 2])\n",
    "ax.legend(loc=0);"
   ]
  },
  {
   "cell_type": "markdown",
   "metadata": {},
   "source": [
    "This is the static $(\\omega=0)$ polarizability for 2D graphene and Figure 2 of [Phys. Rev. B <strong>75</strong>, 205418 (2007)] has been reproduced."
   ]
  },
  {
   "cell_type": "code",
   "execution_count": 13,
   "metadata": {
    "collapsed": false
   },
   "outputs": [
    {
     "data": {
      "application/json": {
       "Software versions": [
        {
         "module": "Python",
         "version": "3.4.4 64bit [GCC 4.2.1 Compatible Apple LLVM 7.0.2 (clang-700.1.81)]"
        },
        {
         "module": "IPython",
         "version": "4.0.1"
        },
        {
         "module": "OS",
         "version": "Darwin 15.2.0 x86_64 i386 64bit"
        },
        {
         "module": "numpy",
         "version": "1.10.4"
        },
        {
         "module": "scipy",
         "version": "0.16.1"
        },
        {
         "module": "matplotlib",
         "version": "1.5.0"
        }
       ]
      },
      "text/html": [
       "<table><tr><th>Software</th><th>Version</th></tr><tr><td>Python</td><td>3.4.4 64bit [GCC 4.2.1 Compatible Apple LLVM 7.0.2 (clang-700.1.81)]</td></tr><tr><td>IPython</td><td>4.0.1</td></tr><tr><td>OS</td><td>Darwin 15.2.0 x86_64 i386 64bit</td></tr><tr><td>numpy</td><td>1.10.4</td></tr><tr><td>scipy</td><td>0.16.1</td></tr><tr><td>matplotlib</td><td>1.5.0</td></tr><tr><td colspan='2'>Tue Jan 12 01:06:13 2016 KST</td></tr></table>"
      ],
      "text/latex": [
       "\\begin{tabular}{|l|l|}\\hline\n",
       "{\\bf Software} & {\\bf Version} \\\\ \\hline\\hline\n",
       "Python & 3.4.4 64bit [GCC 4.2.1 Compatible Apple LLVM 7.0.2 (clang-700.1.81)] \\\\ \\hline\n",
       "IPython & 4.0.1 \\\\ \\hline\n",
       "OS & Darwin 15.2.0 x86\\_64 i386 64bit \\\\ \\hline\n",
       "numpy & 1.10.4 \\\\ \\hline\n",
       "scipy & 0.16.1 \\\\ \\hline\n",
       "matplotlib & 1.5.0 \\\\ \\hline\n",
       "\\hline \\multicolumn{2}{|l|}{Tue Jan 12 01:06:13 2016 KST} \\\\ \\hline\n",
       "\\end{tabular}\n"
      ],
      "text/plain": [
       "Software versions\n",
       "Python 3.4.4 64bit [GCC 4.2.1 Compatible Apple LLVM 7.0.2 (clang-700.1.81)]\n",
       "IPython 4.0.1\n",
       "OS Darwin 15.2.0 x86_64 i386 64bit\n",
       "numpy 1.10.4\n",
       "scipy 0.16.1\n",
       "matplotlib 1.5.0\n",
       "Tue Jan 12 01:06:13 2016 KST"
      ]
     },
     "execution_count": 13,
     "metadata": {},
     "output_type": "execute_result"
    }
   ],
   "source": [
    "%reload_ext version_information\n",
    "\n",
    "%version_information numpy, scipy, matplotlib"
   ]
  }
 ],
 "metadata": {
  "kernelspec": {
   "display_name": "Python 3",
   "language": "python",
   "name": "python3"
  },
  "language_info": {
   "codemirror_mode": {
    "name": "ipython",
    "version": 3
   },
   "file_extension": ".py",
   "mimetype": "text/x-python",
   "name": "python",
   "nbconvert_exporter": "python",
   "pygments_lexer": "ipython3",
   "version": "3.4.4"
  }
 },
 "nbformat": 4,
 "nbformat_minor": 0
}
