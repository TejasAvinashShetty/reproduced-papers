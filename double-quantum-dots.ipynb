{
 "metadata": {
  "name": "",
  "signature": "sha256:b5054892a8d37cc75dd082fc8e3abb7a22ca349e9292d1e5f4f1f3ab6966efce"
 },
 "nbformat": 3,
 "nbformat_minor": 0,
 "worksheets": [
  {
   "cells": [
    {
     "cell_type": "heading",
     "level": 1,
     "metadata": {},
     "source": [
      "Electron Transport through Double Quantum Dots"
     ]
    },
    {
     "cell_type": "markdown",
     "metadata": {},
     "source": [
      "W. G. van der Wiel, S. De Franceschi, J. M. Elzerman, T. Fujisawa, S. Tarucha, and L. P. Kouwenhove, <i>Electron transport through double quantum dots</i>, <a href=\"http://journals.aps.org/rmp/abstract/10.1103/RevModPhys.75.1\">Rev. Mod. Phys. <b>75</b>, 1 (2003).</a>"
     ]
    },
    {
     "cell_type": "markdown",
     "metadata": {},
     "source": [
      "Reproduced by <b>Eunjong Kim</b> (<a href=\"mailto:ekim7206@gmail.com\">ekim7206@gmail.com</a>)"
     ]
    },
    {
     "cell_type": "markdown",
     "metadata": {},
     "source": [
      "Status: Work in progress"
     ]
    },
    {
     "cell_type": "markdown",
     "metadata": {},
     "source": [
      "We derive the formulae and results of the excellent review paper on double quantum dots, in the language of SymPy. Most of the text in the paper is used without paraphrasing."
     ]
    },
    {
     "cell_type": "code",
     "collapsed": false,
     "input": [
      "from sympy import *\n",
      "init_printing()"
     ],
     "language": "python",
     "metadata": {},
     "outputs": [],
     "prompt_number": 1
    },
    {
     "cell_type": "code",
     "collapsed": false,
     "input": [
      "import sys\n",
      "sys.path.append('/Users/eunjongkim/Dropbox/eunjong-kim/sympy-quantum-notebooks')\n",
      "from sympy_quantum_extra import *"
     ],
     "language": "python",
     "metadata": {},
     "outputs": [],
     "prompt_number": 2
    },
    {
     "cell_type": "heading",
     "level": 2,
     "metadata": {},
     "source": [
      "Linear Transport Regime"
     ]
    },
    {
     "cell_type": "heading",
     "level": 3,
     "metadata": {},
     "source": [
      "Classical Theory"
     ]
    },
    {
     "cell_type": "code",
     "collapsed": false,
     "input": [
      "CL, CR, Cm, Cg1, Cg2 = symbols(\"C_L, C_R, C_m, C_g1, C_g2\")\n",
      "VL, VR, Vg1, Vg2, V1, V2 = symbols(\"V_L, V_R, V_g1, V_g2, V_1, V_2\", real=True)\n",
      "Q1, Q2 = symbols(\"Q_1, Q_2\")\n",
      "N0, N1, N2 = symbols(\"N_0, N_1, N_2\", int=True)\n",
      "e = symbols(\"|e|\")"
     ],
     "language": "python",
     "metadata": {},
     "outputs": [],
     "prompt_number": 3
    },
    {
     "cell_type": "code",
     "collapsed": false,
     "input": [
      "Eq(Q1, CL * (V1-VL) + Cg1 * (V1-Vg1) + Cm * (V1-V2))"
     ],
     "language": "python",
     "metadata": {},
     "outputs": [
      {
       "latex": [
        "$$Q_{1} = C_{L} \\left(V_{1} - V_{L}\\right) + C_{g1} \\left(V_{1} - V_{g1}\\right) + C_{m} \\left(V_{1} - V_{2}\\right)$$"
       ],
       "metadata": {},
       "output_type": "pyout",
       "png": "[encoded data removed]",
       "prompt_number": 4,
       "text": [
        "Q\u2081 = C_L\u22c5(V\u2081 - V_L) + C_g1\u22c5(V\u2081 - V_g1) + C_m\u22c5(V\u2081 - V\u2082)"
       ]
      }
     ],
     "prompt_number": 4
    },
    {
     "cell_type": "code",
     "collapsed": false,
     "input": [
      "Eq(Q2, CR * (V2-VR) + Cg2 * (V2-Vg2) + Cm * (V2-V1))"
     ],
     "language": "python",
     "metadata": {},
     "outputs": [
      {
       "latex": [
        "$$Q_{2} = C_{R} \\left(V_{2} - V_{R}\\right) + C_{g2} \\left(V_{2} - V_{g2}\\right) + C_{m} \\left(- V_{1} + V_{2}\\right)$$"
       ],
       "metadata": {},
       "output_type": "pyout",
       "png": "[encoded data removed]",
       "prompt_number": 5,
       "text": [
        "Q\u2082 = C_R\u22c5(V\u2082 - V_R) + C_g2\u22c5(V\u2082 - V_g2) + C_m\u22c5(-V\u2081 + V\u2082)"
       ]
      }
     ],
     "prompt_number": 5
    },
    {
     "cell_type": "code",
     "collapsed": false,
     "input": [
      "C1, C2 = symbols(\"C_1, C_2\")\n",
      "\n",
      "Qvec = Matrix([[Q1 + CL*VL + Cg1*Vg1], [Q2 + CR*VR + Cg2*Vg2]])\n",
      "Cmat = Matrix([[C1, -Cm], [-Cm, C2]])\n",
      "Vvec = Matrix([[V1], [V2]])\n",
      "\n",
      "L1 = Qvec\n",
      "R1 = Cmat * Vvec\n",
      "\n",
      "Eq(L1, R1)"
     ],
     "language": "python",
     "metadata": {},
     "outputs": [
      {
       "latex": [
        "$$\\left[\\begin{matrix}C_{L} V_{L} + C_{g1} V_{g1} + Q_{1}\\\\C_{R} V_{R} + C_{g2} V_{g2} + Q_{2}\\end{matrix}\\right] = \\left[\\begin{matrix}C_{1} V_{1} - C_{m} V_{2}\\\\C_{2} V_{2} - C_{m} V_{1}\\end{matrix}\\right]$$"
       ],
       "metadata": {},
       "output_type": "pyout",
       "png": "[encoded data removed]",
       "prompt_number": 6,
       "text": [
        "\u23a1C_L\u22c5V_L + C_g1\u22c5V_g1 + Q\u2081\u23a4 = \u23a1C\u2081\u22c5V\u2081 - C_m\u22c5V\u2082\u23a4\n",
        "\u23a2                        \u23a5   \u23a2              \u23a5\n",
        "\u23a3C_R\u22c5V_R + C_g2\u22c5V_g2 + Q\u2082\u23a6   \u23a3C\u2082\u22c5V\u2082 - C_m\u22c5V\u2081\u23a6"
       ]
      }
     ],
     "prompt_number": 6
    },
    {
     "cell_type": "markdown",
     "metadata": {},
     "source": [
      "Here, $C_{1(2)}$ is the sum of all capacitances attached to dot $1(2)$ including $C_m$.\n",
      "\\begin{align}\n",
      "C_{1(2)} = C_{L(R)} + C_{g1(2)} + C_m.\n",
      "\\end{align}"
     ]
    },
    {
     "cell_type": "code",
     "collapsed": false,
     "input": [
      "L2 = Vvec\n",
      "R2 = Cmat.inv() * Qvec\n",
      "\n",
      "Eq(L2, R2)"
     ],
     "language": "python",
     "metadata": {},
     "outputs": [
      {
       "latex": [
        "$$\\left[\\begin{matrix}V_{1}\\\\V_{2}\\end{matrix}\\right] = \\left[\\begin{matrix}\\left(\\frac{1}{C_{1}} + \\frac{C_{m}^{2}}{C_{1}^{2} \\left(C_{2} - \\frac{C_{m}^{2}}{C_{1}}\\right)}\\right) \\left(C_{L} V_{L} + C_{g1} V_{g1} + Q_{1}\\right) + \\frac{C_{m} \\left(C_{R} V_{R} + C_{g2} V_{g2} + Q_{2}\\right)}{C_{1} \\left(C_{2} - \\frac{C_{m}^{2}}{C_{1}}\\right)}\\\\\\frac{1}{C_{2} - \\frac{C_{m}^{2}}{C_{1}}} \\left(C_{R} V_{R} + C_{g2} V_{g2} + Q_{2}\\right) + \\frac{C_{m} \\left(C_{L} V_{L} + C_{g1} V_{g1} + Q_{1}\\right)}{C_{1} \\left(C_{2} - \\frac{C_{m}^{2}}{C_{1}}\\right)}\\end{matrix}\\right]$$"
       ],
       "metadata": {},
       "output_type": "pyout",
       "png": "[encoded data removed]",
       "prompt_number": 7,
       "text": [
        "       \u23a1\u239b              2     \u239e                                                \n",
        "       \u23a2\u239c1          C_m      \u239f                              C_m\u22c5(C_R\u22c5V_R + C_g\n",
        "\u23a1V\u2081\u23a4 = \u23a2\u239c\u2500\u2500 + \u2500\u2500\u2500\u2500\u2500\u2500\u2500\u2500\u2500\u2500\u2500\u2500\u2500\u2500\u2500\u239f\u22c5(C_L\u22c5V_L + C_g1\u22c5V_g1 + Q\u2081) + \u2500\u2500\u2500\u2500\u2500\u2500\u2500\u2500\u2500\u2500\u2500\u2500\u2500\u2500\u2500\u2500\u2500\u2500\n",
        "\u23a2  \u23a5   \u23a2\u239cC\u2081       \u239b        2\u239e\u239f                                         \u239b      \n",
        "\u23a3V\u2082\u23a6   \u23a2\u239c       2 \u239c     C_m \u239f\u239f                                         \u239c     C\n",
        "       \u23a2\u239c     C\u2081 \u22c5\u239cC\u2082 - \u2500\u2500\u2500\u2500\u239f\u239f                                      C\u2081\u22c5\u239cC\u2082 - \u2500\n",
        "       \u23a2\u239d         \u239d      C\u2081 \u23a0\u23a0                                         \u239d      \n",
        "       \u23a2                                                                      \n",
        "       \u23a2            C_R\u22c5V_R + C_g2\u22c5V_g2 + Q\u2082   C_m\u22c5(C_L\u22c5V_L + C_g1\u22c5V_g1 + Q\u2081) \n",
        "       \u23a2            \u2500\u2500\u2500\u2500\u2500\u2500\u2500\u2500\u2500\u2500\u2500\u2500\u2500\u2500\u2500\u2500\u2500\u2500\u2500\u2500\u2500\u2500\u2500\u2500 + \u2500\u2500\u2500\u2500\u2500\u2500\u2500\u2500\u2500\u2500\u2500\u2500\u2500\u2500\u2500\u2500\u2500\u2500\u2500\u2500\u2500\u2500\u2500\u2500\u2500\u2500\u2500\u2500\u2500\u2500 \n",
        "       \u23a2                           2                      \u239b        2\u239e         \n",
        "       \u23a2                        C_m                       \u239c     C_m \u239f         \n",
        "       \u23a2                   C\u2082 - \u2500\u2500\u2500\u2500                   C\u2081\u22c5\u239cC\u2082 - \u2500\u2500\u2500\u2500\u239f         \n",
        "       \u23a3                         C\u2081                       \u239d      C\u2081 \u23a0         \n",
        "\n",
        "            \u23a4\n",
        "2\u22c5V_g2 + Q\u2082)\u23a5\n",
        "\u2500\u2500\u2500\u2500\u2500\u2500\u2500\u2500\u2500\u2500\u2500\u2500\u23a5\n",
        "  2\u239e        \u23a5\n",
        "_m \u239f        \u23a5\n",
        "\u2500\u2500\u2500\u239f        \u23a5\n",
        "C\u2081 \u23a0        \u23a5\n",
        "            \u23a5\n",
        "            \u23a5\n",
        "            \u23a5\n",
        "            \u23a5\n",
        "            \u23a5\n",
        "            \u23a5\n",
        "            \u23a6"
       ]
      }
     ],
     "prompt_number": 7
    },
    {
     "cell_type": "code",
     "collapsed": false,
     "input": [
      "Eq(Vvec[0], R2[0])"
     ],
     "language": "python",
     "metadata": {},
     "outputs": [
      {
       "latex": [
        "$$V_{1} = \\left(\\frac{1}{C_{1}} + \\frac{C_{m}^{2}}{C_{1}^{2} \\left(C_{2} - \\frac{C_{m}^{2}}{C_{1}}\\right)}\\right) \\left(C_{L} V_{L} + C_{g1} V_{g1} + Q_{1}\\right) + \\frac{C_{m} \\left(C_{R} V_{R} + C_{g2} V_{g2} + Q_{2}\\right)}{C_{1} \\left(C_{2} - \\frac{C_{m}^{2}}{C_{1}}\\right)}$$"
       ],
       "metadata": {},
       "output_type": "pyout",
       "png": "[encoded data removed]",
       "prompt_number": 8,
       "text": [
        "     \u239b              2     \u239e                                                   \n",
        "     \u239c1          C_m      \u239f                              C_m\u22c5(C_R\u22c5V_R + C_g2\u22c5V\n",
        "V\u2081 = \u239c\u2500\u2500 + \u2500\u2500\u2500\u2500\u2500\u2500\u2500\u2500\u2500\u2500\u2500\u2500\u2500\u2500\u2500\u239f\u22c5(C_L\u22c5V_L + C_g1\u22c5V_g1 + Q\u2081) + \u2500\u2500\u2500\u2500\u2500\u2500\u2500\u2500\u2500\u2500\u2500\u2500\u2500\u2500\u2500\u2500\u2500\u2500\u2500\u2500\u2500\n",
        "     \u239cC\u2081       \u239b        2\u239e\u239f                                         \u239b        2\n",
        "     \u239c       2 \u239c     C_m \u239f\u239f                                         \u239c     C_m \n",
        "     \u239c     C\u2081 \u22c5\u239cC\u2082 - \u2500\u2500\u2500\u2500\u239f\u239f                                      C\u2081\u22c5\u239cC\u2082 - \u2500\u2500\u2500\u2500\n",
        "     \u239d         \u239d      C\u2081 \u23a0\u23a0                                         \u239d      C\u2081 \n",
        "\n",
        "         \n",
        "_g2 + Q\u2082)\n",
        "\u2500\u2500\u2500\u2500\u2500\u2500\u2500\u2500\u2500\n",
        "\u239e        \n",
        "\u239f        \n",
        "\u239f        \n",
        "\u23a0        "
       ]
      }
     ],
     "prompt_number": 8
    },
    {
     "cell_type": "code",
     "collapsed": false,
     "input": [
      "Eq(Vvec[1], R2[1])"
     ],
     "language": "python",
     "metadata": {},
     "outputs": [
      {
       "latex": [
        "$$V_{2} = \\frac{1}{C_{2} - \\frac{C_{m}^{2}}{C_{1}}} \\left(C_{R} V_{R} + C_{g2} V_{g2} + Q_{2}\\right) + \\frac{C_{m} \\left(C_{L} V_{L} + C_{g1} V_{g1} + Q_{1}\\right)}{C_{1} \\left(C_{2} - \\frac{C_{m}^{2}}{C_{1}}\\right)}$$"
       ],
       "metadata": {},
       "output_type": "pyout",
       "png": "[encoded data removed]",
       "prompt_number": 9,
       "text": [
        "     C_R\u22c5V_R + C_g2\u22c5V_g2 + Q\u2082   C_m\u22c5(C_L\u22c5V_L + C_g1\u22c5V_g1 + Q\u2081)\n",
        "V\u2082 = \u2500\u2500\u2500\u2500\u2500\u2500\u2500\u2500\u2500\u2500\u2500\u2500\u2500\u2500\u2500\u2500\u2500\u2500\u2500\u2500\u2500\u2500\u2500\u2500 + \u2500\u2500\u2500\u2500\u2500\u2500\u2500\u2500\u2500\u2500\u2500\u2500\u2500\u2500\u2500\u2500\u2500\u2500\u2500\u2500\u2500\u2500\u2500\u2500\u2500\u2500\u2500\u2500\u2500\u2500\n",
        "                    2                      \u239b        2\u239e        \n",
        "                 C_m                       \u239c     C_m \u239f        \n",
        "            C\u2082 - \u2500\u2500\u2500\u2500                   C\u2081\u22c5\u239cC\u2082 - \u2500\u2500\u2500\u2500\u239f        \n",
        "                  C\u2081                       \u239d      C\u2081 \u23a0        "
       ]
      }
     ],
     "prompt_number": 9
    },
    {
     "cell_type": "markdown",
     "metadata": {},
     "source": [
      "For the case $V_L = V_R = 0$ and $Q_{1(2)} = -N_{1(2)} |e|$ becomes (for easier calculation, we substitute $D\\equiv C_1C_2-C_m^2$)"
     ]
    },
    {
     "cell_type": "code",
     "collapsed": false,
     "input": [
      "Usym, D = symbols(\"U, D\")\n",
      "U0 = simplify(( Qvec.T * Cmat.inv() * Qvec/2)[0].subs({Q1: -N1*e, Q2: -N2*e}).expand()).subs(C1*C2-Cm**2, D).expand()\n",
      "\n",
      "Eq(Usym, U0)"
     ],
     "language": "python",
     "metadata": {},
     "outputs": [
      {
       "latex": [
        "$$U = \\frac{C_{1} C_{R}^{2} V_{R}^{2}}{2 D} + \\frac{C_{1} C_{R}}{D} C_{g2} V_{R} V_{g2} - \\frac{C_{1} C_{R}}{D} N_{2} V_{R} |e| + \\frac{C_{1} C_{g2}^{2} V_{g2}^{2}}{2 D} - \\frac{C_{1} C_{g2}}{D} N_{2} V_{g2} |e| + \\frac{C_{1} N_{2}^{2} |e|^{2}}{2 D} + \\frac{C_{2} C_{L}^{2} V_{L}^{2}}{2 D} + \\frac{C_{2} C_{L}}{D} C_{g1} V_{L} V_{g1} - \\frac{C_{2} C_{L}}{D} N_{1} V_{L} |e| + \\frac{C_{2} C_{g1}^{2} V_{g1}^{2}}{2 D} - \\frac{C_{2} C_{g1}}{D} N_{1} V_{g1} |e| + \\frac{C_{2} N_{1}^{2} |e|^{2}}{2 D} + \\frac{C_{L} C_{R}}{D} C_{m} V_{L} V_{R} + \\frac{C_{L} C_{g2}}{D} C_{m} V_{L} V_{g2} - \\frac{C_{L} C_{m}}{D} N_{2} V_{L} |e| + \\frac{C_{R} C_{g1}}{D} C_{m} V_{R} V_{g1} - \\frac{C_{R} C_{m}}{D} N_{1} V_{R} |e| + \\frac{C_{g1} C_{g2}}{D} C_{m} V_{g1} V_{g2} - \\frac{C_{g1} C_{m}}{D} N_{2} V_{g1} |e| - \\frac{C_{g2} C_{m}}{D} N_{1} V_{g2} |e| + \\frac{C_{m} N_{1}}{D} N_{2} |e|^{2}$$"
       ],
       "metadata": {},
       "output_type": "pyout",
       "png": "[encoded data removed]",
       "prompt_number": 10,
       "text": [
        "          2    2                                                     2     2  \n",
        "    C\u2081\u22c5C_R \u22c5V_R    C\u2081\u22c5C_R\u22c5C_g2\u22c5V_R\u22c5V_g2   C\u2081\u22c5C_R\u22c5N\u2082\u22c5V_R\u22c5|e|   C\u2081\u22c5C_g2 \u22c5V_g2   \n",
        "U = \u2500\u2500\u2500\u2500\u2500\u2500\u2500\u2500\u2500\u2500\u2500\u2500 + \u2500\u2500\u2500\u2500\u2500\u2500\u2500\u2500\u2500\u2500\u2500\u2500\u2500\u2500\u2500\u2500\u2500\u2500\u2500\u2500 - \u2500\u2500\u2500\u2500\u2500\u2500\u2500\u2500\u2500\u2500\u2500\u2500\u2500\u2500\u2500\u2500\u2500 + \u2500\u2500\u2500\u2500\u2500\u2500\u2500\u2500\u2500\u2500\u2500\u2500\u2500\u2500 -\n",
        "        2\u22c5D                 D                     D                2\u22c5D        \n",
        "\n",
        "                            2    2         2    2                             \n",
        " C\u2081\u22c5C_g2\u22c5N\u2082\u22c5V_g2\u22c5|e|   C\u2081\u22c5N\u2082 \u22c5|e|    C\u2082\u22c5C_L \u22c5V_L    C\u2082\u22c5C_L\u22c5C_g1\u22c5V_L\u22c5V_g1   C\u2082\u22c5\n",
        " \u2500\u2500\u2500\u2500\u2500\u2500\u2500\u2500\u2500\u2500\u2500\u2500\u2500\u2500\u2500\u2500\u2500\u2500\u2500 + \u2500\u2500\u2500\u2500\u2500\u2500\u2500\u2500\u2500\u2500\u2500 + \u2500\u2500\u2500\u2500\u2500\u2500\u2500\u2500\u2500\u2500\u2500\u2500 + \u2500\u2500\u2500\u2500\u2500\u2500\u2500\u2500\u2500\u2500\u2500\u2500\u2500\u2500\u2500\u2500\u2500\u2500\u2500\u2500 - \u2500\u2500\u2500\n",
        "          D                2\u22c5D           2\u22c5D                 D                \n",
        "\n",
        "                        2     2                              2    2           \n",
        "C_L\u22c5N\u2081\u22c5V_L\u22c5|e|   C\u2082\u22c5C_g1 \u22c5V_g1    C\u2082\u22c5C_g1\u22c5N\u2081\u22c5V_g1\u22c5|e|   C\u2082\u22c5N\u2081 \u22c5|e|    C_L\u22c5C_R\u22c5\n",
        "\u2500\u2500\u2500\u2500\u2500\u2500\u2500\u2500\u2500\u2500\u2500\u2500\u2500\u2500 + \u2500\u2500\u2500\u2500\u2500\u2500\u2500\u2500\u2500\u2500\u2500\u2500\u2500\u2500 - \u2500\u2500\u2500\u2500\u2500\u2500\u2500\u2500\u2500\u2500\u2500\u2500\u2500\u2500\u2500\u2500\u2500\u2500\u2500 + \u2500\u2500\u2500\u2500\u2500\u2500\u2500\u2500\u2500\u2500\u2500 + \u2500\u2500\u2500\u2500\u2500\u2500\u2500\u2500\n",
        "     D                2\u22c5D                  D                2\u22c5D               \n",
        "\n",
        "                                                                              \n",
        "C_m\u22c5V_L\u22c5V_R   C_L\u22c5C_g2\u22c5C_m\u22c5V_L\u22c5V_g2   C_L\u22c5C_m\u22c5N\u2082\u22c5V_L\u22c5|e|   C_R\u22c5C_g1\u22c5C_m\u22c5V_R\u22c5V_\n",
        "\u2500\u2500\u2500\u2500\u2500\u2500\u2500\u2500\u2500\u2500\u2500 + \u2500\u2500\u2500\u2500\u2500\u2500\u2500\u2500\u2500\u2500\u2500\u2500\u2500\u2500\u2500\u2500\u2500\u2500\u2500\u2500\u2500 - \u2500\u2500\u2500\u2500\u2500\u2500\u2500\u2500\u2500\u2500\u2500\u2500\u2500\u2500\u2500\u2500\u2500\u2500 + \u2500\u2500\u2500\u2500\u2500\u2500\u2500\u2500\u2500\u2500\u2500\u2500\u2500\u2500\u2500\u2500\u2500\u2500\u2500\n",
        " D                      D                     D                      D        \n",
        "\n",
        "                                                                              \n",
        "g1   C_R\u22c5C_m\u22c5N\u2081\u22c5V_R\u22c5|e|   C_g1\u22c5C_g2\u22c5C_m\u22c5V_g1\u22c5V_g2   C_g1\u22c5C_m\u22c5N\u2082\u22c5V_g1\u22c5|e|   C_g\n",
        "\u2500\u2500 - \u2500\u2500\u2500\u2500\u2500\u2500\u2500\u2500\u2500\u2500\u2500\u2500\u2500\u2500\u2500\u2500\u2500\u2500 + \u2500\u2500\u2500\u2500\u2500\u2500\u2500\u2500\u2500\u2500\u2500\u2500\u2500\u2500\u2500\u2500\u2500\u2500\u2500\u2500\u2500\u2500\u2500 - \u2500\u2500\u2500\u2500\u2500\u2500\u2500\u2500\u2500\u2500\u2500\u2500\u2500\u2500\u2500\u2500\u2500\u2500\u2500\u2500 - \u2500\u2500\u2500\n",
        "             D                       D                       D                \n",
        "\n",
        "                                 2\n",
        "2\u22c5C_m\u22c5N\u2081\u22c5V_g2\u22c5|e|   C_m\u22c5N\u2081\u22c5N\u2082\u22c5|e| \n",
        "\u2500\u2500\u2500\u2500\u2500\u2500\u2500\u2500\u2500\u2500\u2500\u2500\u2500\u2500\u2500\u2500\u2500 + \u2500\u2500\u2500\u2500\u2500\u2500\u2500\u2500\u2500\u2500\u2500\u2500\u2500\u2500\n",
        "      D                   D       "
       ]
      }
     ],
     "prompt_number": 10
    },
    {
     "cell_type": "markdown",
     "metadata": {},
     "source": [
      "We consider the linear transport regime where $V_L-V_R \\approx 0$. We let $V_L = V_R=0$."
     ]
    },
    {
     "cell_type": "code",
     "collapsed": false,
     "input": [
      "def simplify_by_term(e):\n",
      "    new_args = []\n",
      "    for term in e.args: \n",
      "        temp = simplify(term.factor())\n",
      "        new_args.append(temp)\n",
      "    e = Add(*new_args)\n",
      "    return e"
     ],
     "language": "python",
     "metadata": {},
     "outputs": [],
     "prompt_number": 11
    },
    {
     "cell_type": "code",
     "collapsed": false,
     "input": [
      "EC1, EC2, ECm = symbols(\"E_C1, E_C2, E_Cm\")\n",
      "\n",
      "U1 = U0.subs({C2: D*EC1/e**2, C1: D*EC2/e**2, Cm: D*ECm/e**2})\n",
      "\n",
      "U2 = U1.subs({VL: 0, VR: 0})\n",
      "\n",
      "U3 = collect(U2, [1/e, 1/e**2])\n",
      "\n",
      "U3 = simplify_by_term(U3)\n",
      "\n",
      "Eq(Usym, U3)"
     ],
     "language": "python",
     "metadata": {},
     "outputs": [
      {
       "latex": [
        "$$U = \\frac{E_{C1} N_{1}^{2}}{2} + \\frac{E_{C2} N_{2}^{2}}{2} + E_{Cm} N_{1} N_{2} - \\frac{1}{|e|} \\left(C_{g1} E_{C1} N_{1} V_{g1} + C_{g1} E_{Cm} N_{2} V_{g1} + C_{g2} E_{C2} N_{2} V_{g2} + C_{g2} E_{Cm} N_{1} V_{g2}\\right) + \\frac{1}{2 |e|^{2}} \\left(C_{g1}^{2} E_{C1} V_{g1}^{2} + 2 C_{g1} C_{g2} E_{Cm} V_{g1} V_{g2} + C_{g2}^{2} E_{C2} V_{g2}^{2}\\right)$$"
       ],
       "metadata": {},
       "output_type": "pyout",
       "png": "[encoded data removed]",
       "prompt_number": 12,
       "text": [
        "           2          2                                                       \n",
        "    E_C1\u22c5N\u2081    E_C2\u22c5N\u2082                 C_g1\u22c5E_C1\u22c5N\u2081\u22c5V_g1 + C_g1\u22c5E_Cm\u22c5N\u2082\u22c5V_g1 +\n",
        "U = \u2500\u2500\u2500\u2500\u2500\u2500\u2500\u2500 + \u2500\u2500\u2500\u2500\u2500\u2500\u2500\u2500 + E_Cm\u22c5N\u2081\u22c5N\u2082 - \u2500\u2500\u2500\u2500\u2500\u2500\u2500\u2500\u2500\u2500\u2500\u2500\u2500\u2500\u2500\u2500\u2500\u2500\u2500\u2500\u2500\u2500\u2500\u2500\u2500\u2500\u2500\u2500\u2500\u2500\u2500\u2500\u2500\u2500\u2500\u2500\u2500\u2500\u2500\n",
        "       2          2                                                         |e\n",
        "                                                                              \n",
        "\n",
        "                                             2          2                     \n",
        " C_g2\u22c5E_C2\u22c5N\u2082\u22c5V_g2 + C_g2\u22c5E_Cm\u22c5N\u2081\u22c5V_g2   C_g1 \u22c5E_C1\u22c5V_g1  + 2\u22c5C_g1\u22c5C_g2\u22c5E_Cm\u22c5V\n",
        "\u2500\u2500\u2500\u2500\u2500\u2500\u2500\u2500\u2500\u2500\u2500\u2500\u2500\u2500\u2500\u2500\u2500\u2500\u2500\u2500\u2500\u2500\u2500\u2500\u2500\u2500\u2500\u2500\u2500\u2500\u2500\u2500\u2500\u2500\u2500\u2500\u2500\u2500 + \u2500\u2500\u2500\u2500\u2500\u2500\u2500\u2500\u2500\u2500\u2500\u2500\u2500\u2500\u2500\u2500\u2500\u2500\u2500\u2500\u2500\u2500\u2500\u2500\u2500\u2500\u2500\u2500\u2500\u2500\u2500\u2500\u2500\u2500\u2500\u2500\u2500\n",
        "|                                                                          2  \n",
        "                                                                      2\u22c5|e|   \n",
        "\n",
        "               2          2\n",
        "_g1\u22c5V_g2 + C_g2 \u22c5E_C2\u22c5V_g2 \n",
        "\u2500\u2500\u2500\u2500\u2500\u2500\u2500\u2500\u2500\u2500\u2500\u2500\u2500\u2500\u2500\u2500\u2500\u2500\u2500\u2500\u2500\u2500\u2500\u2500\u2500\u2500\u2500\n",
        "                           \n",
        "                           "
       ]
      }
     ],
     "prompt_number": 12
    },
    {
     "cell_type": "code",
     "collapsed": false,
     "input": [
      "U4 = rcollect(U3, Cg1 * Vg1, Cg2 * Vg2)  # recursively collecting terms\n",
      "\n",
      "Eq(Usym, U4)"
     ],
     "language": "python",
     "metadata": {},
     "outputs": [
      {
       "latex": [
        "$$U = \\frac{E_{C1} N_{1}^{2}}{2} + \\frac{E_{C2} N_{2}^{2}}{2} + E_{Cm} N_{1} N_{2} - \\frac{1}{|e|} \\left(C_{g1} V_{g1} \\left(E_{C1} N_{1} + E_{Cm} N_{2}\\right) + C_{g2} V_{g2} \\left(E_{C2} N_{2} + E_{Cm} N_{1}\\right)\\right) + \\frac{1}{2 |e|^{2}} \\left(C_{g1}^{2} E_{C1} V_{g1}^{2} + 2 C_{g1} C_{g2} E_{Cm} V_{g1} V_{g2} + C_{g2}^{2} E_{C2} V_{g2}^{2}\\right)$$"
       ],
       "metadata": {},
       "output_type": "pyout",
       "png": "[encoded data removed]",
       "prompt_number": 13,
       "text": [
        "           2          2                                                       \n",
        "    E_C1\u22c5N\u2081    E_C2\u22c5N\u2082                 C_g1\u22c5V_g1\u22c5(E_C1\u22c5N\u2081 + E_Cm\u22c5N\u2082) + C_g2\u22c5V_\n",
        "U = \u2500\u2500\u2500\u2500\u2500\u2500\u2500\u2500 + \u2500\u2500\u2500\u2500\u2500\u2500\u2500\u2500 + E_Cm\u22c5N\u2081\u22c5N\u2082 - \u2500\u2500\u2500\u2500\u2500\u2500\u2500\u2500\u2500\u2500\u2500\u2500\u2500\u2500\u2500\u2500\u2500\u2500\u2500\u2500\u2500\u2500\u2500\u2500\u2500\u2500\u2500\u2500\u2500\u2500\u2500\u2500\u2500\u2500\u2500\u2500\u2500\u2500\u2500\n",
        "       2          2                                                 |e|       \n",
        "                                                                              \n",
        "\n",
        "                             2          2                                    2\n",
        "g2\u22c5(E_C2\u22c5N\u2082 + E_Cm\u22c5N\u2081)   C_g1 \u22c5E_C1\u22c5V_g1  + 2\u22c5C_g1\u22c5C_g2\u22c5E_Cm\u22c5V_g1\u22c5V_g2 + C_g2 \n",
        "\u2500\u2500\u2500\u2500\u2500\u2500\u2500\u2500\u2500\u2500\u2500\u2500\u2500\u2500\u2500\u2500\u2500\u2500\u2500\u2500\u2500\u2500 + \u2500\u2500\u2500\u2500\u2500\u2500\u2500\u2500\u2500\u2500\u2500\u2500\u2500\u2500\u2500\u2500\u2500\u2500\u2500\u2500\u2500\u2500\u2500\u2500\u2500\u2500\u2500\u2500\u2500\u2500\u2500\u2500\u2500\u2500\u2500\u2500\u2500\u2500\u2500\u2500\u2500\u2500\u2500\u2500\u2500\u2500\u2500\u2500\u2500\u2500\u2500\u2500\u2500\n",
        "                                                           2                  \n",
        "                                                      2\u22c5|e|                   \n",
        "\n",
        "          2\n",
        "\u22c5E_C2\u22c5V_g2 \n",
        "\u2500\u2500\u2500\u2500\u2500\u2500\u2500\u2500\u2500\u2500\u2500\n",
        "           \n",
        "           "
       ]
      }
     ],
     "prompt_number": 13
    },
    {
     "cell_type": "markdown",
     "metadata": {},
     "source": [
      "where $E_{C1(2)}$ is the charing energy of the individual dot $1(2)$, $E_{Cm}$ is the electrostatic coupling energy, and $-|e|$ is the electron charge. The coupling energy $E_{Cm}$ is the change in energy of one dot when an electron is added to the other dot."
     ]
    },
    {
     "cell_type": "markdown",
     "metadata": {},
     "source": [
      "\\begin{align}\n",
      "E_{C1} = \\frac{e^2}{C_1} \\left( \\frac{1}{1-\\frac{C_m^2}{C_1C_2}}\\right),\\quad\n",
      "E_{C1} = \\frac{e^2}{C_2} \\left( \\frac{1}{1-\\frac{C_m^2}{C_1C_2}}\\right),\\quad\n",
      "E_{C1} = \\frac{e^2}{C_m} \\left( \\frac{1}{\\frac{C_1C_2}{C_m^2}-1}\\right).\n",
      "\\end{align}"
     ]
    },
    {
     "cell_type": "code",
     "collapsed": false,
     "input": [
      "def U(N1, N2, Vg1, Vg2):\n",
      "    \"\"\"\n",
      "    The double dot electrostatic energy function\n",
      "    \"\"\"\n",
      "    return N1**2*EC1/2 + N2**2*EC2/2 + N1*N2*ECm + f(N1, N2, Vg1, Vg2)\n",
      "\n",
      "def f(N1, N2, Vg1, Vg2):\n",
      "    term1 = -((Cg1*Vg1*(N1*EC1+N2*ECm) + Cg2*Vg2*(N1*ECm+N2*EC2))/e)\n",
      "    term2 = (Cg1**2*Vg1**2*EC1/2 + Cg2**2*Vg2**2*EC2/2 + Cg1*Vg1*Cg2*Vg2*ECm)/e**2\n",
      "    return term1 + term2"
     ],
     "language": "python",
     "metadata": {},
     "outputs": [],
     "prompt_number": 14
    },
    {
     "cell_type": "code",
     "collapsed": false,
     "input": [
      "U(N1, N2, Vg1, Vg2)"
     ],
     "language": "python",
     "metadata": {},
     "outputs": [
      {
       "latex": [
        "$$\\frac{E_{C1} N_{1}^{2}}{2} + \\frac{E_{C2} N_{2}^{2}}{2} + E_{Cm} N_{1} N_{2} - \\frac{1}{|e|} \\left(C_{g1} V_{g1} \\left(E_{C1} N_{1} + E_{Cm} N_{2}\\right) + C_{g2} V_{g2} \\left(E_{C2} N_{2} + E_{Cm} N_{1}\\right)\\right) + \\frac{1}{|e|^{2}} \\left(\\frac{C_{g1}^{2} E_{C1}}{2} V_{g1}^{2} + C_{g1} C_{g2} E_{Cm} V_{g1} V_{g2} + \\frac{C_{g2}^{2} E_{C2}}{2} V_{g2}^{2}\\right)$$"
       ],
       "metadata": {},
       "output_type": "pyout",
       "png": "[encoded data removed]",
       "prompt_number": 15,
       "text": [
        "                                                                              \n",
        "                                                                              \n",
        "       2          2                                                           \n",
        "E_C1\u22c5N\u2081    E_C2\u22c5N\u2082                 C_g1\u22c5V_g1\u22c5(E_C1\u22c5N\u2081 + E_Cm\u22c5N\u2082) + C_g2\u22c5V_g2\u22c5(\n",
        "\u2500\u2500\u2500\u2500\u2500\u2500\u2500\u2500 + \u2500\u2500\u2500\u2500\u2500\u2500\u2500\u2500 + E_Cm\u22c5N\u2081\u22c5N\u2082 - \u2500\u2500\u2500\u2500\u2500\u2500\u2500\u2500\u2500\u2500\u2500\u2500\u2500\u2500\u2500\u2500\u2500\u2500\u2500\u2500\u2500\u2500\u2500\u2500\u2500\u2500\u2500\u2500\u2500\u2500\u2500\u2500\u2500\u2500\u2500\u2500\u2500\u2500\u2500\u2500\u2500\u2500\u2500\n",
        "   2          2                                                 |e|           \n",
        "                                                                              \n",
        "\n",
        "                         2          2                                  2      \n",
        "                     C_g1 \u22c5E_C1\u22c5V_g1                               C_g2 \u22c5E_C2\u22c5\n",
        "                     \u2500\u2500\u2500\u2500\u2500\u2500\u2500\u2500\u2500\u2500\u2500\u2500\u2500\u2500\u2500\u2500 + C_g1\u22c5C_g2\u22c5E_Cm\u22c5V_g1\u22c5V_g2 + \u2500\u2500\u2500\u2500\u2500\u2500\u2500\u2500\u2500\u2500\u2500\n",
        "E_C2\u22c5N\u2082 + E_Cm\u22c5N\u2081)          2                                             2   \n",
        "\u2500\u2500\u2500\u2500\u2500\u2500\u2500\u2500\u2500\u2500\u2500\u2500\u2500\u2500\u2500\u2500\u2500\u2500 + \u2500\u2500\u2500\u2500\u2500\u2500\u2500\u2500\u2500\u2500\u2500\u2500\u2500\u2500\u2500\u2500\u2500\u2500\u2500\u2500\u2500\u2500\u2500\u2500\u2500\u2500\u2500\u2500\u2500\u2500\u2500\u2500\u2500\u2500\u2500\u2500\u2500\u2500\u2500\u2500\u2500\u2500\u2500\u2500\u2500\u2500\u2500\u2500\u2500\u2500\u2500\u2500\u2500\u2500\u2500\u2500\u2500\n",
        "                                                     2                        \n",
        "                                                  |e|                         \n",
        "\n",
        "    2\n",
        "V_g2 \n",
        "\u2500\u2500\u2500\u2500\u2500\n",
        "     \n",
        "\u2500\u2500\u2500\u2500\u2500\n",
        "     \n",
        "     "
       ]
      }
     ],
     "prompt_number": 15
    },
    {
     "cell_type": "heading",
     "level": 4,
     "metadata": {},
     "source": [
      "Different Coupling Regime"
     ]
    },
    {
     "cell_type": "heading",
     "level": 5,
     "metadata": {},
     "source": [
      "a. $C_m = 0$ Case"
     ]
    },
    {
     "cell_type": "markdown",
     "metadata": {},
     "source": [
      "$E_{Cm} = 0$, the electrostatic energy becomes"
     ]
    },
    {
     "cell_type": "code",
     "collapsed": false,
     "input": [
      "U_zero_Cm1 = U(N1, N2, Vg1, Vg2).subs({ECm: 0, EC1: e**2/C1, EC2: e**2/C2})\n",
      "U_zero_Cm2 = collect(U_zero_Cm1.expand(), [1/C1, 1/C2])\n",
      "\n",
      "U_zero_Cm2"
     ],
     "language": "python",
     "metadata": {},
     "outputs": [
      {
       "latex": [
        "$$\\frac{1}{C_{2}} \\left(\\frac{C_{g2}^{2} V_{g2}^{2}}{2} - C_{g2} N_{2} V_{g2} |e| + \\frac{N_{2}^{2} |e|^{2}}{2}\\right) + \\frac{1}{C_{1}} \\left(\\frac{C_{g1}^{2} V_{g1}^{2}}{2} - C_{g1} N_{1} V_{g1} |e| + \\frac{N_{1}^{2} |e|^{2}}{2}\\right)$$"
       ],
       "metadata": {},
       "output_type": "pyout",
       "png": "[encoded data removed]",
       "prompt_number": 16,
       "text": [
        "    2     2                        2    2       2     2                       \n",
        "C_g2 \u22c5V_g2                       N\u2082 \u22c5|e|    C_g1 \u22c5V_g1                       N\n",
        "\u2500\u2500\u2500\u2500\u2500\u2500\u2500\u2500\u2500\u2500\u2500 - C_g2\u22c5N\u2082\u22c5V_g2\u22c5|e| + \u2500\u2500\u2500\u2500\u2500\u2500\u2500\u2500   \u2500\u2500\u2500\u2500\u2500\u2500\u2500\u2500\u2500\u2500\u2500 - C_g1\u22c5N\u2081\u22c5V_g1\u22c5|e| + \u2500\n",
        "     2                              2            2                            \n",
        "\u2500\u2500\u2500\u2500\u2500\u2500\u2500\u2500\u2500\u2500\u2500\u2500\u2500\u2500\u2500\u2500\u2500\u2500\u2500\u2500\u2500\u2500\u2500\u2500\u2500\u2500\u2500\u2500\u2500\u2500\u2500\u2500\u2500\u2500\u2500\u2500\u2500\u2500\u2500\u2500\u2500 + \u2500\u2500\u2500\u2500\u2500\u2500\u2500\u2500\u2500\u2500\u2500\u2500\u2500\u2500\u2500\u2500\u2500\u2500\u2500\u2500\u2500\u2500\u2500\u2500\u2500\u2500\u2500\u2500\u2500\u2500\u2500\u2500\u2500\u2500\n",
        "                    C\u2082                                          C\u2081            \n",
        "\n",
        " 2    2\n",
        "\u2081 \u22c5|e| \n",
        "\u2500\u2500\u2500\u2500\u2500\u2500\u2500\n",
        "  2    \n",
        "\u2500\u2500\u2500\u2500\u2500\u2500\u2500\n",
        "       "
       ]
      }
     ],
     "prompt_number": 16
    },
    {
     "cell_type": "code",
     "collapsed": false,
     "input": [
      "U_zero_Cm = simplify_by_term(U_zero_Cm2)\n",
      "Eq(Usym, U_zero_Cm)"
     ],
     "language": "python",
     "metadata": {},
     "outputs": [
      {
       "latex": [
        "$$U = \\frac{1}{2 C_{2}} \\left(C_{g2} V_{g2} - N_{2} |e|\\right)^{2} + \\frac{1}{2 C_{1}} \\left(C_{g1} V_{g1} - N_{1} |e|\\right)^{2}$$"
       ],
       "metadata": {},
       "output_type": "pyout",
       "png": "[encoded data removed]",
       "prompt_number": 17,
       "text": [
        "                        2                       2\n",
        "    (C_g2\u22c5V_g2 - N\u2082\u22c5|e|)    (C_g1\u22c5V_g1 - N\u2081\u22c5|e|) \n",
        "U = \u2500\u2500\u2500\u2500\u2500\u2500\u2500\u2500\u2500\u2500\u2500\u2500\u2500\u2500\u2500\u2500\u2500\u2500\u2500\u2500\u2500 + \u2500\u2500\u2500\u2500\u2500\u2500\u2500\u2500\u2500\u2500\u2500\u2500\u2500\u2500\u2500\u2500\u2500\u2500\u2500\u2500\u2500\n",
        "             2\u22c5C\u2082                    2\u22c5C\u2081        "
       ]
      }
     ],
     "prompt_number": 17
    },
    {
     "cell_type": "markdown",
     "metadata": {},
     "source": [
      "which is the sum of energies of two independent dots."
     ]
    },
    {
     "cell_type": "heading",
     "level": 5,
     "metadata": {},
     "source": [
      "b. Dominant $C_m$ Case"
     ]
    },
    {
     "cell_type": "markdown",
     "metadata": {},
     "source": [
      "$C_m / C_{1(2)}\\rightarrow 1$, so that the energies approaches the values\n",
      "\\begin{align}\n",
      "E_{C1} \\rightarrow \\frac{e^2}{\\tilde{C}},\\quad E_{C2} = \\frac{e^2}{\\tilde{C}}, \\quad E_{Cm} = \\frac{e^2}{\\tilde{C}}.\n",
      "\\end{align}\n",
      "the electrostatic energy is given by"
     ]
    },
    {
     "cell_type": "code",
     "collapsed": false,
     "input": [
      "Ctilde = symbols(\"Ctilde\")\n",
      "\n",
      "U_dominant_Cm1 = U(N1, N2, Vg1, Vg2).subs({EC1: e**2/Ctilde, EC2: e**2/Ctilde, ECm: e**2/Ctilde})\n",
      "U_dominant_Cm2 = U_dominant_Cm1.expand()\n",
      "U_dominant_Cm3 = simplify_by_term(U_dominant_Cm2).factor()\n",
      "U_dominant_Cm = rcollect(U_dominant_Cm3, e)\n",
      "\n",
      "U_dominant_Cm"
     ],
     "language": "python",
     "metadata": {},
     "outputs": [
      {
       "latex": [
        "$$\\frac{1}{2 \\tilde{C}} \\left(C_{g1} V_{g1} + C_{g2} V_{g2} + |e| \\left(- N_{1} - N_{2}\\right)\\right)^{2}$$"
       ],
       "metadata": {},
       "output_type": "pyout",
       "png": "[encoded data removed]",
       "prompt_number": 18,
       "text": [
        "                                        2\n",
        "(C_g1\u22c5V_g1 + C_g2\u22c5V_g2 + |e|\u22c5(-N\u2081 - N\u2082)) \n",
        "\u2500\u2500\u2500\u2500\u2500\u2500\u2500\u2500\u2500\u2500\u2500\u2500\u2500\u2500\u2500\u2500\u2500\u2500\u2500\u2500\u2500\u2500\u2500\u2500\u2500\u2500\u2500\u2500\u2500\u2500\u2500\u2500\u2500\u2500\u2500\u2500\u2500\u2500\u2500\u2500\u2500\n",
        "                   2\u22c5C\u0303                  "
       ]
      }
     ],
     "prompt_number": 18
    },
    {
     "cell_type": "markdown",
     "metadata": {},
     "source": [
      "A large interdot capacitance $C_m$ effectively leads to one big dot."
     ]
    },
    {
     "cell_type": "heading",
     "level": 3,
     "metadata": {},
     "source": [
      "Electrochemical Potential"
     ]
    },
    {
     "cell_type": "markdown",
     "metadata": {},
     "source": [
      "The electrochemical potential $\\mu_{1(2)}(N_1, N_2)$ of dot $1(2)$ is defined as the energy needed to add the $N_{1(2)}$th electron to dot $1(2)$, while having $N_{2(1)}$ electrons on dot $2(1)$."
     ]
    },
    {
     "cell_type": "code",
     "collapsed": false,
     "input": [
      "def mu1(N1, N2, Vg1, Vg2):\n",
      "    \"\"\"\n",
      "    The electrochemical potential of dot 1\n",
      "    \"\"\"\n",
      "    ee = U(N1, N2, Vg1, Vg2) - U(N1-1, N2, Vg1, Vg2)\n",
      "    ee = simplify_by_term(collect(ee.expand(), [1/e]))\n",
      "    return collect(ee, [EC1, ECm])\n",
      "\n",
      "def mu2(N1, N2, Vg1, Vg2):\n",
      "    \"\"\"\n",
      "    The electrochemical potential of dot 2\n",
      "    \"\"\"\n",
      "    ee = U(N1, N2, Vg1, Vg2) - U(N1, N2-1, Vg1, Vg2)\n",
      "    ee = simplify_by_term(collect(ee.expand(), [1/e]))\n",
      "    return collect(ee, [EC2, ECm])"
     ],
     "language": "python",
     "metadata": {},
     "outputs": [],
     "prompt_number": 19
    },
    {
     "cell_type": "markdown",
     "metadata": {},
     "source": [
      "$\\mu_1 (N_1, N_2) = U(N_1, N_2) - U(N_1-1, N_2)$ :"
     ]
    },
    {
     "cell_type": "code",
     "collapsed": false,
     "input": [
      "mu1(N1, N2, Vg1, Vg2)"
     ],
     "language": "python",
     "metadata": {},
     "outputs": [
      {
       "latex": [
        "$$E_{C1} \\left(N_{1} - \\frac{1}{2}\\right) + E_{Cm} N_{2} - \\frac{1}{|e|} \\left(C_{g1} E_{C1} V_{g1} + C_{g2} E_{Cm} V_{g2}\\right)$$"
       ],
       "metadata": {},
       "output_type": "pyout",
       "png": "[encoded data removed]",
       "prompt_number": 20,
       "text": [
        "                            C_g1\u22c5E_C1\u22c5V_g1 + C_g2\u22c5E_Cm\u22c5V_g2\n",
        "E_C1\u22c5(N\u2081 - 1/2) + E_Cm\u22c5N\u2082 - \u2500\u2500\u2500\u2500\u2500\u2500\u2500\u2500\u2500\u2500\u2500\u2500\u2500\u2500\u2500\u2500\u2500\u2500\u2500\u2500\u2500\u2500\u2500\u2500\u2500\u2500\u2500\u2500\u2500\u2500\u2500\n",
        "                                          |e|              "
       ]
      }
     ],
     "prompt_number": 20
    },
    {
     "cell_type": "markdown",
     "metadata": {},
     "source": [
      "$\\mu_2 (N_1, N_2) = U(N_1, N_2) - U(N_1, N_2-1)$ :"
     ]
    },
    {
     "cell_type": "code",
     "collapsed": false,
     "input": [
      "mu2(N1, N2, Vg1, Vg2)"
     ],
     "language": "python",
     "metadata": {},
     "outputs": [
      {
       "latex": [
        "$$E_{C2} \\left(N_{2} - \\frac{1}{2}\\right) + E_{Cm} N_{1} - \\frac{1}{|e|} \\left(C_{g1} E_{Cm} V_{g1} + C_{g2} E_{C2} V_{g2}\\right)$$"
       ],
       "metadata": {},
       "output_type": "pyout",
       "png": "[encoded data removed]",
       "prompt_number": 21,
       "text": [
        "                            C_g1\u22c5E_Cm\u22c5V_g1 + C_g2\u22c5E_C2\u22c5V_g2\n",
        "E_C2\u22c5(N\u2082 - 1/2) + E_Cm\u22c5N\u2081 - \u2500\u2500\u2500\u2500\u2500\u2500\u2500\u2500\u2500\u2500\u2500\u2500\u2500\u2500\u2500\u2500\u2500\u2500\u2500\u2500\u2500\u2500\u2500\u2500\u2500\u2500\u2500\u2500\u2500\u2500\u2500\n",
        "                                          |e|              "
       ]
      }
     ],
     "prompt_number": 21
    },
    {
     "cell_type": "heading",
     "level": 5,
     "metadata": {},
     "source": [
      "a. Addition Energy of Dot 1"
     ]
    },
    {
     "cell_type": "markdown",
     "metadata": {},
     "source": [
      "The change in $\\mu_1(N_1, N_2)$ at fixed gate voltages, if $N_1$ is changed by $1$, $\\mu_1(N_1+1, N_2) - \\mu_1(N_1, N_2)$ :"
     ]
    },
    {
     "cell_type": "code",
     "collapsed": false,
     "input": [
      "simplify(mu1(N1+1, N2, Vg1, Vg2) - mu1(N1, N2, Vg1, Vg2).expand())"
     ],
     "language": "python",
     "metadata": {},
     "outputs": [
      {
       "latex": [
        "$$E_{C1}$$"
       ],
       "metadata": {},
       "output_type": "pyout",
       "png": "[encoded data removed]",
       "prompt_number": 22,
       "text": [
        "E_C1"
       ]
      }
     ],
     "prompt_number": 22
    },
    {
     "cell_type": "markdown",
     "metadata": {},
     "source": [
      "is called the <i>addition energy</i> of dot 1 and equals the charging energy of dot 1 in this classical regime."
     ]
    },
    {
     "cell_type": "heading",
     "level": 5,
     "metadata": {},
     "source": [
      "b. Addition Energy of Dot 2"
     ]
    },
    {
     "cell_type": "markdown",
     "metadata": {},
     "source": [
      "Similarly, the change in $\\mu_2(N_1, N_2)$ at fixed gate voltages, if $N_2$ is changed by $1$, $\\mu_2(N_1, N_2+1) - \\mu_2(N_1, N_2)$ :"
     ]
    },
    {
     "cell_type": "code",
     "collapsed": false,
     "input": [
      "simplify(mu2(N1, N2+1, Vg1, Vg2) - mu2(N1, N2, Vg1, Vg2).expand())"
     ],
     "language": "python",
     "metadata": {},
     "outputs": [
      {
       "latex": [
        "$$E_{C2}$$"
       ],
       "metadata": {},
       "output_type": "pyout",
       "png": "[encoded data removed]",
       "prompt_number": 23,
       "text": [
        "E_C2"
       ]
      }
     ],
     "prompt_number": 23
    },
    {
     "cell_type": "markdown",
     "metadata": {},
     "source": [
      "is called the <i>addition energy</i> of dot 2 and equals the charging energy of dot 2 in this classical regime."
     ]
    },
    {
     "cell_type": "heading",
     "level": 5,
     "metadata": {},
     "source": [
      "c. Coupling Energy"
     ]
    },
    {
     "cell_type": "markdown",
     "metadata": {},
     "source": [
      "The change in $\\mu_1(N_1, N_2)$ at fixed gate voltages, if $N_2$ is changed by $1$, $\\mu_1(N_1, N_2+1) - \\mu_1(N_1, N_2)$ :"
     ]
    },
    {
     "cell_type": "code",
     "collapsed": false,
     "input": [
      "simplify(mu1(N1, N2+1, Vg1, Vg2) - mu1(N1, N2, Vg1, Vg2).expand())"
     ],
     "language": "python",
     "metadata": {},
     "outputs": [
      {
       "latex": [
        "$$E_{Cm}$$"
       ],
       "metadata": {},
       "output_type": "pyout",
       "png": "[encoded data removed]",
       "prompt_number": 24,
       "text": [
        "E_Cm"
       ]
      }
     ],
     "prompt_number": 24
    },
    {
     "cell_type": "markdown",
     "metadata": {},
     "source": [
      "and the change in $\\mu_2(N_1, N_2)$ at fixed gate voltages, if $N_1$ is changed by $1$, $\\mu_2(N_1+1, N_2) - \\mu_1(N_1, N_2)$ :"
     ]
    },
    {
     "cell_type": "code",
     "collapsed": false,
     "input": [
      "simplify(mu2(N1+1, N2, Vg1, Vg2) - mu2(N1, N2, Vg1, Vg2).expand())"
     ],
     "language": "python",
     "metadata": {},
     "outputs": [
      {
       "latex": [
        "$$E_{Cm}$$"
       ],
       "metadata": {},
       "output_type": "pyout",
       "png": "[encoded data removed]",
       "prompt_number": 25,
       "text": [
        "E_Cm"
       ]
      }
     ],
     "prompt_number": 25
    },
    {
     "cell_type": "markdown",
     "metadata": {},
     "source": [
      "is the same and has the value $E_{Cm}$."
     ]
    },
    {
     "cell_type": "heading",
     "level": 4,
     "metadata": {},
     "source": [
      "Charge Stability Diagram"
     ]
    },
    {
     "cell_type": "code",
     "collapsed": false,
     "input": [
      "%matplotlib inline"
     ],
     "language": "python",
     "metadata": {},
     "outputs": [],
     "prompt_number": 26
    },
    {
     "cell_type": "code",
     "collapsed": false,
     "input": [
      "import numpy as np\n",
      "import matplotlib.pyplot as plt"
     ],
     "language": "python",
     "metadata": {},
     "outputs": [],
     "prompt_number": 27
    },
    {
     "cell_type": "code",
     "collapsed": false,
     "input": [
      "# Update the matplotlib configuration parameters:\n",
      "import matplotlib\n",
      "matplotlib.rcParams.update({'font.size': 18, 'font.family': 'STIXGeneral', 'mathtext.fontset': 'stix'})"
     ],
     "language": "python",
     "metadata": {},
     "outputs": [],
     "prompt_number": 28
    },
    {
     "cell_type": "code",
     "collapsed": false,
     "input": [
      "#method (generating honeycombs)\n",
      "fig, ax = plt.subplots(nrows=2, ncols=2, figsize=(10, 10))\n",
      "fig_color = ['red', 'blue', 'green', 'black']\n",
      "    \n",
      "for idx_ECm, ECm_EC in enumerate([0.001, 0.3, 0.6, 0.999]):\n",
      "    subs_dic={Cg1: 1, Cg2: 1, EC1: 1, EC2: 1, ECm: ECm_EC, e: 1}\n",
      "    mumu1 = mu1(N1, N2, Vg1, Vg2).subs(subs_dic)\n",
      "    mumu2 = mu2(N1, N2, Vg1, Vg2).subs(subs_dic)        \n",
      "    \n",
      "    fig_row = idx_ECm // 2\n",
      "    fig_col = idx_ECm % 2\n",
      "    for n1 in range(5):\n",
      "        for n2 in range(5):\n",
      "            sol=[]\n",
      "            # Getting six lines forming each honeycomb structure\n",
      "            \"\"\"\n",
      "            electrochemical potential conditions:\n",
      "            1. The addition energy of dot 1 to (n1, n2) should be negative.\n",
      "            2. The addition energy of dot 2 to (n1, n2) should be negative.\n",
      "            3. The addition energy of dot 1 to (n1+1, n2) should be positive.\n",
      "            since n1 should be the largest possible number whose addition energy is negative.\n",
      "            4. The addition energy of dot 2 to (n1, n2+1) should be positive.\n",
      "            since n2 should be the largest possible number whose addition energy is negative.\n",
      "            \"\"\"\n",
      "            sol.append(solve(mumu1.subs({N1:n1, N2:n2}), Vg2)[0])\n",
      "            sol.append(solve(mumu2.subs({N1:n1, N2:n2}), Vg2)[0])\n",
      "            sol.append(solve(mumu1.subs({N1:n1+1, N2:n2}), Vg2)[0])\n",
      "            sol.append(solve(mumu2.subs({N1:n1, N2:n2+1}), Vg2)[0])            \n",
      "            \"\"\"\n",
      "            degeneracy conditions:\n",
      "            1. The energy gain is the same in (n1, n2-1)\n",
      "            when increasing either N1 or N2 by 1 at the boundary.\n",
      "            2. The energy gain is the same in (n1-1, n2)\n",
      "            when increasing either N1 or N2 by 1 at the boundary.\n",
      "            \"\"\"\n",
      "            sol.append(solve(mumu2.subs({N1:n1, N2:n2})\n",
      "                         -mumu1.subs({N1:n1+1, N2:n2-1}), Vg2)[0])\n",
      "            sol.append(solve(mumu1.subs({N1:n1, N2:n2})\n",
      "                         -mumu2.subs({N1:n1-1, N2:n2+1}), Vg2)[0])\n",
      "\n",
      "            # getting honeycomb x range\n",
      "            \"\"\"\n",
      "            intersection of sol[0] and sol[5] corresponds to the leftmost point of the comb:\n",
      "            \"\"\"\n",
      "            x_start = solve(sol[0]-sol[5], Vg1)[0]\n",
      "            y_start = sol[0].subs(Vg1, x_start)\n",
      "            \"\"\"\n",
      "            intersection of sol[2] and sol[4] corresponds to the rightmost point of the comb: \n",
      "            \"\"\"\n",
      "            x_end = solve(sol[2]-sol[4], Vg1)[0]\n",
      "            y_end = sol[2].subs(Vg1, x_end)\n",
      "\n",
      "            x_vec = np.arange(x_start, x_end, 0.01)\n",
      "            y_vec = np.zeros((6, len(x_vec)))\n",
      "                \n",
      "            for idx in range(6):\n",
      "                g = lambdify([Vg1], sol[idx], 'numpy')\n",
      "                y_vec[idx, :] = g(x_vec)\n",
      "\n",
      "            upper = np.minimum(np.minimum(y_vec[3, :], y_vec[5, :]), y_vec[2, :])  # upper part of each honeycomb\n",
      "            lower = np.maximum(np.maximum(y_vec[0, :], y_vec[1, :]), y_vec[4, :])  # lower part of each honeycomb\n",
      "        \n",
      "            ax[fig_row, fig_col].plot(x_vec, upper, color=fig_color[idx_ECm], lw=2)\n",
      "            ax[fig_row, fig_col].plot(x_vec, lower, color=fig_color[idx_ECm], lw=2)\n",
      "            # adding (n1, n2) values of each honeycomb\n",
      "            ax[fig_row, fig_col].text((x_start+x_end-0.4)/2, (y_start+y_end)/2,\n",
      "                r\"$(%d, %d)$\"% (n1, n2), fontsize=15, color=\"black\")\n",
      "            # marking electron-like and hole-like triple points\n",
      "            ax[fig_row, fig_col].scatter(x_start, y_start, zorder=10, s=50, c='black', lw=2)\n",
      "            ax[fig_row, fig_col].scatter(x_end, y_end, zorder=10, s=150, c='white', lw=2)\n",
      "\n",
      "    # figure settings\n",
      "    ax[fig_row, fig_col].set_xlabel(r'$V_{g1}$', labelpad=10)\n",
      "    ax[fig_row, fig_col].set_ylabel(r'$V_{g2}$', labelpad=10)\n",
      "    ax[fig_row, fig_col].set_xlim([-0.25, 4.3])\n",
      "    ax[fig_row, fig_col].set_ylim([-0.25, 4.3])\n",
      "    ax[fig_row, fig_col].set_title(r\"$C_m/C_{1(2)} = %.2f$\" % ECm_EC)\n",
      "    ax[fig_row, fig_col].set_xticks([])\n",
      "    ax[fig_row, fig_col].set_yticks([])\n",
      "fig.tight_layout();"
     ],
     "language": "python",
     "metadata": {},
     "outputs": [
      {
       "metadata": {},
       "output_type": "display_data",
       "png": "[encoded data removed]",
       "text": [
        "<matplotlib.figure.Figure at 0x11442df28>"
       ]
      }
     ],
     "prompt_number": 56
    },
    {
     "cell_type": "code",
     "collapsed": false,
     "input": [
      "fig, ax = plt.subplots(nrows=2, ncols=2, figsize=(10, 10))\n",
      "fig_color = ['red', 'blue', 'green', 'black']\n",
      "    \n",
      "for idx_ECm, ECm_EC in enumerate([0.001, 0.3, 0.6, 0.999]):\n",
      "    subs_dic={Cg1: 1, Cg2: 1, EC1: 1, EC2: 1, ECm: ECm_EC, e: 1}\n",
      "    mumu1 = mu1(N1, N2, Vg1, Vg2).subs(subs_dic)\n",
      "    mumu2 = mu2(N1, N2, Vg1, Vg2).subs(subs_dic)        \n",
      "    \n",
      "    fig_row = idx_ECm // 2\n",
      "    fig_col = idx_ECm % 2\n",
      "    for N in range(3):  # N = n1 + n2\n",
      "        for n1 in range(N+1):\n",
      "            n2 = N - n1\n",
      "            \n",
      "            sol=[]\n",
      "            # Getting six lines forming each honeycomb structure\n",
      "            \"\"\"\n",
      "            electrochemical potential conditions:\n",
      "            1. The addition energy of dot 1 to (n1, n2) should be negative.\n",
      "            2. The addition energy of dot 2 to (n1, n2) should be negative.\n",
      "            3. The addition energy of dot 1 to (n1+1, n2) should be positive.\n",
      "            since n1 should be the largest possible number whose addition energy is negative.\n",
      "            4. The addition energy of dot 2 to (n1, n2+1) should be positive.\n",
      "            since n2 should be the largest possible number whose addition energy is negative.\n",
      "            \"\"\"\n",
      "            sol.append(solve(mumu2.subs({N1:n1, N2:n2+1}), Vg2)[0])\n",
      "            sol.append(solve(mumu2.subs({N1:n1, N2:n2}), Vg2)[0])\n",
      "            sol.append(solve(mumu1.subs({N1:n1+1, N2:n2}), Vg2)[0])\n",
      "            sol.append(solve(mumu2.subs({N1:n1, N2:n2+1}), Vg2)[0])            \n",
      "            \"\"\"\n",
      "            degeneracy conditions:\n",
      "            1. The energy gain is the same in (n1, n2-1)\n",
      "            when increasing either N1 or N2 by 1 at the boundary.\n",
      "            2. The energy gain is the same in (n1-1, n2)\n",
      "            when increasing either N1 or N2 by 1 at the boundary.\n",
      "            \"\"\"\n",
      "            sol.append(solve(mumu2.subs({N1:n1, N2:n2})\n",
      "                         -mumu1.subs({N1:n1+1, N2:n2-1}), Vg2)[0])\n",
      "            sol.append(solve(mumu1.subs({N1:n1, N2:n2})\n",
      "                         -mumu2.subs({N1:n1-1, N2:n2+1}), Vg2)[0])\n",
      "\n",
      "            # getting honeycomb x range\n",
      "            \"\"\"\n",
      "            intersection of sol[0] and sol[5] corresponds to the leftmost point of the comb:\n",
      "            \"\"\"\n",
      "            x_start = solve(sol[0]-sol[5], Vg1)[0]\n",
      "            y_start = sol[0].subs(Vg1, x_start)\n",
      "            \"\"\"\n",
      "            intersection of sol[2] and sol[4] corresponds to the rightmost point of the comb: \n",
      "            \"\"\"\n",
      "            x_end = solve(sol[2]-sol[4], Vg1)[0]\n",
      "            y_end = sol[2].subs(Vg1, x_end)\n",
      "\n",
      "            x_vec = np.arange(x_start, x_end, 0.01)\n",
      "            y_vec = np.zeros((6, len(x_vec)))\n",
      "\n",
      "            if n1==0:\n",
      "                x0_end = solve(sol[2]-sol[3], Vg1)[0]\n",
      "                y0_end = sol[3].subs(Vg1, x0_end)\n",
      "                \n",
      "                x0_vec = np.arange(x0_end-2, x0_end, 0.01)\n",
      "                func = lambdify([Vg1], sol[3], 'numpy')\n",
      "                \n",
      "                ax[fig_row, fig_col].plot(x0_vec, func(x0_vec), color=fig_color[idx_ECm], lw=2)\n",
      "                ax[fig_row, fig_col].scatter(x0_end, y0_end, zorder=10, s=50, c='black', lw=2)\n",
      "            if n2==0:\n",
      "                x0_start = solve(sol[2]-sol[3], Vg1)[0]\n",
      "                y0_start = sol[2].subs(Vg1, x0_start)\n",
      "                \n",
      "                x0_vec = np.arange(x0_start, x0_start+2, 0.01)\n",
      "                func = lambdify([Vg1], sol[2], 'numpy')\n",
      "                \n",
      "                ax[fig_row, fig_col].plot(x0_vec, func(x0_vec), color=fig_color[idx_ECm], lw=2)\n",
      "                ax[fig_row, fig_col].scatter(x0_start, y0_start, zorder=10, s=50, c='black', lw=2)\n",
      "            \n",
      "            if n1>0 and n2>0:\n",
      "                for idx in range(6):\n",
      "                    func = lambdify([Vg1], sol[idx], 'numpy')\n",
      "                    y_vec[idx, :] = func(x_vec)\n",
      "\n",
      "                upper = np.minimum(np.minimum(y_vec[3, :], y_vec[5, :]), y_vec[2, :])  # upper part of each honeycomb\n",
      "                lower = np.maximum(np.maximum(y_vec[0, :], y_vec[1, :]), y_vec[4, :])  # lower part of each honeycomb\n",
      "\n",
      "                ax[fig_row, fig_col].plot(x_vec, upper, color=fig_color[idx_ECm], lw=2)\n",
      "                ax[fig_row, fig_col].plot(x_vec, lower, color=fig_color[idx_ECm], lw=2)\n",
      "               # marking electron-like and hole-like triple points\n",
      "                ax[fig_row, fig_col].scatter(x_start, y_start, zorder=10, s=50, c='black', lw=2)\n",
      "                ax[fig_row, fig_col].scatter(x_end, y_end, zorder=10, s=150, c='white', lw=2)\n",
      "\n",
      "            # adding (n1, n2) values of each honeycomb\n",
      "            ax[fig_row, fig_col].text((x_start+x_end-0.4)/2, (y_start+y_end)/2,\n",
      "                r\"$(%d, %d)$\"% (n1, n2), fontsize=15, color=\"black\")\n",
      " \n",
      "    # figure settings\n",
      "    ax[fig_row, fig_col].set_xlabel(r'$V_{g1}$', labelpad=10)\n",
      "    ax[fig_row, fig_col].set_ylabel(r'$V_{g2}$', labelpad=10)\n",
      "    ax[fig_row, fig_col].set_xlim([-1, 4.3])\n",
      "    ax[fig_row, fig_col].set_ylim([-1, 4.3])\n",
      "    ax[fig_row, fig_col].set_title(r\"$C_m/C_{1(2)} = %.2f$\" % ECm_EC)\n",
      "    ax[fig_row, fig_col].set_xticks([])\n",
      "    ax[fig_row, fig_col].set_yticks([])\n",
      "fig.tight_layout();"
     ],
     "language": "python",
     "metadata": {},
     "outputs": []
    },
    {
     "cell_type": "code",
     "collapsed": false,
     "input": [
      "range(0)"
     ],
     "language": "python",
     "metadata": {},
     "outputs": [
      {
       "metadata": {},
       "output_type": "pyout",
       "prompt_number": 57,
       "text": [
        "range(0, 0)"
       ]
      }
     ],
     "prompt_number": 57
    },
    {
     "cell_type": "markdown",
     "metadata": {},
     "source": [
      "<ol>\n",
      "<li>For a completely decoupled dots ($C_m = 0$) the diagram looks as in the 1st figure above (<b><font color=\"red\">red</font></b>). In this regime, the gate voltage $V_{1(2)}$ changes the charge on dot $1(2)$, without affecting the charge on the other.</li>\n",
      "<li>If the coupling is increased, the domains become <i>hexagonal</i> as in the 2nd and 3rd figure above (<b><font color=\"blue\">blue</font></b> and <b><font color=\"green\">green</font></b>). The vertices of the square domains have separated into \"<b>triple points</b>.\"</li>\n",
      "<li>When $C_m$ becomes the dominant capacitance ($C_m/C_{1(2)} \\rightarrow 1$), the triple-point separation reaches its maximum, as in the last figure (<font color=\"black\"><b>black</b></font>). The double dot behaves like one dot with charge $N_1 + N_2$.</li>\n",
      "</ol>"
     ]
    },
    {
     "cell_type": "heading",
     "level": 4,
     "metadata": {},
     "source": [
      "Dimensions of the honeycomb cell"
     ]
    },
    {
     "cell_type": "markdown",
     "metadata": {},
     "source": [
      "The dimensions of the honeycomb cell can be related to the capacitances"
     ]
    },
    {
     "cell_type": "markdown",
     "metadata": {},
     "source": [
      "a. From $\\mu_1(N_1, N_2; V_{g1}, V_{g2}) = \\mu_1 (N_1+1, N_2; V_{g1}+\\Delta V_{g1}, V_{g2})$, we obtain"
     ]
    },
    {
     "cell_type": "code",
     "collapsed": false,
     "input": [
      "delta = symbols(\"delta\")"
     ],
     "language": "python",
     "metadata": {},
     "outputs": [],
     "prompt_number": 30
    },
    {
     "cell_type": "code",
     "collapsed": false,
     "input": [
      "dVg1 = solve(mu1(N1+1, N2, Vg1+delta, Vg2) - mu1(N1, N2, Vg1, Vg2), delta)[0]\n",
      "Eq(Symbol(\"{\\Delta}V_{g1}\"), dVg1)"
     ],
     "language": "python",
     "metadata": {},
     "outputs": [
      {
       "latex": [
        "$${\\Delta}V_{{g1}} = \\frac{|e|}{C_{g1}}$$"
       ],
       "metadata": {},
       "output_type": "pyout",
       "png": "[encoded data removed]",
       "prompt_number": 31,
       "text": [
        "                 |e| \n",
        "{\\Delta}V_{g1} = \u2500\u2500\u2500\u2500\n",
        "                 C_g1"
       ]
      }
     ],
     "prompt_number": 31
    },
    {
     "cell_type": "markdown",
     "metadata": {},
     "source": [
      "Similarly, from $\\mu_2(N_1, N_2; V_{g1}, V_{g2}) = \\mu_2 (N_1, N_2+1; V_{g1}, V_{g2}+\\Delta V_{g2})$,"
     ]
    },
    {
     "cell_type": "code",
     "collapsed": false,
     "input": [
      "dVg2 = solve(mu1(N1, N2+1, Vg1, Vg2+delta) - mu1(N1, N2, Vg1, Vg2), delta)[0]\n",
      "Eq(Symbol(\"{\\Delta}V_{g2}\"), dVg2)"
     ],
     "language": "python",
     "metadata": {},
     "outputs": [
      {
       "latex": [
        "$${\\Delta}V_{{g2}} = \\frac{|e|}{C_{g2}}$$"
       ],
       "metadata": {},
       "output_type": "pyout",
       "png": "[encoded data removed]",
       "prompt_number": 32,
       "text": [
        "                 |e| \n",
        "{\\Delta}V_{g2} = \u2500\u2500\u2500\u2500\n",
        "                 C_g2"
       ]
      }
     ],
     "prompt_number": 32
    },
    {
     "cell_type": "markdown",
     "metadata": {},
     "source": [
      "b. From $\\mu_1 (N_1, N_2; V_{g1}, V_{g2}) = \\mu_1 (N_1, N_2+1; V_{g1} + \\Delta V_{g1}^m, V_{g2})$,"
     ]
    },
    {
     "cell_type": "code",
     "collapsed": false,
     "input": [
      "dVg1m = solve(mu1(N1, N2+1, Vg1+delta, Vg2) - mu1(N1, N2, Vg1, Vg2), delta)[0]\n",
      "dVg1m = dVg1m.subs({EC1: e**2*C2/D, EC2: e**2*C1/D, ECm: e**2*Cm/D})\n",
      "Eq(Symbol(\"{\\Delta}V_{g1}^m\"), dVg1m)"
     ],
     "language": "python",
     "metadata": {},
     "outputs": [
      {
       "latex": [
        "$${\\Delta}V^{m}_{{g1}} = \\frac{C_{m} |e|}{C_{2} C_{g1}}$$"
       ],
       "metadata": {},
       "output_type": "pyout",
       "png": "[encoded data removed]",
       "prompt_number": 33,
       "text": [
        "                    C_m\u22c5|e|\n",
        "{\\Delta}V_{g1}__m = \u2500\u2500\u2500\u2500\u2500\u2500\u2500\n",
        "                    C\u2082\u22c5C_g1"
       ]
      }
     ],
     "prompt_number": 33
    },
    {
     "cell_type": "markdown",
     "metadata": {},
     "source": [
      "Similarly, from $\\mu_2 (N_1, N_2; V_{g1}, V_{g2}) = \\mu_2 (N_1+1, N_2; V_{g1} , V_{g2}+ \\Delta V_{g2}^m)$,"
     ]
    },
    {
     "cell_type": "code",
     "collapsed": false,
     "input": [
      "dVg2m = solve(mu2(N1+1, N2, Vg1, Vg2+delta) - mu2(N1, N2, Vg1, Vg2), delta)[0]\n",
      "dVg2m = dVg2m.subs({EC1: e**2*C2/D, EC2: e**2*C1/D, ECm: e**2*Cm/D})\n",
      "Eq(Symbol(\"{\\Delta}V_{g2}^m\"), dVg2m)"
     ],
     "language": "python",
     "metadata": {},
     "outputs": [
      {
       "latex": [
        "$${\\Delta}V^{m}_{{g2}} = \\frac{C_{m} |e|}{C_{1} C_{g2}}$$"
       ],
       "metadata": {},
       "output_type": "pyout",
       "png": "[encoded data removed]",
       "prompt_number": 34,
       "text": [
        "                    C_m\u22c5|e|\n",
        "{\\Delta}V_{g2}__m = \u2500\u2500\u2500\u2500\u2500\u2500\u2500\n",
        "                    C\u2081\u22c5C_g2"
       ]
      }
     ],
     "prompt_number": 34
    },
    {
     "cell_type": "markdown",
     "metadata": {},
     "source": [
      "For a full characterization of all capacitances in the system, an analysis in the <i>nonlinear transport regime</i> is required."
     ]
    },
    {
     "cell_type": "markdown",
     "metadata": {},
     "source": [
      "In the above discussion, we have assumed that $V_{g1}$ and $V_{g2}$ only couple directly to the respective dots. However, there is a finite cross capacitance from one gate to the other in practice. The respective cross capacitances result in a change of the slope of the charge domain boundaries in teh honeycomb diagram."
     ]
    },
    {
     "cell_type": "heading",
     "level": 3,
     "metadata": {},
     "source": [
      "Quantized States"
     ]
    },
    {
     "cell_type": "code",
     "collapsed": false,
     "input": [
      "m, n = symbols(\"m, n\", int=True)\n",
      "\n",
      "def E_level(m):\n",
      "    \"\"\"\n",
      "    Symbolic Expression for discrete Energy Levels\n",
      "    \"\"\"\n",
      "    e = Symbol(\"E_{%s}\" % m)\n",
      "    return e"
     ],
     "language": "python",
     "metadata": {},
     "outputs": [],
     "prompt_number": 35
    },
    {
     "cell_type": "markdown",
     "metadata": {},
     "source": [
      "The strong conefinement of electrons in the dots can lead to the formation of a discrete energy spectrum."
     ]
    },
    {
     "cell_type": "markdown",
     "metadata": {},
     "source": [
      "The electrochemical potential for adding an electron into energy level $n$ of dot $i$ is denoted by $\\mu_{i, n}$. Within the constant interaction model, $\\mu_{i,n}$ is the sum of the classical electrochemical potential $\\mu_{i}^{class}$ and the single-particle energy $E_n$:\\begin{align}\n",
      "\\mu_{i, n} = \\mu_{i}^{class} + E_n\n",
      "\\end{align}"
     ]
    },
    {
     "cell_type": "markdown",
     "metadata": {},
     "source": [
      "In the language of SymPy, we express these into the following:"
     ]
    },
    {
     "cell_type": "code",
     "collapsed": false,
     "input": [
      "def mu1_quant(m, N1, N2, Vg1, Vg2):\n",
      "    return mu1(N1, N2, Vg1, Vg2).expand() + E_level(m)\n",
      "\n",
      "def mu2_quant(m, N1, N2, Vg1, Vg2):\n",
      "    return mu2(N1, N2, Vg1, Vg2).expand() + E_level(m)"
     ],
     "language": "python",
     "metadata": {},
     "outputs": [],
     "prompt_number": 36
    },
    {
     "cell_type": "markdown",
     "metadata": {},
     "source": [
      "In the quantum regime, the addition energy for the $(N_1+1)$th electron occupying discrete level $m$, with the $N_1$ electron occupying discrete level $n$, becomes $\\mu_{1, m}(N_1+1, N_2) - \\mu_{1, n}(N_1, N_2)$ :"
     ]
    },
    {
     "cell_type": "code",
     "collapsed": false,
     "input": [
      "# addition energy of the dot 1\n",
      "add_energy1 = mu1_quant(m, N1+1, N2, Vg1, Vg2) - mu1_quant(n, N1, N2, Vg1, Vg2)\n",
      "add_energy1.subs(E_level(m)-E_level(n), Symbol(\"{\\Delta} E\"))"
     ],
     "language": "python",
     "metadata": {},
     "outputs": [
      {
       "latex": [
        "$$E_{C1} + {\\Delta} E$$"
       ],
       "metadata": {},
       "output_type": "pyout",
       "png": "[encoded data removed]",
       "prompt_number": 37,
       "text": [
        "E_C1 + {\\Delta} E"
       ]
      }
     ],
     "prompt_number": 37
    },
    {
     "cell_type": "markdown",
     "metadata": {},
     "source": [
      "Similarly, we find the addition energy $\\mu_{2,m}(N_1 , N_2+1) - \\mu_{2, n}(N_1, N_2)$ of dot 2 :"
     ]
    },
    {
     "cell_type": "code",
     "collapsed": false,
     "input": [
      "# addition energy of the dot 2\n",
      "add_energy2 = mu2_quant(m, N1, N2+1, Vg1, Vg2) - mu2_quant(n, N1, N2, Vg1, Vg2)\n",
      "add_energy2.subs(E_level(m)-E_level(n), Symbol(\"{\\Delta} E\"))"
     ],
     "language": "python",
     "metadata": {},
     "outputs": [
      {
       "latex": [
        "$$E_{C2} + {\\Delta} E$$"
       ],
       "metadata": {},
       "output_type": "pyout",
       "png": "[encoded data removed]",
       "prompt_number": 38,
       "text": [
        "E_C2 + {\\Delta} E"
       ]
      }
     ],
     "prompt_number": 38
    },
    {
     "cell_type": "markdown",
     "metadata": {},
     "source": [
      "The dimensions of the honeycomb cell are obtained as follows:"
     ]
    },
    {
     "cell_type": "code",
     "collapsed": false,
     "input": [
      "dVg1_quant = solve(mu2_quant(m, N1+1, N2, Vg1+delta, Vg2) - mu1_quant(n, N1, N2, Vg1, Vg2), delta)[0]\n",
      "dVg1_quant = dVg1.subs(E_level(m)-E_level(n), Symbol(\"{\\Delta} E\"))\n",
      "Eq(Symbol(\"{\\Delta}V_{g2}\"), dVg1_quant)"
     ],
     "language": "python",
     "metadata": {},
     "outputs": [
      {
       "latex": [
        "$${\\Delta}V_{{g2}} = \\frac{|e|}{C_{g1}}$$"
       ],
       "metadata": {},
       "output_type": "pyout",
       "png": "[encoded data removed]",
       "prompt_number": 39,
       "text": [
        "                 |e| \n",
        "{\\Delta}V_{g2} = \u2500\u2500\u2500\u2500\n",
        "                 C_g1"
       ]
      }
     ],
     "prompt_number": 39
    },
    {
     "cell_type": "code",
     "collapsed": false,
     "input": [
      "dVg2_quant = solve(mu2_quant(m, N1, N2+1, Vg1, Vg2+delta) - mu2_quant(n, N1, N2, Vg1, Vg2), delta)[0]\n",
      "dVg2_quant = dVg2.subs(E_level(m)-E_level(n), Symbol(\"{\\Delta} E\"))\n",
      "Eq(Symbol(\"{\\Delta}V_{g2}\"), dVg2_quant)"
     ],
     "language": "python",
     "metadata": {},
     "outputs": [
      {
       "latex": [
        "$${\\Delta}V_{{g2}} = \\frac{|e|}{C_{g2}}$$"
       ],
       "metadata": {},
       "output_type": "pyout",
       "png": "[encoded data removed]",
       "prompt_number": 40,
       "text": [
        "                 |e| \n",
        "{\\Delta}V_{g2} = \u2500\u2500\u2500\u2500\n",
        "                 C_g2"
       ]
      }
     ],
     "prompt_number": 40
    },
    {
     "cell_type": "code",
     "collapsed": false,
     "input": [
      "dVg1m_quant = solve(mu1_quant(m, N1, N2+1, Vg1+delta, Vg2) - mu1_quant(n, N1, N2, Vg1, Vg2), delta)[0]\n",
      "dVg1m_quant = dVg1m_quant.subs({EC1: e**2*C2/D, EC2: e**2*C1/D}).subs(D, e**2*Cm/ECm)\n",
      "dVg1m_quant = dVg1m_quant.subs(E_level(m)-E_level(n), Symbol(\"{\\Delta} E\"))\n",
      "Eq(Symbol(\"{\\Delta}V_{g1}^m\"), dVg1m_quant)"
     ],
     "language": "python",
     "metadata": {},
     "outputs": [
      {
       "latex": [
        "$${\\Delta}V^{m}_{{g1}} = \\frac{C_{m} |e| \\left(E_{Cm} + {\\Delta} E\\right)}{C_{2} C_{g1} E_{Cm}}$$"
       ],
       "metadata": {},
       "output_type": "pyout",
       "png": "[encoded data removed]",
       "prompt_number": 41,
       "text": [
        "                    C_m\u22c5|e|\u22c5(E_Cm + {\\Delta} E)\n",
        "{\\Delta}V_{g1}__m = \u2500\u2500\u2500\u2500\u2500\u2500\u2500\u2500\u2500\u2500\u2500\u2500\u2500\u2500\u2500\u2500\u2500\u2500\u2500\u2500\u2500\u2500\u2500\u2500\u2500\u2500\u2500\n",
        "                            C\u2082\u22c5C_g1\u22c5E_Cm       "
       ]
      }
     ],
     "prompt_number": 41
    },
    {
     "cell_type": "code",
     "collapsed": false,
     "input": [
      "dVg2m_quant = solve(mu2_quant(m, N1+1, N2, Vg1, Vg2+delta) - mu2_quant(n, N1, N2, Vg1, Vg2), delta)[0]\n",
      "dVg2m_quant = dVg2m_quant.subs({EC1: e**2*C2/D, EC2: e**2*C1/D}).subs(D, e**2*Cm/ECm)\n",
      "dVg2m_quant = dVg2m_quant.subs(E_level(m)-E_level(n), Symbol(\"{\\Delta} E\"))\n",
      "Eq(Symbol(\"{\\Delta}V_{g2}^m\"), dVg2m_quant)"
     ],
     "language": "python",
     "metadata": {},
     "outputs": [
      {
       "latex": [
        "$${\\Delta}V^{m}_{{g2}} = \\frac{C_{m} |e| \\left(E_{Cm} + {\\Delta} E\\right)}{C_{1} C_{g2} E_{Cm}}$$"
       ],
       "metadata": {},
       "output_type": "pyout",
       "png": "[encoded data removed]",
       "prompt_number": 42,
       "text": [
        "                    C_m\u22c5|e|\u22c5(E_Cm + {\\Delta} E)\n",
        "{\\Delta}V_{g2}__m = \u2500\u2500\u2500\u2500\u2500\u2500\u2500\u2500\u2500\u2500\u2500\u2500\u2500\u2500\u2500\u2500\u2500\u2500\u2500\u2500\u2500\u2500\u2500\u2500\u2500\u2500\u2500\n",
        "                            C\u2081\u22c5C_g2\u22c5E_Cm       "
       ]
      }
     ],
     "prompt_number": 42
    },
    {
     "cell_type": "markdown",
     "metadata": {},
     "source": [
      "The electronic configuration that gives the lowest possible total energy in dot $1(2)$ is referred to as the dot <i>ground state</i>; any configuration with a higher total energy is referred to as an <i>excited state</i>."
     ]
    },
    {
     "cell_type": "markdown",
     "metadata": {},
     "source": [
      "The electrochemical potential for adding the $N_{1(2)}$th electron to the lowest unfilled energy level of the $(N_{1(2)}-1)$th electron ground state is labeled $\\mu_{1, 0}(N_1, N_2)\\ \\{\\mu_{2, 0}(N_1, N_2)\\}$; "
     ]
    },
    {
     "cell_type": "markdown",
     "metadata": {},
     "source": [
      "The electrochemical potential for adding the $N_{1(2)}$th "
     ]
    },
    {
     "cell_type": "code",
     "collapsed": false,
     "input": [
      "fig, ax = plt.subplots(nrows=1, ncols=1, figsize=(6, 6))\n",
      "\n",
      "ECm_EC = 0.3\n",
      "\n",
      "subs_dic={Cg1: 1, Cg2: 1, EC1: 1, EC2: 1, ECm: ECm_EC, e: 1}\n",
      "mumu1 = mu1(N1, N2, Vg1, Vg2).subs(subs_dic)\n",
      "mumu2 = mu2(N1, N2, Vg1, Vg2).subs(subs_dic)        \n",
      "    \n",
      "sol=[]\n",
      "# Getting six lines forming each honeycomb structure\n",
      "\"\"\"\n",
      "electrochemical potential conditions:\n",
      "1. The addition energy of dot 1 to (1, 0) should be negative.\n",
      "2. The addition energy of dot 2 to (0, 1) should be negative.\n",
      "\"\"\"\n",
      "sol.append(solve(mumu1.subs({N1:1, N2:0}), Vg2)[0])   #(0,0) --> (1,0)\n",
      "sol.append(solve(mumu2.subs({N1:0, N2:1}), Vg2)[0])   #(0,0) --> (0,1)\n",
      "\"\"\"\n",
      "3. The addition energy of dot 1 to (1, 1) should be positive.\n",
      "4. The addition energy of dot 2 to (1, 1) should be positive.\n",
      "\"\"\"\n",
      "sol.append(solve(mumu1.subs({N1:1, N2:1}), Vg2)[0])   #(0,1) --> (1,1)\n",
      "sol.append(solve(mumu2.subs({N1:1, N2:1}), Vg2)[0])   #(1,0) --> (1,1)\n",
      "\"\"\"\n",
      "degeneracy conditions:\n",
      "The transitions (0,0)->(1,0) and (0,0)->(0,1) are equally probable\n",
      "\"\"\"\n",
      "sol.append(solve(mumu2.subs({N1:0, N2:1})\n",
      "            -mumu1.subs({N1:1, N2:0}), Vg2)[0])\n",
      "\n",
      "# getting the positions of triple points\n",
      "\"\"\"\n",
      "intersection of sol[0] and sol[4] corresponds to the left triple point\n",
      "\"\"\"\n",
      "x1 = solve(sol[0]-sol[4], Vg1)[0]\n",
      "y1 = sol[0].subs(Vg1, x1)\n",
      "\"\"\"\n",
      "intersection of sol[2] and sol[4] corresponds to the right triple point \n",
      "\"\"\"\n",
      "x2 = solve(sol[2]-sol[4], Vg1)[0]\n",
      "y2 = sol[2].subs(Vg1, x2)\n",
      "\n",
      "x_vec = np.arange(x1-1, x2+1, 0.01)\n",
      "y_vec = np.zeros((5, len(x_vec)))\n",
      "\n",
      "labels = [r'$\\mu_1 (1,0)=0$', r'$\\mu_2 (0,1)=0$', r'$\\mu_1 (1,1)=0$',\n",
      "          r'$\\mu_2 (1,1)=0$', r'$\\mu_1(1,0)=\\mu_2(0,1)$']\n",
      "\n",
      "for idx in range(5):\n",
      "    func = lambdify([Vg1], sol[idx], 'numpy')\n",
      "    y_vec[idx, :] = func(x_vec)\n",
      "    \n",
      "    ax.plot(x_vec, y_vec[idx], ls='--', lw=2, label=labels[idx])\n",
      "\n",
      "boundary1 = np.minimum(y_vec[0], y_vec[1])\n",
      "boundary2 = np.maximum(y_vec[2], y_vec[3])\n",
      "\n",
      "x_vec2 = np.arange(x1, x2, 0.01)\n",
      "degeneracy = lambdify([Vg1], sol[4], 'numpy')(x_vec2)\n",
      "\n",
      "ax.plot(x_vec, boundary1, ls='-', lw=3, color='black')\n",
      "ax.plot(x_vec, boundary2, ls='-', lw=3, color='black')\n",
      "ax.plot(x_vec2, degeneracy, ls='-', lw=3, color='black')\n",
      "\n",
      "ax.scatter(x1, y1, zorder=10, s=300, c='black', lw=3)\n",
      "ax.scatter(x2, y2, zorder=10, s=300, c='white', lw=3)\n",
      "\n",
      "# marking the charge states\n",
      "ax.text(x1-0.2, y1-0.2, r\"$(0, 0)$\", fontsize=30, color=\"black\")\n",
      "ax.text(x1+0.3, y1-0.2, r\"$(1, 0)$\", fontsize=30, color=\"black\")\n",
      "ax.text(x1-0.2, y1+0.4, r\"$(0, 1)$\", fontsize=30, color=\"black\")\n",
      "ax.text(x1+0.3, y1+0.4, r\"$(1, 1)$\", fontsize=30, color=\"black\")\n",
      "\n",
      "ax.text(x1+0.05, y1, r\"$e$\", fontsize=30, color=\"black\")\n",
      "ax.text(x2-0.08, y2-0.03, r\"$h$\", fontsize=30, color=\"black\")\n",
      "\n",
      "ax.set_xlabel(r'$V_{g1}$', labelpad=10); ax.set_ylabel(r'$V_{g2}$', labelpad=10)\n",
      "ax.set_xlim([0.1, 0.9]); ax.set_ylim([0.1, 0.9])\n",
      "ax.set_xticks([]); ax.set_yticks([])\n",
      "fig.tight_layout()\n",
      "ax.legend(bbox_to_anchor=(1.05, 1), loc=2, borderaxespad=0., fontsize=16);"
     ],
     "language": "python",
     "metadata": {},
     "outputs": [
      {
       "metadata": {},
       "output_type": "display_data",
       "png": "[encoded data removed]",
       "text": [
        "<matplotlib.figure.Figure at 0x1133efe10>"
       ]
      }
     ],
     "prompt_number": 72
    },
    {
     "cell_type": "code",
     "collapsed": false,
     "input": [],
     "language": "python",
     "metadata": {},
     "outputs": []
    }
   ],
   "metadata": {}
  }
 ]
}