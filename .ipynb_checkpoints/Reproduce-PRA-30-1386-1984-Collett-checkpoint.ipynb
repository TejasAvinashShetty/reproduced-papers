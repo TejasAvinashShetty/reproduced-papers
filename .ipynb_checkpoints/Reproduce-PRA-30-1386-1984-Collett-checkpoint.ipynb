{
 "metadata": {
  "name": "",
  "signature": "sha256:428bdf99752e94f0116b4ce1d12e6419aace266a4a66a57cfedd8c95ad99cc4c"
 },
 "nbformat": 3,
 "nbformat_minor": 0,
 "worksheets": [
  {
   "cells": [
    {
     "cell_type": "heading",
     "level": 1,
     "metadata": {},
     "source": [
      "Reproduce: Squeezing of intracavity and traveling-wave light fields produced in parametric amplification"
     ]
    },
    {
     "cell_type": "markdown",
     "metadata": {},
     "source": [
      "M. J. Collett and C. W. Gardiner, <i>Squeezing of intracavity and traveling-wave light fields produced in parametric amplification</i>, <a href=\"http://journals.aps.org/pra/abstract/10.1103/PhysRevA.30.1386\">Phys. Rev. A <b>30</b>, 1386 (1984)</a>."
     ]
    },
    {
     "cell_type": "markdown",
     "metadata": {},
     "source": [
      "Author : <b>Eunjong Kim</b> (<a href=\"mailto:ekim7206@gmail.com\">ekim7206@gmail.com</a>)"
     ]
    },
    {
     "cell_type": "markdown",
     "metadata": {},
     "source": [
      "Status : Work in progress"
     ]
    },
    {
     "cell_type": "markdown",
     "metadata": {},
     "source": [
      "In this notebook, I will derive the equations dealing with the input-output formulation of optical cavity, which is a grueling task if done with hand calculation."
     ]
    },
    {
     "cell_type": "heading",
     "level": 2,
     "metadata": {},
     "source": [
      "Setup Modules"
     ]
    },
    {
     "cell_type": "code",
     "collapsed": false,
     "input": [
      "from sympy import *\n",
      "init_printing()"
     ],
     "language": "python",
     "metadata": {},
     "outputs": [],
     "prompt_number": 1
    },
    {
     "cell_type": "code",
     "collapsed": false,
     "input": [
      "from sympsi import *\n",
      "from sympsi.boson import BosonOp, MultiBosonOp, BosonVacuumKet\n",
      "from sympsi.operator import OperatorFunction\n",
      "from sympsi.expectation import Expectation, Covariance\n",
      "from sympsi.operatorordering import normal_ordered_form"
     ],
     "language": "python",
     "metadata": {},
     "outputs": [],
     "prompt_number": 57
    },
    {
     "cell_type": "heading",
     "level": 2,
     "metadata": {},
     "source": [
      "Quantum Stochastic Differential Equation (QSDE)"
     ]
    },
    {
     "cell_type": "code",
     "collapsed": false,
     "input": [
      "x = symbols('x', real=True)\n",
      "t, t0, t1, t_ = symbols(\"t, t_0, t_1, {t'}\", real=True)\n",
      "w, w0, w1, w_ = symbols(\"\\omega, \\omega_0, \\omega_1, {\\omega'}\", real=True)\n",
      "k_w = Function('k')(w)\n",
      "g = Function('g')\n",
      "hbar = Symbol(\"hbar\")"
     ],
     "language": "python",
     "metadata": {},
     "outputs": [],
     "prompt_number": 3
    },
    {
     "cell_type": "markdown",
     "metadata": {},
     "source": [
      "First, define the time-dependent cavity field operators $a(t)$, $a^\\dagger(t)$"
     ]
    },
    {
     "cell_type": "code",
     "collapsed": false,
     "input": [
      "a = BosonOp(\"a\")\n",
      "a_t = OperatorFunction(a, t)\n",
      "a_t"
     ],
     "language": "python",
     "metadata": {},
     "outputs": [
      {
       "latex": [
        "$${{{a}}(t)}$$"
       ],
       "metadata": {},
       "output_type": "pyout",
       "png": "[encoded data removed]",
       "prompt_number": 4,
       "text": [
        "OperatorFunction(a,t)"
       ]
      }
     ],
     "prompt_number": 4
    },
    {
     "cell_type": "markdown",
     "metadata": {},
     "source": [
      "and the time-dependent field operators of the external multimode field, $b_{\\omega}(t)$, $b_{\\omega}^\\dagger(t)$"
     ]
    },
    {
     "cell_type": "code",
     "collapsed": false,
     "input": [
      "b_w = MultiBosonOp(\"b\", w, 'continuous')\n",
      "b_w_t = OperatorFunction(b_w, t)\n",
      "b_w_t"
     ],
     "language": "python",
     "metadata": {},
     "outputs": [
      {
       "latex": [
        "$${{{b_{\\omega}}}(t)}$$"
       ],
       "metadata": {},
       "output_type": "pyout",
       "png": "[encoded data removed]",
       "prompt_number": 5,
       "text": [
        "OperatorFunction(b,t)"
       ]
      }
     ],
     "prompt_number": 5
    },
    {
     "cell_type": "markdown",
     "metadata": {},
     "source": [
      "The interaction Hamiltonian between the cavity field, represented by the harmonic oscillator annihilation and creation operators $a, a^\\dagger$, and the external field in the rotating wave approximation is given by"
     ]
    },
    {
     "cell_type": "code",
     "collapsed": false,
     "input": [
      "Hint = I*hbar * Integral((g(w) * (a_t * Dagger(b_w_t) - b_w_t * Dagger(a_t))).subs(w, w_), (w_,-oo,oo))\n",
      "Hintsym = Symbol(\"{H_{int}} (t)\")\n",
      "Eq(Hintsym, Hint)"
     ],
     "language": "python",
     "metadata": {},
     "outputs": [
      {
       "latex": [
        "$${H_{{int}} (t)} = i \\hbar \\int_{-\\infty}^{\\infty} g{\\left ({\\omega'} \\right )} \\left({{{a}}(t)} {{{{b_{{\\omega'}}}^\\dagger}}(t)} - {{{b_{{\\omega'}}}}(t)} {{{{a}^\\dagger}}(t)}\\right)\\, d{\\omega'}$$"
       ],
       "metadata": {},
       "output_type": "pyout",
       "png": "[encoded data removed]",
       "prompt_number": 6,
       "text": [
        "                     \u221e                                                        \n",
        "                     \u2320                                                        \n",
        "                     \u23ae               \u239b                                      \u239b \n",
        "{H_{int}} (t) = \u2148\u22c5h\u0305\u22c5\u23ae  g({\\omega'})\u22c5\u239dOperatorFunction(a,t)\u22c5OperatorFunction\u239db\n",
        "                     \u2321                                                        \n",
        "                     -\u221e                                                       \n",
        "\n",
        "                                                                 \n",
        "                                                                 \n",
        "\u2020  \u239e                                         \u239b \u2020  \u239e\u239e             \n",
        " ,t\u23a0 - OperatorFunction(b,t)\u22c5OperatorFunction\u239da ,t\u23a0\u23a0 d({\\omega'})\n",
        "                                                                 \n",
        "                                                                 "
       ]
      }
     ],
     "prompt_number": 6
    },
    {
     "cell_type": "heading",
     "level": 3,
     "metadata": {},
     "source": [
      "The Heisenberg Equation of Motion for the field operator $b_t(\\omega)$"
     ]
    },
    {
     "cell_type": "markdown",
     "metadata": {},
     "source": [
      "The Heisenberg equation of motion of the operator $b_\\omega(t) = e^{-i\\omega t} b_\\omega$ can be expressed as\n",
      "\n",
      "\n",
      "\\begin{align}\n",
      "\\frac{d}{dt}b_\\omega(t) = \\frac{\\partial}{\\partial t} b_\\omega(t) - \\frac{i}{\\hbar}[b_\\omega(t), H_{int}(t)]\n",
      "\\end{align}"
     ]
    },
    {
     "cell_type": "code",
     "collapsed": false,
     "input": [
      "b_w_t_diff = b_w_t.diff(t) - I/hbar * Commutator(b_w_t, Hint.replace(w, w_))\n",
      "b_w_t_diff1 = b_w_t_diff.expand(commutator=True).expand(commutator=True).doit()\n",
      "b_w_t_diff2 = pull_outwards(b_w_t_diff1).doit()\n",
      "b_w_t_diff2"
     ],
     "language": "python",
     "metadata": {},
     "outputs": [
      {
       "latex": [
        "$$g{\\left (\\omega \\right )} {{{a}}(t)} + \\frac{\\partial}{\\partial t} {{{b_{\\omega}}}(t)}$$"
       ],
       "metadata": {},
       "output_type": "pyout",
       "png": "[encoded data removed]",
       "prompt_number": 7,
       "text": [
        "                                  \u2202                        \n",
        "g(\\omega)\u22c5OperatorFunction(a,t) + \u2500\u2500(OperatorFunction(b,t))\n",
        "                                  \u2202t                       "
       ]
      }
     ],
     "prompt_number": 7
    },
    {
     "cell_type": "code",
     "collapsed": false,
     "input": [
      "b_w_t_diff3 = b_w_t_diff1.subs(b_w_t, exp(-I*w*t)*b_w).doit().subs(exp(-I*w*t)*b_w, b_w_t)\n",
      "Eq(Symbol(\"{\\dot{b}_\\omega}(t)\"), b_w_t_diff3)"
     ],
     "language": "python",
     "metadata": {},
     "outputs": [
      {
       "latex": [
        "$${\\dot{b}_{\\omega}(t)} = - i \\omega {{{b_{\\omega}}}(t)} + g{\\left (\\omega \\right )} {{{a}}(t)}$$"
       ],
       "metadata": {},
       "output_type": "pyout",
       "png": "[encoded data removed]",
       "prompt_number": 8,
       "text": [
        "{\\dot{b}_\\omega}(t) = -\u2148\u22c5\\omega\u22c5OperatorFunction(b,t) + g(\\omega)\u22c5OperatorFunc\n",
        "tion(a,t)"
       ]
      }
     ],
     "prompt_number": 8
    },
    {
     "cell_type": "markdown",
     "metadata": {},
     "source": [
      "This is equivalent to\n",
      "\\begin{align}\n",
      "\\frac{d}{dt}\\left( e^{i\\omega t} b_\\omega (t)\\right) = e^{i\\omega t} \\left[ \\dot{b}_\\omega(t) + i\\omega b_\\omega (t)\\right] = g(\\omega) a(t) e^{i\\omega t}\n",
      "\\end{align}"
     ]
    },
    {
     "cell_type": "markdown",
     "metadata": {},
     "source": [
      "and the solution to this differential equation can be written in two ways:"
     ]
    },
    {
     "cell_type": "heading",
     "level": 4,
     "metadata": {},
     "source": [
      "a. in terms of the initial conditions at time $t_0 <t$ (the <i>input</i>)"
     ]
    },
    {
     "cell_type": "markdown",
     "metadata": {},
     "source": [
      "\\begin{align}\n",
      "e^{i\\omega t}b_\\omega(t) - e^{i\\omega t_0} b_\\omega(t_0) = \\int_{t_0}^{t\\ \\ \\ } g(\\omega) a(t') e^{i\\omega t'} dt' \\\\\n",
      "\\therefore b_\\omega(t) = e^{-i\\omega(t-t_0)} b_\\omega(t_0) + g(\\omega) \\int_{t_0}^{t} e^{-i\\omega (t-t')} a(t') dt'\n",
      "\\end{align}"
     ]
    },
    {
     "cell_type": "code",
     "collapsed": false,
     "input": [
      "b_w_t_input = exp(-I*w*(t-t0)) * b_w_t(t0) + g(w) * Integral(exp(-I*w*(t-t_)) * a_t(t_), (t_, t0, t))\n",
      "b_w_t_input"
     ],
     "language": "python",
     "metadata": {},
     "outputs": [
      {
       "latex": [
        "$$g{\\left (\\omega \\right )} \\int_{t_{0}}^{t} e^{- i \\omega \\left(t - {t'}\\right)} {{{a}}({t'})}\\, d{t'} + e^{- i \\omega \\left(t - t_{0}\\right)} {{{b_{\\omega}}}(t_{0})}$$"
       ],
       "metadata": {},
       "output_type": "pyout",
       "png": "[encoded data removed]",
       "prompt_number": 9,
       "text": [
        "          t                                                                   \n",
        "          \u2320                                                                   \n",
        "          \u23ae   -\u2148\u22c5\\omega\u22c5(t - {t'})                                     -\u2148\u22c5\\ome\n",
        "g(\\omega)\u22c5\u23ae  \u212f                    \u22c5OperatorFunction(a,{t'}) d({t'}) + \u212f       \n",
        "          \u2321                                                                   \n",
        "          t\u2080                                                                  \n",
        "\n",
        "                                  \n",
        "                                  \n",
        "ga\u22c5(t - t\u2080)                       \n",
        "           \u22c5OperatorFunction(b,t\u2080)\n",
        "                                  \n",
        "                                  "
       ]
      }
     ],
     "prompt_number": 9
    },
    {
     "cell_type": "heading",
     "level": 4,
     "metadata": {},
     "source": [
      "b. in terms of the final conditions at time $t_1>t$ (the <i>output</i>)"
     ]
    },
    {
     "cell_type": "markdown",
     "metadata": {},
     "source": [
      "\n",
      "\\begin{align}\n",
      "\\displaystyle e^{i\\omega t_1}b_\\omega(t_1) - e^{i\\omega t} b_\\omega(t) = \\int_{t}^{t_1\\ \\ } g(\\omega) a(t') e^{i\\omega t'} dt'\\\\\n",
      "\\therefore b_\\omega(t) = e^{-i\\omega(t-t_1)} b_\\omega(t_1) - g(\\omega) \\int_{t}^{t_1} e^{-i\\omega (t-t')} a(t') dt'\n",
      "\\end{align}"
     ]
    },
    {
     "cell_type": "code",
     "collapsed": false,
     "input": [
      "b_w_t_output = exp(-I*w*(t-t1)) * b_w_t(t1) - g(w) * Integral(exp(-I*w*(t-t_))*a_t(t_), (t_, t, t1))\n",
      "b_w_t_output"
     ],
     "language": "python",
     "metadata": {},
     "outputs": [
      {
       "latex": [
        "$$- g{\\left (\\omega \\right )} \\int_{t}^{t_{1}} e^{- i \\omega \\left(t - {t'}\\right)} {{{a}}({t'})}\\, d{t'} + e^{- i \\omega \\left(t - t_{1}\\right)} {{{b_{\\omega}}}(t_{1})}$$"
       ],
       "metadata": {},
       "output_type": "pyout",
       "png": "[encoded data removed]",
       "prompt_number": 10,
       "text": [
        "            t\u2081                                                                \n",
        "            \u2320                                                                 \n",
        "            \u23ae   -\u2148\u22c5\\omega\u22c5(t - {t'})                                     -\u2148\u22c5\\o\n",
        "- g(\\omega)\u22c5\u23ae  \u212f                    \u22c5OperatorFunction(a,{t'}) d({t'}) + \u212f     \n",
        "            \u2321                                                                 \n",
        "            t                                                                 \n",
        "\n",
        "                                    \n",
        "                                    \n",
        "mega\u22c5(t - t\u2081)                       \n",
        "             \u22c5OperatorFunction(b,t\u2081)\n",
        "                                    \n",
        "                                    "
       ]
      }
     ],
     "prompt_number": 10
    },
    {
     "cell_type": "heading",
     "level": 3,
     "metadata": {},
     "source": [
      "The Heisenberg equation of motion of the cavity field operator $a(t)$"
     ]
    },
    {
     "cell_type": "markdown",
     "metadata": {},
     "source": [
      "The Heisenberg equation of motion of the cavity field operator can be expressed as\n",
      "\n",
      "\n",
      "\\begin{align}\n",
      "\\dot{a} =  - \\frac{i}{\\hbar}[a, H_{sys}] - \\frac{i}{\\hbar}[a, H_{int}] \n",
      "\\end{align}"
     ]
    },
    {
     "cell_type": "code",
     "collapsed": false,
     "input": [
      "Hint = Hint.replace(w_, w)\n",
      "Hint"
     ],
     "language": "python",
     "metadata": {},
     "outputs": [
      {
       "latex": [
        "$$i \\hbar \\int_{-\\infty}^{\\infty} g{\\left (\\omega \\right )} \\left({{{a}}(t)} {{{{b_{\\omega}}^\\dagger}}(t)} - {{{b_{\\omega}}}(t)} {{{{a}^\\dagger}}(t)}\\right)\\, d\\omega$$"
       ],
       "metadata": {},
       "output_type": "pyout",
       "png": "[encoded data removed]",
       "prompt_number": 11,
       "text": [
        "     \u221e                                                                        \n",
        "     \u2320                                                                        \n",
        "     \u23ae            \u239b                                      \u239b \u2020  \u239e               \n",
        "\u2148\u22c5h\u0305\u22c5\u23ae  g(\\omega)\u22c5\u239dOperatorFunction(a,t)\u22c5OperatorFunction\u239db ,t\u23a0 - OperatorFunc\n",
        "     \u2321                                                                        \n",
        "     -\u221e                                                                       \n",
        "\n",
        "                                           \n",
        "                                           \n",
        "                          \u239b \u2020  \u239e\u239e          \n",
        "tion(b,t)\u22c5OperatorFunction\u239da ,t\u23a0\u23a0 d(\\omega)\n",
        "                                           \n",
        "                                           "
       ]
      }
     ],
     "prompt_number": 11
    },
    {
     "cell_type": "code",
     "collapsed": false,
     "input": [
      "Hsyssym = Operator('H_sys') # Hamiltonian of the system\n",
      "term1 = -I/hbar * Commutator(a_t, Hsyssym)\n",
      "term1"
     ],
     "language": "python",
     "metadata": {},
     "outputs": [
      {
       "latex": [
        "$$\\frac{i \\left[H_{sys},{{{a}}(t)}\\right]}{\\hbar}$$"
       ],
       "metadata": {},
       "output_type": "pyout",
       "png": "[encoded data removed]",
       "prompt_number": 12,
       "text": [
        "\u2148\u22c5[H_sys,OperatorFunction(a,t)]\n",
        "\u2500\u2500\u2500\u2500\u2500\u2500\u2500\u2500\u2500\u2500\u2500\u2500\u2500\u2500\u2500\u2500\u2500\u2500\u2500\u2500\u2500\u2500\u2500\u2500\u2500\u2500\u2500\u2500\u2500\u2500\u2500\n",
        "               h\u0305              "
       ]
      }
     ],
     "prompt_number": 12
    },
    {
     "cell_type": "code",
     "collapsed": false,
     "input": [
      "term2_0 = -I/hbar * Commutator(a_t, Hint)\n",
      "term2_1 = term2_0.expand(commutator=True).expand(commutator=True).doit(independent=True)\n",
      "term2_1"
     ],
     "language": "python",
     "metadata": {},
     "outputs": [
      {
       "latex": [
        "$$- \\int_{-\\infty}^{\\infty} g{\\left (\\omega \\right )} {{{b_{\\omega}}}(t)}\\, d\\omega$$"
       ],
       "metadata": {},
       "output_type": "pyout",
       "png": "[encoded data removed]",
       "prompt_number": 13,
       "text": [
        " \u221e                                           \n",
        " \u2320                                           \n",
        "-\u23ae  g(\\omega)\u22c5OperatorFunction(b,t) d(\\omega)\n",
        " \u2321                                           \n",
        " -\u221e                                          "
       ]
      }
     ],
     "prompt_number": 13
    },
    {
     "cell_type": "markdown",
     "metadata": {},
     "source": [
      "substituting the solution in terms of the input field,"
     ]
    },
    {
     "cell_type": "code",
     "collapsed": false,
     "input": [
      "term2_2 = term2_1.replace(b_w_t, b_w_t_input).expand()\n",
      "term2_2"
     ],
     "language": "python",
     "metadata": {},
     "outputs": [
      {
       "latex": [
        "$$- \\int_{-\\infty}^{\\infty} g^{2}{\\left (\\omega \\right )} \\int_{t_{0}}^{t} e^{- i \\omega t} e^{i \\omega {t'}} {{{a}}({t'})}\\, d{t'} + g{\\left (\\omega \\right )} e^{- i \\omega t} e^{i \\omega t_{0}} {{{b_{\\omega}}}(t_{0})}\\, d\\omega$$"
       ],
       "metadata": {},
       "output_type": "pyout",
       "png": "[encoded data removed]",
       "prompt_number": 14,
       "text": [
        " \u221e                                                                            \n",
        " \u2320                                                                            \n",
        " \u23ae  \u239b           t                                                             \n",
        " \u23ae  \u239c           \u2320                                                             \n",
        " \u23ae  \u239c 2         \u23ae   -\u2148\u22c5\\omega\u22c5t  \u2148\u22c5\\omega\u22c5{t'}                                \n",
        "-\u23ae  \u239cg (\\omega)\u22c5\u23ae  \u212f           \u22c5\u212f             \u22c5OperatorFunction(a,{t'}) d({t'}\n",
        " \u23ae  \u239c           \u2321                                                             \n",
        " \u23ae  \u239d           t\u2080                                                            \n",
        " \u2321                                                                            \n",
        " -\u221e                                                                           \n",
        "\n",
        "                                                                         \n",
        "                                                                         \n",
        "                                                              \u239e          \n",
        "                                                              \u239f          \n",
        "               -\u2148\u22c5\\omega\u22c5t  \u2148\u22c5\\omega\u22c5t\u2080                       \u239f          \n",
        ") + g(\\omega)\u22c5\u212f           \u22c5\u212f           \u22c5OperatorFunction(b,t\u2080)\u239f d(\\omega)\n",
        "                                                              \u239f          \n",
        "                                                              \u23a0          \n",
        "                                                                         \n",
        "                                                                         "
       ]
      }
     ],
     "prompt_number": 14
    },
    {
     "cell_type": "code",
     "collapsed": false,
     "input": [
      "term2_3 = pull_outwards(term2_2)\n",
      "term2_3"
     ],
     "language": "python",
     "metadata": {},
     "outputs": [
      {
       "latex": [
        "$$- \\int_{-\\infty}^{\\infty} g^{2}{\\left (\\omega \\right )} e^{- i \\omega t} \\int_{t_{0}}^{t} e^{i \\omega {t'}} {{{a}}({t'})}\\, d{t'}\\, d\\omega - \\int_{-\\infty}^{\\infty} g{\\left (\\omega \\right )} e^{- i \\omega t} e^{i \\omega t_{0}} {{{b_{\\omega}}}(t_{0})}\\, d\\omega$$"
       ],
       "metadata": {},
       "output_type": "pyout",
       "png": "[encoded data removed]",
       "prompt_number": 15,
       "text": [
        "  \u221e                                                                           \n",
        "  \u2320                                                                           \n",
        "  \u23ae                          t                                                \n",
        "  \u23ae                          \u2320                                                \n",
        "  \u23ae   2          -\u2148\u22c5\\omega\u22c5t \u23ae   \u2148\u22c5\\omega\u22c5{t'}                                \n",
        "- \u23ae  g (\\omega)\u22c5\u212f           \u22c5\u23ae  \u212f             \u22c5OperatorFunction(a,{t'}) d({t'}\n",
        "  \u23ae                          \u2321                                                \n",
        "  \u23ae                          t\u2080                                               \n",
        "  \u2321                                                                           \n",
        "  -\u221e                                                                          \n",
        "\n",
        "                                                                              \n",
        "                                                                              \n",
        "              \u221e                                                               \n",
        "              \u2320                                                               \n",
        "              \u23ae             -\u2148\u22c5\\omega\u22c5t  \u2148\u22c5\\omega\u22c5t\u2080                          \n",
        ") d(\\omega) - \u23ae  g(\\omega)\u22c5\u212f           \u22c5\u212f           \u22c5OperatorFunction(b,t\u2080) d(\n",
        "              \u2321                                                               \n",
        "              -\u221e                                                              \n",
        "                                                                              \n",
        "                                                                              \n",
        "\n",
        "       \n",
        "       \n",
        "       \n",
        "       \n",
        "       \n",
        "\\omega)\n",
        "       \n",
        "       \n",
        "       \n",
        "       "
       ]
      }
     ],
     "prompt_number": 15
    },
    {
     "cell_type": "heading",
     "level": 3,
     "metadata": {},
     "source": [
      "Markov quantum stochastic process"
     ]
    },
    {
     "cell_type": "markdown",
     "metadata": {},
     "source": [
      "Suppose that $g(\\omega)$ is independent of the frequency over a wide range of frequencies around $\\omega=0$ and has the value"
     ]
    },
    {
     "cell_type": "code",
     "collapsed": false,
     "input": [
      "gamma = Symbol(\"\\gamma\", real=True); Eq(g(w)**2, gamma/(2*pi))"
     ],
     "language": "python",
     "metadata": {},
     "outputs": [
      {
       "latex": [
        "$$g^{2}{\\left (\\omega \\right )} = \\frac{\\gamma}{2 \\pi}$$"
       ],
       "metadata": {},
       "output_type": "pyout",
       "png": "[encoded data removed]",
       "prompt_number": 16,
       "text": [
        " 2           \\gamma\n",
        "g (\\omega) = \u2500\u2500\u2500\u2500\u2500\u2500\n",
        "              2\u22c5\u03c0  "
       ]
      }
     ],
     "prompt_number": 16
    },
    {
     "cell_type": "code",
     "collapsed": false,
     "input": [
      "term2_4 = pull_outwards(term2_3.replace(g(w), sqrt(gamma/(2*pi))))\n",
      "term2_4"
     ],
     "language": "python",
     "metadata": {},
     "outputs": [
      {
       "latex": [
        "$$- \\frac{\\sqrt{2} \\sqrt{\\gamma}}{2 \\sqrt{\\pi}} \\int_{-\\infty}^{\\infty} e^{- i \\omega t} e^{i \\omega t_{0}} {{{b_{\\omega}}}(t_{0})}\\, d\\omega - \\frac{\\gamma}{2 \\pi} \\int_{-\\infty}^{\\infty} e^{- i \\omega t} \\int_{t_{0}}^{t} e^{i \\omega {t'}} {{{a}}({t'})}\\, d{t'}\\, d\\omega$$"
       ],
       "metadata": {},
       "output_type": "pyout",
       "png": "[encoded data removed]",
       "prompt_number": 17,
       "text": [
        "                                                                              \n",
        "                                                                              \n",
        "                                                                              \n",
        "                                                                              \n",
        "                   \u221e                                                          \n",
        "                   \u2320                                                          \n",
        "    ___   ________ \u23ae   -\u2148\u22c5\\omega\u22c5t  \u2148\u22c5\\omega\u22c5t\u2080                               \n",
        "  \u2572\u2571 2 \u22c5\u2572\u2571 \\gamma \u22c5\u23ae  \u212f           \u22c5\u212f           \u22c5OperatorFunction(b,t\u2080) d(\\omeg\n",
        "                   \u2321                                                          \n",
        "                   -\u221e                                                         \n",
        "- \u2500\u2500\u2500\u2500\u2500\u2500\u2500\u2500\u2500\u2500\u2500\u2500\u2500\u2500\u2500\u2500\u2500\u2500\u2500\u2500\u2500\u2500\u2500\u2500\u2500\u2500\u2500\u2500\u2500\u2500\u2500\u2500\u2500\u2500\u2500\u2500\u2500\u2500\u2500\u2500\u2500\u2500\u2500\u2500\u2500\u2500\u2500\u2500\u2500\u2500\u2500\u2500\u2500\u2500\u2500\u2500\u2500\u2500\u2500\u2500\u2500\u2500\u2500\u2500\u2500\u2500\u2500\u2500\u2500\u2500\u2500\u2500\u2500\u2500\u2500\u2500\n",
        "                                         ___                                  \n",
        "                                     2\u22c5\u2572\u2571 \u03c0                                   \n",
        "\n",
        "            \u221e                                                                 \n",
        "            \u2320                                                                 \n",
        "            \u23ae               t                                                 \n",
        "            \u23ae               \u2320                                                 \n",
        "            \u23ae   -\u2148\u22c5\\omega\u22c5t \u23ae   \u2148\u22c5\\omega\u22c5{t'}                                 \n",
        "     \\gamma\u22c5\u23ae  \u212f           \u22c5\u23ae  \u212f             \u22c5OperatorFunction(a,{t'}) d({t'})\n",
        "            \u23ae               \u2321                                                 \n",
        "a)          \u23ae               t\u2080                                                \n",
        "            \u2321                                                                 \n",
        "            -\u221e                                                                \n",
        "\u2500\u2500 - \u2500\u2500\u2500\u2500\u2500\u2500\u2500\u2500\u2500\u2500\u2500\u2500\u2500\u2500\u2500\u2500\u2500\u2500\u2500\u2500\u2500\u2500\u2500\u2500\u2500\u2500\u2500\u2500\u2500\u2500\u2500\u2500\u2500\u2500\u2500\u2500\u2500\u2500\u2500\u2500\u2500\u2500\u2500\u2500\u2500\u2500\u2500\u2500\u2500\u2500\u2500\u2500\u2500\u2500\u2500\u2500\u2500\u2500\u2500\u2500\u2500\u2500\u2500\u2500\u2500\u2500\u2500\u2500\u2500\u2500\u2500\u2500\u2500\n",
        "                                             2\u22c5\u03c0                              \n",
        "                                                                              \n",
        "\n",
        "          \n",
        "          \n",
        "          \n",
        "          \n",
        "          \n",
        " d(\\omega)\n",
        "          \n",
        "          \n",
        "          \n",
        "          \n",
        "\u2500\u2500\u2500\u2500\u2500\u2500\u2500\u2500\u2500\u2500\n",
        "          \n",
        "          "
       ]
      }
     ],
     "prompt_number": 17
    },
    {
     "cell_type": "markdown",
     "metadata": {},
     "source": [
      "Defining an <i>input field</i> as "
     ]
    },
    {
     "cell_type": "markdown",
     "metadata": {},
     "source": [
      "\\begin{align}\n",
      "a_{in}(t) = -\\frac{1}{\\sqrt{2\\pi}} \\int_{-\\infty}^{\\infty} d\\omega\\ e^{-i\\omega(t-t_0)} b_\\omega(t_0)\n",
      "\\end{align}"
     ]
    },
    {
     "cell_type": "code",
     "collapsed": false,
     "input": [
      "a_in_t = -1/sqrt(2*pi) * Integral(exp(-I*w*(t-t0)) * b_w_t(t0), (w, -oo, oo))\n",
      "a_in_t"
     ],
     "language": "python",
     "metadata": {},
     "outputs": [
      {
       "latex": [
        "$$- \\frac{\\sqrt{2}}{2 \\sqrt{\\pi}} \\int_{-\\infty}^{\\infty} e^{- i \\omega \\left(t - t_{0}\\right)} {{{b_{\\omega}}}(t_{0})}\\, d\\omega$$"
       ],
       "metadata": {},
       "output_type": "pyout",
       "png": "[encoded data removed]",
       "prompt_number": 18,
       "text": [
        "       \u221e                                                       \n",
        "       \u2320                                                       \n",
        "   ___ \u23ae   -\u2148\u22c5\\omega\u22c5(t - t\u2080)                                  \n",
        "-\u2572\u2571 2 \u22c5\u23ae  \u212f                  \u22c5OperatorFunction(b,t\u2080) d(\\omega) \n",
        "       \u2321                                                       \n",
        "       -\u221e                                                      \n",
        "\u2500\u2500\u2500\u2500\u2500\u2500\u2500\u2500\u2500\u2500\u2500\u2500\u2500\u2500\u2500\u2500\u2500\u2500\u2500\u2500\u2500\u2500\u2500\u2500\u2500\u2500\u2500\u2500\u2500\u2500\u2500\u2500\u2500\u2500\u2500\u2500\u2500\u2500\u2500\u2500\u2500\u2500\u2500\u2500\u2500\u2500\u2500\u2500\u2500\u2500\u2500\u2500\u2500\u2500\u2500\u2500\u2500\u2500\u2500\u2500\u2500\u2500\u2500\n",
        "                                ___                            \n",
        "                            2\u22c5\u2572\u2571 \u03c0                             "
       ]
      }
     ],
     "prompt_number": 18
    },
    {
     "cell_type": "markdown",
     "metadata": {},
     "source": [
      "This operator satisfies the commutation relation"
     ]
    },
    {
     "cell_type": "markdown",
     "metadata": {},
     "source": [
      "$[a_{in}(t), a_{in}^\\dagger(t')] = $"
     ]
    },
    {
     "cell_type": "code",
     "collapsed": false,
     "input": [
      "comm = Commutator(a_in_t, Dagger(a_in_t.replace(t, t_)).replace(w, w_))\n",
      "comm"
     ],
     "language": "python",
     "metadata": {},
     "outputs": [
      {
       "latex": [
        "$$- \\frac{1}{2 \\pi} \\left[\\int_{-\\infty}^{\\infty} e^{i {\\omega'} \\left(- t_{0} + {t'}\\right)} {{{{b_{{\\omega'}}}^\\dagger}}(t_{0})}\\, d{\\omega'},\\int_{-\\infty}^{\\infty} e^{- i \\omega \\left(t - t_{0}\\right)} {{{b_{\\omega}}}(t_{0})}\\, d\\omega\\right]$$"
       ],
       "metadata": {},
       "output_type": "pyout",
       "png": "[encoded data removed]",
       "prompt_number": 19,
       "text": [
        " \u23a1\u221e                                                                 \u221e         \n",
        " \u23a2\u2320                                                                 \u2320         \n",
        " \u23a2\u23ae   \u2148\u22c5{\\omega'}\u22c5(-t\u2080 + {t'})                 \u239b \u2020   \u239e              \u23ae   -\u2148\u22c5\\om\n",
        "-\u23a2\u23ae  \u212f                        \u22c5OperatorFunction\u239db ,t\u2080\u23a0 d({\\omega'}),\u23ae  \u212f      \n",
        " \u23a2\u2321                                                                 \u2321         \n",
        " \u23a3-\u221e                                                                -\u221e        \n",
        "\u2500\u2500\u2500\u2500\u2500\u2500\u2500\u2500\u2500\u2500\u2500\u2500\u2500\u2500\u2500\u2500\u2500\u2500\u2500\u2500\u2500\u2500\u2500\u2500\u2500\u2500\u2500\u2500\u2500\u2500\u2500\u2500\u2500\u2500\u2500\u2500\u2500\u2500\u2500\u2500\u2500\u2500\u2500\u2500\u2500\u2500\u2500\u2500\u2500\u2500\u2500\u2500\u2500\u2500\u2500\u2500\u2500\u2500\u2500\u2500\u2500\u2500\u2500\u2500\u2500\u2500\u2500\u2500\u2500\u2500\u2500\u2500\u2500\u2500\u2500\u2500\u2500\u2500\n",
        "                                                             2\u22c5\u03c0              \n",
        "\n",
        "                                             \u23a4 \n",
        "                                             \u23a5 \n",
        "ega\u22c5(t - t\u2080)                                 \u23a5 \n",
        "            \u22c5OperatorFunction(b,t\u2080) d(\\omega)\u23a5 \n",
        "                                             \u23a5 \n",
        "                                             \u23a6 \n",
        "\u2500\u2500\u2500\u2500\u2500\u2500\u2500\u2500\u2500\u2500\u2500\u2500\u2500\u2500\u2500\u2500\u2500\u2500\u2500\u2500\u2500\u2500\u2500\u2500\u2500\u2500\u2500\u2500\u2500\u2500\u2500\u2500\u2500\u2500\u2500\u2500\u2500\u2500\u2500\u2500\u2500\u2500\u2500\u2500\u2500\u2500\u2500\n",
        "                                               "
       ]
      }
     ],
     "prompt_number": 19
    },
    {
     "cell_type": "code",
     "collapsed": false,
     "input": [
      "replace_dirac_delta(pull_outwards(push_inwards(comm.expand(commutator=True).expand(commutator=True)).doit().args[1][0]))"
     ],
     "language": "python",
     "metadata": {},
     "outputs": [
      {
       "latex": [
        "$$\\delta\\left(- t + {t'}\\right)$$"
       ],
       "metadata": {},
       "output_type": "pyout",
       "png": "[encoded data removed]",
       "prompt_number": 20,
       "text": [
        "DiracDelta(-t + {t'})"
       ]
      }
     ],
     "prompt_number": 20
    },
    {
     "cell_type": "markdown",
     "metadata": {},
     "source": [
      "The operator $a_{in}(t)$ satisfies the commutation relations:\n",
      "\\begin{align}\n",
      "[a_{in}(t),a_{in}^\\dagger (t')] = \\delta (t-t'), \\quad [a_{in}(t),a_{in}(t')] =[a_{in}^\\dagger(t),a_{in}^\\dagger (t')] =0\n",
      "\\end{align}"
     ]
    },
    {
     "cell_type": "markdown",
     "metadata": {},
     "source": [
      "So it is possible to treat them as multimode Bosonic Operators with continuous mode $t$."
     ]
    },
    {
     "cell_type": "code",
     "collapsed": false,
     "input": [
      "a_in = Operator('a_in')\n",
      "a_in_t = OperatorFunction(a_in, t)\n",
      "a_in_t"
     ],
     "language": "python",
     "metadata": {},
     "outputs": [
      {
       "latex": [
        "$${{a_{in}}(t)}$$"
       ],
       "metadata": {},
       "output_type": "pyout",
       "png": "[encoded data removed]",
       "prompt_number": 21,
       "text": [
        "OperatorFunction(a_in,t)"
       ]
      }
     ],
     "prompt_number": 21
    },
    {
     "cell_type": "code",
     "collapsed": false,
     "input": [
      "term2_5 = term2_4.subs(Integral(exp(-I*w*(t-t0)) * b_w_t(t0), (w, -oo, oo)).expand(), -sqrt(2*pi)* a_in_t)\n",
      "term2_5"
     ],
     "language": "python",
     "metadata": {},
     "outputs": [
      {
       "latex": [
        "$$\\sqrt{\\gamma} {{a_{in}}(t)} - \\frac{\\gamma}{2 \\pi} \\int_{-\\infty}^{\\infty} e^{- i \\omega t} \\int_{t_{0}}^{t} e^{i \\omega {t'}} {{{a}}({t'})}\\, d{t'}\\, d\\omega$$"
       ],
       "metadata": {},
       "output_type": "pyout",
       "png": "[encoded data removed]",
       "prompt_number": 22,
       "text": [
        "                                             \u221e                                \n",
        "                                             \u2320                                \n",
        "                                             \u23ae               t                \n",
        "                                             \u23ae               \u2320                \n",
        "                                             \u23ae   -\u2148\u22c5\\omega\u22c5t \u23ae   \u2148\u22c5\\omega\u22c5{t'}\n",
        "                                      \\gamma\u22c5\u23ae  \u212f           \u22c5\u23ae  \u212f             \n",
        "                                             \u23ae               \u2321                \n",
        "                                             \u23ae               t\u2080               \n",
        "                                             \u2321                                \n",
        "  ________                                   -\u221e                               \n",
        "\u2572\u2571 \\gamma \u22c5OperatorFunction(a_in,t) - \u2500\u2500\u2500\u2500\u2500\u2500\u2500\u2500\u2500\u2500\u2500\u2500\u2500\u2500\u2500\u2500\u2500\u2500\u2500\u2500\u2500\u2500\u2500\u2500\u2500\u2500\u2500\u2500\u2500\u2500\u2500\u2500\u2500\u2500\u2500\u2500\u2500\u2500\u2500\u2500\n",
        "                                                                              \n",
        "\n",
        "                                           \n",
        "                                           \n",
        "                                           \n",
        "                                           \n",
        "                                           \n",
        "\u22c5OperatorFunction(a,{t'}) d({t'}) d(\\omega)\n",
        "                                           \n",
        "                                           \n",
        "                                           \n",
        "                                           \n",
        "\u2500\u2500\u2500\u2500\u2500\u2500\u2500\u2500\u2500\u2500\u2500\u2500\u2500\u2500\u2500\u2500\u2500\u2500\u2500\u2500\u2500\u2500\u2500\u2500\u2500\u2500\u2500\u2500\u2500\u2500\u2500\u2500\u2500\u2500\u2500\u2500\u2500\u2500\u2500\u2500\u2500\u2500\u2500\n",
        "2\u22c5\u03c0                                        "
       ]
      }
     ],
     "prompt_number": 22
    },
    {
     "cell_type": "markdown",
     "metadata": {},
     "source": [
      "Applying the <b>Leibniz integral rule</b>(http://en.wikipedia.org/wiki/Leibniz_integral_rule),"
     ]
    },
    {
     "cell_type": "code",
     "collapsed": false,
     "input": [
      "term2_6 = pull_outwards(exchange_integral_order(push_inwards(term2_5)))\n",
      "term2_6"
     ],
     "language": "python",
     "metadata": {},
     "outputs": [
      {
       "latex": [
        "$$\\sqrt{\\gamma} {{a_{in}}(t)} - \\frac{\\gamma}{2 \\pi} \\int_{t_{0}}^{t} \\left(\\int_{-\\infty}^{\\infty} e^{- i \\omega t} e^{i \\omega {t'}}\\, d\\omega\\right) {{{a}}({t'})}\\, d{t'}$$"
       ],
       "metadata": {},
       "output_type": "pyout",
       "png": "[encoded data removed]",
       "prompt_number": 23,
       "text": [
        "                                             t                                \n",
        "                                             \u2320                                \n",
        "                                             \u23ae  \u239b\u221e                            \n",
        "                                             \u23ae  \u239c\u2320                            \n",
        "                                             \u23ae  \u239c\u23ae   -\u2148\u22c5\\omega\u22c5t  \u2148\u22c5\\omega\u22c5{t'\n",
        "                                      \\gamma\u22c5\u23ae  \u239c\u23ae  \u212f           \u22c5\u212f            \n",
        "                                             \u23ae  \u239c\u2321                            \n",
        "                                             \u23ae  \u239d-\u221e                           \n",
        "                                             \u2321                                \n",
        "  ________                                   t\u2080                               \n",
        "\u2572\u2571 \\gamma \u22c5OperatorFunction(a_in,t) - \u2500\u2500\u2500\u2500\u2500\u2500\u2500\u2500\u2500\u2500\u2500\u2500\u2500\u2500\u2500\u2500\u2500\u2500\u2500\u2500\u2500\u2500\u2500\u2500\u2500\u2500\u2500\u2500\u2500\u2500\u2500\u2500\u2500\u2500\u2500\u2500\u2500\u2500\u2500\u2500\n",
        "                                                                              \n",
        "\n",
        "                                             \n",
        "                                             \n",
        "           \u239e                                 \n",
        "           \u239f                                 \n",
        "}          \u239f                                 \n",
        "  d(\\omega)\u239f\u22c5OperatorFunction(a,{t'}) d({t'})\n",
        "           \u239f                                 \n",
        "           \u23a0                                 \n",
        "                                             \n",
        "                                             \n",
        "\u2500\u2500\u2500\u2500\u2500\u2500\u2500\u2500\u2500\u2500\u2500\u2500\u2500\u2500\u2500\u2500\u2500\u2500\u2500\u2500\u2500\u2500\u2500\u2500\u2500\u2500\u2500\u2500\u2500\u2500\u2500\u2500\u2500\u2500\u2500\u2500\u2500\u2500\u2500\u2500\u2500\u2500\u2500\u2500\u2500\n",
        " 2\u22c5\u03c0                                         "
       ]
      }
     ],
     "prompt_number": 23
    },
    {
     "cell_type": "markdown",
     "metadata": {},
     "source": [
      "and replacing the integrand with Dirac Delta function,"
     ]
    },
    {
     "cell_type": "code",
     "collapsed": false,
     "input": [
      "term2_7 = replace_dirac_delta(term2_6).doit().expand()\n",
      "term2_7"
     ],
     "language": "python",
     "metadata": {},
     "outputs": [
      {
       "latex": [
        "$$\\sqrt{\\gamma} {{a_{in}}(t)} + \\gamma \\theta\\left(- t + t_{0}\\right) {{{a}}(t)} - \\frac{\\gamma {{{a}}(t)}}{2}$$"
       ],
       "metadata": {},
       "output_type": "pyout",
       "png": "[encoded data removed]",
       "prompt_number": 24,
       "text": [
        "  ________                                                                    \n",
        "\u2572\u2571 \\gamma \u22c5OperatorFunction(a_in,t) + \\gamma\u22c5Heaviside(-t + t\u2080)\u22c5OperatorFuncti\n",
        "                                                                              \n",
        "\n",
        "          \\gamma\u22c5OperatorFunction(a,t)\n",
        "on(a,t) - \u2500\u2500\u2500\u2500\u2500\u2500\u2500\u2500\u2500\u2500\u2500\u2500\u2500\u2500\u2500\u2500\u2500\u2500\u2500\u2500\u2500\u2500\u2500\u2500\u2500\u2500\u2500\u2500\n",
        "                       2              "
       ]
      }
     ],
     "prompt_number": 24
    },
    {
     "cell_type": "markdown",
     "metadata": {},
     "source": [
      "To use our assumption $t>t_0$, we introduce the function <tt>assume_positive</tt>,"
     ]
    },
    {
     "cell_type": "code",
     "collapsed": false,
     "input": [
      "def assume_positive(e, p_number):\n",
      "    \"\"\"\n",
      "    Assume p_number positive in the expression e\n",
      "    \"\"\"\n",
      "    positive = Symbol(\"epsilon\",positive=True)\n",
      "    return e.subs(p_number, positive).subs(positive, p_number)"
     ],
     "language": "python",
     "metadata": {},
     "outputs": [],
     "prompt_number": 25
    },
    {
     "cell_type": "code",
     "collapsed": false,
     "input": [
      "term2 = assume_positive(term2_7, t-t0)\n",
      "term2"
     ],
     "language": "python",
     "metadata": {},
     "outputs": [
      {
       "latex": [
        "$$\\sqrt{\\gamma} {{a_{in}}(t)} - \\frac{\\gamma {{{a}}(t)}}{2}$$"
       ],
       "metadata": {},
       "output_type": "pyout",
       "png": "[encoded data removed]",
       "prompt_number": 26,
       "text": [
        "  ________                            \\gamma\u22c5OperatorFunction(a,t)\n",
        "\u2572\u2571 \\gamma \u22c5OperatorFunction(a_in,t) - \u2500\u2500\u2500\u2500\u2500\u2500\u2500\u2500\u2500\u2500\u2500\u2500\u2500\u2500\u2500\u2500\u2500\u2500\u2500\u2500\u2500\u2500\u2500\u2500\u2500\u2500\u2500\u2500\n",
        "                                                   2              "
       ]
      }
     ],
     "prompt_number": 26
    },
    {
     "cell_type": "markdown",
     "metadata": {},
     "source": [
      "So, the Heisenberg equation of motion for cavity field $a(t)$ reduces to"
     ]
    },
    {
     "cell_type": "code",
     "collapsed": false,
     "input": [
      "a_t_diff1 = term1 + term2\n",
      "a_t_diffsym = Symbol(\"\\dot{a} (t)\")\n",
      "Eq(a_t_diffsym, a_t_diff1)"
     ],
     "language": "python",
     "metadata": {},
     "outputs": [
      {
       "latex": [
        "$$\\dot{a} (t) = \\sqrt{\\gamma} {{a_{in}}(t)} - \\frac{\\gamma {{{a}}(t)}}{2} + \\frac{i \\left[H_{sys},{{{a}}(t)}\\right]}{\\hbar}$$"
       ],
       "metadata": {},
       "output_type": "pyout",
       "png": "[encoded data removed]",
       "prompt_number": 27,
       "text": [
        "                ________                            \\gamma\u22c5OperatorFunction(a,\n",
        "\\dot{a} (t) = \u2572\u2571 \\gamma \u22c5OperatorFunction(a_in,t) - \u2500\u2500\u2500\u2500\u2500\u2500\u2500\u2500\u2500\u2500\u2500\u2500\u2500\u2500\u2500\u2500\u2500\u2500\u2500\u2500\u2500\u2500\u2500\u2500\u2500\u2500\n",
        "                                                                 2            \n",
        "\n",
        "t)   \u2148\u22c5[H_sys,OperatorFunction(a,t)]\n",
        "\u2500\u2500 + \u2500\u2500\u2500\u2500\u2500\u2500\u2500\u2500\u2500\u2500\u2500\u2500\u2500\u2500\u2500\u2500\u2500\u2500\u2500\u2500\u2500\u2500\u2500\u2500\u2500\u2500\u2500\u2500\u2500\u2500\u2500\n",
        "                    h\u0305              "
       ]
      }
     ],
     "prompt_number": 27
    },
    {
     "cell_type": "markdown",
     "metadata": {},
     "source": [
      "This is a <i>quantum stochastic differential equation</i> (qsde) for the intracavity field, $a(t)$."
     ]
    },
    {
     "cell_type": "markdown",
     "metadata": {},
     "source": [
      "Alternatively, we can define the output field operator as\n",
      "\\begin{align}\n",
      "a_{out}(t) = \\frac{1}{\\sqrt{2\\pi}} \\int_{-\\infty}^{\\infty} d\\omega \\ e^{-i\\omega(t-t_1)} b_\\omega(t_1)\n",
      "\\end{align}"
     ]
    },
    {
     "cell_type": "markdown",
     "metadata": {},
     "source": [
      "By the same token, $a_{out}(t)$ also satisfied the commutation relations\n",
      "\n",
      "\n",
      "\\begin{align}\n",
      "[a_{out}(t),a_{out}^\\dagger (t')] = \\delta (t-t'), \\quad [a_{out}(t),a_{out}(t')] =[a_{out}^\\dagger(t),a_{out}^\\dagger (t')] =0\n",
      "\\end{align}\n",
      "and hence can also be considered a multimode Bosonic Operators with continuous mode $t$."
     ]
    },
    {
     "cell_type": "code",
     "collapsed": false,
     "input": [
      "a_out = Operator('a_out')\n",
      "a_out_t = OperatorFunction(a_out, t)\n",
      "a_out_t"
     ],
     "language": "python",
     "metadata": {},
     "outputs": [
      {
       "latex": [
        "$${{a_{out}}(t)}$$"
       ],
       "metadata": {},
       "output_type": "pyout",
       "png": "[encoded data removed]",
       "prompt_number": 28,
       "text": [
        "OperatorFunction(a_out,t)"
       ]
      }
     ],
     "prompt_number": 28
    },
    {
     "cell_type": "markdown",
     "metadata": {},
     "source": [
      "Repeating the same procedure we did just above,"
     ]
    },
    {
     "cell_type": "code",
     "collapsed": false,
     "input": [
      "term2_2 = term2_1.replace(b_w_t, b_w_t_output).expand()\n",
      "term2_3 = pull_outwards(term2_2)\n",
      "term2_4 = pull_outwards(term2_3.replace(g(w), sqrt(gamma/(2*pi))))\n",
      "term2_5 = term2_4.subs(Integral(exp(-I*w*(t-t1)) * b_w_t(t1), (w, -oo, oo)).expand(), sqrt(2*pi)* a_out_t)\n",
      "term2_6 = pull_outwards(exchange_integral_order(push_inwards(term2_5)))\n",
      "term2_7 = replace_dirac_delta(term2_6).doit().expand()\n",
      "term2_7"
     ],
     "language": "python",
     "metadata": {},
     "outputs": [
      {
       "latex": [
        "$$- \\sqrt{\\gamma} {{a_{out}}(t)} + \\gamma \\theta\\left(- t + t_{1}\\right) {{{a}}(t)} - \\frac{\\gamma {{{a}}(t)}}{2}$$"
       ],
       "metadata": {},
       "output_type": "pyout",
       "png": "[encoded data removed]",
       "prompt_number": 29,
       "text": [
        "    ________                                                                  \n",
        "- \u2572\u2571 \\gamma \u22c5OperatorFunction(a_out,t) + \\gamma\u22c5Heaviside(-t + t\u2081)\u22c5OperatorFun\n",
        "                                                                              \n",
        "\n",
        "             \\gamma\u22c5OperatorFunction(a,t)\n",
        "ction(a,t) - \u2500\u2500\u2500\u2500\u2500\u2500\u2500\u2500\u2500\u2500\u2500\u2500\u2500\u2500\u2500\u2500\u2500\u2500\u2500\u2500\u2500\u2500\u2500\u2500\u2500\u2500\u2500\u2500\n",
        "                          2              "
       ]
      }
     ],
     "prompt_number": 29
    },
    {
     "cell_type": "markdown",
     "metadata": {},
     "source": [
      "To use our assumption $t_1>t$, we employ <tt>assume_positive</tt> function, as we did before:"
     ]
    },
    {
     "cell_type": "code",
     "collapsed": false,
     "input": [
      "term2_8 = assume_positive(term2_7, t1-t)\n",
      "term2_8"
     ],
     "language": "python",
     "metadata": {},
     "outputs": [
      {
       "latex": [
        "$$- \\sqrt{\\gamma} {{a_{out}}(t)} + \\frac{\\gamma {{{a}}(t)}}{2}$$"
       ],
       "metadata": {},
       "output_type": "pyout",
       "png": "[encoded data removed]",
       "prompt_number": 30,
       "text": [
        "    ________                             \\gamma\u22c5OperatorFunction(a,t)\n",
        "- \u2572\u2571 \\gamma \u22c5OperatorFunction(a_out,t) + \u2500\u2500\u2500\u2500\u2500\u2500\u2500\u2500\u2500\u2500\u2500\u2500\u2500\u2500\u2500\u2500\u2500\u2500\u2500\u2500\u2500\u2500\u2500\u2500\u2500\u2500\u2500\u2500\n",
        "                                                      2              "
       ]
      }
     ],
     "prompt_number": 30
    },
    {
     "cell_type": "code",
     "collapsed": false,
     "input": [
      "a_t_diff2 = term1 + term2_8\n",
      "Eq(a_t_diffsym, a_t_diff2)"
     ],
     "language": "python",
     "metadata": {},
     "outputs": [
      {
       "latex": [
        "$$\\dot{a} (t) = - \\sqrt{\\gamma} {{a_{out}}(t)} + \\frac{\\gamma {{{a}}(t)}}{2} + \\frac{i \\left[H_{sys},{{{a}}(t)}\\right]}{\\hbar}$$"
       ],
       "metadata": {},
       "output_type": "pyout",
       "png": "[encoded data removed]",
       "prompt_number": 31,
       "text": [
        "                  ________                             \\gamma\u22c5OperatorFunction\n",
        "\\dot{a} (t) = - \u2572\u2571 \\gamma \u22c5OperatorFunction(a_out,t) + \u2500\u2500\u2500\u2500\u2500\u2500\u2500\u2500\u2500\u2500\u2500\u2500\u2500\u2500\u2500\u2500\u2500\u2500\u2500\u2500\u2500\u2500\u2500\n",
        "                                                                    2         \n",
        "\n",
        "(a,t)   \u2148\u22c5[H_sys,OperatorFunction(a,t)]\n",
        "\u2500\u2500\u2500\u2500\u2500 + \u2500\u2500\u2500\u2500\u2500\u2500\u2500\u2500\u2500\u2500\u2500\u2500\u2500\u2500\u2500\u2500\u2500\u2500\u2500\u2500\u2500\u2500\u2500\u2500\u2500\u2500\u2500\u2500\u2500\u2500\u2500\n",
        "                       h\u0305              "
       ]
      }
     ],
     "prompt_number": 31
    },
    {
     "cell_type": "markdown",
     "metadata": {},
     "source": [
      "To summarize, the Heisenberg equation of motion for the intracavity operator $a(t)$ are given by"
     ]
    },
    {
     "cell_type": "code",
     "collapsed": false,
     "input": [
      "Eq(a_t_diffsym, a_t_diff1)"
     ],
     "language": "python",
     "metadata": {},
     "outputs": [
      {
       "latex": [
        "$$\\dot{a} (t) = \\sqrt{\\gamma} {{a_{in}}(t)} - \\frac{\\gamma {{{a}}(t)}}{2} + \\frac{i \\left[H_{sys},{{{a}}(t)}\\right]}{\\hbar}$$"
       ],
       "metadata": {},
       "output_type": "pyout",
       "png": "[encoded data removed]",
       "prompt_number": 32,
       "text": [
        "                ________                            \\gamma\u22c5OperatorFunction(a,\n",
        "\\dot{a} (t) = \u2572\u2571 \\gamma \u22c5OperatorFunction(a_in,t) - \u2500\u2500\u2500\u2500\u2500\u2500\u2500\u2500\u2500\u2500\u2500\u2500\u2500\u2500\u2500\u2500\u2500\u2500\u2500\u2500\u2500\u2500\u2500\u2500\u2500\u2500\n",
        "                                                                 2            \n",
        "\n",
        "t)   \u2148\u22c5[H_sys,OperatorFunction(a,t)]\n",
        "\u2500\u2500 + \u2500\u2500\u2500\u2500\u2500\u2500\u2500\u2500\u2500\u2500\u2500\u2500\u2500\u2500\u2500\u2500\u2500\u2500\u2500\u2500\u2500\u2500\u2500\u2500\u2500\u2500\u2500\u2500\u2500\u2500\u2500\n",
        "                    h\u0305              "
       ]
      }
     ],
     "prompt_number": 32
    },
    {
     "cell_type": "code",
     "collapsed": false,
     "input": [
      "Eq(a_t_diffsym, a_t_diff2)"
     ],
     "language": "python",
     "metadata": {},
     "outputs": [
      {
       "latex": [
        "$$\\dot{a} (t) = - \\sqrt{\\gamma} {{a_{out}}(t)} + \\frac{\\gamma {{{a}}(t)}}{2} + \\frac{i \\left[H_{sys},{{{a}}(t)}\\right]}{\\hbar}$$"
       ],
       "metadata": {},
       "output_type": "pyout",
       "png": "[encoded data removed]",
       "prompt_number": 33,
       "text": [
        "                  ________                             \\gamma\u22c5OperatorFunction\n",
        "\\dot{a} (t) = - \u2572\u2571 \\gamma \u22c5OperatorFunction(a_out,t) + \u2500\u2500\u2500\u2500\u2500\u2500\u2500\u2500\u2500\u2500\u2500\u2500\u2500\u2500\u2500\u2500\u2500\u2500\u2500\u2500\u2500\u2500\u2500\n",
        "                                                                    2         \n",
        "\n",
        "(a,t)   \u2148\u22c5[H_sys,OperatorFunction(a,t)]\n",
        "\u2500\u2500\u2500\u2500\u2500 + \u2500\u2500\u2500\u2500\u2500\u2500\u2500\u2500\u2500\u2500\u2500\u2500\u2500\u2500\u2500\u2500\u2500\u2500\u2500\u2500\u2500\u2500\u2500\u2500\u2500\u2500\u2500\u2500\u2500\u2500\u2500\n",
        "                       h\u0305              "
       ]
      }
     ],
     "prompt_number": 33
    },
    {
     "cell_type": "markdown",
     "metadata": {},
     "source": [
      "and hence the input and output fields are then seen to be related by"
     ]
    },
    {
     "cell_type": "code",
     "collapsed": false,
     "input": [
      "Eq(a_t, solve(a_t_diff2 - a_t_diff1, a_t)[0])"
     ],
     "language": "python",
     "metadata": {},
     "outputs": [
      {
       "latex": [
        "$${{{a}}(t)} = \\frac{1}{\\sqrt{\\gamma}} \\left({{a_{in}}(t)} + {{a_{out}}(t)}\\right)$$"
       ],
       "metadata": {},
       "output_type": "pyout",
       "png": "[encoded data removed]",
       "prompt_number": 34,
       "text": [
        "                        OperatorFunction(a_in,t) + OperatorFunction(a_out,t)\n",
        "OperatorFunction(a,t) = \u2500\u2500\u2500\u2500\u2500\u2500\u2500\u2500\u2500\u2500\u2500\u2500\u2500\u2500\u2500\u2500\u2500\u2500\u2500\u2500\u2500\u2500\u2500\u2500\u2500\u2500\u2500\u2500\u2500\u2500\u2500\u2500\u2500\u2500\u2500\u2500\u2500\u2500\u2500\u2500\u2500\u2500\u2500\u2500\u2500\u2500\u2500\u2500\u2500\u2500\u2500\u2500\n",
        "                                               ________                     \n",
        "                                             \u2572\u2571 \\gamma                      "
       ]
      }
     ],
     "prompt_number": 34
    },
    {
     "cell_type": "heading",
     "level": 3,
     "metadata": {},
     "source": [
      "Linear Systems"
     ]
    },
    {
     "cell_type": "markdown",
     "metadata": {},
     "source": [
      "For a linear system, the Heisenberg equation of motion for $a(t)$ can be simply expressed as\n",
      "\n",
      "\n",
      "\\begin{align}\n",
      "\\frac{d\\mathbf{a}(t)}{dt} &= \\left( \\mathbf{A} - \\frac{\\gamma}{2}\\mathbb{I}\\right) \\mathbf{a}(t) + \\sqrt{\\gamma} \\mathbf{a}_{in}(t) \\\\\n",
      "&= \\left( \\mathbf{A} + \\frac{\\gamma}{2}\\mathbb{I}\\right) \\mathbf{a}(t) - \\sqrt{\\gamma} \\mathbf{a}_{out}(t)\n",
      "\\end{align}\n",
      "\n",
      "where\n",
      "\\begin{align}\\mathbf{a}(t) = \\begin{bmatrix} a(t) \\\\ a^\\dagger (t) \\end{bmatrix}\n",
      "\\end{align}\n",
      "and $\\mathbf{A}$ is a matrix."
     ]
    },
    {
     "cell_type": "markdown",
     "metadata": {},
     "source": [
      "In terms of the frequency components, defined by $\\tilde{a}(\\omega) \\equiv \\frac{1}{\\sqrt{2\\pi}} \\int_{-\\infty}^{\\infty} e^{i\\omega t} a(t) dt$,"
     ]
    },
    {
     "cell_type": "markdown",
     "metadata": {},
     "source": [
      "$$\n",
      "\\mathbf{a}(t) = \\begin{bmatrix}\n",
      "\\frac{1}{\\sqrt{2\\pi}} \\int_{-\\infty}^{\\infty} e^{-i\\omega t} \\tilde{a}(\\omega) d\\omega \\\\\n",
      "\\frac{1}{\\sqrt{2\\pi}} \\int_{-\\infty}^{\\infty} e^{i\\omega t} \\tilde{a}^\\dagger(\\omega) d\\omega \n",
      "\\end{bmatrix}\n",
      "=\n",
      "\\begin{bmatrix}\n",
      "\\frac{1}{\\sqrt{2\\pi}} \\int_{-\\infty}^{\\infty} e^{-i\\omega t} \\tilde{a}(\\omega) d\\omega \\\\\n",
      "\\frac{1}{\\sqrt{2\\pi}} \\int_{-\\infty}^{\\infty} e^{-i\\omega t} \\tilde{a}^\\dagger(-\\omega) d\\omega \n",
      "\\end{bmatrix}\n",
      "= \\frac{1}{\\sqrt{2\\pi}} \\int_{-\\infty}^{\\infty} e^{-i\\omega t}  \\tilde{\\mathbf{a}}(\\omega) d\\omega\n",
      "$$\n",
      "where\n",
      "$$\\tilde{\\mathbf{a}}(\\omega) = \\begin{bmatrix} a(\\omega) \\\\ a^\\dagger (-\\omega) \\end{bmatrix}\n",
      "$$"
     ]
    },
    {
     "cell_type": "markdown",
     "metadata": {},
     "source": [
      "The equation becomes\n",
      "\\begin{align}\n",
      "-i\\omega \\tilde{\\mathbf{a}}(\\omega) &= \\left(\\mathbf{A} - \\frac{\\gamma}{2}\\mathbb{I}\\right) \\tilde{\\mathbf{a}}(\\omega)+ \\sqrt{\\gamma} \\tilde{\\mathbf{a}}_{in}(\\omega) \\\\\n",
      "&= \\left( \\mathbf{A} + \\frac{\\gamma}{2}\\mathbb{I}\\right) \\tilde{\\mathbf{a}}(\\omega) - \\sqrt{\\gamma} \\tilde{\\mathbf{a}}_{out}(\\omega)\n",
      "\\end{align}"
     ]
    },
    {
     "cell_type": "markdown",
     "metadata": {},
     "source": [
      "Rearranging to eliminate the intermal mode,$$\n",
      "\\tilde{\\mathbf{a}}_{out}(\\omega) = \\left[ \\mathbf{A} + \\left(\\frac{\\gamma}{2} + i\\omega\\right) \\mathbb{1}\\right]\n",
      "\\left[-\\mathbf{A} + \\left(\\frac{\\gamma}{2} - i\\omega\\right) \\mathbb{1}\\right]^{-1} \\tilde{\\mathbf{a}}_{in}(\\omega)$$"
     ]
    },
    {
     "cell_type": "heading",
     "level": 2,
     "metadata": {},
     "source": [
      "A One-Sided Cavity"
     ]
    },
    {
     "cell_type": "markdown",
     "metadata": {},
     "source": [
      "If the system Hamiltonian is assumed to be a free Harmonic oscillator, we get a model of a single mode in a one-sided cavity."
     ]
    },
    {
     "cell_type": "code",
     "collapsed": false,
     "input": [
      "Hsys = hbar * w0 * Dagger(a_t) * a_t\n",
      "Eq(Hsyssym, Hsys)"
     ],
     "language": "python",
     "metadata": {},
     "outputs": [
      {
       "latex": [
        "$$H_{sys} = \\omega_{0} \\hbar {{{{a}^\\dagger}}(t)} {{{a}}(t)}$$"
       ],
       "metadata": {},
       "output_type": "pyout",
       "png": "[encoded data removed]",
       "prompt_number": 35,
       "text": [
        "                                   \u239b \u2020  \u239e                      \n",
        "H_sys = \\omega\u2080\u22c5h\u0305\u22c5OperatorFunction\u239da ,t\u23a0\u22c5OperatorFunction(a,t)"
       ]
      }
     ],
     "prompt_number": 35
    },
    {
     "cell_type": "code",
     "collapsed": false,
     "input": [
      "term1_ = term1.subs(Hsyssym, Hsys).expand(commutator=True).doit()\n",
      "term1_"
     ],
     "language": "python",
     "metadata": {},
     "outputs": [
      {
       "latex": [
        "$$- i \\omega_{0} {{{a}}(t)}$$"
       ],
       "metadata": {},
       "output_type": "pyout",
       "png": "[encoded data removed]",
       "prompt_number": 36,
       "text": [
        "-\u2148\u22c5\\omega\u2080\u22c5OperatorFunction(a,t)"
       ]
      }
     ],
     "prompt_number": 36
    },
    {
     "cell_type": "markdown",
     "metadata": {},
     "source": [
      "The equation for the intermal-mode operator is:"
     ]
    },
    {
     "cell_type": "code",
     "collapsed": false,
     "input": [
      "Eq(a_t_diffsym, a_t_diff1.subs(Hsyssym, Hsys).expand(commutator=True).doit())"
     ],
     "language": "python",
     "metadata": {},
     "outputs": [
      {
       "latex": [
        "$$\\dot{a} (t) = \\sqrt{\\gamma} {{a_{in}}(t)} - \\frac{\\gamma {{{a}}(t)}}{2} - i \\omega_{0} {{{a}}(t)}$$"
       ],
       "metadata": {},
       "output_type": "pyout",
       "png": "[encoded data removed]",
       "prompt_number": 37,
       "text": [
        "                ________                            \\gamma\u22c5OperatorFunction(a,\n",
        "\\dot{a} (t) = \u2572\u2571 \\gamma \u22c5OperatorFunction(a_in,t) - \u2500\u2500\u2500\u2500\u2500\u2500\u2500\u2500\u2500\u2500\u2500\u2500\u2500\u2500\u2500\u2500\u2500\u2500\u2500\u2500\u2500\u2500\u2500\u2500\u2500\u2500\n",
        "                                                                 2            \n",
        "\n",
        "t)                                  \n",
        "\u2500\u2500 - \u2148\u22c5\\omega\u2080\u22c5OperatorFunction(a,t)\n",
        "                                    "
       ]
      }
     ],
     "prompt_number": 37
    },
    {
     "cell_type": "markdown",
     "metadata": {},
     "source": [
      "Thus, the matrix $\\mathbf{A}$ becomes"
     ]
    },
    {
     "cell_type": "code",
     "collapsed": false,
     "input": [
      "A = Matrix([[-I*w0, 0], [0, I*w0]])\n",
      "A"
     ],
     "language": "python",
     "metadata": {},
     "outputs": [
      {
       "latex": [
        "$$\\left[\\begin{matrix}- i \\omega_{0} & 0\\\\0 & i \\omega_{0}\\end{matrix}\\right]$$"
       ],
       "metadata": {},
       "output_type": "pyout",
       "png": "[encoded data removed]",
       "prompt_number": 38,
       "text": [
        "\u23a1-\u2148\u22c5\\omega\u2080      0    \u23a4\n",
        "\u23a2                     \u23a5\n",
        "\u23a3    0       \u2148\u22c5\\omega\u2080\u23a6"
       ]
      }
     ],
     "prompt_number": 38
    },
    {
     "cell_type": "markdown",
     "metadata": {},
     "source": [
      "and the coefficient matrix connecting $\\tilde{\\mathbf{a}}_{out}(\\omega)$ and $\\tilde{\\mathbf{a}}_{out}(\\omega)$ becomes"
     ]
    },
    {
     "cell_type": "code",
     "collapsed": false,
     "input": [
      "Id = Identity(2)\n",
      "T = (A + (gamma/2 + I*w) *  Id) * (-A + (gamma/2 - I*w)*Id).inverse()\n",
      "T"
     ],
     "language": "python",
     "metadata": {},
     "outputs": [
      {
       "latex": [
        "$$\\left(\\left[\\begin{matrix}- i \\omega_{0} & 0\\\\0 & i \\omega_{0}\\end{matrix}\\right] + \\left(\\frac{\\gamma}{2} + i \\omega\\right) \\mathbb{I}\\right) \\left(\\left[\\begin{matrix}i \\omega_{0} & 0\\\\0 & - i \\omega_{0}\\end{matrix}\\right] + \\left(\\frac{\\gamma}{2} - i \\omega\\right) \\mathbb{I}\\right)^{-1}$$"
       ],
       "metadata": {},
       "output_type": "pyout",
       "png": "[encoded data removed]",
       "prompt_number": 39,
       "text": [
        "                                                                              \n",
        "\u239b                          \u239b\\gamma           \u239e  \u239e \u239b                          \u239b\n",
        "\u239c\u23a1-\u2148\u22c5\\omega\u2080      0    \u23a4 + \u239c\u2500\u2500\u2500\u2500\u2500\u2500 + \u2148\u22c5\\omega\u239f\u22c5I\u239f\u22c5\u239c\u23a1\u2148\u22c5\\omega\u2080      0     \u23a4 + \u239c\n",
        "\u239c\u23a2                     \u23a5   \u239d  2              \u23a0  \u239f \u239c\u23a2                     \u23a5   \u239d\n",
        "\u239d\u23a3    0       \u2148\u22c5\\omega\u2080\u23a6                        \u23a0 \u239d\u23a3    0      -\u2148\u22c5\\omega\u2080\u23a6    \n",
        "\n",
        "                     -1\n",
        "\\gamma           \u239e  \u239e  \n",
        "\u2500\u2500\u2500\u2500\u2500\u2500 - \u2148\u22c5\\omega\u239f\u22c5I\u239f  \n",
        "  2              \u23a0  \u239f  \n",
        "                    \u23a0  "
       ]
      }
     ],
     "prompt_number": 39
    },
    {
     "cell_type": "code",
     "collapsed": false,
     "input": [
      "T.subs(Id, eye(2)).doit(deep=True)"
     ],
     "language": "python",
     "metadata": {},
     "outputs": [
      {
       "latex": [
        "$$\\left[\\begin{matrix}\\frac{\\frac{\\gamma}{2} + i \\omega - i \\omega_{0}}{\\frac{\\gamma}{2} - i \\omega + i \\omega_{0}} & 0\\\\0 & \\frac{\\frac{\\gamma}{2} + i \\omega + i \\omega_{0}}{\\frac{\\gamma}{2} - i \\omega - i \\omega_{0}}\\end{matrix}\\right]$$"
       ],
       "metadata": {},
       "output_type": "pyout",
       "png": "[encoded data removed]",
       "prompt_number": 40,
       "text": [
        "\u23a1\\gamma                                                      \u23a4\n",
        "\u23a2\u2500\u2500\u2500\u2500\u2500\u2500 + \u2148\u22c5\\omega - \u2148\u22c5\\omega\u2080                               \u23a5\n",
        "\u23a2  2                                                         \u23a5\n",
        "\u23a2\u2500\u2500\u2500\u2500\u2500\u2500\u2500\u2500\u2500\u2500\u2500\u2500\u2500\u2500\u2500\u2500\u2500\u2500\u2500\u2500\u2500\u2500\u2500\u2500\u2500\u2500\u2500\u2500\u2500                0              \u23a5\n",
        "\u23a2\\gamma                                                      \u23a5\n",
        "\u23a2\u2500\u2500\u2500\u2500\u2500\u2500 - \u2148\u22c5\\omega + \u2148\u22c5\\omega\u2080                               \u23a5\n",
        "\u23a2  2                                                         \u23a5\n",
        "\u23a2                                                            \u23a5\n",
        "\u23a2                               \\gamma                       \u23a5\n",
        "\u23a2                               \u2500\u2500\u2500\u2500\u2500\u2500 + \u2148\u22c5\\omega + \u2148\u22c5\\omega\u2080\u23a5\n",
        "\u23a2                                 2                          \u23a5\n",
        "\u23a2              0                \u2500\u2500\u2500\u2500\u2500\u2500\u2500\u2500\u2500\u2500\u2500\u2500\u2500\u2500\u2500\u2500\u2500\u2500\u2500\u2500\u2500\u2500\u2500\u2500\u2500\u2500\u2500\u2500\u2500\u23a5\n",
        "\u23a2                               \\gamma                       \u23a5\n",
        "\u23a2                               \u2500\u2500\u2500\u2500\u2500\u2500 - \u2148\u22c5\\omega - \u2148\u22c5\\omega\u2080\u23a5\n",
        "\u23a3                                 2                          \u23a6"
       ]
      }
     ],
     "prompt_number": 40
    },
    {
     "cell_type": "markdown",
     "metadata": {},
     "source": [
      "We obtain the following relations:\n",
      "$$\\tilde{a}(\\omega) = \\frac{\\sqrt{\\gamma}}{\\frac{\\gamma}{2} - i(\\omega-\\omega_0)} \\tilde{a}_{in} (\\omega),\\quad\n",
      "\\tilde{a}_{out} (\\omega) = \\frac{\\frac{\\gamma}{2}+i(\\omega-\\omega_0)}{\\frac{\\gamma}{2}-i(\\omega-\\omega_0)} \\tilde{a}_{in} (\\omega) .$$"
     ]
    },
    {
     "cell_type": "heading",
     "level": 2,
     "metadata": {},
     "source": [
      "A Two-Sided Cavity"
     ]
    },
    {
     "cell_type": "markdown",
     "metadata": {},
     "source": [
      "If the cavity is allowed to interact with external field in both sides, the Heisenberg equation of motion can be generalized as"
     ]
    },
    {
     "cell_type": "code",
     "collapsed": false,
     "input": [
      "g1, g2 = symbols('gamma_1, gamma_2', real=True)\n",
      "b_in, b_out = Operator('b_in'), Operator('b_out')\n",
      "b_in_t, b_out_t = OperatorFunction(b_in, t), OperatorFunction(b_out, t)"
     ],
     "language": "python",
     "metadata": {},
     "outputs": [],
     "prompt_number": 41
    },
    {
     "cell_type": "code",
     "collapsed": false,
     "input": [
      "term2_ = term2.subs(gamma, g1) + term2.subs({gamma: g2, a_in_t: b_in_t})\n",
      "a_t_diff3 = term1 + term2_\n",
      "Eq(a_t_diffsym, a_t_diff3)"
     ],
     "language": "python",
     "metadata": {},
     "outputs": [
      {
       "latex": [
        "$$\\dot{a} (t) = \\sqrt{\\gamma_{1}} {{a_{in}}(t)} - \\frac{\\gamma_{1} {{{a}}(t)}}{2} + \\sqrt{\\gamma_{2}} {{b_{in}}(t)} - \\frac{\\gamma_{2} {{{a}}(t)}}{2} + \\frac{i \\left[H_{sys},{{{a}}(t)}\\right]}{\\hbar}$$"
       ],
       "metadata": {},
       "output_type": "pyout",
       "png": "[encoded data removed]",
       "prompt_number": 42,
       "text": [
        "                ____                            \u03b3\u2081\u22c5OperatorFunction(a,t)     _\n",
        "\\dot{a} (t) = \u2572\u2571 \u03b3\u2081 \u22c5OperatorFunction(a_in,t) - \u2500\u2500\u2500\u2500\u2500\u2500\u2500\u2500\u2500\u2500\u2500\u2500\u2500\u2500\u2500\u2500\u2500\u2500\u2500\u2500\u2500\u2500\u2500\u2500 + \u2572\u2571 \n",
        "                                                           2                  \n",
        "\n",
        "___                            \u03b3\u2082\u22c5OperatorFunction(a,t)   \u2148\u22c5[H_sys,OperatorFun\n",
        "\u03b3\u2082 \u22c5OperatorFunction(b_in,t) - \u2500\u2500\u2500\u2500\u2500\u2500\u2500\u2500\u2500\u2500\u2500\u2500\u2500\u2500\u2500\u2500\u2500\u2500\u2500\u2500\u2500\u2500\u2500\u2500 + \u2500\u2500\u2500\u2500\u2500\u2500\u2500\u2500\u2500\u2500\u2500\u2500\u2500\u2500\u2500\u2500\u2500\u2500\u2500\u2500\n",
        "                                          2                              h\u0305   \n",
        "\n",
        "ction(a,t)]\n",
        "\u2500\u2500\u2500\u2500\u2500\u2500\u2500\u2500\u2500\u2500\u2500\n",
        "           "
       ]
      }
     ],
     "prompt_number": 42
    },
    {
     "cell_type": "markdown",
     "metadata": {},
     "source": [
      "and the corresponding matrix equation is\n",
      "\\begin{align}\n",
      "-i\\omega \\tilde{\\mathbf{a}}(\\omega) &= \\left(\\mathbf{A} - \\frac{\\gamma_1 + \\gamma_2}{2}\\mathbb{I}\\right) \\tilde{\\mathbf{a}}(\\omega)+ \\sqrt{\\gamma_1} \\tilde{\\mathbf{a}}_{in}(\\omega) +\\sqrt{\\gamma_2} \\tilde{\\mathbf{b}}_{in}(\\omega)\\\\\n",
      "&= \\left( \\mathbf{A} + \\frac{\\gamma_1+\\gamma_2}{2}\\mathbb{I}\\right) \\tilde{\\mathbf{a}}(\\omega) - \\sqrt{\\gamma_1} \\tilde{\\mathbf{a}}_{out}(\\omega)- \\sqrt{\\gamma_2} \\tilde{\\mathbf{b}}_{out}(\\omega)\n",
      "\\end{align}"
     ]
    },
    {
     "cell_type": "code",
     "collapsed": false,
     "input": [],
     "language": "python",
     "metadata": {},
     "outputs": [],
     "prompt_number": 42
    },
    {
     "cell_type": "code",
     "collapsed": false,
     "input": [],
     "language": "python",
     "metadata": {},
     "outputs": [],
     "prompt_number": 42
    },
    {
     "cell_type": "heading",
     "level": 2,
     "metadata": {},
     "source": [
      "The Degenerate Parametric Amplifier"
     ]
    },
    {
     "cell_type": "code",
     "collapsed": false,
     "input": [
      "e = Symbol('epsilon', complex=True) # pump amplitude\n",
      "wp = Symbol('\\omega_p', real=True)  # frequency of the pump beam"
     ],
     "language": "python",
     "metadata": {},
     "outputs": [],
     "prompt_number": 43
    },
    {
     "cell_type": "markdown",
     "metadata": {},
     "source": [
      "A systematic Hamiltonian for degenerate parametric amplification with a classical pump can be written as:"
     ]
    },
    {
     "cell_type": "code",
     "collapsed": false,
     "input": [
      "Hsys = (hbar * w0 * Dagger(a_t) * a_t\n",
      "        + I * hbar / 2 * (e * exp(-I*wp*t) * Dagger(a_t)**2\n",
      "                          - conjugate(e) * exp(I*wp*t) * a_t**2))\n",
      "Hsys"
     ],
     "language": "python",
     "metadata": {},
     "outputs": [
      {
       "latex": [
        "$$\\omega_{0} \\hbar {{{{a}^\\dagger}}(t)} {{{a}}(t)} + \\frac{i \\hbar}{2} \\left(\\epsilon e^{- i \\omega_{p} t} \\left({{{{a}^\\dagger}}(t)}\\right)^{2} - e^{i \\omega_{p} t} \\overline{\\epsilon} \\left({{{a}}(t)}\\right)^{2}\\right)$$"
       ],
       "metadata": {},
       "output_type": "pyout",
       "png": "[encoded data removed]",
       "prompt_number": 50,
       "text": [
        "                                                               \u239b              \n",
        "                                                               \u239c   -\u2148\u22c5\\omega_p\n",
        "                           \u239b \u2020  \u239e                         \u2148\u22c5h\u0305\u22c5\u239d\u03b5\u22c5\u212f           \n",
        "\\omega\u2080\u22c5h\u0305\u22c5OperatorFunction\u239da ,t\u23a0\u22c5OperatorFunction(a,t) + \u2500\u2500\u2500\u2500\u2500\u2500\u2500\u2500\u2500\u2500\u2500\u2500\u2500\u2500\u2500\u2500\u2500\u2500\u2500\u2500\n",
        "                                                                              \n",
        "\n",
        "                         2                                         \u239e\n",
        "\u22c5t                 \u239b \u2020  \u239e     \u2148\u22c5\\omega_p\u22c5t _                      2\u239f\n",
        "  \u22c5OperatorFunction\u239da ,t\u23a0  - \u212f            \u22c5\u03b5\u22c5OperatorFunction(a,t) \u23a0\n",
        "\u2500\u2500\u2500\u2500\u2500\u2500\u2500\u2500\u2500\u2500\u2500\u2500\u2500\u2500\u2500\u2500\u2500\u2500\u2500\u2500\u2500\u2500\u2500\u2500\u2500\u2500\u2500\u2500\u2500\u2500\u2500\u2500\u2500\u2500\u2500\u2500\u2500\u2500\u2500\u2500\u2500\u2500\u2500\u2500\u2500\u2500\u2500\u2500\u2500\u2500\u2500\u2500\u2500\u2500\u2500\u2500\u2500\u2500\u2500\u2500\u2500\u2500\u2500\u2500\u2500\u2500\u2500\u2500\n",
        "                       2                                            "
       ]
      }
     ],
     "prompt_number": 50
    },
    {
     "cell_type": "code",
     "collapsed": false,
     "input": [
      "term1_ = normal_ordered_form(term1.subs(Hsyssym, Hsys).doit().expand())\n",
      "term1_"
     ],
     "language": "python",
     "metadata": {},
     "outputs": [
      {
       "latex": [
        "$$- i \\omega_{0} {{{a}}(t)} + \\epsilon e^{- i \\omega_{p} t} {{{{a}^\\dagger}}(t)}$$"
       ],
       "metadata": {},
       "output_type": "pyout",
       "png": "[encoded data removed]",
       "prompt_number": 58,
       "text": [
        "                                      -\u2148\u22c5\\omega_p\u22c5t                 \u239b \u2020  \u239e\n",
        "-\u2148\u22c5\\omega\u2080\u22c5OperatorFunction(a,t) + \u03b5\u22c5\u212f             \u22c5OperatorFunction\u239da ,t\u23a0"
       ]
      }
     ],
     "prompt_number": 58
    },
    {
     "cell_type": "code",
     "collapsed": false,
     "input": [
      "a_t_diff4 = term1_ + term2_\n",
      "Eq(a_t.diff(t), a_t_diff4)"
     ],
     "language": "python",
     "metadata": {},
     "outputs": [
      {
       "latex": [
        "$$\\frac{d}{d t} {{{a}}(t)} = - i \\omega_{0} {{{a}}(t)} + \\epsilon e^{- i \\omega_{p} t} {{{{a}^\\dagger}}(t)} + \\sqrt{\\gamma_{1}} {{a_{in}}(t)} - \\frac{\\gamma_{1} {{{a}}(t)}}{2} + \\sqrt{\\gamma_{2}} {{b_{in}}(t)} - \\frac{\\gamma_{2} {{{a}}(t)}}{2}$$"
       ],
       "metadata": {},
       "output_type": "pyout",
       "png": "[encoded data removed]",
       "prompt_number": 62,
       "text": [
        "d                                                                 -\u2148\u22c5\\omega_p\u22c5\n",
        "\u2500\u2500(OperatorFunction(a,t)) = -\u2148\u22c5\\omega\u2080\u22c5OperatorFunction(a,t) + \u03b5\u22c5\u212f            \n",
        "dt                                                                            \n",
        "\n",
        "t                 \u239b \u2020  \u239e     ____                            \u03b3\u2081\u22c5OperatorFuncti\n",
        " \u22c5OperatorFunction\u239da ,t\u23a0 + \u2572\u2571 \u03b3\u2081 \u22c5OperatorFunction(a_in,t) - \u2500\u2500\u2500\u2500\u2500\u2500\u2500\u2500\u2500\u2500\u2500\u2500\u2500\u2500\u2500\u2500\u2500\n",
        "                                                                        2     \n",
        "\n",
        "on(a,t)     ____                            \u03b3\u2082\u22c5OperatorFunction(a,t)\n",
        "\u2500\u2500\u2500\u2500\u2500\u2500\u2500 + \u2572\u2571 \u03b3\u2082 \u22c5OperatorFunction(b_in,t) - \u2500\u2500\u2500\u2500\u2500\u2500\u2500\u2500\u2500\u2500\u2500\u2500\u2500\u2500\u2500\u2500\u2500\u2500\u2500\u2500\u2500\u2500\u2500\u2500\n",
        "                                                       2            "
       ]
      }
     ],
     "prompt_number": 62
    },
    {
     "cell_type": "markdown",
     "metadata": {},
     "source": [
      "We transform to a rotating frame with\n",
      "$$ a(t) \\rightarrow e^{i\\omega_p t/2} a(t),\\quad\n",
      "a_{in}(t) \\rightarrow e^{i\\omega_p t/2} a_{in}(t),\\quad\n",
      "b_{in}(t) \\rightarrow e^{i\\omega_p t/2} b_{in}(t)$$"
     ]
    },
    {
     "cell_type": "code",
     "collapsed": false,
     "input": [
      "lhs = a_t.diff(t).subs(a_t, exp(-I*wp/2*t) * a_t).doit()\n",
      "rhs = a_t_diff4.subs({a_t: exp(-I*wp/2*t) * a_t,\n",
      "                      a_in_t: exp(-I*wp/2*t) * a_in_t,\n",
      "                      b_in_t: exp(-I*wp/2*t) * b_in_t,\n",
      "                      Dagger(a_t): exp(I*wp/2*t) * Dagger(a_t)\n",
      "                      }).doit()\n",
      "sol =  solve(lhs-rhs, a_t.diff(t))[0]\n",
      "Eq(a_t.diff(t), sol)"
     ],
     "language": "python",
     "metadata": {},
     "outputs": [
      {
       "latex": [
        "$$\\frac{d}{d t} {{{a}}(t)} = - i \\omega_{0} {{{a}}(t)} + \\frac{i \\omega_{p}}{2} {{{a}}(t)} + \\epsilon {{{{a}^\\dagger}}(t)} + \\sqrt{\\gamma_{1}} {{a_{in}}(t)} - \\frac{\\gamma_{1} {{{a}}(t)}}{2} + \\sqrt{\\gamma_{2}} {{b_{in}}(t)} - \\frac{\\gamma_{2} {{{a}}(t)}}{2}$$"
       ],
       "metadata": {},
       "output_type": "pyout",
       "png": "[encoded data removed]",
       "prompt_number": 70,
       "text": [
        "d                                                              \u2148\u22c5\\omega_p\u22c5Oper\n",
        "\u2500\u2500(OperatorFunction(a,t)) = -\u2148\u22c5\\omega\u2080\u22c5OperatorFunction(a,t) + \u2500\u2500\u2500\u2500\u2500\u2500\u2500\u2500\u2500\u2500\u2500\u2500\u2500\u2500\u2500\n",
        "dt                                                                            \n",
        "\n",
        "atorFunction(a,t)                     \u239b \u2020  \u239e     ____                         \n",
        "\u2500\u2500\u2500\u2500\u2500\u2500\u2500\u2500\u2500\u2500\u2500\u2500\u2500\u2500\u2500\u2500\u2500 + \u03b5\u22c5OperatorFunction\u239da ,t\u23a0 + \u2572\u2571 \u03b3\u2081 \u22c5OperatorFunction(a_in,t)\n",
        "2                                                                             \n",
        "\n",
        "   \u03b3\u2081\u22c5OperatorFunction(a,t)     ____                            \u03b3\u2082\u22c5OperatorFun\n",
        " - \u2500\u2500\u2500\u2500\u2500\u2500\u2500\u2500\u2500\u2500\u2500\u2500\u2500\u2500\u2500\u2500\u2500\u2500\u2500\u2500\u2500\u2500\u2500\u2500 + \u2572\u2571 \u03b3\u2082 \u22c5OperatorFunction(b_in,t) - \u2500\u2500\u2500\u2500\u2500\u2500\u2500\u2500\u2500\u2500\u2500\u2500\u2500\u2500\n",
        "              2                                                            2  \n",
        "\n",
        "ction(a,t)\n",
        "\u2500\u2500\u2500\u2500\u2500\u2500\u2500\u2500\u2500\u2500\n",
        "          "
       ]
      }
     ],
     "prompt_number": 70
    },
    {
     "cell_type": "markdown",
     "metadata": {},
     "source": [
      "and consider the pump frequency tuned to $\\omega_p = 2\\omega_0$."
     ]
    },
    {
     "cell_type": "code",
     "collapsed": false,
     "input": [
      "Eq(a_t.diff(t), sol.subs(wp, 2*w0))"
     ],
     "language": "python",
     "metadata": {},
     "outputs": [
      {
       "latex": [
        "$$\\frac{d}{d t} {{{a}}(t)} = \\epsilon {{{{a}^\\dagger}}(t)} + \\sqrt{\\gamma_{1}} {{a_{in}}(t)} - \\frac{\\gamma_{1} {{{a}}(t)}}{2} + \\sqrt{\\gamma_{2}} {{b_{in}}(t)} - \\frac{\\gamma_{2} {{{a}}(t)}}{2}$$"
       ],
       "metadata": {},
       "output_type": "pyout",
       "png": "[encoded data removed]",
       "prompt_number": 72,
       "text": [
        "d                                             \u239b \u2020  \u239e     ____                 \n",
        "\u2500\u2500(OperatorFunction(a,t)) = \u03b5\u22c5OperatorFunction\u239da ,t\u23a0 + \u2572\u2571 \u03b3\u2081 \u22c5OperatorFunction\n",
        "dt                                                                            \n",
        "\n",
        "           \u03b3\u2081\u22c5OperatorFunction(a,t)     ____                            \u03b3\u2082\u22c5Ope\n",
        "(a_in,t) - \u2500\u2500\u2500\u2500\u2500\u2500\u2500\u2500\u2500\u2500\u2500\u2500\u2500\u2500\u2500\u2500\u2500\u2500\u2500\u2500\u2500\u2500\u2500\u2500 + \u2572\u2571 \u03b3\u2082 \u22c5OperatorFunction(b_in,t) - \u2500\u2500\u2500\u2500\u2500\u2500\n",
        "                      2                                                       \n",
        "\n",
        "ratorFunction(a,t)\n",
        "\u2500\u2500\u2500\u2500\u2500\u2500\u2500\u2500\u2500\u2500\u2500\u2500\u2500\u2500\u2500\u2500\u2500\u2500\n",
        "     2            "
       ]
      }
     ],
     "prompt_number": 72
    },
    {
     "cell_type": "markdown",
     "metadata": {},
     "source": [
      "This change of frame leads to a different Fourier transform\n",
      "$$ a(t) = e^{i\\omega_p t/2} \\frac{1}{\\sqrt{2\\pi}} \\int_{-\\infty}^{\\infty} e^{-i\\omega t} \\tilde{a}(\\omega) d\\omega \n",
      "\\iff a(t) = \\frac{1}{\\sqrt{2\\pi}} \\int_{-\\infty}^{\\infty} e^{-i\\left(\\omega - \\omega_p/2\\right) t}\\ \\tilde{a}(\\omega) d\\omega\n",
      "=\\frac{1}{\\sqrt{2\\pi}} \\int_{-\\infty}^{\\infty} e^{-i\\omega t}\\ \\tilde{a}(\\omega_p/2 + \\omega) d\\omega\n",
      "$$\n",
      "$$ a^\\dagger (t) = e^{-i\\omega_p t/2} \\frac{1}{\\sqrt{2\\pi}} \\int_{-\\infty}^{\\infty} e^{i\\omega t} \\tilde{a}^\\dagger (\\omega) d\\omega \n",
      "\\iff a(t) = \\frac{1}{\\sqrt{2\\pi}} \\int_{-\\infty}^{\\infty} e^{i\\left(\\omega - \\omega_p/2\\right) t}\\ \\tilde{a}^\\dagger(\\omega) d\\omega\n",
      "=\\frac{1}{\\sqrt{2\\pi}} \\int_{-\\infty}^{\\infty} e^{-i\\omega t}\\ \\tilde{a}(\\omega_p/2 - \\omega) d\\omega\n",
      "$$"
     ]
    },
    {
     "cell_type": "markdown",
     "metadata": {},
     "source": [
      "By letting $\\omega_s \\equiv \\omega_p/2$,\n",
      "$$\\mathbf{a}(t) =\n",
      "\\frac{1}{\\sqrt{2\\pi}} \\int_{-\\infty}^{\\infty} e^{-i\\omega t} \\tilde{\\mathbf{a}}(\\omega)\n",
      " d\\omega$$\n",
      " where $$\n",
      " \\mathbf{a}(t) = \\begin{bmatrix} a(t) \\\\ a^\\dagger(t) \\end{bmatrix},\\quad\n",
      " \\tilde{\\mathbf{a}}(\\omega) = \\begin{bmatrix}\n",
      "\\tilde{a}(\\omega_s + \\omega) \\\\\n",
      "\\tilde{a}(\\omega_s - \\omega)\n",
      "\\end{bmatrix}$$"
     ]
    },
    {
     "cell_type": "markdown",
     "metadata": {},
     "source": [
      "In matrix notation, the equations become"
     ]
    },
    {
     "cell_type": "markdown",
     "metadata": {},
     "source": [
      "\\begin{align}\n",
      "-i\\omega \\tilde{\\mathbf{a}}(\\omega) &= \\left(\\mathbf{A} - \\frac{\\gamma_1 + \\gamma_2}{2}\\mathbb{I}\\right) \\tilde{\\mathbf{a}}(\\omega)+ \\sqrt{\\gamma_1} \\tilde{\\mathbf{a}}_{in}(\\omega) +\\sqrt{\\gamma_2} \\tilde{\\mathbf{b}}_{in}(\\omega)\\\\\n",
      "&= \\left( \\mathbf{A} + \\frac{\\gamma_1+\\gamma_2}{2}\\mathbb{I}\\right) \\tilde{\\mathbf{a}}(\\omega) - \\sqrt{\\gamma_1} \\tilde{\\mathbf{a}}_{out}(\\omega)- \\sqrt{\\gamma_2} \\tilde{\\mathbf{b}}_{out}(\\omega)\n",
      "\\end{align}"
     ]
    },
    {
     "cell_type": "markdown",
     "metadata": {},
     "source": [
      "with matrix $\\mathbf{A}$ having the value"
     ]
    },
    {
     "cell_type": "code",
     "collapsed": false,
     "input": [
      "theta = Symbol('theta', real=True)\n",
      "A = Matrix([[0, Abs(e) * exp(I*theta)], [Abs(e) * exp(-I*theta), 0]])\n",
      "A"
     ],
     "language": "python",
     "metadata": {},
     "outputs": [
      {
       "latex": [
        "$$\\left[\\begin{matrix}0 & e^{i \\theta} \\left\\lvert{\\epsilon}\\right\\rvert\\\\e^{- i \\theta} \\left\\lvert{\\epsilon}\\right\\rvert & 0\\end{matrix}\\right]$$"
       ],
       "metadata": {},
       "output_type": "pyout",
       "png": "[encoded data removed]",
       "prompt_number": 113,
       "text": [
        "\u23a1            \u2148\u22c5\u03b8    \u23a4\n",
        "\u23a2    0      \u212f   \u22c5\u2502\u03b5\u2502\u23a5\n",
        "\u23a2                   \u23a5\n",
        "\u23a2 -\u2148\u22c5\u03b8              \u23a5\n",
        "\u23a3\u212f    \u22c5\u2502\u03b5\u2502     0    \u23a6"
       ]
      }
     ],
     "prompt_number": 113
    },
    {
     "cell_type": "code",
     "collapsed": false,
     "input": [
      "ws = Symbol('\\omega_s', real=True)\n",
      "a_w = OperatorFunction(Operator('a'), w)\n",
      "a_in_w = MultiBosonOp(r'{a_{in}}', w, 'continuous')\n",
      "b_in_w = MultiBosonOp(r'{b_{in}}', w, 'continuous')\n",
      "\n",
      "a_w_vec = Matrix([a_w.subs(w, ws+w), Dagger(a_w.subs(w, ws-w))])\n",
      "a_in_w_vec = Matrix([a_in_w.subs(w, ws+w), Dagger(a_in_w.subs(w, ws-w))])\n",
      "b_in_w_vec = Matrix([b_in_w.subs(w, ws+w), Dagger(b_in_w.subs(w, ws-w))])"
     ],
     "language": "python",
     "metadata": {},
     "outputs": [],
     "prompt_number": 114
    },
    {
     "cell_type": "code",
     "collapsed": false,
     "input": [
      "lhs = -I * w * a_w_vec\n",
      "rhs = (A - (g1+g2)/2 * Id) * a_w_vec + sqrt(g1) * a_in_w_vec + sqrt(g2) * b_in_w_vec\n",
      "Eq(lhs, rhs)"
     ],
     "language": "python",
     "metadata": {},
     "outputs": [
      {
       "latex": [
        "$$\\left[\\begin{matrix}- i \\omega {{a}(\\omega + \\omega_{s})}\\\\- i \\omega {{a^{\\dagger}}(- \\omega + \\omega_{s})}\\end{matrix}\\right] = \\left[\\begin{matrix}\\sqrt{\\gamma_{1}} {{a_{in}}_{\\omega + \\omega_s}} + \\sqrt{\\gamma_{2}} {{b_{in}}_{\\omega + \\omega_s}}\\\\\\sqrt{\\gamma_{1}} {{{a_{in}}_{-\\omega + \\omega_s}}^\\dagger} + \\sqrt{\\gamma_{2}} {{{b_{in}}_{-\\omega + \\omega_s}}^\\dagger}\\end{matrix}\\right] + \\left(\\left[\\begin{matrix}0 & e^{i \\theta} \\left\\lvert{\\epsilon}\\right\\rvert\\\\e^{- i \\theta} \\left\\lvert{\\epsilon}\\right\\rvert & 0\\end{matrix}\\right] + \\left(- \\frac{\\gamma_{1}}{2} - \\frac{\\gamma_{2}}{2}\\right) \\mathbb{I}\\right) \\left[\\begin{matrix}{{a}(\\omega + \\omega_{s})}\\\\{{a^{\\dagger}}(- \\omega + \\omega_{s})}\\end{matrix}\\right]$$"
       ],
       "metadata": {},
       "output_type": "pyout",
       "png": "[encoded data removed]",
       "prompt_number": 115,
       "text": [
        "                                                      \u23a1   ____              __\n",
        "\u23a1 -\u2148\u22c5\\omega\u22c5OperatorFunction(a,\\omega + \\omega_s) \u23a4 = \u23a2 \u2572\u2571 \u03b3\u2081 \u22c5{a_{in}} + \u2572\u2571 \u03b3\n",
        "\u23a2                                                 \u23a5   \u23a2                       \n",
        "\u23a2                          \u239b \u2020                   \u239e\u23a5   \u23a2  ____         \u2020     __\n",
        "\u23a3-\u2148\u22c5\\omega\u22c5OperatorFunction\u239da ,-\\omega + \\omega_s\u23a0\u23a6   \u23a3\u2572\u2571 \u03b3\u2081 \u22c5{a_{in}}  + \u2572\u2571 \u03b3\n",
        "\n",
        "__          \u23a4   \u239b\u23a1            \u2148\u22c5\u03b8    \u23a4   \u239b  \u03b3\u2081   \u03b3\u2082\u239e  \u239e                       \n",
        "\u2082 \u22c5{b_{in}} \u23a5 + \u239c\u23a2    0      \u212f   \u22c5\u2502\u03b5\u2502\u23a5 + \u239c- \u2500\u2500 - \u2500\u2500\u239f\u22c5I\u239f\u22c5\u23a1 OperatorFunction(a,\\\n",
        "            \u23a5   \u239c\u23a2                   \u23a5   \u239d  2    2 \u23a0  \u239f \u23a2                     \n",
        "__         \u2020\u23a5   \u239c\u23a2 -\u2148\u22c5\u03b8              \u23a5                \u239f \u23a2                \u239b \u2020  \n",
        "\u2082 \u22c5{b_{in}} \u23a6   \u239d\u23a3\u212f    \u22c5\u2502\u03b5\u2502     0    \u23a6                \u23a0 \u23a3OperatorFunction\u239da ,-\n",
        "\n",
        "                   \n",
        "omega + \\omega_s) \u23a4\n",
        "                  \u23a5\n",
        "                 \u239e\u23a5\n",
        "\\omega + \\omega_s\u23a0\u23a6"
       ]
      }
     ],
     "prompt_number": 115
    },
    {
     "cell_type": "code",
     "collapsed": false,
     "input": [
      "Iden"
     ],
     "language": "python",
     "metadata": {},
     "outputs": []
    },
    {
     "cell_type": "code",
     "collapsed": false,
     "input": [
      "sols = ((-A + ((g1+g2)/2-I * w ) * Id).inverse() * (sqrt(g1) * a_in_w_vec + sqrt(g2) * b_in_w_vec)).subs(Id, eye(2)).doit(deep=True)\n",
      "a_wws = simplify(sols[0])\n",
      "a_wws"
     ],
     "language": "python",
     "metadata": {},
     "outputs": [
      {
       "latex": [
        "$$\\frac{2}{- \\left(- 2 i \\omega + \\gamma_{1} + \\gamma_{2}\\right)^{2} + 4 \\left\\lvert{\\epsilon}\\right\\rvert^{2}} \\left(\\left(2 i \\omega - \\gamma_{1} - \\gamma_{2}\\right) \\left(\\sqrt{\\gamma_{1}} {{a_{in}}_{\\omega + \\omega_s}} + \\sqrt{\\gamma_{2}} {{b_{in}}_{\\omega + \\omega_s}}\\right) - 2 e^{i \\theta} \\left\\lvert{\\epsilon}\\right\\rvert \\left(\\sqrt{\\gamma_{1}} {{{a_{in}}_{-\\omega + \\omega_s}}^\\dagger} + \\sqrt{\\gamma_{2}} {{{b_{in}}_{-\\omega + \\omega_s}}^\\dagger}\\right)\\right)$$"
       ],
       "metadata": {},
       "output_type": "pyout",
       "png": "[encoded data removed]",
       "prompt_number": 118,
       "text": [
        "  \u239b                       \u239b  ____              ____         \u239e      \u2148\u22c5\u03b8     \u239b  \n",
        "2\u22c5\u239d(2\u22c5\u2148\u22c5\\omega - \u03b3\u2081 - \u03b3\u2082)\u22c5\u239d\u2572\u2571 \u03b3\u2081 \u22c5{a_{in}} + \u2572\u2571 \u03b3\u2082 \u22c5{b_{in}}\u23a0 - 2\u22c5\u212f   \u22c5\u2502\u03b5\u2502\u22c5\u239d\u2572\u2571\n",
        "\u2500\u2500\u2500\u2500\u2500\u2500\u2500\u2500\u2500\u2500\u2500\u2500\u2500\u2500\u2500\u2500\u2500\u2500\u2500\u2500\u2500\u2500\u2500\u2500\u2500\u2500\u2500\u2500\u2500\u2500\u2500\u2500\u2500\u2500\u2500\u2500\u2500\u2500\u2500\u2500\u2500\u2500\u2500\u2500\u2500\u2500\u2500\u2500\u2500\u2500\u2500\u2500\u2500\u2500\u2500\u2500\u2500\u2500\u2500\u2500\u2500\u2500\u2500\u2500\u2500\u2500\u2500\u2500\u2500\u2500\u2500\u2500\u2500\u2500\u2500\u2500\u2500\u2500\n",
        "                                                                2        2    \n",
        "                                       - (-2\u22c5\u2148\u22c5\\omega + \u03b3\u2081 + \u03b3\u2082)  + 4\u22c5\u2502\u03b5\u2502     \n",
        "\n",
        "____         \u2020     ____         \u2020\u239e\u239e\n",
        " \u03b3\u2081 \u22c5{a_{in}}  + \u2572\u2571 \u03b3\u2082 \u22c5{b_{in}} \u23a0\u23a0\n",
        "\u2500\u2500\u2500\u2500\u2500\u2500\u2500\u2500\u2500\u2500\u2500\u2500\u2500\u2500\u2500\u2500\u2500\u2500\u2500\u2500\u2500\u2500\u2500\u2500\u2500\u2500\u2500\u2500\u2500\u2500\u2500\u2500\u2500\u2500\u2500\n",
        "                                   \n",
        "                                   "
       ]
      }
     ],
     "prompt_number": 118
    },
    {
     "cell_type": "code",
     "collapsed": false,
     "input": [
      "cov = normal_ordered_form(Covariance(a_wws, a_wws.subs(w, w_)).doit())\n",
      "cov"
     ],
     "language": "python",
     "metadata": {},
     "outputs": [
      {
       "latex": [
        "$$- \\left\\langle \\frac{2}{- \\left(\\gamma_{1} + \\gamma_{2} - 2 i {\\omega'}\\right)^{2} + 4 \\left\\lvert{\\epsilon}\\right\\rvert^{2}} \\left(\\left(- \\gamma_{1} - \\gamma_{2} + 2 i {\\omega'}\\right) \\left(\\sqrt{\\gamma_{1}} {{a_{in}}_{\\omega_s + {\\omega'}}} + \\sqrt{\\gamma_{2}} {{b_{in}}_{\\omega_s + {\\omega'}}}\\right) - 2 e^{i \\theta} \\left\\lvert{\\epsilon}\\right\\rvert \\left(\\sqrt{\\gamma_{1}} {{{a_{in}}_{\\omega_s - {\\omega'}}}^\\dagger} + \\sqrt{\\gamma_{2}} {{{b_{in}}_{\\omega_s - {\\omega'}}}^\\dagger}\\right)\\right) \\right\\rangle \\left\\langle \\frac{2}{- \\left(- 2 i \\omega + \\gamma_{1} + \\gamma_{2}\\right)^{2} + 4 \\left\\lvert{\\epsilon}\\right\\rvert^{2}} \\left(\\left(2 i \\omega - \\gamma_{1} - \\gamma_{2}\\right) \\left(\\sqrt{\\gamma_{1}} {{a_{in}}_{\\omega + \\omega_s}} + \\sqrt{\\gamma_{2}} {{b_{in}}_{\\omega + \\omega_s}}\\right) - 2 e^{i \\theta} \\left\\lvert{\\epsilon}\\right\\rvert \\left(\\sqrt{\\gamma_{1}} {{{a_{in}}_{-\\omega + \\omega_s}}^\\dagger} + \\sqrt{\\gamma_{2}} {{{b_{in}}_{-\\omega + \\omega_s}}^\\dagger}\\right)\\right) \\right\\rangle + \\left\\langle \\frac{4}{\\left(- \\left(\\gamma_{1} + \\gamma_{2} - 2 i {\\omega'}\\right)^{2} + 4 \\left\\lvert{\\epsilon}\\right\\rvert^{2}\\right) \\left(- \\left(- 2 i \\omega + \\gamma_{1} + \\gamma_{2}\\right)^{2} + 4 \\left\\lvert{\\epsilon}\\right\\rvert^{2}\\right)} \\left(\\left(2 i \\omega - \\gamma_{1} - \\gamma_{2}\\right) \\left(\\sqrt{\\gamma_{1}} {{a_{in}}_{\\omega + \\omega_s}} + \\sqrt{\\gamma_{2}} {{b_{in}}_{\\omega + \\omega_s}}\\right) - 2 e^{i \\theta} \\left\\lvert{\\epsilon}\\right\\rvert \\left(\\sqrt{\\gamma_{1}} {{{a_{in}}_{-\\omega + \\omega_s}}^\\dagger} + \\sqrt{\\gamma_{2}} {{{b_{in}}_{-\\omega + \\omega_s}}^\\dagger}\\right)\\right) \\left(\\left(- \\gamma_{1} - \\gamma_{2} + 2 i {\\omega'}\\right) \\left(\\sqrt{\\gamma_{1}} {{a_{in}}_{\\omega_s + {\\omega'}}} + \\sqrt{\\gamma_{2}} {{b_{in}}_{\\omega_s + {\\omega'}}}\\right) - 2 e^{i \\theta} \\left\\lvert{\\epsilon}\\right\\rvert \\left(\\sqrt{\\gamma_{1}} {{{a_{in}}_{\\omega_s - {\\omega'}}}^\\dagger} + \\sqrt{\\gamma_{2}} {{{b_{in}}_{\\omega_s - {\\omega'}}}^\\dagger}\\right)\\right) \\right\\rangle$$"
       ],
       "metadata": {},
       "output_type": "pyout",
       "png": "[encoded data removed]",
       "prompt_number": 127,
       "text": [
        "-Expectation(2*((-gamma_1 - gamma_2 + 2*I*{\\omega'})*(sqrt(gamma_1)*{a_{in}}(\\\n",
        "omega_s + {\\omega'}) + sqrt(gamma_2)*{b_{in}}(\\omega_s + {\\omega'})) - 2*exp(I\n",
        "*theta)*Abs(epsilon)*(sqrt(gamma_1)*Dagger({a_{in}}(\\omega_s - {\\omega'})) + s\n",
        "qrt(gamma_2)*Dagger({b_{in}}(\\omega_s - {\\omega'}))))/(-(gamma_1 + gamma_2 - 2\n",
        "*I*{\\omega'})**2 + 4*Abs(epsilon)**2), 0)\u22c5Expectation(2*((2*I*\\omega - gamma_1\n",
        " - gamma_2)*(sqrt(gamma_1)*{a_{in}}(\\omega + \\omega_s) + sqrt(gamma_2)*{b_{in}\n",
        "}(\\omega + \\omega_s)) - 2*exp(I*theta)*Abs(epsilon)*(sqrt(gamma_1)*Dagger({a_{\n",
        "in}}(-\\omega + \\omega_s)) + sqrt(gamma_2)*Dagger({b_{in}}(-\\omega + \\omega_s))\n",
        "))/(-(-2*I*\\omega + gamma_1 + gamma_2)**2 + 4*Abs(epsilon)**2), 0) + Expectati\n",
        "on(4*((2*I*\\omega - gamma_1 - gamma_2)*(sqrt(gamma_1)*{a_{in}}(\\omega + \\omega\n",
        "_s) + sqrt(gamma_2)*{b_{in}}(\\omega + \\omega_s)) - 2*exp(I*theta)*Abs(epsilon)\n",
        "*(sqrt(gamma_1)*Dagger({a_{in}}(-\\omega + \\omega_s)) + sqrt(gamma_2)*Dagger({b\n",
        "_{in}}(-\\omega + \\omega_s))))*((-gamma_1 - gamma_2 + 2*I*{\\omega'})*(sqrt(gamm\n",
        "a_1)*{a_{in}}(\\omega_s + {\\omega'}) + sqrt(gamma_2)*{b_{in}}(\\omega_s + {\\omeg\n",
        "a'})) - 2*exp(I*theta)*Abs(epsilon)*(sqrt(gamma_1)*Dagger({a_{in}}(\\omega_s - \n",
        "{\\omega'})) + sqrt(gamma_2)*Dagger({b_{in}}(\\omega_s - {\\omega'}))))/((-(gamma\n",
        "_1 + gamma_2 - 2*I*{\\omega'})**2 + 4*Abs(epsilon)**2)*(-(-2*I*\\omega + gamma_1\n",
        " + gamma_2)**2 + 4*Abs(epsilon)**2)), 0)"
       ]
      }
     ],
     "prompt_number": 127
    },
    {
     "cell_type": "code",
     "collapsed": false,
     "input": [
      "Add(*(Mul(*(factor for factor in terms.args if not isinstance(factor, Expectation))) *\n",
      "      Mul(*(factor.eval_state(BosonVacuumKet()) for factor in terms.args if isinstance(factor, Expectation)))\n",
      "      for terms in cov.args))"
     ],
     "language": "python",
     "metadata": {},
     "outputs": []
    }
   ],
   "metadata": {}
  }
 ]
}