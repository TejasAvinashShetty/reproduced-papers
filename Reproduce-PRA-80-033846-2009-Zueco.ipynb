{
 "metadata": {
  "name": "",
  "signature": "sha256:b044abe4ed83a4b655d9f736d725cc8708cb195757e31eb69f24ae270b7dec52"
 },
 "nbformat": 3,
 "nbformat_minor": 0,
 "worksheets": [
  {
   "cells": [
    {
     "cell_type": "heading",
     "level": 1,
     "metadata": {},
     "source": [
      "Reproduce: Qubit-oscillator dynamics in the dispersive regime"
     ]
    },
    {
     "cell_type": "heading",
     "level": 3,
     "metadata": {},
     "source": [
      "Analytic theory beyond the rotating-wave approximation"
     ]
    },
    {
     "cell_type": "markdown",
     "metadata": {},
     "source": [
      "D. Zueco, G. M. Reuther, S. Kohler, and P. H\u00e4nggi, <i>Qubit-oscillator dynamics in the dispersive regime: Analytic theory beyond the rotating-wave approximation</i>,<br> <a href=\"http://journals.aps.org/pra/abstract/10.1103/PhysRevA.80.033846\">Phys. Rev. A <b>80</b>, 033846 (2009).</a>\n"
     ]
    },
    {
     "cell_type": "markdown",
     "metadata": {},
     "source": [
      "Reproduced by <b>Eunjong Kim</b> (<a href=\"mailto:ekim7206@gmail.com\">ekim7206@gmail.com</a>)"
     ]
    },
    {
     "cell_type": "markdown",
     "metadata": {},
     "source": [
      "Status : Preliminary"
     ]
    },
    {
     "cell_type": "heading",
     "level": 2,
     "metadata": {},
     "source": [
      "Setup Modules"
     ]
    },
    {
     "cell_type": "code",
     "collapsed": false,
     "input": [
      "from sympy import *\n",
      "init_printing()"
     ],
     "language": "python",
     "metadata": {},
     "outputs": [],
     "prompt_number": 1
    },
    {
     "cell_type": "code",
     "collapsed": false,
     "input": [
      "from sympsi import *\n",
      "from sympsi.boson import BosonOp\n",
      "from sympsi.pauli import (SigmaX, SigmaY, SigmaZ,\n",
      "                          SigmaPlus, SigmaMinus)"
     ],
     "language": "python",
     "metadata": {},
     "outputs": [],
     "prompt_number": 2
    },
    {
     "cell_type": "heading",
     "level": 2,
     "metadata": {},
     "source": [
      "The Jaynes-Cummings Model"
     ]
    },
    {
     "cell_type": "markdown",
     "metadata": {},
     "source": [
      "The Jaynes-Cummings model describes the light-matter interaction as a single harmonic oscillator and a two-level system. Within dipole approximation, the model is expressed by the Hamiltonian"
     ]
    },
    {
     "cell_type": "markdown",
     "metadata": {},
     "source": [
      "\\begin{align}\n",
      "H = \\frac{\\hbar\\epsilon}{2}\\sigma_z + \\hbar\\omega a^\\dagger a + \\hbar g \\sigma_x (a + a^\\dagger)\n",
      "\\end{align}"
     ]
    },
    {
     "cell_type": "markdown",
     "metadata": {},
     "source": [
      "where $\\hbar\\epsilon$ is the level splitting of the two-level system, henchforth <i>qubit</i>, $\\omega$ is the frequency of the EM field mode, and $g$ is the dipole interaction strength."
     ]
    },
    {
     "cell_type": "markdown",
     "metadata": {},
     "source": [
      "Here, $\\sigma_\\alpha$, $\\alpha=x, y, z$, are Pauli spin matrices\n",
      "\\begin{align}\n",
      "\\sigma_{x} = \\begin{pmatrix} 0 & 1 \\\\ 1 & 0 \\end{pmatrix},\\quad\n",
      "\\sigma_{y} = \\begin{pmatrix} 0 & -i \\\\ i & 0 \\end{pmatrix}, \\quad\n",
      "\\sigma_{z} = \\begin{pmatrix} 1 & 0 \\\\ 0 & -1 \\end{pmatrix},\n",
      "\\end{align}"
     ]
    },
    {
     "cell_type": "markdown",
     "metadata": {},
     "source": [
      "and $a^\\dagger$, $a$ are bosonic creation and annihilation operators of the EM field mode."
     ]
    },
    {
     "cell_type": "markdown",
     "metadata": {},
     "source": [
      "To represent the Jaynes-Cummings model in SymPy, we use the operator classes <tt>BosonOp</tt> and <tt>SigmaX</tt>, <tt>SigmaY</tt>, and <tt>SigmaZ</tt>, and use these to construct the Hamiltonian (we work in units where $\\hbar = 1$)."
     ]
    },
    {
     "cell_type": "code",
     "collapsed": false,
     "input": [
      "w, e, g, D, t, Hsym = symbols(\"omega, epsilon, g, Delta, t, H\")\n",
      "sx, sy, sz = SigmaX(), SigmaY(), SigmaZ()\n",
      "a = BosonOp(\"a\")"
     ],
     "language": "python",
     "metadata": {},
     "outputs": [],
     "prompt_number": 3
    },
    {
     "cell_type": "code",
     "collapsed": false,
     "input": [
      "H0 = w * Dagger(a) * a + e / 2 * sz\n",
      "Hint = g * sx * (a + Dagger(a))\n",
      "H = H0 + Hint\n",
      "Eq(Hsym, H)"
     ],
     "language": "python",
     "metadata": {},
     "outputs": [
      {
       "latex": [
        "$$H = \\frac{\\epsilon {\\sigma_z}}{2} + g {\\sigma_x} \\left({{a}^\\dagger} + {a}\\right) + \\omega {{a}^\\dagger} {a}$$"
       ],
       "metadata": {},
       "output_type": "pyout",
       "png": "[encoded data removed]",
       "prompt_number": 4,
       "text": [
        "    \u03b5\u22c5False           \u239b \u2020    \u239e      \u2020  \n",
        "H = \u2500\u2500\u2500\u2500\u2500\u2500\u2500 + g\u22c5False\u22c5\u239da  + a\u23a0 + \u03c9\u22c5a \u22c5a\n",
        "       2                               "
       ]
      }
     ],
     "prompt_number": 4
    },
    {
     "cell_type": "markdown",
     "metadata": {},
     "source": [
      "This Hamiltonian cannot be diagonalized exactly, and is often simplified by a rotating-wave approximation(RWA)."
     ]
    },
    {
     "cell_type": "markdown",
     "metadata": {},
     "source": [
      "We express the qubit-cavity interaction terms of the ladder operators $\\sigma_{\\pm} = \\frac{1}{2}(\\sigma_x \\pm i\\sigma_y)$. In the language of SymPy, these operators are written as:"
     ]
    },
    {
     "cell_type": "code",
     "collapsed": false,
     "input": [
      "sp, sm = SigmaPlus(), SigmaMinus()"
     ],
     "language": "python",
     "metadata": {},
     "outputs": [],
     "prompt_number": 5
    },
    {
     "cell_type": "markdown",
     "metadata": {},
     "source": [
      "We move to a frame co-rotating with the qubit and oscillator frequency."
     ]
    },
    {
     "cell_type": "code",
     "collapsed": false,
     "input": [
      "U1 = exp(I * w * t * Dagger(a) * a); Eq(symbols(\"U_1\"), U1)"
     ],
     "language": "python",
     "metadata": {},
     "outputs": [
      {
       "latex": [
        "$$U_{1} = e^{i \\omega t {{a}^\\dagger} {a}}$$"
       ],
       "metadata": {},
       "output_type": "pyout",
       "png": "[encoded data removed]",
       "prompt_number": 6,
       "text": [
        "             \u2020  \n",
        "      \u2148\u22c5\u03c9\u22c5t\u22c5a \u22c5a\n",
        "U\u2081 = \u212f          "
       ]
      }
     ],
     "prompt_number": 6
    },
    {
     "cell_type": "code",
     "collapsed": false,
     "input": [
      "U2 = exp(I * e * t * sz / 2); Eq(symbols(\"U_2\"), U2)"
     ],
     "language": "python",
     "metadata": {},
     "outputs": [
      {
       "latex": [
        "$$U_{2} = e^{\\frac{i \\epsilon}{2} t {\\sigma_z}}$$"
       ],
       "metadata": {},
       "output_type": "pyout",
       "png": "[encoded data removed]",
       "prompt_number": 7,
       "text": [
        "      \u2148\u22c5\u03b5\u22c5t\u22c5False\n",
        "      \u2500\u2500\u2500\u2500\u2500\u2500\u2500\u2500\u2500\u2500\u2500\n",
        "           2     \n",
        "U\u2082 = \u212f           "
       ]
      }
     ],
     "prompt_number": 7
    },
    {
     "cell_type": "code",
     "collapsed": false,
     "input": [
      "H1 = hamiltonian_transformation(U1, H.expand()); H1"
     ],
     "language": "python",
     "metadata": {},
     "outputs": [
      {
       "latex": [
        "$$\\frac{\\epsilon {\\sigma_z}}{2} + g e^{i \\omega t} {\\sigma_x} {{a}^\\dagger} + g e^{- i \\omega t} {\\sigma_x} {a}$$"
       ],
       "metadata": {},
       "output_type": "pyout",
       "png": "[encoded data removed]",
       "prompt_number": 8,
       "text": [
        "\u03b5\u22c5False      \u2148\u22c5\u03c9\u22c5t        \u2020      -\u2148\u22c5\u03c9\u22c5t        \n",
        "\u2500\u2500\u2500\u2500\u2500\u2500\u2500 + g\u22c5\u212f     \u22c5False\u22c5a  + g\u22c5\u212f      \u22c5False\u22c5a\n",
        "   2                                           "
       ]
      }
     ],
     "prompt_number": 8
    },
    {
     "cell_type": "code",
     "collapsed": false,
     "input": [
      "H2 = hamiltonian_transformation(U2, H1.expand()); H2"
     ],
     "language": "python",
     "metadata": {},
     "outputs": [
      {
       "latex": [
        "$$g e^{i \\omega t} \\left(- \\sin{\\left (\\epsilon t \\right )} {\\sigma_y} + \\cos{\\left (\\epsilon t \\right )} {\\sigma_x}\\right) {{a}^\\dagger} + g e^{- i \\omega t} \\left(- \\sin{\\left (\\epsilon t \\right )} {\\sigma_y} + \\cos{\\left (\\epsilon t \\right )} {\\sigma_x}\\right) {a}$$"
       ],
       "metadata": {},
       "output_type": "pyout",
       "png": "[encoded data removed]",
       "prompt_number": 9,
       "text": [
        "   \u2148\u22c5\u03c9\u22c5t                                     \u2020      -\u2148\u22c5\u03c9\u22c5t                    \n",
        "g\u22c5\u212f     \u22c5(-sin(\u03b5\u22c5t)\u22c5False + cos(\u03b5\u22c5t)\u22c5False)\u22c5a  + g\u22c5\u212f      \u22c5(-sin(\u03b5\u22c5t)\u22c5False + \n",
        "\n",
        "                 \n",
        "cos(\u03b5\u22c5t)\u22c5False)\u22c5a"
       ]
      }
     ],
     "prompt_number": 9
    },
    {
     "cell_type": "code",
     "collapsed": false,
     "input": [
      "H3 = pauli_represent_minus_plus(H2).rewrite((sin,cos), exp).expand()\n",
      "H3 = powsimp(H3); H3"
     ],
     "language": "python",
     "metadata": {},
     "outputs": [
      {
       "latex": [
        "$$g e^{- i \\epsilon t - i \\omega t} {\\sigma_-} {a} + g e^{- i \\epsilon t + i \\omega t} {\\sigma_-} {{a}^\\dagger} + g e^{i \\epsilon t - i \\omega t} {\\sigma_+} {a} + g e^{i \\epsilon t + i \\omega t} {\\sigma_+} {{a}^\\dagger}$$"
       ],
       "metadata": {},
       "output_type": "pyout",
       "png": "[encoded data removed]",
       "prompt_number": 10,
       "text": [
        "   -\u2148\u22c5\u03b5\u22c5t - \u2148\u22c5\u03c9\u22c5t              -\u2148\u22c5\u03b5\u22c5t + \u2148\u22c5\u03c9\u22c5t        \u2020      \u2148\u22c5\u03b5\u22c5t - \u2148\u22c5\u03c9\u22c5t     \n",
        "g\u22c5\u212f              \u22c5False\u22c5a + g\u22c5\u212f              \u22c5False\u22c5a  + g\u22c5\u212f             \u22c5Fals\n",
        "\n",
        "         \u2148\u22c5\u03b5\u22c5t + \u2148\u22c5\u03c9\u22c5t        \u2020\n",
        "e\u22c5a + g\u22c5\u212f             \u22c5False\u22c5a "
       ]
      }
     ],
     "prompt_number": 10
    },
    {
     "cell_type": "code",
     "collapsed": false,
     "input": [
      "# Trick to simplify exponents\n",
      "def simplify_exp(e):\n",
      "    if isinstance(e, exp):\n",
      "        return exp(simplify(e.exp.expand()))\n",
      "    \n",
      "    if isinstance(e, (Add, Mul)):\n",
      "        return type(e)(*(simplify_exp(arg) for arg in e.args))\n",
      "    \n",
      "    return e"
     ],
     "language": "python",
     "metadata": {},
     "outputs": [],
     "prompt_number": 11
    },
    {
     "cell_type": "markdown",
     "metadata": {},
     "source": [
      "We introduce the detuning $\\Delta = \\epsilon - \\omega$ and substitute into the expression"
     ]
    },
    {
     "cell_type": "code",
     "collapsed": false,
     "input": [
      "H4 = simplify_exp(H3).subs(e - w, D); H4"
     ],
     "language": "python",
     "metadata": {},
     "outputs": [
      {
       "latex": [
        "$$g e^{i \\Delta t} {\\sigma_+} {a} + g e^{i t \\left(\\epsilon + \\omega\\right)} {\\sigma_+} {{a}^\\dagger} + g e^{- i t \\left(\\epsilon + \\omega\\right)} {\\sigma_-} {a} + g e^{- i \\Delta t} {\\sigma_-} {{a}^\\dagger}$$"
       ],
       "metadata": {},
       "output_type": "pyout",
       "png": "[encoded data removed]",
       "prompt_number": 12,
       "text": [
        "   \u2148\u22c5\u0394\u22c5t              \u2148\u22c5t\u22c5(\u03b5 + \u03c9)        \u2020      -\u2148\u22c5t\u22c5(\u03b5 + \u03c9)              -\u2148\u22c5\u0394\n",
        "g\u22c5\u212f     \u22c5False\u22c5a + g\u22c5\u212f           \u22c5False\u22c5a  + g\u22c5\u212f            \u22c5False\u22c5a + g\u22c5\u212f    \n",
        "\n",
        "\u22c5t        \u2020\n",
        "  \u22c5False\u22c5a "
       ]
      }
     ],
     "prompt_number": 12
    },
    {
     "cell_type": "markdown",
     "metadata": {},
     "source": [
      "In the interaction picture, with respect to the uncoupled hamiltonian $H_0 = \\hbar\\epsilon\\sigma_z/2 + \\hbar\\omega a^\\dagger a$, the coupling operators $\\sigma_+ a, \\sigma_-a^\\dagger$ and $\\sigma_- a, \\sigma_+ a^\\dagger$ oscillate with the phase factors $\\exp[\\pm i(\\omega-\\epsilon)t]$ and $\\exp[\\pm i(\\omega+\\epsilon)t]$, respectively."
     ]
    },
    {
     "cell_type": "markdown",
     "metadata": {},
     "source": [
      "Operating at or near resonance, the cavity-qubit detuning is small, $|\\epsilon-\\omega|\\ll\\epsilon+\\omega$, so that the former operators oscillate slowly, whereas the latter exhibit fast <i>counter-rotating</i> oscillations. If in addition, the coupling is sufficiently weak $g\\ll \\min\\{\\epsilon,\\omega\\}$, one can separate time scales and replace the counter-rotating terms by their vanishing time average."
     ]
    },
    {
     "cell_type": "markdown",
     "metadata": {},
     "source": [
      "We drop the fast oscillating terms containing the factors $e^{\\pm i(\\omega+\\epsilon)t}$"
     ]
    },
    {
     "cell_type": "code",
     "collapsed": false,
     "input": [
      "H5 = drop_terms_containing(H4, [exp( I * (w + e) * t),\n",
      "                                exp(-I * (w + e) * t)])\n",
      "H5 = drop_c_number_terms(H5.expand())\n",
      "\n",
      "H5"
     ],
     "language": "python",
     "metadata": {},
     "outputs": [
      {
       "latex": [
        "$$g e^{i \\Delta t} {\\sigma_+} {a} + g e^{- i \\Delta t} {\\sigma_-} {{a}^\\dagger}$$"
       ],
       "metadata": {},
       "output_type": "pyout",
       "png": "[encoded data removed]",
       "prompt_number": 13,
       "text": [
        "   \u2148\u22c5\u0394\u22c5t              -\u2148\u22c5\u0394\u22c5t        \u2020\n",
        "g\u22c5\u212f     \u22c5False\u22c5a + g\u22c5\u212f      \u22c5False\u22c5a "
       ]
      }
     ],
     "prompt_number": 13
    },
    {
     "cell_type": "markdown",
     "metadata": {},
     "source": [
      "This is the Jaynes-Cummings model in the interaction picture. If we transform back to the Schr\u00f6dinger picture, we have:"
     ]
    },
    {
     "cell_type": "code",
     "collapsed": false,
     "input": [
      "U3 = exp(-I * w * t * Dagger(a) * a)\n",
      "H6 = hamiltonian_transformation(U3, H5); H6"
     ],
     "language": "python",
     "metadata": {},
     "outputs": [
      {
       "latex": [
        "$$g e^{i \\Delta t} e^{i \\omega t} {\\sigma_+} {a} + g e^{- i \\Delta t} e^{- i \\omega t} {\\sigma_-} {{a}^\\dagger} + \\omega {{a}^\\dagger} {a}$$"
       ],
       "metadata": {},
       "output_type": "pyout",
       "png": "[encoded data removed]",
       "prompt_number": 14,
       "text": [
        "   \u2148\u22c5\u0394\u22c5t  \u2148\u22c5\u03c9\u22c5t              -\u2148\u22c5\u0394\u22c5t  -\u2148\u22c5\u03c9\u22c5t        \u2020      \u2020  \n",
        "g\u22c5\u212f     \u22c5\u212f     \u22c5False\u22c5a + g\u22c5\u212f      \u22c5\u212f      \u22c5False\u22c5a  + \u03c9\u22c5a \u22c5a"
       ]
      }
     ],
     "prompt_number": 14
    },
    {
     "cell_type": "code",
     "collapsed": false,
     "input": [
      "U4 = exp(-I * e * t * sz / 2)\n",
      "H7 = hamiltonian_transformation(U4, H6.expand()); H7"
     ],
     "language": "python",
     "metadata": {},
     "outputs": [
      {
       "latex": [
        "$$\\frac{\\epsilon {\\sigma_z}}{2} + g e^{i \\Delta t} e^{- i \\epsilon t} e^{i \\omega t} {\\sigma_+} {a} + g e^{- i \\Delta t} e^{i \\epsilon t} e^{- i \\omega t} {\\sigma_-} {{a}^\\dagger} + \\omega {{a}^\\dagger} {a}$$"
       ],
       "metadata": {},
       "output_type": "pyout",
       "png": "[encoded data removed]",
       "prompt_number": 15,
       "text": [
        "\u03b5\u22c5False      \u2148\u22c5\u0394\u22c5t  -\u2148\u22c5\u03b5\u22c5t  \u2148\u22c5\u03c9\u22c5t              -\u2148\u22c5\u0394\u22c5t  \u2148\u22c5\u03b5\u22c5t  -\u2148\u22c5\u03c9\u22c5t        \u2020 \n",
        "\u2500\u2500\u2500\u2500\u2500\u2500\u2500 + g\u22c5\u212f     \u22c5\u212f      \u22c5\u212f     \u22c5False\u22c5a + g\u22c5\u212f      \u22c5\u212f     \u22c5\u212f      \u22c5False\u22c5a  \n",
        "   2                                                                          \n",
        "\n",
        "     \u2020  \n",
        "+ \u03c9\u22c5a \u22c5a\n",
        "        "
       ]
      }
     ],
     "prompt_number": 15
    },
    {
     "cell_type": "code",
     "collapsed": false,
     "input": [
      "H8 = simplify_exp(H7).subs(D, e - w)\n",
      "\n",
      "H8 = simplify_exp(powsimp(H8)).expand()\n",
      "\n",
      "H8 = drop_c_number_terms(H8)\n",
      "\n",
      "Hrwa = collect(H8, g)\n",
      "\n",
      "Eq(symbols(\"H_RWA\"), H)"
     ],
     "language": "python",
     "metadata": {},
     "outputs": [
      {
       "latex": [
        "$$H_{RWA} = \\frac{\\epsilon {\\sigma_z}}{2} + g {\\sigma_x} \\left({{a}^\\dagger} + {a}\\right) + \\omega {{a}^\\dagger} {a}$$"
       ],
       "metadata": {},
       "output_type": "pyout",
       "png": "[encoded data removed]",
       "prompt_number": 16,
       "text": [
        "        \u03b5\u22c5False           \u239b \u2020    \u239e      \u2020  \n",
        "H_RWA = \u2500\u2500\u2500\u2500\u2500\u2500\u2500 + g\u22c5False\u22c5\u239da  + a\u23a0 + \u03c9\u22c5a \u22c5a\n",
        "           2                               "
       ]
      }
     ],
     "prompt_number": 16
    },
    {
     "cell_type": "markdown",
     "metadata": {},
     "source": [
      "This is the Jaynes-Cummings Hamiltonian."
     ]
    },
    {
     "cell_type": "heading",
     "level": 2,
     "metadata": {},
     "source": [
      "Dispersive Theory within RWA"
     ]
    },
    {
     "cell_type": "markdown",
     "metadata": {},
     "source": [
      "The dispersive regime is characterized by a large detuning $\\Delta = \\epsilon - \\omega$ as compared to the qubit-oscillator coupling $g$. Thus, the factor"
     ]
    },
    {
     "cell_type": "markdown",
     "metadata": {},
     "source": [
      "\\begin{align} \\lambda\\equiv\\frac{g}{\\Delta} \\end{align}"
     ]
    },
    {
     "cell_type": "markdown",
     "metadata": {},
     "source": [
      "is a small parameter, while the RWA Hamiltonian is valid for $|\\epsilon - \\omega|\\ll \\epsilon+\\omega$."
     ]
    },
    {
     "cell_type": "markdown",
     "metadata": {},
     "source": [
      "It is easier if we separate the coupling term from the RWA Hamiltonian."
     ]
    },
    {
     "cell_type": "markdown",
     "metadata": {},
     "source": [
      "Defining the operators $X_{\\pm} = \\sigma_{-}a^\\dagger \\pm \\sigma_{+}a$,"
     ]
    },
    {
     "cell_type": "code",
     "collapsed": false,
     "input": [
      "Xp = sm * Dagger(a) + sp * a; Eq(symbols(\"X_+\"),Xp)"
     ],
     "language": "python",
     "metadata": {},
     "outputs": [
      {
       "latex": [
        "$$X_{+} = {\\sigma_-} {{a}^\\dagger} + {\\sigma_+} {a}$$"
       ],
       "metadata": {},
       "output_type": "pyout",
       "png": "[encoded data removed]",
       "prompt_number": 17,
       "text": [
        "            \u2020          \n",
        "X\u208a = False\u22c5a  + False\u22c5a"
       ]
      }
     ],
     "prompt_number": 17
    },
    {
     "cell_type": "code",
     "collapsed": false,
     "input": [
      "Xm = sm * Dagger(a) - sp * a; Eq(symbols(\"X_-\"),Xm)"
     ],
     "language": "python",
     "metadata": {},
     "outputs": [
      {
       "latex": [
        "$$X_{-} = {\\sigma_-} {{a}^\\dagger} - {\\sigma_+} {a}$$"
       ],
       "metadata": {},
       "output_type": "pyout",
       "png": "[encoded data removed]",
       "prompt_number": 18,
       "text": [
        "            \u2020          \n",
        "X\u208b = False\u22c5a  - False\u22c5a"
       ]
      }
     ],
     "prompt_number": 18
    },
    {
     "cell_type": "markdown",
     "metadata": {},
     "source": [
      "The RWA Hamiltonian is expressed as\n",
      "\\begin{align} H_{RWA} = H_0 + \\hbar g X_+ \\end{align}\n",
      "where $H_0$ is the non-interacting Hamiltonian\n",
      "\\begin{align} H_0 \\equiv \\frac{\\hbar\\epsilon}{2} \\sigma_z +\\hbar\\omega a^\\dagger a\n",
      "\\end{align}"
     ]
    },
    {
     "cell_type": "code",
     "collapsed": false,
     "input": [
      "H0 = e/2 * sz + w * Dagger(a) * a; Eq(symbols(\"H_0\"),H0)"
     ],
     "language": "python",
     "metadata": {},
     "outputs": [
      {
       "latex": [
        "$$H_{0} = \\frac{\\epsilon {\\sigma_z}}{2} + \\omega {{a}^\\dagger} {a}$$"
       ],
       "metadata": {},
       "output_type": "pyout",
       "png": "[encoded data removed]",
       "prompt_number": 19,
       "text": [
        "     \u03b5\u22c5False      \u2020  \n",
        "H\u2080 = \u2500\u2500\u2500\u2500\u2500\u2500\u2500 + \u03c9\u22c5a \u22c5a\n",
        "        2            "
       ]
      }
     ],
     "prompt_number": 19
    },
    {
     "cell_type": "code",
     "collapsed": false,
     "input": [
      "Hrwa = H0 + g * Xp; Eq(symbols(\"H_RWA\"), Hrwa)"
     ],
     "language": "python",
     "metadata": {},
     "outputs": [
      {
       "latex": [
        "$$H_{RWA} = \\frac{\\epsilon {\\sigma_z}}{2} + g \\left({\\sigma_-} {{a}^\\dagger} + {\\sigma_+} {a}\\right) + \\omega {{a}^\\dagger} {a}$$"
       ],
       "metadata": {},
       "output_type": "pyout",
       "png": "[encoded data removed]",
       "prompt_number": 20,
       "text": [
        "        \u03b5\u22c5False     \u239b       \u2020          \u239e      \u2020  \n",
        "H_RWA = \u2500\u2500\u2500\u2500\u2500\u2500\u2500 + g\u22c5\u239dFalse\u22c5a  + False\u22c5a\u23a0 + \u03c9\u22c5a \u22c5a\n",
        "           2                                     "
       ]
      }
     ],
     "prompt_number": 20
    },
    {
     "cell_type": "markdown",
     "metadata": {},
     "source": [
      "We apply the unitary transformation\\begin{align}\n",
      "D_{RWA} \\equiv e^{- \\lambda X_-} = e^{-\\lambda(\\sigma_- a^\\dagger -\\sigma_{+} a)}\n",
      "\\end{align}"
     ]
    },
    {
     "cell_type": "markdown",
     "metadata": {},
     "source": [
      "to obtain the dispersive Hamiltonian $H_{RWA, \\textrm{disp}} = D_{RWA} H_{RWA} D_{RWA}^\\dagger$ to the second order in $\\lambda$:\n",
      "\\begin{align}\n",
      "H_{RWA, \\textrm{disp}} = H_{RWA} + \\lambda [H_{RWA}, X_-] + \\frac{1}{2}\\lambda^2 [[H_{RWA},X_-],X_-]\n",
      "\\end{align}"
     ]
    },
    {
     "cell_type": "markdown",
     "metadata": {},
     "source": [
      "In the language of SymPy,"
     ]
    },
    {
     "cell_type": "code",
     "collapsed": false,
     "input": [
      "l = symbols(\"lambda\", real = True)\n",
      "Drwa = exp(-l * Xm); Eq(symbols(\"D_RWA\"), Drwa)"
     ],
     "language": "python",
     "metadata": {},
     "outputs": [
      {
       "latex": [
        "$$D_{RWA} = e^{- \\lambda \\left({\\sigma_-} {{a}^\\dagger} - {\\sigma_+} {a}\\right)}$$"
       ],
       "metadata": {},
       "output_type": "pyout",
       "png": "[encoded data removed]",
       "prompt_number": 21,
       "text": [
        "            \u239b       \u2020          \u239e\n",
        "         -\u03bb\u22c5\u239dFalse\u22c5a  - False\u22c5a\u23a0\n",
        "D_RWA = \u212f                       "
       ]
      }
     ],
     "prompt_number": 21
    },
    {
     "cell_type": "markdown",
     "metadata": {},
     "source": [
      "The transformed Hamiltonian is:"
     ]
    },
    {
     "cell_type": "code",
     "collapsed": false,
     "input": [
      "H1 = hamiltonian_transformation(Drwa, Hrwa.expand(), expansion_search=False, N=3).expand()\n",
      "\n",
      "H1 = qsimplify(H1)\n",
      "\n",
      "H1"
     ],
     "language": "python",
     "metadata": {},
     "outputs": [
      {
       "latex": [
        "$$- \\frac{\\epsilon \\lambda^{2}}{2} - \\epsilon \\lambda^{2} {{a}^\\dagger} {a} {\\sigma_z} - \\frac{\\epsilon \\lambda^{2}}{2} {\\sigma_z} - \\epsilon \\lambda {{a}^\\dagger} {\\sigma_-} - \\epsilon \\lambda {a} {\\sigma_+} + \\frac{\\epsilon {\\sigma_z}}{2} + g \\lambda^{4} {{a}^\\dagger} \\left({a}\\right)^{2} {\\sigma_+} - \\frac{3 g}{4} \\lambda^{4} {{a}^\\dagger} {\\sigma_-} - g \\lambda^{4} \\left({{a}^\\dagger}\\right)^{2} {a} {\\sigma_-} + \\frac{5 g}{4} \\lambda^{4} {a} {\\sigma_+} - 2 g \\lambda^{2} {{a}^\\dagger} \\left({a}\\right)^{2} {\\sigma_+} - 2 g \\lambda^{2} {{a}^\\dagger} {\\sigma_-} - 2 g \\lambda^{2} \\left({{a}^\\dagger}\\right)^{2} {a} {\\sigma_-} - 2 g \\lambda^{2} {a} {\\sigma_+} + g \\lambda + 2 g \\lambda {{a}^\\dagger} {a} {\\sigma_z} + g \\lambda {\\sigma_z} + g {{a}^\\dagger} {\\sigma_-} + g {a} {\\sigma_+} + \\frac{\\lambda^{4} \\omega}{4} {{a}^\\dagger} {a} - \\frac{\\lambda^{3} \\omega}{2} {{a}^\\dagger} {\\sigma_-} - \\frac{\\lambda^{3} \\omega}{2} {a} {\\sigma_+} + \\frac{\\lambda^{2} \\omega}{2} + \\lambda^{2} \\omega {{a}^\\dagger} {a} {\\sigma_z} + \\frac{\\lambda^{2} \\omega}{2} {\\sigma_z} + \\lambda \\omega {{a}^\\dagger} {\\sigma_-} + \\lambda \\omega {a} {\\sigma_+} + \\omega {{a}^\\dagger} {a}$$"
       ],
       "metadata": {},
       "output_type": "pyout",
       "png": "[encoded data removed]",
       "prompt_number": 22,
       "text": [
        "     2                        2                                               \n",
        "  \u03b5\u22c5\u03bb       2  \u2020           \u03b5\u22c5\u03bb \u22c5False        \u2020                       \u03b5\u22c5False  \n",
        "- \u2500\u2500\u2500\u2500 - \u03b5\u22c5\u03bb \u22c5a \u22c5a\u22c5False - \u2500\u2500\u2500\u2500\u2500\u2500\u2500\u2500\u2500\u2500 - \u03b5\u22c5\u03bb\u22c5a \u22c5False - \u03b5\u22c5\u03bb\u22c5a\u22c5False + \u2500\u2500\u2500\u2500\u2500\u2500\u2500 +\n",
        "   2                           2                                        2     \n",
        "\n",
        "                         4  \u2020                  2                4             \n",
        "    4  \u2020  2         3\u22c5g\u22c5\u03bb \u22c5a \u22c5False      4 \u239b \u2020\u239e            5\u22c5g\u22c5\u03bb \u22c5a\u22c5False     \n",
        " g\u22c5\u03bb \u22c5a \u22c5a \u22c5False - \u2500\u2500\u2500\u2500\u2500\u2500\u2500\u2500\u2500\u2500\u2500\u2500\u2500\u2500\u2500 - g\u22c5\u03bb \u22c5\u239da \u23a0 \u22c5a\u22c5False + \u2500\u2500\u2500\u2500\u2500\u2500\u2500\u2500\u2500\u2500\u2500\u2500\u2500\u2500 - 2\u22c5\n",
        "                           4                                     4            \n",
        "\n",
        "                                                2                             \n",
        "   2  \u2020  2              2  \u2020              2 \u239b \u2020\u239e                 2            \n",
        "g\u22c5\u03bb \u22c5a \u22c5a \u22c5False - 2\u22c5g\u22c5\u03bb \u22c5a \u22c5False - 2\u22c5g\u22c5\u03bb \u22c5\u239da \u23a0 \u22c5a\u22c5False - 2\u22c5g\u22c5\u03bb \u22c5a\u22c5False + g\n",
        "                                                                              \n",
        "\n",
        "                                                              4    \u2020      3   \n",
        "            \u2020                          \u2020                     \u03bb \u22c5\u03c9\u22c5a \u22c5a   \u03bb \u22c5\u03c9\u22c5\n",
        "\u22c5\u03bb + 2\u22c5g\u22c5\u03bb\u22c5a \u22c5a\u22c5False + g\u22c5\u03bb\u22c5False + g\u22c5a \u22c5False + g\u22c5a\u22c5False + \u2500\u2500\u2500\u2500\u2500\u2500\u2500\u2500\u2500 - \u2500\u2500\u2500\u2500\u2500\n",
        "                                                                 4            \n",
        "\n",
        " \u2020          3              2                        2                         \n",
        "a \u22c5False   \u03bb \u22c5\u03c9\u22c5a\u22c5False   \u03bb \u22c5\u03c9    2    \u2020           \u03bb \u22c5\u03c9\u22c5False        \u2020        \n",
        "\u2500\u2500\u2500\u2500\u2500\u2500\u2500\u2500 - \u2500\u2500\u2500\u2500\u2500\u2500\u2500\u2500\u2500\u2500\u2500\u2500 + \u2500\u2500\u2500\u2500 + \u03bb \u22c5\u03c9\u22c5a \u22c5a\u22c5False + \u2500\u2500\u2500\u2500\u2500\u2500\u2500\u2500\u2500\u2500 + \u03bb\u22c5\u03c9\u22c5a \u22c5False +\n",
        " 2              2          2                           2                      \n",
        "\n",
        "                     \n",
        "                  \u2020  \n",
        " \u03bb\u22c5\u03c9\u22c5a\u22c5False + \u03c9\u22c5a \u22c5a\n",
        "                     "
       ]
      }
     ],
     "prompt_number": 22
    },
    {
     "cell_type": "markdown",
     "metadata": {},
     "source": [
      "We drop the terms of orders in lambda higher than 2."
     ]
    },
    {
     "cell_type": "code",
     "collapsed": false,
     "input": [
      "H2 = drop_terms_containing(H1.expand(), [l**3, l**4]); H2"
     ],
     "language": "python",
     "metadata": {},
     "outputs": [
      {
       "latex": [
        "$$- \\frac{\\epsilon \\lambda^{2}}{2} - \\epsilon \\lambda^{2} {{a}^\\dagger} {a} {\\sigma_z} - \\frac{\\epsilon \\lambda^{2}}{2} {\\sigma_z} - \\epsilon \\lambda {{a}^\\dagger} {\\sigma_-} - \\epsilon \\lambda {a} {\\sigma_+} + \\frac{\\epsilon {\\sigma_z}}{2} - 2 g \\lambda^{2} {{a}^\\dagger} \\left({a}\\right)^{2} {\\sigma_+} - 2 g \\lambda^{2} {{a}^\\dagger} {\\sigma_-} - 2 g \\lambda^{2} \\left({{a}^\\dagger}\\right)^{2} {a} {\\sigma_-} - 2 g \\lambda^{2} {a} {\\sigma_+} + g \\lambda + 2 g \\lambda {{a}^\\dagger} {a} {\\sigma_z} + g \\lambda {\\sigma_z} + g {{a}^\\dagger} {\\sigma_-} + g {a} {\\sigma_+} + \\frac{\\lambda^{2} \\omega}{2} + \\lambda^{2} \\omega {{a}^\\dagger} {a} {\\sigma_z} + \\frac{\\lambda^{2} \\omega}{2} {\\sigma_z} + \\lambda \\omega {{a}^\\dagger} {\\sigma_-} + \\lambda \\omega {a} {\\sigma_+} + \\omega {{a}^\\dagger} {a}$$"
       ],
       "metadata": {},
       "output_type": "pyout",
       "png": "[encoded data removed]",
       "prompt_number": 23,
       "text": [
        "     2                        2                                               \n",
        "  \u03b5\u22c5\u03bb       2  \u2020           \u03b5\u22c5\u03bb \u22c5False        \u2020                       \u03b5\u22c5False  \n",
        "- \u2500\u2500\u2500\u2500 - \u03b5\u22c5\u03bb \u22c5a \u22c5a\u22c5False - \u2500\u2500\u2500\u2500\u2500\u2500\u2500\u2500\u2500\u2500 - \u03b5\u22c5\u03bb\u22c5a \u22c5False - \u03b5\u22c5\u03bb\u22c5a\u22c5False + \u2500\u2500\u2500\u2500\u2500\u2500\u2500 -\n",
        "   2                           2                                        2     \n",
        "\n",
        "                                                   2                          \n",
        "      2  \u2020  2              2  \u2020              2 \u239b \u2020\u239e                 2         \n",
        " 2\u22c5g\u22c5\u03bb \u22c5a \u22c5a \u22c5False - 2\u22c5g\u22c5\u03bb \u22c5a \u22c5False - 2\u22c5g\u22c5\u03bb \u22c5\u239da \u23a0 \u22c5a\u22c5False - 2\u22c5g\u22c5\u03bb \u22c5a\u22c5False \n",
        "                                                                              \n",
        "\n",
        "                                                                 2            \n",
        "               \u2020                          \u2020                     \u03bb \u22c5\u03c9    2    \u2020\n",
        "+ g\u22c5\u03bb + 2\u22c5g\u22c5\u03bb\u22c5a \u22c5a\u22c5False + g\u22c5\u03bb\u22c5False + g\u22c5a \u22c5False + g\u22c5a\u22c5False + \u2500\u2500\u2500\u2500 + \u03bb \u22c5\u03c9\u22c5a \n",
        "                                                                 2            \n",
        "\n",
        "            2                                              \n",
        "           \u03bb \u22c5\u03c9\u22c5False        \u2020                          \u2020  \n",
        "\u22c5a\u22c5False + \u2500\u2500\u2500\u2500\u2500\u2500\u2500\u2500\u2500\u2500 + \u03bb\u22c5\u03c9\u22c5a \u22c5False + \u03bb\u22c5\u03c9\u22c5a\u22c5False + \u03c9\u22c5a \u22c5a\n",
        "               2                                           "
       ]
      }
     ],
     "prompt_number": 23
    },
    {
     "cell_type": "markdown",
     "metadata": {},
     "source": [
      "and substitute $g/\\Delta$ in place of $\\lambda$."
     ]
    },
    {
     "cell_type": "code",
     "collapsed": false,
     "input": [
      "H3 = H2.subs(l, g/D); H3"
     ],
     "language": "python",
     "metadata": {},
     "outputs": [
      {
       "latex": [
        "$$\\frac{\\epsilon {\\sigma_z}}{2} + g {{a}^\\dagger} {\\sigma_-} + g {a} {\\sigma_+} + \\omega {{a}^\\dagger} {a} - \\frac{\\epsilon g}{\\Delta} {{a}^\\dagger} {\\sigma_-} - \\frac{\\epsilon g}{\\Delta} {a} {\\sigma_+} + \\frac{g^{2}}{\\Delta} + \\frac{2 g^{2}}{\\Delta} {{a}^\\dagger} {a} {\\sigma_z} + \\frac{g^{2} {\\sigma_z}}{\\Delta} + \\frac{g \\omega}{\\Delta} {{a}^\\dagger} {\\sigma_-} + \\frac{g \\omega}{\\Delta} {a} {\\sigma_+} - \\frac{\\epsilon g^{2}}{2 \\Delta^{2}} - \\frac{\\epsilon g^{2}}{\\Delta^{2}} {{a}^\\dagger} {a} {\\sigma_z} - \\frac{\\epsilon g^{2} {\\sigma_z}}{2 \\Delta^{2}} - \\frac{2 g^{3}}{\\Delta^{2}} {{a}^\\dagger} \\left({a}\\right)^{2} {\\sigma_+} - \\frac{2 g^{3}}{\\Delta^{2}} {{a}^\\dagger} {\\sigma_-} - \\frac{2 g^{3}}{\\Delta^{2}} \\left({{a}^\\dagger}\\right)^{2} {a} {\\sigma_-} - \\frac{2 g^{3}}{\\Delta^{2}} {a} {\\sigma_+} + \\frac{g^{2} \\omega}{2 \\Delta^{2}} + \\frac{g^{2} \\omega}{\\Delta^{2}} {{a}^\\dagger} {a} {\\sigma_z} + \\frac{g^{2} \\omega {\\sigma_z}}{2 \\Delta^{2}}$$"
       ],
       "metadata": {},
       "output_type": "pyout",
       "png": "[encoded data removed]",
       "prompt_number": 24,
       "text": [
        "                                                                              \n",
        "                                                 \u2020                        2   \n",
        "\u03b5\u22c5False      \u2020                        \u2020     \u03b5\u22c5g\u22c5a \u22c5False   \u03b5\u22c5g\u22c5a\u22c5False   g    \n",
        "\u2500\u2500\u2500\u2500\u2500\u2500\u2500 + g\u22c5a \u22c5False + g\u22c5a\u22c5False + \u03c9\u22c5a \u22c5a - \u2500\u2500\u2500\u2500\u2500\u2500\u2500\u2500\u2500\u2500\u2500\u2500 - \u2500\u2500\u2500\u2500\u2500\u2500\u2500\u2500\u2500\u2500\u2500 + \u2500\u2500 + \n",
        "   2                                             \u0394              \u0394        \u0394    \n",
        "                                                                              \n",
        "\n",
        "                                                                              \n",
        "   2  \u2020            2              \u2020                          2      2  \u2020      \n",
        "2\u22c5g \u22c5a \u22c5a\u22c5False   g \u22c5False   g\u22c5\u03c9\u22c5a \u22c5False   g\u22c5\u03c9\u22c5a\u22c5False   \u03b5\u22c5g    \u03b5\u22c5g \u22c5a \u22c5a\u22c5Fal\n",
        "\u2500\u2500\u2500\u2500\u2500\u2500\u2500\u2500\u2500\u2500\u2500\u2500\u2500\u2500\u2500 + \u2500\u2500\u2500\u2500\u2500\u2500\u2500\u2500 + \u2500\u2500\u2500\u2500\u2500\u2500\u2500\u2500\u2500\u2500\u2500\u2500 + \u2500\u2500\u2500\u2500\u2500\u2500\u2500\u2500\u2500\u2500\u2500 - \u2500\u2500\u2500\u2500 - \u2500\u2500\u2500\u2500\u2500\u2500\u2500\u2500\u2500\u2500\u2500\u2500\u2500\n",
        "       \u0394             \u0394            \u0394              \u0394           2           2    \n",
        "                                                          2\u22c5\u0394           \u0394     \n",
        "\n",
        "                                                              2               \n",
        "        2            3  \u2020  2            3  \u2020            3 \u239b \u2020\u239e               3\n",
        "se   \u03b5\u22c5g \u22c5False   2\u22c5g \u22c5a \u22c5a \u22c5False   2\u22c5g \u22c5a \u22c5False   2\u22c5g \u22c5\u239da \u23a0 \u22c5a\u22c5False   2\u22c5g \n",
        "\u2500\u2500 - \u2500\u2500\u2500\u2500\u2500\u2500\u2500\u2500\u2500\u2500 - \u2500\u2500\u2500\u2500\u2500\u2500\u2500\u2500\u2500\u2500\u2500\u2500\u2500\u2500\u2500\u2500 - \u2500\u2500\u2500\u2500\u2500\u2500\u2500\u2500\u2500\u2500\u2500\u2500\u2500 - \u2500\u2500\u2500\u2500\u2500\u2500\u2500\u2500\u2500\u2500\u2500\u2500\u2500\u2500\u2500\u2500\u2500\u2500 - \u2500\u2500\u2500\u2500\n",
        "           2              2                 2                 2               \n",
        "        2\u22c5\u0394              \u0394                 \u0394                 \u0394                \n",
        "\n",
        "                                              \n",
        "            2      2    \u2020            2        \n",
        "\u22c5a\u22c5False   g \u22c5\u03c9   g \u22c5\u03c9\u22c5a \u22c5a\u22c5False   g \u22c5\u03c9\u22c5False\n",
        "\u2500\u2500\u2500\u2500\u2500\u2500\u2500\u2500 + \u2500\u2500\u2500\u2500 + \u2500\u2500\u2500\u2500\u2500\u2500\u2500\u2500\u2500\u2500\u2500\u2500\u2500\u2500\u2500 + \u2500\u2500\u2500\u2500\u2500\u2500\u2500\u2500\u2500\u2500\n",
        "  2           2           2               2   \n",
        " \u0394         2\u22c5\u0394           \u0394             2\u22c5\u0394    "
       ]
      }
     ],
     "prompt_number": 24
    },
    {
     "cell_type": "markdown",
     "metadata": {},
     "source": [
      "We also drop c-number terms"
     ]
    },
    {
     "cell_type": "code",
     "collapsed": false,
     "input": [
      "H4 = drop_c_number_terms(H3); H4"
     ],
     "language": "python",
     "metadata": {},
     "outputs": [
      {
       "latex": [
        "$$\\frac{\\epsilon {\\sigma_z}}{2} + g {{a}^\\dagger} {\\sigma_-} + g {a} {\\sigma_+} + \\omega {{a}^\\dagger} {a} - \\frac{\\epsilon g}{\\Delta} {{a}^\\dagger} {\\sigma_-} - \\frac{\\epsilon g}{\\Delta} {a} {\\sigma_+} + \\frac{2 g^{2}}{\\Delta} {{a}^\\dagger} {a} {\\sigma_z} + \\frac{g^{2} {\\sigma_z}}{\\Delta} + \\frac{g \\omega}{\\Delta} {{a}^\\dagger} {\\sigma_-} + \\frac{g \\omega}{\\Delta} {a} {\\sigma_+} - \\frac{\\epsilon g^{2}}{\\Delta^{2}} {{a}^\\dagger} {a} {\\sigma_z} - \\frac{\\epsilon g^{2} {\\sigma_z}}{2 \\Delta^{2}} - \\frac{2 g^{3}}{\\Delta^{2}} {{a}^\\dagger} \\left({a}\\right)^{2} {\\sigma_+} - \\frac{2 g^{3}}{\\Delta^{2}} {{a}^\\dagger} {\\sigma_-} - \\frac{2 g^{3}}{\\Delta^{2}} \\left({{a}^\\dagger}\\right)^{2} {a} {\\sigma_-} - \\frac{2 g^{3}}{\\Delta^{2}} {a} {\\sigma_+} + \\frac{g^{2} \\omega}{\\Delta^{2}} {{a}^\\dagger} {a} {\\sigma_z} + \\frac{g^{2} \\omega {\\sigma_z}}{2 \\Delta^{2}}$$"
       ],
       "metadata": {},
       "output_type": "pyout",
       "png": "[encoded data removed]",
       "prompt_number": 25,
       "text": [
        "                                                                              \n",
        "                                                 \u2020                          2 \n",
        "\u03b5\u22c5False      \u2020                        \u2020     \u03b5\u22c5g\u22c5a \u22c5False   \u03b5\u22c5g\u22c5a\u22c5False   2\u22c5g \u22c5\n",
        "\u2500\u2500\u2500\u2500\u2500\u2500\u2500 + g\u22c5a \u22c5False + g\u22c5a\u22c5False + \u03c9\u22c5a \u22c5a - \u2500\u2500\u2500\u2500\u2500\u2500\u2500\u2500\u2500\u2500\u2500\u2500 - \u2500\u2500\u2500\u2500\u2500\u2500\u2500\u2500\u2500\u2500\u2500 + \u2500\u2500\u2500\u2500\u2500\n",
        "   2                                             \u0394              \u0394             \n",
        "                                                                              \n",
        "\n",
        "                                                                              \n",
        " \u2020            2              \u2020                          2  \u2020              2   \n",
        "a \u22c5a\u22c5False   g \u22c5False   g\u22c5\u03c9\u22c5a \u22c5False   g\u22c5\u03c9\u22c5a\u22c5False   \u03b5\u22c5g \u22c5a \u22c5a\u22c5False   \u03b5\u22c5g \u22c5Fa\n",
        "\u2500\u2500\u2500\u2500\u2500\u2500\u2500\u2500\u2500\u2500 + \u2500\u2500\u2500\u2500\u2500\u2500\u2500\u2500 + \u2500\u2500\u2500\u2500\u2500\u2500\u2500\u2500\u2500\u2500\u2500\u2500 + \u2500\u2500\u2500\u2500\u2500\u2500\u2500\u2500\u2500\u2500\u2500 - \u2500\u2500\u2500\u2500\u2500\u2500\u2500\u2500\u2500\u2500\u2500\u2500\u2500\u2500\u2500 - \u2500\u2500\u2500\u2500\u2500\u2500\u2500\n",
        "  \u0394             \u0394            \u0394              \u0394                2               2\n",
        "                                                            \u0394             2\u22c5\u0394 \n",
        "\n",
        "                                                  2                           \n",
        "         3  \u2020  2            3  \u2020            3 \u239b \u2020\u239e               3            \n",
        "lse   2\u22c5g \u22c5a \u22c5a \u22c5False   2\u22c5g \u22c5a \u22c5False   2\u22c5g \u22c5\u239da \u23a0 \u22c5a\u22c5False   2\u22c5g \u22c5a\u22c5False   g\n",
        "\u2500\u2500\u2500 - \u2500\u2500\u2500\u2500\u2500\u2500\u2500\u2500\u2500\u2500\u2500\u2500\u2500\u2500\u2500\u2500 - \u2500\u2500\u2500\u2500\u2500\u2500\u2500\u2500\u2500\u2500\u2500\u2500\u2500 - \u2500\u2500\u2500\u2500\u2500\u2500\u2500\u2500\u2500\u2500\u2500\u2500\u2500\u2500\u2500\u2500\u2500\u2500 - \u2500\u2500\u2500\u2500\u2500\u2500\u2500\u2500\u2500\u2500\u2500\u2500 + \u2500\n",
        "              2                 2                 2                 2         \n",
        "             \u0394                 \u0394                 \u0394                 \u0394          \n",
        "\n",
        "                           \n",
        "2    \u2020            2        \n",
        " \u22c5\u03c9\u22c5a \u22c5a\u22c5False   g \u22c5\u03c9\u22c5False\n",
        "\u2500\u2500\u2500\u2500\u2500\u2500\u2500\u2500\u2500\u2500\u2500\u2500\u2500\u2500 + \u2500\u2500\u2500\u2500\u2500\u2500\u2500\u2500\u2500\u2500\n",
        "       2               2   \n",
        "      \u0394             2\u22c5\u0394    "
       ]
      }
     ],
     "prompt_number": 25
    },
    {
     "cell_type": "markdown",
     "metadata": {},
     "source": [
      "and collect the terms with $a^\\dagger a$ and $\\sigma_z$."
     ]
    },
    {
     "cell_type": "code",
     "collapsed": false,
     "input": [
      "H5 = collect(H4, [Dagger(a)*a, sz]); H5"
     ],
     "language": "python",
     "metadata": {},
     "outputs": [
      {
       "latex": [
        "$$g {{a}^\\dagger} {\\sigma_-} + g {a} {\\sigma_+} + \\left(\\frac{\\epsilon}{2} + \\frac{g^{2}}{\\Delta} - \\frac{\\epsilon g^{2}}{2 \\Delta^{2}} + \\frac{g^{2} \\omega}{2 \\Delta^{2}}\\right) {\\sigma_z} + {{a}^\\dagger} {a} \\left(\\omega + \\frac{2 g^{2}}{\\Delta} {\\sigma_z} - \\frac{\\epsilon g^{2}}{\\Delta^{2}} {\\sigma_z} + \\frac{g^{2} \\omega}{\\Delta^{2}} {\\sigma_z}\\right) - \\frac{\\epsilon g}{\\Delta} {{a}^\\dagger} {\\sigma_-} - \\frac{\\epsilon g}{\\Delta} {a} {\\sigma_+} + \\frac{g \\omega}{\\Delta} {{a}^\\dagger} {\\sigma_-} + \\frac{g \\omega}{\\Delta} {a} {\\sigma_+} - \\frac{2 g^{3}}{\\Delta^{2}} {{a}^\\dagger} \\left({a}\\right)^{2} {\\sigma_+} - \\frac{2 g^{3}}{\\Delta^{2}} {{a}^\\dagger} {\\sigma_-} - \\frac{2 g^{3}}{\\Delta^{2}} \\left({{a}^\\dagger}\\right)^{2} {a} {\\sigma_-} - \\frac{2 g^{3}}{\\Delta^{2}} {a} {\\sigma_+}$$"
       ],
       "metadata": {},
       "output_type": "pyout",
       "png": "[encoded data removed]",
       "prompt_number": 26,
       "text": [
        "                                                                              \n",
        "                         \u239b     2      2    2  \u239e              \u239b       2        \n",
        "   \u2020                     \u239c\u03b5   g    \u03b5\u22c5g    g \u22c5\u03c9\u239f          \u2020   \u239c    2\u22c5g \u22c5False  \n",
        "g\u22c5a \u22c5False + g\u22c5a\u22c5False + \u239c\u2500 + \u2500\u2500 - \u2500\u2500\u2500\u2500 + \u2500\u2500\u2500\u2500\u239f\u22c5False + a \u22c5a\u22c5\u239c\u03c9 + \u2500\u2500\u2500\u2500\u2500\u2500\u2500\u2500\u2500\u2500 -\n",
        "                         \u239c2   \u0394       2      2\u239f              \u239c        \u0394       \n",
        "                         \u239d         2\u22c5\u0394    2\u22c5\u0394 \u23a0              \u239d                \n",
        "\n",
        "                                                                              \n",
        "    2          2        \u239e        \u2020                            \u2020               \n",
        " \u03b5\u22c5g \u22c5False   g \u22c5\u03c9\u22c5False\u239f   \u03b5\u22c5g\u22c5a \u22c5False   \u03b5\u22c5g\u22c5a\u22c5False   g\u22c5\u03c9\u22c5a \u22c5False   g\u22c5\u03c9\u22c5a\u22c5\n",
        " \u2500\u2500\u2500\u2500\u2500\u2500\u2500\u2500\u2500\u2500 + \u2500\u2500\u2500\u2500\u2500\u2500\u2500\u2500\u2500\u2500\u239f - \u2500\u2500\u2500\u2500\u2500\u2500\u2500\u2500\u2500\u2500\u2500\u2500 - \u2500\u2500\u2500\u2500\u2500\u2500\u2500\u2500\u2500\u2500\u2500 + \u2500\u2500\u2500\u2500\u2500\u2500\u2500\u2500\u2500\u2500\u2500\u2500 + \u2500\u2500\u2500\u2500\u2500\u2500\n",
        "      2            2    \u239f        \u0394              \u0394             \u0394              \u0394\n",
        "     \u0394            \u0394     \u23a0                                                     \n",
        "\n",
        "                                                    2                       \n",
        "           3  \u2020  2            3  \u2020            3 \u239b \u2020\u239e               3        \n",
        "False   2\u22c5g \u22c5a \u22c5a \u22c5False   2\u22c5g \u22c5a \u22c5False   2\u22c5g \u22c5\u239da \u23a0 \u22c5a\u22c5False   2\u22c5g \u22c5a\u22c5False\n",
        "\u2500\u2500\u2500\u2500\u2500 - \u2500\u2500\u2500\u2500\u2500\u2500\u2500\u2500\u2500\u2500\u2500\u2500\u2500\u2500\u2500\u2500 - \u2500\u2500\u2500\u2500\u2500\u2500\u2500\u2500\u2500\u2500\u2500\u2500\u2500 - \u2500\u2500\u2500\u2500\u2500\u2500\u2500\u2500\u2500\u2500\u2500\u2500\u2500\u2500\u2500\u2500\u2500\u2500 - \u2500\u2500\u2500\u2500\u2500\u2500\u2500\u2500\u2500\u2500\u2500\u2500\n",
        "                2                 2                 2                 2     \n",
        "               \u0394                 \u0394                 \u0394                 \u0394      "
       ]
      }
     ],
     "prompt_number": 26
    },
    {
     "cell_type": "markdown",
     "metadata": {},
     "source": [
      "Now move to a frame co-rotating with the qubit and oscillator frequencies:"
     ]
    },
    {
     "cell_type": "code",
     "collapsed": false,
     "input": [
      "H6 = hamiltonian_transformation(U1, H5.expand()); H6"
     ],
     "language": "python",
     "metadata": {},
     "outputs": [
      {
       "latex": [
        "$$\\frac{\\epsilon {\\sigma_z}}{2} + g e^{i \\omega t} {{a}^\\dagger} {\\sigma_-} + g e^{- i \\omega t} {a} {\\sigma_+} - \\frac{\\epsilon g}{\\Delta} e^{i \\omega t} {{a}^\\dagger} {\\sigma_-} - \\frac{\\epsilon g}{\\Delta} e^{- i \\omega t} {a} {\\sigma_+} + \\frac{2 g^{2}}{\\Delta} {{a}^\\dagger} {a} {\\sigma_z} + \\frac{g^{2} {\\sigma_z}}{\\Delta} + \\frac{g \\omega}{\\Delta} e^{i \\omega t} {{a}^\\dagger} {\\sigma_-} + \\frac{g \\omega}{\\Delta} e^{- i \\omega t} {a} {\\sigma_+} - \\frac{\\epsilon g^{2}}{\\Delta^{2}} {{a}^\\dagger} {a} {\\sigma_z} - \\frac{\\epsilon g^{2} {\\sigma_z}}{2 \\Delta^{2}} - \\frac{2 g^{3}}{\\Delta^{2}} e^{i \\omega t} {{a}^\\dagger} {\\sigma_-} - \\frac{2 g^{3}}{\\Delta^{2}} e^{i \\omega t} \\left({{a}^\\dagger}\\right)^{2} {a} {\\sigma_-} - \\frac{2 g^{3}}{\\Delta^{2}} e^{- i \\omega t} {{a}^\\dagger} \\left({a}\\right)^{2} {\\sigma_+} - \\frac{2 g^{3}}{\\Delta^{2}} e^{- i \\omega t} {a} {\\sigma_+} + \\frac{g^{2} \\omega}{\\Delta^{2}} {{a}^\\dagger} {a} {\\sigma_z} + \\frac{g^{2} \\omega {\\sigma_z}}{2 \\Delta^{2}}$$"
       ],
       "metadata": {},
       "output_type": "pyout",
       "png": "[encoded data removed]",
       "prompt_number": 27,
       "text": [
        "                                                                              \n",
        "                                                       \u2148\u22c5\u03c9\u22c5t  \u2020              -\n",
        "\u03b5\u22c5False      \u2148\u22c5\u03c9\u22c5t  \u2020            -\u2148\u22c5\u03c9\u22c5t           \u03b5\u22c5g\u22c5\u212f     \u22c5a \u22c5False   \u03b5\u22c5g\u22c5\u212f \n",
        "\u2500\u2500\u2500\u2500\u2500\u2500\u2500 + g\u22c5\u212f     \u22c5a \u22c5False + g\u22c5\u212f      \u22c5a\u22c5False - \u2500\u2500\u2500\u2500\u2500\u2500\u2500\u2500\u2500\u2500\u2500\u2500\u2500\u2500\u2500\u2500\u2500\u2500\u2500 - \u2500\u2500\u2500\u2500\u2500\u2500\n",
        "   2                                                       \u0394                  \n",
        "                                                                              \n",
        "\n",
        "                                                                              \n",
        "\u2148\u22c5\u03c9\u22c5t              2  \u2020            2              \u2148\u22c5\u03c9\u22c5t  \u2020              -\u2148\u22c5\u03c9\u22c5t\n",
        "     \u22c5a\u22c5False   2\u22c5g \u22c5a \u22c5a\u22c5False   g \u22c5False   g\u22c5\u03c9\u22c5\u212f     \u22c5a \u22c5False   g\u22c5\u03c9\u22c5\u212f      \n",
        "\u2500\u2500\u2500\u2500\u2500\u2500\u2500\u2500\u2500\u2500\u2500\u2500\u2500 + \u2500\u2500\u2500\u2500\u2500\u2500\u2500\u2500\u2500\u2500\u2500\u2500\u2500\u2500\u2500 + \u2500\u2500\u2500\u2500\u2500\u2500\u2500\u2500 + \u2500\u2500\u2500\u2500\u2500\u2500\u2500\u2500\u2500\u2500\u2500\u2500\u2500\u2500\u2500\u2500\u2500\u2500\u2500 + \u2500\u2500\u2500\u2500\u2500\u2500\u2500\u2500\u2500\u2500\u2500\n",
        "   \u0394                   \u0394             \u0394                \u0394                     \u0394 \n",
        "                                                                              \n",
        "\n",
        "                                                                              \n",
        "              2  \u2020              2            3  \u2148\u22c5\u03c9\u22c5t  \u2020            3  \u2148\u22c5\u03c9\u22c5t \u239b\n",
        "\u22c5a\u22c5False   \u03b5\u22c5g \u22c5a \u22c5a\u22c5False   \u03b5\u22c5g \u22c5False   2\u22c5g \u22c5\u212f     \u22c5a \u22c5False   2\u22c5g \u22c5\u212f     \u22c5\u239d\n",
        "\u2500\u2500\u2500\u2500\u2500\u2500\u2500\u2500 - \u2500\u2500\u2500\u2500\u2500\u2500\u2500\u2500\u2500\u2500\u2500\u2500\u2500\u2500\u2500 - \u2500\u2500\u2500\u2500\u2500\u2500\u2500\u2500\u2500\u2500 - \u2500\u2500\u2500\u2500\u2500\u2500\u2500\u2500\u2500\u2500\u2500\u2500\u2500\u2500\u2500\u2500\u2500\u2500\u2500\u2500 - \u2500\u2500\u2500\u2500\u2500\u2500\u2500\u2500\u2500\u2500\u2500\u2500\u2500\n",
        "                   2               2                2                         \n",
        "                  \u0394             2\u22c5\u0394                \u0394                         \u0394\n",
        "\n",
        "   2                                                                          \n",
        " \u2020\u239e               3  -\u2148\u22c5\u03c9\u22c5t  \u2020  2            3  -\u2148\u22c5\u03c9\u22c5t            2    \u2020      \n",
        "a \u23a0 \u22c5a\u22c5False   2\u22c5g \u22c5\u212f      \u22c5a \u22c5a \u22c5False   2\u22c5g \u22c5\u212f      \u22c5a\u22c5False   g \u22c5\u03c9\u22c5a \u22c5a\u22c5Fal\n",
        "\u2500\u2500\u2500\u2500\u2500\u2500\u2500\u2500\u2500\u2500\u2500\u2500 - \u2500\u2500\u2500\u2500\u2500\u2500\u2500\u2500\u2500\u2500\u2500\u2500\u2500\u2500\u2500\u2500\u2500\u2500\u2500\u2500\u2500\u2500\u2500\u2500 - \u2500\u2500\u2500\u2500\u2500\u2500\u2500\u2500\u2500\u2500\u2500\u2500\u2500\u2500\u2500\u2500\u2500\u2500\u2500\u2500 + \u2500\u2500\u2500\u2500\u2500\u2500\u2500\u2500\u2500\u2500\u2500\u2500\u2500\n",
        "2                          2                        2                    2    \n",
        "                          \u0394                        \u0394                    \u0394     \n",
        "\n",
        "               \n",
        "      2        \n",
        "se   g \u22c5\u03c9\u22c5False\n",
        "\u2500\u2500 + \u2500\u2500\u2500\u2500\u2500\u2500\u2500\u2500\u2500\u2500\n",
        "           2   \n",
        "        2\u22c5\u0394    "
       ]
      }
     ],
     "prompt_number": 27
    },
    {
     "cell_type": "code",
     "collapsed": false,
     "input": [
      "H7 = hamiltonian_transformation(U2, H6.expand()); H7"
     ],
     "language": "python",
     "metadata": {},
     "outputs": [
      {
       "latex": [
        "$$g e^{i \\epsilon t} e^{- i \\omega t} {a} {\\sigma_+} + g e^{- i \\epsilon t} e^{i \\omega t} {{a}^\\dagger} {\\sigma_-} - \\frac{\\epsilon g}{\\Delta} e^{i \\epsilon t} e^{- i \\omega t} {a} {\\sigma_+} - \\frac{\\epsilon g}{\\Delta} e^{- i \\epsilon t} e^{i \\omega t} {{a}^\\dagger} {\\sigma_-} + \\frac{2 g^{2}}{\\Delta} {{a}^\\dagger} {a} {\\sigma_z} + \\frac{g^{2} {\\sigma_z}}{\\Delta} + \\frac{g \\omega}{\\Delta} e^{i \\epsilon t} e^{- i \\omega t} {a} {\\sigma_+} + \\frac{g \\omega}{\\Delta} e^{- i \\epsilon t} e^{i \\omega t} {{a}^\\dagger} {\\sigma_-} - \\frac{\\epsilon g^{2}}{\\Delta^{2}} {{a}^\\dagger} {a} {\\sigma_z} - \\frac{\\epsilon g^{2} {\\sigma_z}}{2 \\Delta^{2}} - \\frac{2 g^{3}}{\\Delta^{2}} e^{i \\epsilon t} e^{- i \\omega t} {{a}^\\dagger} \\left({a}\\right)^{2} {\\sigma_+} - \\frac{2 g^{3}}{\\Delta^{2}} e^{i \\epsilon t} e^{- i \\omega t} {a} {\\sigma_+} - \\frac{2 g^{3}}{\\Delta^{2}} e^{- i \\epsilon t} e^{i \\omega t} {{a}^\\dagger} {\\sigma_-} - \\frac{2 g^{3}}{\\Delta^{2}} e^{- i \\epsilon t} e^{i \\omega t} \\left({{a}^\\dagger}\\right)^{2} {a} {\\sigma_-} + \\frac{g^{2} \\omega}{\\Delta^{2}} {{a}^\\dagger} {a} {\\sigma_z} + \\frac{g^{2} \\omega {\\sigma_z}}{2 \\Delta^{2}}$$"
       ],
       "metadata": {},
       "output_type": "pyout",
       "png": "[encoded data removed]",
       "prompt_number": 28,
       "text": [
        "                                                                              \n",
        "                                                            \u2148\u22c5\u03b5\u22c5t  -\u2148\u22c5\u03c9\u22c5t     \n",
        "   \u2148\u22c5\u03b5\u22c5t  -\u2148\u22c5\u03c9\u22c5t              -\u2148\u22c5\u03b5\u22c5t  \u2148\u22c5\u03c9\u22c5t  \u2020         \u03b5\u22c5g\u22c5\u212f     \u22c5\u212f      \u22c5a\u22c5Fa\n",
        "g\u22c5\u212f     \u22c5\u212f      \u22c5a\u22c5False + g\u22c5\u212f      \u22c5\u212f     \u22c5a \u22c5False - \u2500\u2500\u2500\u2500\u2500\u2500\u2500\u2500\u2500\u2500\u2500\u2500\u2500\u2500\u2500\u2500\u2500\u2500\u2500\u2500\u2500\u2500\u2500\n",
        "                                                                   \u0394          \n",
        "                                                                              \n",
        "\n",
        "                                                                              \n",
        "           -\u2148\u22c5\u03b5\u22c5t  \u2148\u22c5\u03c9\u22c5t  \u2020            2  \u2020            2              \u2148\u22c5\u03b5\u22c5t  -\n",
        "lse   \u03b5\u22c5g\u22c5\u212f      \u22c5\u212f     \u22c5a \u22c5False   2\u22c5g \u22c5a \u22c5a\u22c5False   g \u22c5False   g\u22c5\u03c9\u22c5\u212f     \u22c5\u212f \n",
        "\u2500\u2500\u2500 - \u2500\u2500\u2500\u2500\u2500\u2500\u2500\u2500\u2500\u2500\u2500\u2500\u2500\u2500\u2500\u2500\u2500\u2500\u2500\u2500\u2500\u2500\u2500\u2500\u2500\u2500\u2500 + \u2500\u2500\u2500\u2500\u2500\u2500\u2500\u2500\u2500\u2500\u2500\u2500\u2500\u2500\u2500 + \u2500\u2500\u2500\u2500\u2500\u2500\u2500\u2500 + \u2500\u2500\u2500\u2500\u2500\u2500\u2500\u2500\u2500\u2500\u2500\u2500\u2500\n",
        "                   \u0394                       \u0394             \u0394                   \u0394\n",
        "                                                                              \n",
        "\n",
        "                                                                              \n",
        "\u2148\u22c5\u03c9\u22c5t                -\u2148\u22c5\u03b5\u22c5t  \u2148\u22c5\u03c9\u22c5t  \u2020            2  \u2020              2          \n",
        "     \u22c5a\u22c5False   g\u22c5\u03c9\u22c5\u212f      \u22c5\u212f     \u22c5a \u22c5False   \u03b5\u22c5g \u22c5a \u22c5a\u22c5False   \u03b5\u22c5g \u22c5False   2\n",
        "\u2500\u2500\u2500\u2500\u2500\u2500\u2500\u2500\u2500\u2500\u2500\u2500\u2500 + \u2500\u2500\u2500\u2500\u2500\u2500\u2500\u2500\u2500\u2500\u2500\u2500\u2500\u2500\u2500\u2500\u2500\u2500\u2500\u2500\u2500\u2500\u2500\u2500\u2500\u2500\u2500 - \u2500\u2500\u2500\u2500\u2500\u2500\u2500\u2500\u2500\u2500\u2500\u2500\u2500\u2500\u2500 - \u2500\u2500\u2500\u2500\u2500\u2500\u2500\u2500\u2500\u2500 - \u2500\n",
        "                             \u0394                        2               2       \n",
        "                                                     \u0394             2\u22c5\u0394        \n",
        "\n",
        "                                                                              \n",
        "  3  \u2148\u22c5\u03b5\u22c5t  -\u2148\u22c5\u03c9\u22c5t  \u2020  2            3  \u2148\u22c5\u03b5\u22c5t  -\u2148\u22c5\u03c9\u22c5t              3  -\u2148\u22c5\u03b5\u22c5t  \u2148\n",
        "\u22c5g \u22c5\u212f     \u22c5\u212f      \u22c5a \u22c5a \u22c5False   2\u22c5g \u22c5\u212f     \u22c5\u212f      \u22c5a\u22c5False   2\u22c5g \u22c5\u212f      \u22c5\u212f \n",
        "\u2500\u2500\u2500\u2500\u2500\u2500\u2500\u2500\u2500\u2500\u2500\u2500\u2500\u2500\u2500\u2500\u2500\u2500\u2500\u2500\u2500\u2500\u2500\u2500\u2500\u2500\u2500\u2500\u2500\u2500 - \u2500\u2500\u2500\u2500\u2500\u2500\u2500\u2500\u2500\u2500\u2500\u2500\u2500\u2500\u2500\u2500\u2500\u2500\u2500\u2500\u2500\u2500\u2500\u2500\u2500\u2500\u2500 - \u2500\u2500\u2500\u2500\u2500\u2500\u2500\u2500\u2500\u2500\u2500\u2500\u2500\u2500\u2500\n",
        "               2                               2                             2\n",
        "              \u0394                               \u0394                             \u0394 \n",
        "\n",
        "                                        2                                     \n",
        "\u22c5\u03c9\u22c5t  \u2020            3  -\u2148\u22c5\u03b5\u22c5t  \u2148\u22c5\u03c9\u22c5t \u239b \u2020\u239e             2    \u2020            2      \n",
        "    \u22c5a \u22c5False   2\u22c5g \u22c5\u212f      \u22c5\u212f     \u22c5\u239da \u23a0 \u22c5a\u22c5False   g \u22c5\u03c9\u22c5a \u22c5a\u22c5False   g \u22c5\u03c9\u22c5Fal\n",
        "\u2500\u2500\u2500\u2500\u2500\u2500\u2500\u2500\u2500\u2500\u2500\u2500\u2500 - \u2500\u2500\u2500\u2500\u2500\u2500\u2500\u2500\u2500\u2500\u2500\u2500\u2500\u2500\u2500\u2500\u2500\u2500\u2500\u2500\u2500\u2500\u2500\u2500\u2500\u2500\u2500\u2500\u2500\u2500\u2500\u2500\u2500 + \u2500\u2500\u2500\u2500\u2500\u2500\u2500\u2500\u2500\u2500\u2500\u2500\u2500\u2500\u2500 + \u2500\u2500\u2500\u2500\u2500\u2500\u2500\u2500\n",
        "                                 2                          2               2 \n",
        "                                \u0394                          \u0394             2\u22c5\u0394  \n",
        "\n",
        "  \n",
        "  \n",
        "se\n",
        "\u2500\u2500\n",
        "  \n",
        "  "
       ]
      }
     ],
     "prompt_number": 28
    },
    {
     "cell_type": "code",
     "collapsed": false,
     "input": [
      "H7 = simplify_exp(powsimp(H7)); H7"
     ],
     "language": "python",
     "metadata": {},
     "outputs": [
      {
       "latex": [
        "$$g e^{i t \\left(- \\epsilon + \\omega\\right)} {{a}^\\dagger} {\\sigma_-} + g e^{i t \\left(\\epsilon - \\omega\\right)} {a} {\\sigma_+} - \\frac{\\epsilon g}{\\Delta} e^{i t \\left(- \\epsilon + \\omega\\right)} {{a}^\\dagger} {\\sigma_-} - \\frac{\\epsilon g}{\\Delta} e^{i t \\left(\\epsilon - \\omega\\right)} {a} {\\sigma_+} + \\frac{2 g^{2}}{\\Delta} {{a}^\\dagger} {a} {\\sigma_z} + \\frac{g^{2} {\\sigma_z}}{\\Delta} + \\frac{g \\omega}{\\Delta} e^{i t \\left(- \\epsilon + \\omega\\right)} {{a}^\\dagger} {\\sigma_-} + \\frac{g \\omega}{\\Delta} e^{i t \\left(\\epsilon - \\omega\\right)} {a} {\\sigma_+} - \\frac{\\epsilon g^{2}}{\\Delta^{2}} {{a}^\\dagger} {a} {\\sigma_z} - \\frac{\\epsilon g^{2} {\\sigma_z}}{2 \\Delta^{2}} - \\frac{2 g^{3}}{\\Delta^{2}} e^{i t \\left(- \\epsilon + \\omega\\right)} {{a}^\\dagger} {\\sigma_-} - \\frac{2 g^{3}}{\\Delta^{2}} e^{i t \\left(- \\epsilon + \\omega\\right)} \\left({{a}^\\dagger}\\right)^{2} {a} {\\sigma_-} - \\frac{2 g^{3}}{\\Delta^{2}} e^{i t \\left(\\epsilon - \\omega\\right)} {{a}^\\dagger} \\left({a}\\right)^{2} {\\sigma_+} - \\frac{2 g^{3}}{\\Delta^{2}} e^{i t \\left(\\epsilon - \\omega\\right)} {a} {\\sigma_+} + \\frac{g^{2} \\omega}{\\Delta^{2}} {{a}^\\dagger} {a} {\\sigma_z} + \\frac{g^{2} \\omega {\\sigma_z}}{2 \\Delta^{2}}$$"
       ],
       "metadata": {},
       "output_type": "pyout",
       "png": "[encoded data removed]",
       "prompt_number": 29,
       "text": [
        "                                                                              \n",
        "                                                         \u2148\u22c5t\u22c5(-\u03b5 + \u03c9)  \u2020      \n",
        "   \u2148\u22c5t\u22c5(-\u03b5 + \u03c9)  \u2020            \u2148\u22c5t\u22c5(\u03b5 - \u03c9)           \u03b5\u22c5g\u22c5\u212f            \u22c5a \u22c5False\n",
        "g\u22c5\u212f            \u22c5a \u22c5False + g\u22c5\u212f           \u22c5a\u22c5False - \u2500\u2500\u2500\u2500\u2500\u2500\u2500\u2500\u2500\u2500\u2500\u2500\u2500\u2500\u2500\u2500\u2500\u2500\u2500\u2500\u2500\u2500\u2500\u2500\u2500\u2500\n",
        "                                                                \u0394             \n",
        "                                                                              \n",
        "\n",
        "                                                                              \n",
        "        \u2148\u22c5t\u22c5(\u03b5 - \u03c9)              2  \u2020            2              \u2148\u22c5t\u22c5(-\u03b5 + \u03c9)  \n",
        "   \u03b5\u22c5g\u22c5\u212f           \u22c5a\u22c5False   2\u22c5g \u22c5a \u22c5a\u22c5False   g \u22c5False   g\u22c5\u03c9\u22c5\u212f            \u22c5a\n",
        " - \u2500\u2500\u2500\u2500\u2500\u2500\u2500\u2500\u2500\u2500\u2500\u2500\u2500\u2500\u2500\u2500\u2500\u2500\u2500\u2500\u2500\u2500\u2500\u2500 + \u2500\u2500\u2500\u2500\u2500\u2500\u2500\u2500\u2500\u2500\u2500\u2500\u2500\u2500\u2500 + \u2500\u2500\u2500\u2500\u2500\u2500\u2500\u2500 + \u2500\u2500\u2500\u2500\u2500\u2500\u2500\u2500\u2500\u2500\u2500\u2500\u2500\u2500\u2500\u2500\u2500\u2500\u2500\n",
        "              \u0394                      \u0394             \u0394                   \u0394      \n",
        "                                                                              \n",
        "\n",
        "                                                                              \n",
        "\u2020              \u2148\u22c5t\u22c5(\u03b5 - \u03c9)              2  \u2020              2            3  \u2148\u22c5t\u22c5\n",
        " \u22c5False   g\u22c5\u03c9\u22c5\u212f           \u22c5a\u22c5False   \u03b5\u22c5g \u22c5a \u22c5a\u22c5False   \u03b5\u22c5g \u22c5False   2\u22c5g \u22c5\u212f    \n",
        "\u2500\u2500\u2500\u2500\u2500\u2500\u2500 + \u2500\u2500\u2500\u2500\u2500\u2500\u2500\u2500\u2500\u2500\u2500\u2500\u2500\u2500\u2500\u2500\u2500\u2500\u2500\u2500\u2500\u2500\u2500\u2500 - \u2500\u2500\u2500\u2500\u2500\u2500\u2500\u2500\u2500\u2500\u2500\u2500\u2500\u2500\u2500 - \u2500\u2500\u2500\u2500\u2500\u2500\u2500\u2500\u2500\u2500 - \u2500\u2500\u2500\u2500\u2500\u2500\u2500\u2500\u2500\u2500\n",
        "                     \u0394                       2               2                \n",
        "                                            \u0394             2\u22c5\u0394                 \n",
        "\n",
        "                                           2                                  \n",
        "(-\u03b5 + \u03c9)  \u2020            3  \u2148\u22c5t\u22c5(-\u03b5 + \u03c9) \u239b \u2020\u239e               3  \u2148\u22c5t\u22c5(\u03b5 - \u03c9)  \u2020  2\n",
        "        \u22c5a \u22c5False   2\u22c5g \u22c5\u212f            \u22c5\u239da \u23a0 \u22c5a\u22c5False   2\u22c5g \u22c5\u212f           \u22c5a \u22c5a \n",
        "\u2500\u2500\u2500\u2500\u2500\u2500\u2500\u2500\u2500\u2500\u2500\u2500\u2500\u2500\u2500\u2500\u2500 - \u2500\u2500\u2500\u2500\u2500\u2500\u2500\u2500\u2500\u2500\u2500\u2500\u2500\u2500\u2500\u2500\u2500\u2500\u2500\u2500\u2500\u2500\u2500\u2500\u2500\u2500\u2500\u2500\u2500\u2500\u2500\u2500 - \u2500\u2500\u2500\u2500\u2500\u2500\u2500\u2500\u2500\u2500\u2500\u2500\u2500\u2500\u2500\u2500\u2500\u2500\u2500\u2500\u2500\u2500\u2500\n",
        "    2                               2                                 2       \n",
        "   \u0394                               \u0394                                 \u0394        \n",
        "\n",
        "                                                                 \n",
        "            3  \u2148\u22c5t\u22c5(\u03b5 - \u03c9)            2    \u2020            2        \n",
        "\u22c5False   2\u22c5g \u22c5\u212f           \u22c5a\u22c5False   g \u22c5\u03c9\u22c5a \u22c5a\u22c5False   g \u22c5\u03c9\u22c5False\n",
        "\u2500\u2500\u2500\u2500\u2500\u2500 - \u2500\u2500\u2500\u2500\u2500\u2500\u2500\u2500\u2500\u2500\u2500\u2500\u2500\u2500\u2500\u2500\u2500\u2500\u2500\u2500\u2500\u2500\u2500\u2500\u2500 + \u2500\u2500\u2500\u2500\u2500\u2500\u2500\u2500\u2500\u2500\u2500\u2500\u2500\u2500\u2500 + \u2500\u2500\u2500\u2500\u2500\u2500\u2500\u2500\u2500\u2500\n",
        "                      2                      2               2   \n",
        "                     \u0394                      \u0394             2\u22c5\u0394    "
       ]
      }
     ],
     "prompt_number": 29
    },
    {
     "cell_type": "markdown",
     "metadata": {},
     "source": [
      "Since the absolute value of the detuning $\\Delta = \\epsilon-\\omega$ is much larger than $g$ (equivalently, $|\\lambda\\ll 1|$), the exponential terms $e^{i(\\epsilon-\\omega)t}$, $e^{-i(\\epsilon-\\omega)t}$ are now considered fast oscillating and can be ignored."
     ]
    },
    {
     "cell_type": "code",
     "collapsed": false,
     "input": [
      "H8 = drop_terms_containing(H7, [exp(I * (e - w) * t), exp(I * (- e + w) * t)])\n",
      "\n",
      "H8"
     ],
     "language": "python",
     "metadata": {},
     "outputs": [
      {
       "latex": [
        "$$\\frac{2 g^{2}}{\\Delta} {{a}^\\dagger} {a} {\\sigma_z} + \\frac{g^{2} {\\sigma_z}}{\\Delta} - \\frac{\\epsilon g^{2}}{\\Delta^{2}} {{a}^\\dagger} {a} {\\sigma_z} - \\frac{\\epsilon g^{2} {\\sigma_z}}{2 \\Delta^{2}} + \\frac{g^{2} \\omega}{\\Delta^{2}} {{a}^\\dagger} {a} {\\sigma_z} + \\frac{g^{2} \\omega {\\sigma_z}}{2 \\Delta^{2}}$$"
       ],
       "metadata": {},
       "output_type": "pyout",
       "png": "[encoded data removed]",
       "prompt_number": 30,
       "text": [
        "   2  \u2020            2            2  \u2020              2          2    \u2020           \n",
        "2\u22c5g \u22c5a \u22c5a\u22c5False   g \u22c5False   \u03b5\u22c5g \u22c5a \u22c5a\u22c5False   \u03b5\u22c5g \u22c5False   g \u22c5\u03c9\u22c5a \u22c5a\u22c5False   \n",
        "\u2500\u2500\u2500\u2500\u2500\u2500\u2500\u2500\u2500\u2500\u2500\u2500\u2500\u2500\u2500 + \u2500\u2500\u2500\u2500\u2500\u2500\u2500\u2500 - \u2500\u2500\u2500\u2500\u2500\u2500\u2500\u2500\u2500\u2500\u2500\u2500\u2500\u2500\u2500 - \u2500\u2500\u2500\u2500\u2500\u2500\u2500\u2500\u2500\u2500 + \u2500\u2500\u2500\u2500\u2500\u2500\u2500\u2500\u2500\u2500\u2500\u2500\u2500\u2500\u2500 + \n",
        "       \u0394             \u0394               2               2              2         \n",
        "                                    \u0394             2\u22c5\u0394              \u0394          \n",
        "\n",
        " 2        \n",
        "g \u22c5\u03c9\u22c5False\n",
        "\u2500\u2500\u2500\u2500\u2500\u2500\u2500\u2500\u2500\u2500\n",
        "      2   \n",
        "   2\u22c5\u0394    "
       ]
      }
     ],
     "prompt_number": 30
    },
    {
     "cell_type": "code",
     "collapsed": false,
     "input": [
      "H9 = qsimplify(H8)\n",
      "\n",
      "H9 = collect(H9, [Dagger(a)*a, sz])\n",
      "\n",
      "H9"
     ],
     "language": "python",
     "metadata": {},
     "outputs": [
      {
       "latex": [
        "$$\\left(\\frac{g^{2}}{\\Delta} - \\frac{\\epsilon g^{2}}{2 \\Delta^{2}} + \\frac{g^{2} \\omega}{2 \\Delta^{2}}\\right) {\\sigma_z} + {{a}^\\dagger} {a} \\left(\\frac{2 g^{2}}{\\Delta} {\\sigma_z} - \\frac{\\epsilon g^{2}}{\\Delta^{2}} {\\sigma_z} + \\frac{g^{2} \\omega}{\\Delta^{2}} {\\sigma_z}\\right)$$"
       ],
       "metadata": {},
       "output_type": "pyout",
       "png": "[encoded data removed]",
       "prompt_number": 31,
       "text": [
        "\u239b 2      2    2  \u239e              \u239b   2            2          2        \u239e\n",
        "\u239cg    \u03b5\u22c5g    g \u22c5\u03c9\u239f          \u2020   \u239c2\u22c5g \u22c5False   \u03b5\u22c5g \u22c5False   g \u22c5\u03c9\u22c5False\u239f\n",
        "\u239c\u2500\u2500 - \u2500\u2500\u2500\u2500 + \u2500\u2500\u2500\u2500\u239f\u22c5False + a \u22c5a\u22c5\u239c\u2500\u2500\u2500\u2500\u2500\u2500\u2500\u2500\u2500\u2500 - \u2500\u2500\u2500\u2500\u2500\u2500\u2500\u2500\u2500\u2500 + \u2500\u2500\u2500\u2500\u2500\u2500\u2500\u2500\u2500\u2500\u239f\n",
        "\u239c\u0394       2      2\u239f              \u239c    \u0394             2            2    \u239f\n",
        "\u239d     2\u22c5\u0394    2\u22c5\u0394 \u23a0              \u239d                 \u0394            \u0394     \u23a0"
       ]
      }
     ],
     "prompt_number": 31
    },
    {
     "cell_type": "markdown",
     "metadata": {},
     "source": [
      "Now we move back to the lab frame:"
     ]
    },
    {
     "cell_type": "code",
     "collapsed": false,
     "input": [
      "H10 = hamiltonian_transformation(U3, H9.expand()); H10"
     ],
     "language": "python",
     "metadata": {},
     "outputs": [
      {
       "latex": [
        "$$\\omega {{a}^\\dagger} {a} + \\frac{2 g^{2}}{\\Delta} {{a}^\\dagger} {a} {\\sigma_z} + \\frac{g^{2} {\\sigma_z}}{\\Delta} - \\frac{\\epsilon g^{2}}{\\Delta^{2}} {{a}^\\dagger} {a} {\\sigma_z} - \\frac{\\epsilon g^{2} {\\sigma_z}}{2 \\Delta^{2}} + \\frac{g^{2} \\omega}{\\Delta^{2}} {{a}^\\dagger} {a} {\\sigma_z} + \\frac{g^{2} \\omega {\\sigma_z}}{2 \\Delta^{2}}$$"
       ],
       "metadata": {},
       "output_type": "pyout",
       "png": "[encoded data removed]",
       "prompt_number": 32,
       "text": [
        "            2  \u2020            2            2  \u2020              2          2    \u2020  \n",
        "   \u2020     2\u22c5g \u22c5a \u22c5a\u22c5False   g \u22c5False   \u03b5\u22c5g \u22c5a \u22c5a\u22c5False   \u03b5\u22c5g \u22c5False   g \u22c5\u03c9\u22c5a \u22c5a\n",
        "\u03c9\u22c5a \u22c5a + \u2500\u2500\u2500\u2500\u2500\u2500\u2500\u2500\u2500\u2500\u2500\u2500\u2500\u2500\u2500 + \u2500\u2500\u2500\u2500\u2500\u2500\u2500\u2500 - \u2500\u2500\u2500\u2500\u2500\u2500\u2500\u2500\u2500\u2500\u2500\u2500\u2500\u2500\u2500 - \u2500\u2500\u2500\u2500\u2500\u2500\u2500\u2500\u2500\u2500 + \u2500\u2500\u2500\u2500\u2500\u2500\u2500\u2500\u2500\n",
        "                \u0394             \u0394               2               2              2\n",
        "                                             \u0394             2\u22c5\u0394              \u0394 \n",
        "\n",
        "          2        \n",
        "\u22c5False   g \u22c5\u03c9\u22c5False\n",
        "\u2500\u2500\u2500\u2500\u2500\u2500 + \u2500\u2500\u2500\u2500\u2500\u2500\u2500\u2500\u2500\u2500\n",
        "               2   \n",
        "            2\u22c5\u0394    "
       ]
      }
     ],
     "prompt_number": 32
    },
    {
     "cell_type": "code",
     "collapsed": false,
     "input": [
      "H11 = hamiltonian_transformation(U4, H10.expand()); H11"
     ],
     "language": "python",
     "metadata": {},
     "outputs": [
      {
       "latex": [
        "$$\\frac{\\epsilon {\\sigma_z}}{2} + \\omega {{a}^\\dagger} {a} + \\frac{2 g^{2}}{\\Delta} {{a}^\\dagger} {a} {\\sigma_z} + \\frac{g^{2} {\\sigma_z}}{\\Delta} - \\frac{\\epsilon g^{2}}{\\Delta^{2}} {{a}^\\dagger} {a} {\\sigma_z} - \\frac{\\epsilon g^{2} {\\sigma_z}}{2 \\Delta^{2}} + \\frac{g^{2} \\omega}{\\Delta^{2}} {{a}^\\dagger} {a} {\\sigma_z} + \\frac{g^{2} \\omega {\\sigma_z}}{2 \\Delta^{2}}$$"
       ],
       "metadata": {},
       "output_type": "pyout",
       "png": "[encoded data removed]",
       "prompt_number": 33,
       "text": [
        "                      2  \u2020            2            2  \u2020              2        \n",
        "\u03b5\u22c5False      \u2020     2\u22c5g \u22c5a \u22c5a\u22c5False   g \u22c5False   \u03b5\u22c5g \u22c5a \u22c5a\u22c5False   \u03b5\u22c5g \u22c5False  \n",
        "\u2500\u2500\u2500\u2500\u2500\u2500\u2500 + \u03c9\u22c5a \u22c5a + \u2500\u2500\u2500\u2500\u2500\u2500\u2500\u2500\u2500\u2500\u2500\u2500\u2500\u2500\u2500 + \u2500\u2500\u2500\u2500\u2500\u2500\u2500\u2500 - \u2500\u2500\u2500\u2500\u2500\u2500\u2500\u2500\u2500\u2500\u2500\u2500\u2500\u2500\u2500 - \u2500\u2500\u2500\u2500\u2500\u2500\u2500\u2500\u2500\u2500 +\n",
        "   2                      \u0394             \u0394               2               2     \n",
        "                                                       \u0394             2\u22c5\u0394      \n",
        "\n",
        "  2    \u2020            2        \n",
        " g \u22c5\u03c9\u22c5a \u22c5a\u22c5False   g \u22c5\u03c9\u22c5False\n",
        " \u2500\u2500\u2500\u2500\u2500\u2500\u2500\u2500\u2500\u2500\u2500\u2500\u2500\u2500\u2500 + \u2500\u2500\u2500\u2500\u2500\u2500\u2500\u2500\u2500\u2500\n",
        "         2               2   \n",
        "        \u0394             2\u22c5\u0394    "
       ]
      }
     ],
     "prompt_number": 33
    },
    {
     "cell_type": "markdown",
     "metadata": {},
     "source": [
      "Simplifying the expression, and collecting the terms of $\\sigma_z$ and $a^\\dagger a$, with substitution $\\Delta = \\epsilon-\\omega$, we get the expression for the Hamiltonian in the dispersive regime."
     ]
    },
    {
     "cell_type": "code",
     "collapsed": false,
     "input": [
      "H12 = qsimplify(H11)\n",
      "\n",
      "H12 = collect(H12, [Dagger(a) * a, sz])\n",
      "\n",
      "Hrwadisp = H12.subs(w, e - D).expand().collect([Dagger(a)*a, sz]).subs(e - D, w)\n",
      "\n",
      "Eq(symbols(\"H_RWAdisp\"), Hrwadisp)"
     ],
     "language": "python",
     "metadata": {},
     "outputs": [
      {
       "latex": [
        "$$H_{RWAdisp} = \\left(\\frac{\\epsilon}{2} + \\frac{g^{2}}{2 \\Delta}\\right) {\\sigma_z} + {{a}^\\dagger} {a} \\left(\\omega + \\frac{g^{2} {\\sigma_z}}{\\Delta}\\right)$$"
       ],
       "metadata": {},
       "output_type": "pyout",
       "png": "[encoded data removed]",
       "prompt_number": 34,
       "text": [
        "            \u239b      2\u239e              \u239b     2      \u239e\n",
        "            \u239c\u03b5    g \u239f          \u2020   \u239c    g \u22c5False\u239f\n",
        "H_RWAdisp = \u239c\u2500 + \u2500\u2500\u2500\u239f\u22c5False + a \u22c5a\u22c5\u239c\u03c9 + \u2500\u2500\u2500\u2500\u2500\u2500\u2500\u2500\u239f\n",
        "            \u239d2   2\u22c5\u0394\u23a0              \u239d       \u0394    \u23a0"
       ]
      }
     ],
     "prompt_number": 34
    },
    {
     "cell_type": "markdown",
     "metadata": {},
     "source": [
      "The physical interpretation of this equation is that the oscillator frequency is shifted as\n",
      "\\begin{align}\n",
      "\\omega \\rightarrow \\omega\\pm \\frac{g^2}{\\Delta}\n",
      "\\end{align}\n",
      "where the sign depends on the state of the qubit."
     ]
    },
    {
     "cell_type": "heading",
     "level": 2,
     "metadata": {},
     "source": [
      "Dispersive Theory Beyond RWA"
     ]
    },
    {
     "cell_type": "markdown",
     "metadata": {},
     "source": [
      "To treat the original Hamiltonian (not the RWA Hamiltonian) \\begin{align}\n",
      "H = \\frac{\\hbar\\epsilon}{2}\\sigma_z + \\hbar\\omega a^\\dagger a + \\hbar g \\sigma_x (a^\\dagger + a)\n",
      "\\end{align}"
     ]
    },
    {
     "cell_type": "code",
     "collapsed": false,
     "input": [
      "Eq(Hsym, H)"
     ],
     "language": "python",
     "metadata": {},
     "outputs": [
      {
       "latex": [
        "$$H = \\frac{\\epsilon {\\sigma_z}}{2} + g {\\sigma_x} \\left({{a}^\\dagger} + {a}\\right) + \\omega {{a}^\\dagger} {a}$$"
       ],
       "metadata": {},
       "output_type": "pyout",
       "png": "[encoded data removed]",
       "prompt_number": 35,
       "text": [
        "    \u03b5\u22c5False           \u239b \u2020    \u239e      \u2020  \n",
        "H = \u2500\u2500\u2500\u2500\u2500\u2500\u2500 + g\u22c5False\u22c5\u239da  + a\u23a0 + \u03c9\u22c5a \u22c5a\n",
        "       2                               "
       ]
      }
     ],
     "prompt_number": 35
    },
    {
     "cell_type": "markdown",
     "metadata": {},
     "source": [
      "in the dispersive regime correctly. That is, we derive the expression valid in the full dispersive regime defined only by inequality\n",
      "\\begin{align}\n",
      "g\\ll |\\epsilon -\\omega|.\n",
      "\\end{align}"
     ]
    },
    {
     "cell_type": "markdown",
     "metadata": {},
     "source": [
      "Going beyond RWA, we have to keep the counter-rotating coupling terms\n",
      "\\begin{align}\n",
      "Y_{\\pm} =  \\sigma_- a  \\pm\\sigma_+ a^\\dagger,\n",
      "\\end{align}\n",
      "which are relevant if either of the relations $g\\ll \\min\\{\\epsilon,\\omega\\}$ or $|\\epsilon-\\omega|\\ll \\epsilon+\\omega$ is violated."
     ]
    },
    {
     "cell_type": "code",
     "collapsed": false,
     "input": [
      "Yp = sm * a + sp * Dagger(a)\n",
      "Ypsym = symbols(\"Y_+\")\n",
      "Eq(Ypsym,Yp)"
     ],
     "language": "python",
     "metadata": {},
     "outputs": [
      {
       "latex": [
        "$$Y_{+} = {\\sigma_-} {a} + {\\sigma_+} {{a}^\\dagger}$$"
       ],
       "metadata": {},
       "output_type": "pyout",
       "png": "[encoded data removed]",
       "prompt_number": 36,
       "text": [
        "                      \u2020\n",
        "Y\u208a = False\u22c5a + False\u22c5a "
       ]
      }
     ],
     "prompt_number": 36
    },
    {
     "cell_type": "code",
     "collapsed": false,
     "input": [
      "Ym = sm * a - sp * Dagger(a)\n",
      "Ymsym = symbols(\"Y_-\")\n",
      "Eq(Ymsym,Ym)  # different from the definition in the paper"
     ],
     "language": "python",
     "metadata": {},
     "outputs": [
      {
       "latex": [
        "$$Y_{-} = {\\sigma_-} {a} - {\\sigma_+} {{a}^\\dagger}$$"
       ],
       "metadata": {},
       "output_type": "pyout",
       "png": "[encoded data removed]",
       "prompt_number": 37,
       "text": [
        "                      \u2020\n",
        "Y\u208b = False\u22c5a - False\u22c5a "
       ]
      }
     ],
     "prompt_number": 37
    },
    {
     "cell_type": "markdown",
     "metadata": {},
     "source": [
      "These operators satify the following commutation relations:"
     ]
    },
    {
     "cell_type": "markdown",
     "metadata": {},
     "source": [
      "$[Y_+, Y_-] = \\sigma_z (2a^\\dagger a + 1) -1$"
     ]
    },
    {
     "cell_type": "code",
     "collapsed": false,
     "input": [
      "comm = Commutator(Yp, Ym).expand(commutator=True).expand(commutator=True).expand(commutator=True).doit()\n",
      "comm = simplify(comm.subs(2*sm*sp, (1-sz)))\n",
      "collect(comm, [sz, 1])"
     ],
     "language": "python",
     "metadata": {},
     "outputs": [
      {
       "latex": [
        "$$-1 + {\\sigma_z} \\left(1 + 2 {{a}^\\dagger} {a}\\right)$$"
       ],
       "metadata": {},
       "output_type": "pyout",
       "png": "[encoded data removed]",
       "prompt_number": 38,
       "text": [
        "           \u239b       \u2020  \u239e\n",
        "-1 + False\u22c5\u239d1 + 2\u22c5a \u22c5a\u23a0"
       ]
      }
     ],
     "prompt_number": 38
    },
    {
     "cell_type": "markdown",
     "metadata": {},
     "source": [
      "$[H_0, Y_-] = -(\\epsilon+\\omega) Y_+ $"
     ]
    },
    {
     "cell_type": "code",
     "collapsed": false,
     "input": [
      "comm = Commutator(H0, Ym).expand(commutator=True).expand(commutator=True).expand(commutator=True).expand(commutator=True).doit()\n",
      "comm = qsimplify(comm)\n",
      "comm = collect(comm, [a*sm, Dagger(a)*sp])\n",
      "simplify(comm)"
     ],
     "language": "python",
     "metadata": {},
     "outputs": [
      {
       "latex": [
        "$$- \\left(\\epsilon + \\omega\\right) \\left({{a}^\\dagger} {\\sigma_+} + {a} {\\sigma_-}\\right)$$"
       ],
       "metadata": {},
       "output_type": "pyout",
       "png": "[encoded data removed]",
       "prompt_number": 39,
       "text": [
        "         \u239b \u2020                \u239e\n",
        "-(\u03b5 + \u03c9)\u22c5\u239da \u22c5False + a\u22c5False\u23a0"
       ]
      }
     ],
     "prompt_number": 39
    },
    {
     "cell_type": "markdown",
     "metadata": {},
     "source": [
      "$[Y_+, X_-] = \\sigma_z \\left\\{a^2 + (a^\\dagger)^2\\right\\} $"
     ]
    },
    {
     "cell_type": "code",
     "collapsed": false,
     "input": [
      "comm = Commutator(Yp, Xm).expand(commutator=True).expand(commutator=True).expand(commutator=True).expand(commutator=True).doit()\n",
      "collect(comm, [sz])"
     ],
     "language": "python",
     "metadata": {},
     "outputs": [
      {
       "latex": [
        "$${\\sigma_z} \\left(\\left({{a}^\\dagger}\\right)^{2} + \\left({a}\\right)^{2}\\right)$$"
       ],
       "metadata": {},
       "output_type": "pyout",
       "png": "[encoded data removed]",
       "prompt_number": 40,
       "text": [
        "      \u239b    2     \u239e\n",
        "      \u239c\u239b \u2020\u239e     2\u239f\n",
        "False\u22c5\u239d\u239da \u23a0  + a \u23a0"
       ]
      }
     ],
     "prompt_number": 40
    },
    {
     "cell_type": "markdown",
     "metadata": {},
     "source": [
      "$[Y_-, X_+] = -\\sigma_z \\left\\{a^2 + (a^\\dagger)^2\\right\\} $"
     ]
    },
    {
     "cell_type": "code",
     "collapsed": false,
     "input": [
      "comm = Commutator(Ym, Xp).expand(commutator=True).expand(commutator=True).expand(commutator=True).expand(commutator=True).doit()\n",
      "simplify(collect(comm, [sz]))"
     ],
     "language": "python",
     "metadata": {},
     "outputs": [
      {
       "latex": [
        "$$- {\\sigma_z} \\left(\\left({{a}^\\dagger}\\right)^{2} + \\left({a}\\right)^{2}\\right)$$"
       ],
       "metadata": {},
       "output_type": "pyout",
       "png": "[encoded data removed]",
       "prompt_number": 41,
       "text": [
        "       \u239b    2     \u239e\n",
        "       \u239c\u239b \u2020\u239e     2\u239f\n",
        "-False\u22c5\u239d\u239da \u23a0  + a \u23a0"
       ]
      }
     ],
     "prompt_number": 41
    },
    {
     "cell_type": "markdown",
     "metadata": {},
     "source": [
      "We separate the qubit-oscillator coupling from the bare terms and rewrite the Hamiltonian as\n",
      "\\begin{align}\n",
      "H = H_0 + \\hbar g X_+ + \\hbar g Y_+\n",
      "\\end{align}"
     ]
    },
    {
     "cell_type": "code",
     "collapsed": false,
     "input": [
      "H = H0 + g * Xp + g * Yp; Eq(symbols(\"H\"),H)"
     ],
     "language": "python",
     "metadata": {},
     "outputs": [
      {
       "latex": [
        "$$H = \\frac{\\epsilon {\\sigma_z}}{2} + g \\left({\\sigma_-} {{a}^\\dagger} + {\\sigma_+} {a}\\right) + g \\left({\\sigma_-} {a} + {\\sigma_+} {{a}^\\dagger}\\right) + \\omega {{a}^\\dagger} {a}$$"
       ],
       "metadata": {},
       "output_type": "pyout",
       "png": "[encoded data removed]",
       "prompt_number": 42,
       "text": [
        "    \u03b5\u22c5False     \u239b       \u2020          \u239e     \u239b                 \u2020\u239e      \u2020  \n",
        "H = \u2500\u2500\u2500\u2500\u2500\u2500\u2500 + g\u22c5\u239dFalse\u22c5a  + False\u22c5a\u23a0 + g\u22c5\u239dFalse\u22c5a + False\u22c5a \u23a0 + \u03c9\u22c5a \u22c5a\n",
        "       2                                                              "
       ]
      }
     ],
     "prompt_number": 42
    },
    {
     "cell_type": "markdown",
     "metadata": {},
     "source": [
      "A unitary transformation corresponding to this Hamiltonian is achieved by the operator\n",
      "\\begin{align}\n",
      "D = e^{-\\lambda_1 X_- - \\lambda_2 Y_-}\n",
      "\\end{align}"
     ]
    },
    {
     "cell_type": "markdown",
     "metadata": {},
     "source": [
      "Here, we have introduced the parameters\n",
      "\\begin{align}\n",
      "\\lambda_1 \\equiv \\frac{g}{\\Delta},\\quad \\lambda_2  \\equiv \\frac{g}{\\epsilon+\\omega} = \\frac{g}{2\\epsilon -\\Delta},\n",
      "\\end{align}\n",
      "which obviously fulfills the relation $\\lambda_2<\\lambda_1$, since $\\epsilon$ and $\\omega$ are assumed to be positive."
     ]
    },
    {
     "cell_type": "code",
     "collapsed": false,
     "input": [
      "l1, l2 = symbols(\"lambda1, lambda2\", real=True)\n",
      "Disp = exp(-l1 * Xm - l2 * Ym); Eq(symbols(\"D\"), Disp)"
     ],
     "language": "python",
     "metadata": {},
     "outputs": [
      {
       "latex": [
        "$$D = e^{- \\lambda_{1} \\left({\\sigma_-} {{a}^\\dagger} - {\\sigma_+} {a}\\right) - \\lambda_{2} \\left({\\sigma_-} {a} - {\\sigma_+} {{a}^\\dagger}\\right)}$$"
       ],
       "metadata": {},
       "output_type": "pyout",
       "png": "[encoded data removed]",
       "prompt_number": 43,
       "text": [
        "          \u239b       \u2020          \u239e      \u239b                 \u2020\u239e\n",
        "     - \u03bb\u2081\u22c5\u239dFalse\u22c5a  - False\u22c5a\u23a0 - \u03bb\u2082\u22c5\u239dFalse\u22c5a - False\u22c5a \u23a0\n",
        "D = \u212f                                                   "
       ]
      }
     ],
     "prompt_number": 43
    },
    {
     "cell_type": "markdown",
     "metadata": {},
     "source": [
      "We define the dispersive Hamiltonian $H_{disp} = DHD^\\dagger$."
     ]
    },
    {
     "cell_type": "code",
     "collapsed": false,
     "input": [
      "H1 = hamiltonian_transformation(Disp, H.expand(), expansion_search=False, N=3).expand()\n",
      "\n",
      "H1 = qsimplify(H1).expand()\n",
      "\n",
      "H1"
     ],
     "language": "python",
     "metadata": {},
     "outputs": [
      {
       "latex": [
        "$$- \\frac{\\epsilon \\lambda_{1}^{2}}{2} - \\epsilon \\lambda_{1}^{2} {{a}^\\dagger} {a} {\\sigma_z} - \\frac{\\epsilon \\lambda_{1}^{2}}{2} {\\sigma_z} - \\epsilon \\lambda_{1} \\lambda_{2} \\left({{a}^\\dagger}\\right)^{2} {\\sigma_z} - \\epsilon \\lambda_{1} \\lambda_{2} \\left({a}\\right)^{2} {\\sigma_z} - \\epsilon \\lambda_{1} {{a}^\\dagger} {\\sigma_-} - \\epsilon \\lambda_{1} {a} {\\sigma_+} + \\frac{\\epsilon \\lambda_{2}^{2}}{2} - \\epsilon \\lambda_{2}^{2} {{a}^\\dagger} {a} {\\sigma_z} - \\frac{\\epsilon \\lambda_{2}^{2}}{2} {\\sigma_z} - \\epsilon \\lambda_{2} {{a}^\\dagger} {\\sigma_+} - \\epsilon \\lambda_{2} {a} {\\sigma_-} + \\frac{\\epsilon {\\sigma_z}}{2} - \\frac{g \\lambda_{1}^{4}}{2} {{a}^\\dagger} \\left({a}\\right)^{2} {\\sigma_-} + g \\lambda_{1}^{4} {{a}^\\dagger} \\left({a}\\right)^{2} {\\sigma_+} - \\frac{3 g}{4} \\lambda_{1}^{4} {{a}^\\dagger} {\\sigma_-} + \\frac{3 g}{4} \\lambda_{1}^{4} {{a}^\\dagger} {\\sigma_+} - g \\lambda_{1}^{4} \\left({{a}^\\dagger}\\right)^{2} {a} {\\sigma_-} + \\frac{g \\lambda_{1}^{4}}{2} \\left({{a}^\\dagger}\\right)^{2} {a} {\\sigma_+} - \\frac{g \\lambda_{1}^{4}}{2} \\left({{a}^\\dagger}\\right)^{3} {\\sigma_-} - \\frac{g \\lambda_{1}^{4}}{4} {a} {\\sigma_-} + \\frac{5 g}{4} \\lambda_{1}^{4} {a} {\\sigma_+} + \\frac{g \\lambda_{1}^{4}}{2} \\left({a}\\right)^{3} {\\sigma_+} - \\frac{3 g}{2} \\lambda_{1}^{3} \\lambda_{2} {{a}^\\dagger} \\left({a}\\right)^{2} {\\sigma_-} + \\frac{3 g}{2} \\lambda_{1}^{3} \\lambda_{2} {{a}^\\dagger} \\left({a}\\right)^{2} {\\sigma_+} - \\frac{3 g}{2} \\lambda_{1}^{3} \\lambda_{2} {{a}^\\dagger} {\\sigma_-} + \\frac{3 g}{2} \\lambda_{1}^{3} \\lambda_{2} {{a}^\\dagger} {\\sigma_+} - \\frac{3 g}{2} \\lambda_{1}^{3} \\lambda_{2} \\left({{a}^\\dagger}\\right)^{2} {a} {\\sigma_-} + \\frac{3 g}{2} \\lambda_{1}^{3} \\lambda_{2} \\left({{a}^\\dagger}\\right)^{2} {a} {\\sigma_+} - \\frac{g \\lambda_{2}}{2} \\lambda_{1}^{3} \\left({{a}^\\dagger}\\right)^{3} {\\sigma_-} + \\frac{g \\lambda_{2}}{2} \\lambda_{1}^{3} \\left({{a}^\\dagger}\\right)^{3} {\\sigma_+} - \\frac{3 g}{2} \\lambda_{1}^{3} \\lambda_{2} {a} {\\sigma_-} + \\frac{3 g}{2} \\lambda_{1}^{3} \\lambda_{2} {a} {\\sigma_+} - \\frac{g \\lambda_{2}}{2} \\lambda_{1}^{3} \\left({a}\\right)^{3} {\\sigma_-} + \\frac{g \\lambda_{2}}{2} \\lambda_{1}^{3} \\left({a}\\right)^{3} {\\sigma_+} + \\frac{g \\lambda_{1}^{3}}{2} \\left({{a}^\\dagger}\\right)^{2} {\\sigma_z} - \\frac{g \\lambda_{1}^{3}}{2} \\left({a}\\right)^{2} {\\sigma_z} - \\frac{g \\lambda_{1}^{2}}{2} \\lambda_{2}^{2} {{a}^\\dagger} \\left({a}\\right)^{2} {\\sigma_-} - \\frac{g \\lambda_{1}^{2}}{2} \\lambda_{2}^{2} {{a}^\\dagger} \\left({a}\\right)^{2} {\\sigma_+} + \\frac{g \\lambda_{1}^{2}}{2} \\lambda_{2}^{2} \\left({{a}^\\dagger}\\right)^{2} {a} {\\sigma_-} + \\frac{g \\lambda_{1}^{2}}{2} \\lambda_{2}^{2} \\left({{a}^\\dagger}\\right)^{2} {a} {\\sigma_+} + \\frac{g \\lambda_{1}^{2}}{2} \\lambda_{2}^{2} \\left({{a}^\\dagger}\\right)^{3} {\\sigma_-} + \\frac{g \\lambda_{1}^{2}}{2} \\lambda_{2}^{2} \\left({{a}^\\dagger}\\right)^{3} {\\sigma_+} - g \\lambda_{1}^{2} \\lambda_{2}^{2} {a} {\\sigma_-} - g \\lambda_{1}^{2} \\lambda_{2}^{2} {a} {\\sigma_+} - \\frac{g \\lambda_{1}^{2}}{2} \\lambda_{2}^{2} \\left({a}\\right)^{3} {\\sigma_-} - \\frac{g \\lambda_{1}^{2}}{2} \\lambda_{2}^{2} \\left({a}\\right)^{3} {\\sigma_+} - \\frac{g \\lambda_{2}}{2} \\lambda_{1}^{2} \\left({{a}^\\dagger}\\right)^{2} {\\sigma_z} + \\frac{g \\lambda_{2}}{2} \\lambda_{1}^{2} \\left({a}\\right)^{2} {\\sigma_z} - g \\lambda_{1}^{2} {{a}^\\dagger} \\left({a}\\right)^{2} {\\sigma_-} - 2 g \\lambda_{1}^{2} {{a}^\\dagger} \\left({a}\\right)^{2} {\\sigma_+} - 2 g \\lambda_{1}^{2} {{a}^\\dagger} {\\sigma_-} - g \\lambda_{1}^{2} {{a}^\\dagger} {\\sigma_+} - 2 g \\lambda_{1}^{2} \\left({{a}^\\dagger}\\right)^{2} {a} {\\sigma_-} - g \\lambda_{1}^{2} \\left({{a}^\\dagger}\\right)^{2} {a} {\\sigma_+} - g \\lambda_{1}^{2} \\left({{a}^\\dagger}\\right)^{3} {\\sigma_-} - g \\lambda_{1}^{2} {a} {\\sigma_-} - 2 g \\lambda_{1}^{2} {a} {\\sigma_+} - g \\lambda_{1}^{2} \\left({a}\\right)^{3} {\\sigma_+} + \\frac{3 g}{2} \\lambda_{1} \\lambda_{2}^{3} {{a}^\\dagger} \\left({a}\\right)^{2} {\\sigma_-} - \\frac{3 g}{2} \\lambda_{1} \\lambda_{2}^{3} {{a}^\\dagger} \\left({a}\\right)^{2} {\\sigma_+} + \\frac{3 g}{2} \\lambda_{1} \\lambda_{2}^{3} {{a}^\\dagger} {\\sigma_-} - \\frac{3 g}{2} \\lambda_{1} \\lambda_{2}^{3} {{a}^\\dagger} {\\sigma_+} + \\frac{3 g}{2} \\lambda_{1} \\lambda_{2}^{3} \\left({{a}^\\dagger}\\right)^{2} {a} {\\sigma_-} - \\frac{3 g}{2} \\lambda_{1} \\lambda_{2}^{3} \\left({{a}^\\dagger}\\right)^{2} {a} {\\sigma_+} + \\frac{g \\lambda_{1}}{2} \\lambda_{2}^{3} \\left({{a}^\\dagger}\\right)^{3} {\\sigma_-} - \\frac{g \\lambda_{1}}{2} \\lambda_{2}^{3} \\left({{a}^\\dagger}\\right)^{3} {\\sigma_+} + \\frac{3 g}{2} \\lambda_{1} \\lambda_{2}^{3} {a} {\\sigma_-} - \\frac{3 g}{2} \\lambda_{1} \\lambda_{2}^{3} {a} {\\sigma_+} + \\frac{g \\lambda_{1}}{2} \\lambda_{2}^{3} \\left({a}\\right)^{3} {\\sigma_-} - \\frac{g \\lambda_{1}}{2} \\lambda_{2}^{3} \\left({a}\\right)^{3} {\\sigma_+} - \\frac{g \\lambda_{1}}{2} \\lambda_{2}^{2} \\left({{a}^\\dagger}\\right)^{2} {\\sigma_z} + \\frac{g \\lambda_{1}}{2} \\lambda_{2}^{2} \\left({a}\\right)^{2} {\\sigma_z} - 3 g \\lambda_{1} \\lambda_{2} {{a}^\\dagger} \\left({a}\\right)^{2} {\\sigma_-} - 3 g \\lambda_{1} \\lambda_{2} {{a}^\\dagger} \\left({a}\\right)^{2} {\\sigma_+} - 3 g \\lambda_{1} \\lambda_{2} {{a}^\\dagger} {\\sigma_-} - 3 g \\lambda_{1} \\lambda_{2} {{a}^\\dagger} {\\sigma_+} - 3 g \\lambda_{1} \\lambda_{2} \\left({{a}^\\dagger}\\right)^{2} {a} {\\sigma_-} - 3 g \\lambda_{1} \\lambda_{2} \\left({{a}^\\dagger}\\right)^{2} {a} {\\sigma_+} - g \\lambda_{1} \\lambda_{2} \\left({{a}^\\dagger}\\right)^{3} {\\sigma_-} - g \\lambda_{1} \\lambda_{2} \\left({{a}^\\dagger}\\right)^{3} {\\sigma_+} - 3 g \\lambda_{1} \\lambda_{2} {a} {\\sigma_-} - 3 g \\lambda_{1} \\lambda_{2} {a} {\\sigma_+} - g \\lambda_{1} \\lambda_{2} \\left({a}\\right)^{3} {\\sigma_-} - g \\lambda_{1} \\lambda_{2} \\left({a}\\right)^{3} {\\sigma_+} + g \\lambda_{1} + 2 g \\lambda_{1} {{a}^\\dagger} {a} {\\sigma_z} + g \\lambda_{1} \\left({{a}^\\dagger}\\right)^{2} {\\sigma_z} + g \\lambda_{1} \\left({a}\\right)^{2} {\\sigma_z} + g \\lambda_{1} {\\sigma_z} + g \\lambda_{2}^{4} {{a}^\\dagger} \\left({a}\\right)^{2} {\\sigma_-} - \\frac{g \\lambda_{2}^{4}}{2} {{a}^\\dagger} \\left({a}\\right)^{2} {\\sigma_+} + \\frac{3 g}{4} \\lambda_{2}^{4} {{a}^\\dagger} {\\sigma_-} - \\frac{3 g}{4} \\lambda_{2}^{4} {{a}^\\dagger} {\\sigma_+} + \\frac{g \\lambda_{2}^{4}}{2} \\left({{a}^\\dagger}\\right)^{2} {a} {\\sigma_-} - g \\lambda_{2}^{4} \\left({{a}^\\dagger}\\right)^{2} {a} {\\sigma_+} - \\frac{g \\lambda_{2}^{4}}{2} \\left({{a}^\\dagger}\\right)^{3} {\\sigma_+} + \\frac{5 g}{4} \\lambda_{2}^{4} {a} {\\sigma_-} - \\frac{g \\lambda_{2}^{4}}{4} {a} {\\sigma_+} + \\frac{g \\lambda_{2}^{4}}{2} \\left({a}\\right)^{3} {\\sigma_-} + \\frac{g \\lambda_{2}^{3}}{2} \\left({{a}^\\dagger}\\right)^{2} {\\sigma_z} - \\frac{g \\lambda_{2}^{3}}{2} \\left({a}\\right)^{2} {\\sigma_z} - 2 g \\lambda_{2}^{2} {{a}^\\dagger} \\left({a}\\right)^{2} {\\sigma_-} - g \\lambda_{2}^{2} {{a}^\\dagger} \\left({a}\\right)^{2} {\\sigma_+} - g \\lambda_{2}^{2} {{a}^\\dagger} {\\sigma_-} - 2 g \\lambda_{2}^{2} {{a}^\\dagger} {\\sigma_+} - g \\lambda_{2}^{2} \\left({{a}^\\dagger}\\right)^{2} {a} {\\sigma_-} - 2 g \\lambda_{2}^{2} \\left({{a}^\\dagger}\\right)^{2} {a} {\\sigma_+} - g \\lambda_{2}^{2} \\left({{a}^\\dagger}\\right)^{3} {\\sigma_+} - 2 g \\lambda_{2}^{2} {a} {\\sigma_-} - g \\lambda_{2}^{2} {a} {\\sigma_+} - g \\lambda_{2}^{2} \\left({a}\\right)^{3} {\\sigma_-} - g \\lambda_{2} + 2 g \\lambda_{2} {{a}^\\dagger} {a} {\\sigma_z} + g \\lambda_{2} \\left({{a}^\\dagger}\\right)^{2} {\\sigma_z} + g \\lambda_{2} \\left({a}\\right)^{2} {\\sigma_z} + g \\lambda_{2} {\\sigma_z} + g {{a}^\\dagger} {\\sigma_-} + g {{a}^\\dagger} {\\sigma_+} + g {a} {\\sigma_-} + g {a} {\\sigma_+} + \\frac{\\lambda_{1}^{4} \\omega}{4} {{a}^\\dagger} {a} - \\frac{\\lambda_{1}^{3} \\omega}{2} {{a}^\\dagger} {\\sigma_-} - \\frac{\\lambda_{1}^{3} \\omega}{2} {a} {\\sigma_+} - \\frac{\\lambda_{1}^{2} \\omega}{2} \\lambda_{2}^{2} {{a}^\\dagger} {a} - \\frac{\\lambda_{2} \\omega}{2} \\lambda_{1}^{2} {{a}^\\dagger} {\\sigma_+} - \\frac{\\lambda_{2} \\omega}{2} \\lambda_{1}^{2} {a} {\\sigma_-} + \\frac{\\lambda_{1}^{2} \\omega}{2} + \\lambda_{1}^{2} \\omega {{a}^\\dagger} {a} {\\sigma_z} + \\frac{\\lambda_{1}^{2} \\omega}{2} {\\sigma_z} + \\frac{\\lambda_{1} \\omega}{2} \\lambda_{2}^{2} {{a}^\\dagger} {\\sigma_-} + \\frac{\\lambda_{1} \\omega}{2} \\lambda_{2}^{2} {a} {\\sigma_+} + \\lambda_{1} \\omega {{a}^\\dagger} {\\sigma_-} + \\lambda_{1} \\omega {a} {\\sigma_+} + \\frac{\\lambda_{2}^{4} \\omega}{4} {{a}^\\dagger} {a} + \\frac{\\lambda_{2}^{3} \\omega}{2} {{a}^\\dagger} {\\sigma_+} + \\frac{\\lambda_{2}^{3} \\omega}{2} {a} {\\sigma_-} + \\frac{\\lambda_{2}^{2} \\omega}{2} - \\lambda_{2}^{2} \\omega {{a}^\\dagger} {a} {\\sigma_z} - \\frac{\\lambda_{2}^{2} \\omega}{2} {\\sigma_z} - \\lambda_{2} \\omega {{a}^\\dagger} {\\sigma_+} - \\lambda_{2} \\omega {a} {\\sigma_-} + \\omega {{a}^\\dagger} {a}$$"
       ],
       "metadata": {},
       "output_type": "pyout",
       "png": "[encoded data removed]",
       "prompt_number": 44,
       "text": [
        "                                                                              \n",
        "      2                          2                     2                      \n",
        "  \u03b5\u22c5\u03bb\u2081        2  \u2020           \u03b5\u22c5\u03bb\u2081 \u22c5False           \u239b \u2020\u239e                   2   \n",
        "- \u2500\u2500\u2500\u2500\u2500 - \u03b5\u22c5\u03bb\u2081 \u22c5a \u22c5a\u22c5False - \u2500\u2500\u2500\u2500\u2500\u2500\u2500\u2500\u2500\u2500\u2500 - \u03b5\u22c5\u03bb\u2081\u22c5\u03bb\u2082\u22c5\u239da \u23a0 \u22c5False - \u03b5\u22c5\u03bb\u2081\u22c5\u03bb\u2082\u22c5a \u22c5Fa\n",
        "    2                             2                                           \n",
        "\n",
        "                                                                              \n",
        "                                         2                          2         \n",
        "            \u2020                        \u03b5\u22c5\u03bb\u2082        2  \u2020           \u03b5\u22c5\u03bb\u2082 \u22c5False   \n",
        "lse - \u03b5\u22c5\u03bb\u2081\u22c5a \u22c5False - \u03b5\u22c5\u03bb\u2081\u22c5a\u22c5False + \u2500\u2500\u2500\u2500\u2500 - \u03b5\u22c5\u03bb\u2082 \u22c5a \u22c5a\u22c5False - \u2500\u2500\u2500\u2500\u2500\u2500\u2500\u2500\u2500\u2500\u2500 - \n",
        "                                       2                             2        \n",
        "\n",
        "                                                                              \n",
        "                                             4  \u2020  2                          \n",
        "      \u2020                        \u03b5\u22c5False   g\u22c5\u03bb\u2081 \u22c5a \u22c5a \u22c5False       4  \u2020  2      \n",
        "\u03b5\u22c5\u03bb\u2082\u22c5a \u22c5False - \u03b5\u22c5\u03bb\u2082\u22c5a\u22c5False + \u2500\u2500\u2500\u2500\u2500\u2500\u2500 - \u2500\u2500\u2500\u2500\u2500\u2500\u2500\u2500\u2500\u2500\u2500\u2500\u2500\u2500\u2500\u2500\u2500 + g\u22c5\u03bb\u2081 \u22c5a \u22c5a \u22c5False\n",
        "                                  2              2                            \n",
        "\n",
        "                                                                         2    \n",
        "         4  \u2020               4  \u2020                   2               4 \u239b \u2020\u239e     \n",
        "   3\u22c5g\u22c5\u03bb\u2081 \u22c5a \u22c5False   3\u22c5g\u22c5\u03bb\u2081 \u22c5a \u22c5False       4 \u239b \u2020\u239e            g\u22c5\u03bb\u2081 \u22c5\u239da \u23a0 \u22c5a\u22c5F\n",
        " - \u2500\u2500\u2500\u2500\u2500\u2500\u2500\u2500\u2500\u2500\u2500\u2500\u2500\u2500\u2500\u2500 + \u2500\u2500\u2500\u2500\u2500\u2500\u2500\u2500\u2500\u2500\u2500\u2500\u2500\u2500\u2500\u2500 - g\u22c5\u03bb\u2081 \u22c5\u239da \u23a0 \u22c5a\u22c5False + \u2500\u2500\u2500\u2500\u2500\u2500\u2500\u2500\u2500\u2500\u2500\u2500\u2500\u2500\u2500\n",
        "          4                  4                                          2     \n",
        "\n",
        "                 3                                                            \n",
        "           4 \u239b \u2020\u239e              4                 4               4  3         \n",
        "alse   g\u22c5\u03bb\u2081 \u22c5\u239da \u23a0 \u22c5False   g\u22c5\u03bb\u2081 \u22c5a\u22c5False   5\u22c5g\u22c5\u03bb\u2081 \u22c5a\u22c5False   g\u22c5\u03bb\u2081 \u22c5a \u22c5False   \n",
        "\u2500\u2500\u2500\u2500 - \u2500\u2500\u2500\u2500\u2500\u2500\u2500\u2500\u2500\u2500\u2500\u2500\u2500\u2500\u2500\u2500\u2500 - \u2500\u2500\u2500\u2500\u2500\u2500\u2500\u2500\u2500\u2500\u2500\u2500\u2500 + \u2500\u2500\u2500\u2500\u2500\u2500\u2500\u2500\u2500\u2500\u2500\u2500\u2500\u2500\u2500 + \u2500\u2500\u2500\u2500\u2500\u2500\u2500\u2500\u2500\u2500\u2500\u2500\u2500\u2500 - \n",
        "               2                 4                4                2          \n",
        "\n",
        "                                                                              \n",
        "      3     \u2020  2               3     \u2020  2               3     \u2020               \n",
        "3\u22c5g\u22c5\u03bb\u2081 \u22c5\u03bb\u2082\u22c5a \u22c5a \u22c5False   3\u22c5g\u22c5\u03bb\u2081 \u22c5\u03bb\u2082\u22c5a \u22c5a \u22c5False   3\u22c5g\u22c5\u03bb\u2081 \u22c5\u03bb\u2082\u22c5a \u22c5False   3\u22c5g\u22c5\u03bb\u2081\n",
        "\u2500\u2500\u2500\u2500\u2500\u2500\u2500\u2500\u2500\u2500\u2500\u2500\u2500\u2500\u2500\u2500\u2500\u2500\u2500\u2500\u2500\u2500 + \u2500\u2500\u2500\u2500\u2500\u2500\u2500\u2500\u2500\u2500\u2500\u2500\u2500\u2500\u2500\u2500\u2500\u2500\u2500\u2500\u2500\u2500 - \u2500\u2500\u2500\u2500\u2500\u2500\u2500\u2500\u2500\u2500\u2500\u2500\u2500\u2500\u2500\u2500\u2500\u2500\u2500 + \u2500\u2500\u2500\u2500\u2500\u2500\n",
        "          2                        2                       2                  \n",
        "\n",
        "                               2                          2                   \n",
        "3     \u2020               3    \u239b \u2020\u239e                  3    \u239b \u2020\u239e                3   \n",
        " \u22c5\u03bb\u2082\u22c5a \u22c5False   3\u22c5g\u22c5\u03bb\u2081 \u22c5\u03bb\u2082\u22c5\u239da \u23a0 \u22c5a\u22c5False   3\u22c5g\u22c5\u03bb\u2081 \u22c5\u03bb\u2082\u22c5\u239da \u23a0 \u22c5a\u22c5False   g\u22c5\u03bb\u2081 \u22c5\u03bb\u2082\n",
        "\u2500\u2500\u2500\u2500\u2500\u2500\u2500\u2500\u2500\u2500\u2500\u2500\u2500 - \u2500\u2500\u2500\u2500\u2500\u2500\u2500\u2500\u2500\u2500\u2500\u2500\u2500\u2500\u2500\u2500\u2500\u2500\u2500\u2500\u2500\u2500\u2500\u2500 + \u2500\u2500\u2500\u2500\u2500\u2500\u2500\u2500\u2500\u2500\u2500\u2500\u2500\u2500\u2500\u2500\u2500\u2500\u2500\u2500\u2500\u2500\u2500\u2500 - \u2500\u2500\u2500\u2500\u2500\u2500\u2500\u2500\n",
        "   2                       2                          2                       \n",
        "\n",
        "     3                      3                                                 \n",
        " \u239b \u2020\u239e              3    \u239b \u2020\u239e                3                    3            \n",
        "\u22c5\u239da \u23a0 \u22c5False   g\u22c5\u03bb\u2081 \u22c5\u03bb\u2082\u22c5\u239da \u23a0 \u22c5False   3\u22c5g\u22c5\u03bb\u2081 \u22c5\u03bb\u2082\u22c5a\u22c5False   3\u22c5g\u22c5\u03bb\u2081 \u22c5\u03bb\u2082\u22c5a\u22c5False \n",
        "\u2500\u2500\u2500\u2500\u2500\u2500\u2500\u2500\u2500\u2500\u2500\u2500 + \u2500\u2500\u2500\u2500\u2500\u2500\u2500\u2500\u2500\u2500\u2500\u2500\u2500\u2500\u2500\u2500\u2500\u2500\u2500\u2500 - \u2500\u2500\u2500\u2500\u2500\u2500\u2500\u2500\u2500\u2500\u2500\u2500\u2500\u2500\u2500\u2500\u2500\u2500 + \u2500\u2500\u2500\u2500\u2500\u2500\u2500\u2500\u2500\u2500\u2500\u2500\u2500\u2500\u2500\u2500\u2500\u2500 \n",
        " 2                      2                     2                    2          \n",
        "\n",
        "                                                    2                         \n",
        "      3     3             3     3             3 \u239b \u2020\u239e              3  2        \n",
        "  g\u22c5\u03bb\u2081 \u22c5\u03bb\u2082\u22c5a \u22c5False   g\u22c5\u03bb\u2081 \u22c5\u03bb\u2082\u22c5a \u22c5False   g\u22c5\u03bb\u2081 \u22c5\u239da \u23a0 \u22c5False   g\u22c5\u03bb\u2081 \u22c5a \u22c5False  \n",
        "- \u2500\u2500\u2500\u2500\u2500\u2500\u2500\u2500\u2500\u2500\u2500\u2500\u2500\u2500\u2500\u2500\u2500 + \u2500\u2500\u2500\u2500\u2500\u2500\u2500\u2500\u2500\u2500\u2500\u2500\u2500\u2500\u2500\u2500\u2500 + \u2500\u2500\u2500\u2500\u2500\u2500\u2500\u2500\u2500\u2500\u2500\u2500\u2500\u2500\u2500\u2500\u2500 - \u2500\u2500\u2500\u2500\u2500\u2500\u2500\u2500\u2500\u2500\u2500\u2500\u2500\u2500 -\n",
        "          2                   2                   2                 2         \n",
        "\n",
        "                                                               2              \n",
        "     2   2  \u2020  2             2   2  \u2020  2             2   2 \u239b \u2020\u239e               \n",
        " g\u22c5\u03bb\u2081 \u22c5\u03bb\u2082 \u22c5a \u22c5a \u22c5False   g\u22c5\u03bb\u2081 \u22c5\u03bb\u2082 \u22c5a \u22c5a \u22c5False   g\u22c5\u03bb\u2081 \u22c5\u03bb\u2082 \u22c5\u239da \u23a0 \u22c5a\u22c5False   g\u22c5\u03bb\n",
        " \u2500\u2500\u2500\u2500\u2500\u2500\u2500\u2500\u2500\u2500\u2500\u2500\u2500\u2500\u2500\u2500\u2500\u2500\u2500\u2500\u2500 - \u2500\u2500\u2500\u2500\u2500\u2500\u2500\u2500\u2500\u2500\u2500\u2500\u2500\u2500\u2500\u2500\u2500\u2500\u2500\u2500\u2500 + \u2500\u2500\u2500\u2500\u2500\u2500\u2500\u2500\u2500\u2500\u2500\u2500\u2500\u2500\u2500\u2500\u2500\u2500\u2500\u2500\u2500\u2500\u2500 + \u2500\u2500\u2500\n",
        "           2                       2                        2                 \n",
        "\n",
        "           2                         3                       3                \n",
        " 2   2 \u239b \u2020\u239e                2   2 \u239b \u2020\u239e              2   2 \u239b \u2020\u239e                 \n",
        "\u2081 \u22c5\u03bb\u2082 \u22c5\u239da \u23a0 \u22c5a\u22c5False   g\u22c5\u03bb\u2081 \u22c5\u03bb\u2082 \u22c5\u239da \u23a0 \u22c5False   g\u22c5\u03bb\u2081 \u22c5\u03bb\u2082 \u22c5\u239da \u23a0 \u22c5False       2  \n",
        "\u2500\u2500\u2500\u2500\u2500\u2500\u2500\u2500\u2500\u2500\u2500\u2500\u2500\u2500\u2500\u2500\u2500\u2500\u2500\u2500 + \u2500\u2500\u2500\u2500\u2500\u2500\u2500\u2500\u2500\u2500\u2500\u2500\u2500\u2500\u2500\u2500\u2500\u2500\u2500\u2500\u2500 + \u2500\u2500\u2500\u2500\u2500\u2500\u2500\u2500\u2500\u2500\u2500\u2500\u2500\u2500\u2500\u2500\u2500\u2500\u2500\u2500\u2500 - g\u22c5\u03bb\u2081 \u22c5\u03bb\n",
        "        2                        2                       2                    \n",
        "\n",
        "                                                                              \n",
        "                                     2   2  3             2   2  3            \n",
        " 2               2   2           g\u22c5\u03bb\u2081 \u22c5\u03bb\u2082 \u22c5a \u22c5False   g\u22c5\u03bb\u2081 \u22c5\u03bb\u2082 \u22c5a \u22c5False   g\u22c5\u03bb\n",
        "\u2082 \u22c5a\u22c5False - g\u22c5\u03bb\u2081 \u22c5\u03bb\u2082 \u22c5a\u22c5False - \u2500\u2500\u2500\u2500\u2500\u2500\u2500\u2500\u2500\u2500\u2500\u2500\u2500\u2500\u2500\u2500\u2500\u2500 - \u2500\u2500\u2500\u2500\u2500\u2500\u2500\u2500\u2500\u2500\u2500\u2500\u2500\u2500\u2500\u2500\u2500\u2500 - \u2500\u2500\u2500\n",
        "                                         2                    2               \n",
        "\n",
        "          2                                                                   \n",
        " 2    \u239b \u2020\u239e              2     2                                               \n",
        "\u2081 \u22c5\u03bb\u2082\u22c5\u239da \u23a0 \u22c5False   g\u22c5\u03bb\u2081 \u22c5\u03bb\u2082\u22c5a \u22c5False       2  \u2020  2               2  \u2020  2     \n",
        "\u2500\u2500\u2500\u2500\u2500\u2500\u2500\u2500\u2500\u2500\u2500\u2500\u2500\u2500\u2500\u2500\u2500 + \u2500\u2500\u2500\u2500\u2500\u2500\u2500\u2500\u2500\u2500\u2500\u2500\u2500\u2500\u2500\u2500\u2500 - g\u22c5\u03bb\u2081 \u22c5a \u22c5a \u22c5False - 2\u22c5g\u22c5\u03bb\u2081 \u22c5a \u22c5a \u22c5Fals\n",
        "      2                     2                                                 \n",
        "\n",
        "                                                                              \n",
        "                                                    2                     2   \n",
        "          2  \u2020             2  \u2020               2 \u239b \u2020\u239e                2 \u239b \u2020\u239e    \n",
        "e - 2\u22c5g\u22c5\u03bb\u2081 \u22c5a \u22c5False - g\u22c5\u03bb\u2081 \u22c5a \u22c5False - 2\u22c5g\u22c5\u03bb\u2081 \u22c5\u239da \u23a0 \u22c5a\u22c5False - g\u22c5\u03bb\u2081 \u22c5\u239da \u23a0 \u22c5a\u22c5\n",
        "                                                                              \n",
        "\n",
        "                                                                              \n",
        "                  3                                                           \n",
        "            2 \u239b \u2020\u239e              2                 2               2  3        \n",
        "False - g\u22c5\u03bb\u2081 \u22c5\u239da \u23a0 \u22c5False - g\u22c5\u03bb\u2081 \u22c5a\u22c5False - 2\u22c5g\u22c5\u03bb\u2081 \u22c5a\u22c5False - g\u22c5\u03bb\u2081 \u22c5a \u22c5False +\n",
        "                                                                              \n",
        "\n",
        "                                                                              \n",
        "          3  \u2020  2                  3  \u2020  2                  3  \u2020              \n",
        " 3\u22c5g\u22c5\u03bb\u2081\u22c5\u03bb\u2082 \u22c5a \u22c5a \u22c5False   3\u22c5g\u22c5\u03bb\u2081\u22c5\u03bb\u2082 \u22c5a \u22c5a \u22c5False   3\u22c5g\u22c5\u03bb\u2081\u22c5\u03bb\u2082 \u22c5a \u22c5False   3\u22c5g\u22c5\u03bb\n",
        " \u2500\u2500\u2500\u2500\u2500\u2500\u2500\u2500\u2500\u2500\u2500\u2500\u2500\u2500\u2500\u2500\u2500\u2500\u2500\u2500\u2500\u2500 - \u2500\u2500\u2500\u2500\u2500\u2500\u2500\u2500\u2500\u2500\u2500\u2500\u2500\u2500\u2500\u2500\u2500\u2500\u2500\u2500\u2500\u2500 + \u2500\u2500\u2500\u2500\u2500\u2500\u2500\u2500\u2500\u2500\u2500\u2500\u2500\u2500\u2500\u2500\u2500\u2500\u2500 - \u2500\u2500\u2500\u2500\u2500\n",
        "           2                        2                       2                 \n",
        "\n",
        "                                2                          2                  \n",
        "    3  \u2020                  3 \u239b \u2020\u239e                     3 \u239b \u2020\u239e                   \n",
        "\u2081\u22c5\u03bb\u2082 \u22c5a \u22c5False   3\u22c5g\u22c5\u03bb\u2081\u22c5\u03bb\u2082 \u22c5\u239da \u23a0 \u22c5a\u22c5False   3\u22c5g\u22c5\u03bb\u2081\u22c5\u03bb\u2082 \u22c5\u239da \u23a0 \u22c5a\u22c5False   g\u22c5\u03bb\u2081\u22c5\u03bb\u2082\n",
        "\u2500\u2500\u2500\u2500\u2500\u2500\u2500\u2500\u2500\u2500\u2500\u2500\u2500\u2500 + \u2500\u2500\u2500\u2500\u2500\u2500\u2500\u2500\u2500\u2500\u2500\u2500\u2500\u2500\u2500\u2500\u2500\u2500\u2500\u2500\u2500\u2500\u2500\u2500 - \u2500\u2500\u2500\u2500\u2500\u2500\u2500\u2500\u2500\u2500\u2500\u2500\u2500\u2500\u2500\u2500\u2500\u2500\u2500\u2500\u2500\u2500\u2500\u2500 + \u2500\u2500\u2500\u2500\u2500\u2500\u2500\n",
        "    2                       2                          2                      \n",
        "\n",
        "      3                      3                                                \n",
        "3 \u239b \u2020\u239e                 3 \u239b \u2020\u239e                   3                    3        \n",
        " \u22c5\u239da \u23a0 \u22c5False   g\u22c5\u03bb\u2081\u22c5\u03bb\u2082 \u22c5\u239da \u23a0 \u22c5False   3\u22c5g\u22c5\u03bb\u2081\u22c5\u03bb\u2082 \u22c5a\u22c5False   3\u22c5g\u22c5\u03bb\u2081\u22c5\u03bb\u2082 \u22c5a\u22c5False\n",
        "\u2500\u2500\u2500\u2500\u2500\u2500\u2500\u2500\u2500\u2500\u2500\u2500\u2500 - \u2500\u2500\u2500\u2500\u2500\u2500\u2500\u2500\u2500\u2500\u2500\u2500\u2500\u2500\u2500\u2500\u2500\u2500\u2500\u2500 + \u2500\u2500\u2500\u2500\u2500\u2500\u2500\u2500\u2500\u2500\u2500\u2500\u2500\u2500\u2500\u2500\u2500\u2500 - \u2500\u2500\u2500\u2500\u2500\u2500\u2500\u2500\u2500\u2500\u2500\u2500\u2500\u2500\u2500\u2500\u2500\u2500\n",
        "  2                      2                     2                    2         \n",
        "\n",
        "                                                        2                     \n",
        "          3  3                3  3                2 \u239b \u2020\u239e                 2  2 \n",
        "   g\u22c5\u03bb\u2081\u22c5\u03bb\u2082 \u22c5a \u22c5False   g\u22c5\u03bb\u2081\u22c5\u03bb\u2082 \u22c5a \u22c5False   g\u22c5\u03bb\u2081\u22c5\u03bb\u2082 \u22c5\u239da \u23a0 \u22c5False   g\u22c5\u03bb\u2081\u22c5\u03bb\u2082 \u22c5a \u22c5\n",
        " + \u2500\u2500\u2500\u2500\u2500\u2500\u2500\u2500\u2500\u2500\u2500\u2500\u2500\u2500\u2500\u2500\u2500 - \u2500\u2500\u2500\u2500\u2500\u2500\u2500\u2500\u2500\u2500\u2500\u2500\u2500\u2500\u2500\u2500\u2500 - \u2500\u2500\u2500\u2500\u2500\u2500\u2500\u2500\u2500\u2500\u2500\u2500\u2500\u2500\u2500\u2500\u2500\u2500\u2500\u2500 + \u2500\u2500\u2500\u2500\u2500\u2500\u2500\u2500\u2500\u2500\u2500\u2500\n",
        "           2                   2                    2                     2   \n",
        "\n",
        "                                                                              \n",
        "                                                                              \n",
        "False              \u2020  2                    \u2020  2                    \u2020          \n",
        "\u2500\u2500\u2500\u2500\u2500 - 3\u22c5g\u22c5\u03bb\u2081\u22c5\u03bb\u2082\u22c5a \u22c5a \u22c5False - 3\u22c5g\u22c5\u03bb\u2081\u22c5\u03bb\u2082\u22c5a \u22c5a \u22c5False - 3\u22c5g\u22c5\u03bb\u2081\u22c5\u03bb\u2082\u22c5a \u22c5False - 3\n",
        "                                                                              \n",
        "\n",
        "                                                                              \n",
        "                                  2                         2                 \n",
        "          \u2020                   \u239b \u2020\u239e                      \u239b \u2020\u239e                  \n",
        "\u22c5g\u22c5\u03bb\u2081\u22c5\u03bb\u2082\u22c5a \u22c5False - 3\u22c5g\u22c5\u03bb\u2081\u22c5\u03bb\u2082\u22c5\u239da \u23a0 \u22c5a\u22c5False - 3\u22c5g\u22c5\u03bb\u2081\u22c5\u03bb\u2082\u22c5\u239da \u23a0 \u22c5a\u22c5False - g\u22c5\u03bb\u2081\u22c5\u03bb\n",
        "                                                                              \n",
        "\n",
        "                                                                              \n",
        "      3                     3                                                 \n",
        "  \u239b \u2020\u239e                  \u239b \u2020\u239e                                                  \n",
        "\u2082\u22c5\u239da \u23a0 \u22c5False - g\u22c5\u03bb\u2081\u22c5\u03bb\u2082\u22c5\u239da \u23a0 \u22c5False - 3\u22c5g\u22c5\u03bb\u2081\u22c5\u03bb\u2082\u22c5a\u22c5False - 3\u22c5g\u22c5\u03bb\u2081\u22c5\u03bb\u2082\u22c5a\u22c5False - \n",
        "                                                                              \n",
        "\n",
        "                                                                              \n",
        "                                                                          2   \n",
        "         3                  3                        \u2020                \u239b \u2020\u239e    \n",
        "g\u22c5\u03bb\u2081\u22c5\u03bb\u2082\u22c5a \u22c5False - g\u22c5\u03bb\u2081\u22c5\u03bb\u2082\u22c5a \u22c5False + g\u22c5\u03bb\u2081 + 2\u22c5g\u22c5\u03bb\u2081\u22c5a \u22c5a\u22c5False + g\u22c5\u03bb\u2081\u22c5\u239da \u23a0 \u22c5Fa\n",
        "                                                                              \n",
        "\n",
        "                                                                              \n",
        "                                                           4  \u2020  2            \n",
        "            2                          4  \u2020  2         g\u22c5\u03bb\u2082 \u22c5a \u22c5a \u22c5False   3\u22c5g\n",
        "lse + g\u22c5\u03bb\u2081\u22c5a \u22c5False + g\u22c5\u03bb\u2081\u22c5False + g\u22c5\u03bb\u2082 \u22c5a \u22c5a \u22c5False - \u2500\u2500\u2500\u2500\u2500\u2500\u2500\u2500\u2500\u2500\u2500\u2500\u2500\u2500\u2500\u2500\u2500 + \u2500\u2500\u2500\n",
        "                                                               2              \n",
        "\n",
        "                                             2                                \n",
        "   4  \u2020               4  \u2020             4 \u239b \u2020\u239e                      2          \n",
        "\u22c5\u03bb\u2082 \u22c5a \u22c5False   3\u22c5g\u22c5\u03bb\u2082 \u22c5a \u22c5False   g\u22c5\u03bb\u2082 \u22c5\u239da \u23a0 \u22c5a\u22c5False       4 \u239b \u2020\u239e           \n",
        "\u2500\u2500\u2500\u2500\u2500\u2500\u2500\u2500\u2500\u2500\u2500\u2500\u2500 - \u2500\u2500\u2500\u2500\u2500\u2500\u2500\u2500\u2500\u2500\u2500\u2500\u2500\u2500\u2500\u2500 + \u2500\u2500\u2500\u2500\u2500\u2500\u2500\u2500\u2500\u2500\u2500\u2500\u2500\u2500\u2500\u2500\u2500\u2500\u2500 - g\u22c5\u03bb\u2082 \u22c5\u239da \u23a0 \u22c5a\u22c5False -\n",
        "    4                  4                    2                                 \n",
        "\n",
        "           3                                                                  \n",
        "     4 \u239b \u2020\u239e                4               4               4  3             3 \n",
        " g\u22c5\u03bb\u2082 \u22c5\u239da \u23a0 \u22c5False   5\u22c5g\u22c5\u03bb\u2082 \u22c5a\u22c5False   g\u22c5\u03bb\u2082 \u22c5a\u22c5False   g\u22c5\u03bb\u2082 \u22c5a \u22c5False   g\u22c5\u03bb\u2082 \u22c5\n",
        " \u2500\u2500\u2500\u2500\u2500\u2500\u2500\u2500\u2500\u2500\u2500\u2500\u2500\u2500\u2500\u2500\u2500 + \u2500\u2500\u2500\u2500\u2500\u2500\u2500\u2500\u2500\u2500\u2500\u2500\u2500\u2500\u2500 - \u2500\u2500\u2500\u2500\u2500\u2500\u2500\u2500\u2500\u2500\u2500\u2500\u2500 + \u2500\u2500\u2500\u2500\u2500\u2500\u2500\u2500\u2500\u2500\u2500\u2500\u2500\u2500 + \u2500\u2500\u2500\u2500\u2500\u2500\n",
        "         2                  4                4               2                \n",
        "\n",
        "    2                                                                         \n",
        "\u239b \u2020\u239e              3  2                                                        \n",
        "\u239da \u23a0 \u22c5False   g\u22c5\u03bb\u2082 \u22c5a \u22c5False         2  \u2020  2             2  \u2020  2             2\n",
        "\u2500\u2500\u2500\u2500\u2500\u2500\u2500\u2500\u2500\u2500\u2500 - \u2500\u2500\u2500\u2500\u2500\u2500\u2500\u2500\u2500\u2500\u2500\u2500\u2500\u2500 - 2\u22c5g\u22c5\u03bb\u2082 \u22c5a \u22c5a \u22c5False - g\u22c5\u03bb\u2082 \u22c5a \u22c5a \u22c5False - g\u22c5\u03bb\u2082 \n",
        "  2                 2                                                         \n",
        "\n",
        "                                                                              \n",
        "                                         2                       2            \n",
        "  \u2020               2  \u2020             2 \u239b \u2020\u239e                  2 \u239b \u2020\u239e             \n",
        "\u22c5a \u22c5False - 2\u22c5g\u22c5\u03bb\u2082 \u22c5a \u22c5False - g\u22c5\u03bb\u2082 \u22c5\u239da \u23a0 \u22c5a\u22c5False - 2\u22c5g\u22c5\u03bb\u2082 \u22c5\u239da \u23a0 \u22c5a\u22c5False - g\n",
        "                                                                              \n",
        "\n",
        "                                                                              \n",
        "         3                                                                    \n",
        "   2 \u239b \u2020\u239e                2               2               2  3                 \n",
        "\u22c5\u03bb\u2082 \u22c5\u239da \u23a0 \u22c5False - 2\u22c5g\u22c5\u03bb\u2082 \u22c5a\u22c5False - g\u22c5\u03bb\u2082 \u22c5a\u22c5False - g\u22c5\u03bb\u2082 \u22c5a \u22c5False - g\u22c5\u03bb\u2082 + 2\n",
        "                                                                              \n",
        "\n",
        "                                                                              \n",
        "                            2                                                 \n",
        "       \u2020                \u239b \u2020\u239e                2                         \u2020       \n",
        "\u22c5g\u22c5\u03bb\u2082\u22c5a \u22c5a\u22c5False + g\u22c5\u03bb\u2082\u22c5\u239da \u23a0 \u22c5False + g\u22c5\u03bb\u2082\u22c5a \u22c5False + g\u22c5\u03bb\u2082\u22c5False + g\u22c5a \u22c5False \n",
        "                                                                              \n",
        "\n",
        "                                                                              \n",
        "                                         4    \u2020       3    \u2020           3      \n",
        "     \u2020                                 \u03bb\u2081 \u22c5\u03c9\u22c5a \u22c5a   \u03bb\u2081 \u22c5\u03c9\u22c5a \u22c5False   \u03bb\u2081 \u22c5\u03c9\u22c5a\u22c5F\n",
        "+ g\u22c5a \u22c5False + g\u22c5a\u22c5False + g\u22c5a\u22c5False + \u2500\u2500\u2500\u2500\u2500\u2500\u2500\u2500\u2500\u2500 - \u2500\u2500\u2500\u2500\u2500\u2500\u2500\u2500\u2500\u2500\u2500\u2500\u2500\u2500 - \u2500\u2500\u2500\u2500\u2500\u2500\u2500\u2500\u2500\n",
        "                                           4              2                2  \n",
        "\n",
        "                                                                              \n",
        "         2   2    \u2020       2       \u2020           2                  2            \n",
        "alse   \u03bb\u2081 \u22c5\u03bb\u2082 \u22c5\u03c9\u22c5a \u22c5a   \u03bb\u2081 \u22c5\u03bb\u2082\u22c5\u03c9\u22c5a \u22c5False   \u03bb\u2081 \u22c5\u03bb\u2082\u22c5\u03c9\u22c5a\u22c5False   \u03bb\u2081 \u22c5\u03c9     2    \n",
        "\u2500\u2500\u2500\u2500 - \u2500\u2500\u2500\u2500\u2500\u2500\u2500\u2500\u2500\u2500\u2500\u2500\u2500\u2500 - \u2500\u2500\u2500\u2500\u2500\u2500\u2500\u2500\u2500\u2500\u2500\u2500\u2500\u2500\u2500\u2500\u2500 - \u2500\u2500\u2500\u2500\u2500\u2500\u2500\u2500\u2500\u2500\u2500\u2500\u2500\u2500\u2500\u2500 + \u2500\u2500\u2500\u2500\u2500 + \u03bb\u2081 \u22c5\u03c9\u22c5a\n",
        "             2                  2                  2             2            \n",
        "\n",
        "                                                                              \n",
        "              2                2    \u2020              2                          \n",
        "\u2020           \u03bb\u2081 \u22c5\u03c9\u22c5False   \u03bb\u2081\u22c5\u03bb\u2082 \u22c5\u03c9\u22c5a \u22c5False   \u03bb\u2081\u22c5\u03bb\u2082 \u22c5\u03c9\u22c5a\u22c5False         \u2020      \n",
        " \u22c5a\u22c5False + \u2500\u2500\u2500\u2500\u2500\u2500\u2500\u2500\u2500\u2500\u2500 + \u2500\u2500\u2500\u2500\u2500\u2500\u2500\u2500\u2500\u2500\u2500\u2500\u2500\u2500\u2500\u2500\u2500 + \u2500\u2500\u2500\u2500\u2500\u2500\u2500\u2500\u2500\u2500\u2500\u2500\u2500\u2500\u2500\u2500 + \u03bb\u2081\u22c5\u03c9\u22c5a \u22c5False\n",
        "                 2                2                  2                        \n",
        "\n",
        "                                                                              \n",
        "                    4    \u2020       3    \u2020           3               2           \n",
        "                  \u03bb\u2082 \u22c5\u03c9\u22c5a \u22c5a   \u03bb\u2082 \u22c5\u03c9\u22c5a \u22c5False   \u03bb\u2082 \u22c5\u03c9\u22c5a\u22c5False   \u03bb\u2082 \u22c5\u03c9     2   \n",
        " + \u03bb\u2081\u22c5\u03c9\u22c5a\u22c5False + \u2500\u2500\u2500\u2500\u2500\u2500\u2500\u2500\u2500\u2500 + \u2500\u2500\u2500\u2500\u2500\u2500\u2500\u2500\u2500\u2500\u2500\u2500\u2500\u2500 + \u2500\u2500\u2500\u2500\u2500\u2500\u2500\u2500\u2500\u2500\u2500\u2500\u2500 + \u2500\u2500\u2500\u2500\u2500 - \u03bb\u2082 \u22c5\u03c9\u22c5\n",
        "                      4              2                2           2           \n",
        "\n",
        "                                                                \n",
        "               2                                                \n",
        " \u2020           \u03bb\u2082 \u22c5\u03c9\u22c5False         \u2020                           \u2020  \n",
        "a \u22c5a\u22c5False - \u2500\u2500\u2500\u2500\u2500\u2500\u2500\u2500\u2500\u2500\u2500 - \u03bb\u2082\u22c5\u03c9\u22c5a \u22c5False - \u03bb\u2082\u22c5\u03c9\u22c5a\u22c5False + \u03c9\u22c5a \u22c5a\n",
        "                  2                                             "
       ]
      }
     ],
     "prompt_number": 44
    },
    {
     "cell_type": "markdown",
     "metadata": {},
     "source": [
      "First, we only leave the terms with $\\lambda_1, \\lambda_2$ up to the second order."
     ]
    },
    {
     "cell_type": "code",
     "collapsed": false,
     "input": [
      "H2 = drop_terms_containing(H1.expand(), [l1**3, l1 * l2**2, l1**2 * l2, l2**3,\n",
      "                                         l1**4, l1**3 * l2, l1**2 * l2**2, l1 * l2**3,  l2**4]); H2"
     ],
     "language": "python",
     "metadata": {},
     "outputs": [
      {
       "latex": [
        "$$- \\frac{\\epsilon \\lambda_{1}^{2}}{2} - \\epsilon \\lambda_{1}^{2} {{a}^\\dagger} {a} {\\sigma_z} - \\frac{\\epsilon \\lambda_{1}^{2}}{2} {\\sigma_z} - \\epsilon \\lambda_{1} \\lambda_{2} \\left({{a}^\\dagger}\\right)^{2} {\\sigma_z} - \\epsilon \\lambda_{1} \\lambda_{2} \\left({a}\\right)^{2} {\\sigma_z} - \\epsilon \\lambda_{1} {{a}^\\dagger} {\\sigma_-} - \\epsilon \\lambda_{1} {a} {\\sigma_+} + \\frac{\\epsilon \\lambda_{2}^{2}}{2} - \\epsilon \\lambda_{2}^{2} {{a}^\\dagger} {a} {\\sigma_z} - \\frac{\\epsilon \\lambda_{2}^{2}}{2} {\\sigma_z} - \\epsilon \\lambda_{2} {{a}^\\dagger} {\\sigma_+} - \\epsilon \\lambda_{2} {a} {\\sigma_-} + \\frac{\\epsilon {\\sigma_z}}{2} - g \\lambda_{1}^{2} {{a}^\\dagger} \\left({a}\\right)^{2} {\\sigma_-} - 2 g \\lambda_{1}^{2} {{a}^\\dagger} \\left({a}\\right)^{2} {\\sigma_+} - 2 g \\lambda_{1}^{2} {{a}^\\dagger} {\\sigma_-} - g \\lambda_{1}^{2} {{a}^\\dagger} {\\sigma_+} - 2 g \\lambda_{1}^{2} \\left({{a}^\\dagger}\\right)^{2} {a} {\\sigma_-} - g \\lambda_{1}^{2} \\left({{a}^\\dagger}\\right)^{2} {a} {\\sigma_+} - g \\lambda_{1}^{2} \\left({{a}^\\dagger}\\right)^{3} {\\sigma_-} - g \\lambda_{1}^{2} {a} {\\sigma_-} - 2 g \\lambda_{1}^{2} {a} {\\sigma_+} - g \\lambda_{1}^{2} \\left({a}\\right)^{3} {\\sigma_+} - 3 g \\lambda_{1} \\lambda_{2} {{a}^\\dagger} \\left({a}\\right)^{2} {\\sigma_-} - 3 g \\lambda_{1} \\lambda_{2} {{a}^\\dagger} \\left({a}\\right)^{2} {\\sigma_+} - 3 g \\lambda_{1} \\lambda_{2} {{a}^\\dagger} {\\sigma_-} - 3 g \\lambda_{1} \\lambda_{2} {{a}^\\dagger} {\\sigma_+} - 3 g \\lambda_{1} \\lambda_{2} \\left({{a}^\\dagger}\\right)^{2} {a} {\\sigma_-} - 3 g \\lambda_{1} \\lambda_{2} \\left({{a}^\\dagger}\\right)^{2} {a} {\\sigma_+} - g \\lambda_{1} \\lambda_{2} \\left({{a}^\\dagger}\\right)^{3} {\\sigma_-} - g \\lambda_{1} \\lambda_{2} \\left({{a}^\\dagger}\\right)^{3} {\\sigma_+} - 3 g \\lambda_{1} \\lambda_{2} {a} {\\sigma_-} - 3 g \\lambda_{1} \\lambda_{2} {a} {\\sigma_+} - g \\lambda_{1} \\lambda_{2} \\left({a}\\right)^{3} {\\sigma_-} - g \\lambda_{1} \\lambda_{2} \\left({a}\\right)^{3} {\\sigma_+} + g \\lambda_{1} + 2 g \\lambda_{1} {{a}^\\dagger} {a} {\\sigma_z} + g \\lambda_{1} \\left({{a}^\\dagger}\\right)^{2} {\\sigma_z} + g \\lambda_{1} \\left({a}\\right)^{2} {\\sigma_z} + g \\lambda_{1} {\\sigma_z} - 2 g \\lambda_{2}^{2} {{a}^\\dagger} \\left({a}\\right)^{2} {\\sigma_-} - g \\lambda_{2}^{2} {{a}^\\dagger} \\left({a}\\right)^{2} {\\sigma_+} - g \\lambda_{2}^{2} {{a}^\\dagger} {\\sigma_-} - 2 g \\lambda_{2}^{2} {{a}^\\dagger} {\\sigma_+} - g \\lambda_{2}^{2} \\left({{a}^\\dagger}\\right)^{2} {a} {\\sigma_-} - 2 g \\lambda_{2}^{2} \\left({{a}^\\dagger}\\right)^{2} {a} {\\sigma_+} - g \\lambda_{2}^{2} \\left({{a}^\\dagger}\\right)^{3} {\\sigma_+} - 2 g \\lambda_{2}^{2} {a} {\\sigma_-} - g \\lambda_{2}^{2} {a} {\\sigma_+} - g \\lambda_{2}^{2} \\left({a}\\right)^{3} {\\sigma_-} - g \\lambda_{2} + 2 g \\lambda_{2} {{a}^\\dagger} {a} {\\sigma_z} + g \\lambda_{2} \\left({{a}^\\dagger}\\right)^{2} {\\sigma_z} + g \\lambda_{2} \\left({a}\\right)^{2} {\\sigma_z} + g \\lambda_{2} {\\sigma_z} + g {{a}^\\dagger} {\\sigma_-} + g {{a}^\\dagger} {\\sigma_+} + g {a} {\\sigma_-} + g {a} {\\sigma_+} + \\frac{\\lambda_{1}^{2} \\omega}{2} + \\lambda_{1}^{2} \\omega {{a}^\\dagger} {a} {\\sigma_z} + \\frac{\\lambda_{1}^{2} \\omega}{2} {\\sigma_z} + \\lambda_{1} \\omega {{a}^\\dagger} {\\sigma_-} + \\lambda_{1} \\omega {a} {\\sigma_+} + \\frac{\\lambda_{2}^{2} \\omega}{2} - \\lambda_{2}^{2} \\omega {{a}^\\dagger} {a} {\\sigma_z} - \\frac{\\lambda_{2}^{2} \\omega}{2} {\\sigma_z} - \\lambda_{2} \\omega {{a}^\\dagger} {\\sigma_+} - \\lambda_{2} \\omega {a} {\\sigma_-} + \\omega {{a}^\\dagger} {a}$$"
       ],
       "metadata": {},
       "output_type": "pyout",
       "png": "[encoded data removed]",
       "prompt_number": 45,
       "text": [
        "      2                          2                     2                      \n",
        "  \u03b5\u22c5\u03bb\u2081        2  \u2020           \u03b5\u22c5\u03bb\u2081 \u22c5False           \u239b \u2020\u239e                   2   \n",
        "- \u2500\u2500\u2500\u2500\u2500 - \u03b5\u22c5\u03bb\u2081 \u22c5a \u22c5a\u22c5False - \u2500\u2500\u2500\u2500\u2500\u2500\u2500\u2500\u2500\u2500\u2500 - \u03b5\u22c5\u03bb\u2081\u22c5\u03bb\u2082\u22c5\u239da \u23a0 \u22c5False - \u03b5\u22c5\u03bb\u2081\u22c5\u03bb\u2082\u22c5a \u22c5Fa\n",
        "    2                             2                                           \n",
        "\n",
        "                                         2                          2         \n",
        "            \u2020                        \u03b5\u22c5\u03bb\u2082        2  \u2020           \u03b5\u22c5\u03bb\u2082 \u22c5False   \n",
        "lse - \u03b5\u22c5\u03bb\u2081\u22c5a \u22c5False - \u03b5\u22c5\u03bb\u2081\u22c5a\u22c5False + \u2500\u2500\u2500\u2500\u2500 - \u03b5\u22c5\u03bb\u2082 \u22c5a \u22c5a\u22c5False - \u2500\u2500\u2500\u2500\u2500\u2500\u2500\u2500\u2500\u2500\u2500 - \n",
        "                                       2                             2        \n",
        "\n",
        "                                                                              \n",
        "      \u2020                        \u03b5\u22c5False       2  \u2020  2               2  \u2020  2    \n",
        "\u03b5\u22c5\u03bb\u2082\u22c5a \u22c5False - \u03b5\u22c5\u03bb\u2082\u22c5a\u22c5False + \u2500\u2500\u2500\u2500\u2500\u2500\u2500 - g\u22c5\u03bb\u2081 \u22c5a \u22c5a \u22c5False - 2\u22c5g\u22c5\u03bb\u2081 \u22c5a \u22c5a \u22c5Fal\n",
        "                                  2                                           \n",
        "\n",
        "                                                     2                     2  \n",
        "           2  \u2020             2  \u2020               2 \u239b \u2020\u239e                2 \u239b \u2020\u239e   \n",
        "se - 2\u22c5g\u22c5\u03bb\u2081 \u22c5a \u22c5False - g\u22c5\u03bb\u2081 \u22c5a \u22c5False - 2\u22c5g\u22c5\u03bb\u2081 \u22c5\u239da \u23a0 \u22c5a\u22c5False - g\u22c5\u03bb\u2081 \u22c5\u239da \u23a0 \u22c5a\n",
        "                                                                              \n",
        "\n",
        "                   3                                                          \n",
        "             2 \u239b \u2020\u239e              2                 2               2  3       \n",
        "\u22c5False - g\u22c5\u03bb\u2081 \u22c5\u239da \u23a0 \u22c5False - g\u22c5\u03bb\u2081 \u22c5a\u22c5False - 2\u22c5g\u22c5\u03bb\u2081 \u22c5a\u22c5False - g\u22c5\u03bb\u2081 \u22c5a \u22c5False \n",
        "                                                                              \n",
        "\n",
        "                                                                              \n",
        "             \u2020  2                    \u2020  2                    \u2020                \n",
        "- 3\u22c5g\u22c5\u03bb\u2081\u22c5\u03bb\u2082\u22c5a \u22c5a \u22c5False - 3\u22c5g\u22c5\u03bb\u2081\u22c5\u03bb\u2082\u22c5a \u22c5a \u22c5False - 3\u22c5g\u22c5\u03bb\u2081\u22c5\u03bb\u2082\u22c5a \u22c5False - 3\u22c5g\u22c5\u03bb\u2081\u22c5\n",
        "                                                                              \n",
        "\n",
        "                            2                         2                       \n",
        "    \u2020                   \u239b \u2020\u239e                      \u239b \u2020\u239e                    \u239b \u2020\u239e\n",
        "\u03bb\u2082\u22c5a \u22c5False - 3\u22c5g\u22c5\u03bb\u2081\u22c5\u03bb\u2082\u22c5\u239da \u23a0 \u22c5a\u22c5False - 3\u22c5g\u22c5\u03bb\u2081\u22c5\u03bb\u2082\u22c5\u239da \u23a0 \u22c5a\u22c5False - g\u22c5\u03bb\u2081\u22c5\u03bb\u2082\u22c5\u239da \u23a0\n",
        "                                                                              \n",
        "\n",
        "3                     3                                                       \n",
        "                  \u239b \u2020\u239e                                                        \n",
        " \u22c5False - g\u22c5\u03bb\u2081\u22c5\u03bb\u2082\u22c5\u239da \u23a0 \u22c5False - 3\u22c5g\u22c5\u03bb\u2081\u22c5\u03bb\u2082\u22c5a\u22c5False - 3\u22c5g\u22c5\u03bb\u2081\u22c5\u03bb\u2082\u22c5a\u22c5False - g\u22c5\u03bb\u2081\u22c5\u03bb\n",
        "                                                                              \n",
        "\n",
        "                                                                    2         \n",
        "   3                  3                        \u2020                \u239b \u2020\u239e          \n",
        "\u2082\u22c5a \u22c5False - g\u22c5\u03bb\u2081\u22c5\u03bb\u2082\u22c5a \u22c5False + g\u22c5\u03bb\u2081 + 2\u22c5g\u22c5\u03bb\u2081\u22c5a \u22c5a\u22c5False + g\u22c5\u03bb\u2081\u22c5\u239da \u23a0 \u22c5False + \n",
        "                                                                              \n",
        "\n",
        "                                                                              \n",
        "      2                            2  \u2020  2             2  \u2020  2             2  \n",
        "g\u22c5\u03bb\u2081\u22c5a \u22c5False + g\u22c5\u03bb\u2081\u22c5False - 2\u22c5g\u22c5\u03bb\u2082 \u22c5a \u22c5a \u22c5False - g\u22c5\u03bb\u2082 \u22c5a \u22c5a \u22c5False - g\u22c5\u03bb\u2082 \u22c5a\n",
        "                                                                              \n",
        "\n",
        "                                       2                       2              \n",
        "\u2020               2  \u2020             2 \u239b \u2020\u239e                  2 \u239b \u2020\u239e               \n",
        " \u22c5False - 2\u22c5g\u22c5\u03bb\u2082 \u22c5a \u22c5False - g\u22c5\u03bb\u2082 \u22c5\u239da \u23a0 \u22c5a\u22c5False - 2\u22c5g\u22c5\u03bb\u2082 \u22c5\u239da \u23a0 \u22c5a\u22c5False - g\u22c5\u03bb\n",
        "                                                                              \n",
        "\n",
        "       3                                                                      \n",
        " 2 \u239b \u2020\u239e                2               2               2  3                   \n",
        "\u2082 \u22c5\u239da \u23a0 \u22c5False - 2\u22c5g\u22c5\u03bb\u2082 \u22c5a\u22c5False - g\u22c5\u03bb\u2082 \u22c5a\u22c5False - g\u22c5\u03bb\u2082 \u22c5a \u22c5False - g\u22c5\u03bb\u2082 + 2\u22c5g\n",
        "                                                                              \n",
        "\n",
        "                          2                                                   \n",
        "     \u2020                \u239b \u2020\u239e                2                         \u2020         \n",
        "\u22c5\u03bb\u2082\u22c5a \u22c5a\u22c5False + g\u22c5\u03bb\u2082\u22c5\u239da \u23a0 \u22c5False + g\u22c5\u03bb\u2082\u22c5a \u22c5False + g\u22c5\u03bb\u2082\u22c5False + g\u22c5a \u22c5False + \n",
        "                                                                              \n",
        "\n",
        "                                       2                          2           \n",
        "   \u2020                                 \u03bb\u2081 \u22c5\u03c9     2    \u2020           \u03bb\u2081 \u22c5\u03c9\u22c5False   \n",
        "g\u22c5a \u22c5False + g\u22c5a\u22c5False + g\u22c5a\u22c5False + \u2500\u2500\u2500\u2500\u2500 + \u03bb\u2081 \u22c5\u03c9\u22c5a \u22c5a\u22c5False + \u2500\u2500\u2500\u2500\u2500\u2500\u2500\u2500\u2500\u2500\u2500 + \n",
        "                                       2                             2        \n",
        "\n",
        "                                 2                          2                 \n",
        "      \u2020                        \u03bb\u2082 \u22c5\u03c9     2    \u2020           \u03bb\u2082 \u22c5\u03c9\u22c5False         \n",
        "\u03bb\u2081\u22c5\u03c9\u22c5a \u22c5False + \u03bb\u2081\u22c5\u03c9\u22c5a\u22c5False + \u2500\u2500\u2500\u2500\u2500 - \u03bb\u2082 \u22c5\u03c9\u22c5a \u22c5a\u22c5False - \u2500\u2500\u2500\u2500\u2500\u2500\u2500\u2500\u2500\u2500\u2500 - \u03bb\u2082\u22c5\u03c9\u22c5a\n",
        "                                 2                             2              \n",
        "\n",
        "                               \n",
        "\u2020                           \u2020  \n",
        " \u22c5False - \u03bb\u2082\u22c5\u03c9\u22c5a\u22c5False + \u03c9\u22c5a \u22c5a\n",
        "                               "
       ]
      }
     ],
     "prompt_number": 45
    },
    {
     "cell_type": "code",
     "collapsed": false,
     "input": [
      "H3 = drop_c_number_terms(H2)\n",
      "H4 = qsimplify(H3)\n",
      "H4"
     ],
     "language": "python",
     "metadata": {},
     "outputs": [
      {
       "latex": [
        "$$- \\epsilon \\lambda_{1}^{2} {{a}^\\dagger} {a} {\\sigma_z} - \\frac{\\epsilon \\lambda_{1}^{2}}{2} {\\sigma_z} - \\epsilon \\lambda_{1} \\lambda_{2} \\left({{a}^\\dagger}\\right)^{2} {\\sigma_z} - \\epsilon \\lambda_{1} \\lambda_{2} \\left({a}\\right)^{2} {\\sigma_z} - \\epsilon \\lambda_{1} {{a}^\\dagger} {\\sigma_-} - \\epsilon \\lambda_{1} {a} {\\sigma_+} - \\epsilon \\lambda_{2}^{2} {{a}^\\dagger} {a} {\\sigma_z} - \\frac{\\epsilon \\lambda_{2}^{2}}{2} {\\sigma_z} - \\epsilon \\lambda_{2} {{a}^\\dagger} {\\sigma_+} - \\epsilon \\lambda_{2} {a} {\\sigma_-} + \\frac{\\epsilon {\\sigma_z}}{2} - g \\lambda_{1}^{2} {{a}^\\dagger} \\left({a}\\right)^{2} {\\sigma_-} - 2 g \\lambda_{1}^{2} {{a}^\\dagger} \\left({a}\\right)^{2} {\\sigma_+} - 2 g \\lambda_{1}^{2} {{a}^\\dagger} {\\sigma_-} - g \\lambda_{1}^{2} {{a}^\\dagger} {\\sigma_+} - 2 g \\lambda_{1}^{2} \\left({{a}^\\dagger}\\right)^{2} {a} {\\sigma_-} - g \\lambda_{1}^{2} \\left({{a}^\\dagger}\\right)^{2} {a} {\\sigma_+} - g \\lambda_{1}^{2} \\left({{a}^\\dagger}\\right)^{3} {\\sigma_-} - g \\lambda_{1}^{2} {a} {\\sigma_-} - 2 g \\lambda_{1}^{2} {a} {\\sigma_+} - g \\lambda_{1}^{2} \\left({a}\\right)^{3} {\\sigma_+} - 3 g \\lambda_{1} \\lambda_{2} {{a}^\\dagger} \\left({a}\\right)^{2} {\\sigma_-} - 3 g \\lambda_{1} \\lambda_{2} {{a}^\\dagger} \\left({a}\\right)^{2} {\\sigma_+} - 3 g \\lambda_{1} \\lambda_{2} {{a}^\\dagger} {\\sigma_-} - 3 g \\lambda_{1} \\lambda_{2} {{a}^\\dagger} {\\sigma_+} - 3 g \\lambda_{1} \\lambda_{2} \\left({{a}^\\dagger}\\right)^{2} {a} {\\sigma_-} - 3 g \\lambda_{1} \\lambda_{2} \\left({{a}^\\dagger}\\right)^{2} {a} {\\sigma_+} - g \\lambda_{1} \\lambda_{2} \\left({{a}^\\dagger}\\right)^{3} {\\sigma_-} - g \\lambda_{1} \\lambda_{2} \\left({{a}^\\dagger}\\right)^{3} {\\sigma_+} - 3 g \\lambda_{1} \\lambda_{2} {a} {\\sigma_-} - 3 g \\lambda_{1} \\lambda_{2} {a} {\\sigma_+} - g \\lambda_{1} \\lambda_{2} \\left({a}\\right)^{3} {\\sigma_-} - g \\lambda_{1} \\lambda_{2} \\left({a}\\right)^{3} {\\sigma_+} + 2 g \\lambda_{1} {{a}^\\dagger} {a} {\\sigma_z} + g \\lambda_{1} \\left({{a}^\\dagger}\\right)^{2} {\\sigma_z} + g \\lambda_{1} \\left({a}\\right)^{2} {\\sigma_z} + g \\lambda_{1} {\\sigma_z} - 2 g \\lambda_{2}^{2} {{a}^\\dagger} \\left({a}\\right)^{2} {\\sigma_-} - g \\lambda_{2}^{2} {{a}^\\dagger} \\left({a}\\right)^{2} {\\sigma_+} - g \\lambda_{2}^{2} {{a}^\\dagger} {\\sigma_-} - 2 g \\lambda_{2}^{2} {{a}^\\dagger} {\\sigma_+} - g \\lambda_{2}^{2} \\left({{a}^\\dagger}\\right)^{2} {a} {\\sigma_-} - 2 g \\lambda_{2}^{2} \\left({{a}^\\dagger}\\right)^{2} {a} {\\sigma_+} - g \\lambda_{2}^{2} \\left({{a}^\\dagger}\\right)^{3} {\\sigma_+} - 2 g \\lambda_{2}^{2} {a} {\\sigma_-} - g \\lambda_{2}^{2} {a} {\\sigma_+} - g \\lambda_{2}^{2} \\left({a}\\right)^{3} {\\sigma_-} + 2 g \\lambda_{2} {{a}^\\dagger} {a} {\\sigma_z} + g \\lambda_{2} \\left({{a}^\\dagger}\\right)^{2} {\\sigma_z} + g \\lambda_{2} \\left({a}\\right)^{2} {\\sigma_z} + g \\lambda_{2} {\\sigma_z} + g {{a}^\\dagger} {\\sigma_-} + g {{a}^\\dagger} {\\sigma_+} + g {a} {\\sigma_-} + g {a} {\\sigma_+} + \\lambda_{1}^{2} \\omega {{a}^\\dagger} {a} {\\sigma_z} + \\frac{\\lambda_{1}^{2} \\omega}{2} {\\sigma_z} + \\lambda_{1} \\omega {{a}^\\dagger} {\\sigma_-} + \\lambda_{1} \\omega {a} {\\sigma_+} - \\lambda_{2}^{2} \\omega {{a}^\\dagger} {a} {\\sigma_z} - \\frac{\\lambda_{2}^{2} \\omega}{2} {\\sigma_z} - \\lambda_{2} \\omega {{a}^\\dagger} {\\sigma_+} - \\lambda_{2} \\omega {a} {\\sigma_-} + \\omega {{a}^\\dagger} {a}$$"
       ],
       "metadata": {},
       "output_type": "pyout",
       "png": "[encoded data removed]",
       "prompt_number": 46,
       "text": [
        "                         2                     2                              \n",
        "      2  \u2020           \u03b5\u22c5\u03bb\u2081 \u22c5False           \u239b \u2020\u239e                   2           \n",
        "- \u03b5\u22c5\u03bb\u2081 \u22c5a \u22c5a\u22c5False - \u2500\u2500\u2500\u2500\u2500\u2500\u2500\u2500\u2500\u2500\u2500 - \u03b5\u22c5\u03bb\u2081\u22c5\u03bb\u2082\u22c5\u239da \u23a0 \u22c5False - \u03b5\u22c5\u03bb\u2081\u22c5\u03bb\u2082\u22c5a \u22c5False - \u03b5\u22c5\n",
        "                          2                                                   \n",
        "\n",
        "                                                    2                         \n",
        "    \u2020                            2  \u2020           \u03b5\u22c5\u03bb\u2082 \u22c5False         \u2020         \n",
        "\u03bb\u2081\u22c5a \u22c5False - \u03b5\u22c5\u03bb\u2081\u22c5a\u22c5False - \u03b5\u22c5\u03bb\u2082 \u22c5a \u22c5a\u22c5False - \u2500\u2500\u2500\u2500\u2500\u2500\u2500\u2500\u2500\u2500\u2500 - \u03b5\u22c5\u03bb\u2082\u22c5a \u22c5False - \n",
        "                                                     2                        \n",
        "\n",
        "                                                                              \n",
        "               \u03b5\u22c5False       2  \u2020  2               2  \u2020  2               2  \u2020 \n",
        "\u03b5\u22c5\u03bb\u2082\u22c5a\u22c5False + \u2500\u2500\u2500\u2500\u2500\u2500\u2500 - g\u22c5\u03bb\u2081 \u22c5a \u22c5a \u22c5False - 2\u22c5g\u22c5\u03bb\u2081 \u22c5a \u22c5a \u22c5False - 2\u22c5g\u22c5\u03bb\u2081 \u22c5a \u22c5\n",
        "                  2                                                           \n",
        "\n",
        "                                     2                     2                  \n",
        "            2  \u2020               2 \u239b \u2020\u239e                2 \u239b \u2020\u239e                2 \u239b\n",
        "False - g\u22c5\u03bb\u2081 \u22c5a \u22c5False - 2\u22c5g\u22c5\u03bb\u2081 \u22c5\u239da \u23a0 \u22c5a\u22c5False - g\u22c5\u03bb\u2081 \u22c5\u239da \u23a0 \u22c5a\u22c5False - g\u22c5\u03bb\u2081 \u22c5\u239d\n",
        "                                                                              \n",
        "\n",
        "   3                                                                          \n",
        " \u2020\u239e              2                 2               2  3                    \u2020  \n",
        "a \u23a0 \u22c5False - g\u22c5\u03bb\u2081 \u22c5a\u22c5False - 2\u22c5g\u22c5\u03bb\u2081 \u22c5a\u22c5False - g\u22c5\u03bb\u2081 \u22c5a \u22c5False - 3\u22c5g\u22c5\u03bb\u2081\u22c5\u03bb\u2082\u22c5a \u22c5a\n",
        "                                                                              \n",
        "\n",
        "                                                                              \n",
        "2                    \u2020  2                    \u2020                    \u2020           \n",
        " \u22c5False - 3\u22c5g\u22c5\u03bb\u2081\u22c5\u03bb\u2082\u22c5a \u22c5a \u22c5False - 3\u22c5g\u22c5\u03bb\u2081\u22c5\u03bb\u2082\u22c5a \u22c5False - 3\u22c5g\u22c5\u03bb\u2081\u22c5\u03bb\u2082\u22c5a \u22c5False - 3\u22c5\n",
        "                                                                              \n",
        "\n",
        "            2                         2                       3               \n",
        "        \u239b \u2020\u239e                      \u239b \u2020\u239e                    \u239b \u2020\u239e                \n",
        "g\u22c5\u03bb\u2081\u22c5\u03bb\u2082\u22c5\u239da \u23a0 \u22c5a\u22c5False - 3\u22c5g\u22c5\u03bb\u2081\u22c5\u03bb\u2082\u22c5\u239da \u23a0 \u22c5a\u22c5False - g\u22c5\u03bb\u2081\u22c5\u03bb\u2082\u22c5\u239da \u23a0 \u22c5False - g\u22c5\u03bb\u2081\u22c5\u03bb\n",
        "                                                                              \n",
        "\n",
        "      3                                                                       \n",
        "  \u239b \u2020\u239e                                                           3            \n",
        "\u2082\u22c5\u239da \u23a0 \u22c5False - 3\u22c5g\u22c5\u03bb\u2081\u22c5\u03bb\u2082\u22c5a\u22c5False - 3\u22c5g\u22c5\u03bb\u2081\u22c5\u03bb\u2082\u22c5a\u22c5False - g\u22c5\u03bb\u2081\u22c5\u03bb\u2082\u22c5a \u22c5False - g\u22c5\u03bb\n",
        "                                                                              \n",
        "\n",
        "                                             2                                \n",
        "      3                 \u2020                \u239b \u2020\u239e                2                \n",
        "\u2081\u22c5\u03bb\u2082\u22c5a \u22c5False + 2\u22c5g\u22c5\u03bb\u2081\u22c5a \u22c5a\u22c5False + g\u22c5\u03bb\u2081\u22c5\u239da \u23a0 \u22c5False + g\u22c5\u03bb\u2081\u22c5a \u22c5False + g\u22c5\u03bb\u2081\u22c5Fa\n",
        "                                                                              \n",
        "\n",
        "                                                                              \n",
        "            2  \u2020  2             2  \u2020  2             2  \u2020               2  \u2020   \n",
        "lse - 2\u22c5g\u22c5\u03bb\u2082 \u22c5a \u22c5a \u22c5False - g\u22c5\u03bb\u2082 \u22c5a \u22c5a \u22c5False - g\u22c5\u03bb\u2082 \u22c5a \u22c5False - 2\u22c5g\u22c5\u03bb\u2082 \u22c5a \u22c5Fa\n",
        "                                                                              \n",
        "\n",
        "                2                       2                     3               \n",
        "          2 \u239b \u2020\u239e                  2 \u239b \u2020\u239e                2 \u239b \u2020\u239e                \n",
        "lse - g\u22c5\u03bb\u2082 \u22c5\u239da \u23a0 \u22c5a\u22c5False - 2\u22c5g\u22c5\u03bb\u2082 \u22c5\u239da \u23a0 \u22c5a\u22c5False - g\u22c5\u03bb\u2082 \u22c5\u239da \u23a0 \u22c5False - 2\u22c5g\u22c5\u03bb\u2082\n",
        "                                                                              \n",
        "\n",
        "                                                                          2   \n",
        "2               2               2  3                 \u2020                \u239b \u2020\u239e    \n",
        " \u22c5a\u22c5False - g\u22c5\u03bb\u2082 \u22c5a\u22c5False - g\u22c5\u03bb\u2082 \u22c5a \u22c5False + 2\u22c5g\u22c5\u03bb\u2082\u22c5a \u22c5a\u22c5False + g\u22c5\u03bb\u2082\u22c5\u239da \u23a0 \u22c5Fa\n",
        "                                                                              \n",
        "\n",
        "                                                                              \n",
        "            2                         \u2020            \u2020                          \n",
        "lse + g\u22c5\u03bb\u2082\u22c5a \u22c5False + g\u22c5\u03bb\u2082\u22c5False + g\u22c5a \u22c5False + g\u22c5a \u22c5False + g\u22c5a\u22c5False + g\u22c5a\u22c5F\n",
        "                                                                              \n",
        "\n",
        "                            2                                                 \n",
        "         2    \u2020           \u03bb\u2081 \u22c5\u03c9\u22c5False         \u2020                          2    \n",
        "alse + \u03bb\u2081 \u22c5\u03c9\u22c5a \u22c5a\u22c5False + \u2500\u2500\u2500\u2500\u2500\u2500\u2500\u2500\u2500\u2500\u2500 + \u03bb\u2081\u22c5\u03c9\u22c5a \u22c5False + \u03bb\u2081\u22c5\u03c9\u22c5a\u22c5False - \u03bb\u2082 \u22c5\u03c9\u22c5a\n",
        "                               2                                              \n",
        "\n",
        "              2                                                \n",
        "\u2020           \u03bb\u2082 \u22c5\u03c9\u22c5False         \u2020                           \u2020  \n",
        " \u22c5a\u22c5False - \u2500\u2500\u2500\u2500\u2500\u2500\u2500\u2500\u2500\u2500\u2500 - \u03bb\u2082\u22c5\u03c9\u22c5a \u22c5False - \u03bb\u2082\u22c5\u03c9\u22c5a\u22c5False + \u03c9\u22c5a \u22c5a\n",
        "                 2                                             "
       ]
      }
     ],
     "prompt_number": 46
    },
    {
     "cell_type": "markdown",
     "metadata": {},
     "source": [
      "Move to a frame co-rotating with the qubit-oscillator system."
     ]
    },
    {
     "cell_type": "code",
     "collapsed": false,
     "input": [
      "H5 = hamiltonian_transformation(U1, H4)\n",
      "H6 = hamiltonian_transformation(U2, H5)\n",
      "\n",
      "H6"
     ],
     "language": "python",
     "metadata": {},
     "outputs": [
      {
       "latex": [
        "$$- \\epsilon \\lambda_{1}^{2} {{a}^\\dagger} {a} {\\sigma_z} - \\frac{\\epsilon \\lambda_{1}^{2}}{2} {\\sigma_z} - \\epsilon \\lambda_{1} \\lambda_{2} e^{2 i \\omega t} \\left({{a}^\\dagger}\\right)^{2} {\\sigma_z} - \\epsilon \\lambda_{1} \\lambda_{2} e^{- 2 i \\omega t} \\left({a}\\right)^{2} {\\sigma_z} - \\epsilon \\lambda_{1} e^{i \\epsilon t} e^{- i \\omega t} {a} {\\sigma_+} - \\epsilon \\lambda_{1} e^{- i \\epsilon t} e^{i \\omega t} {{a}^\\dagger} {\\sigma_-} - \\epsilon \\lambda_{2}^{2} {{a}^\\dagger} {a} {\\sigma_z} - \\frac{\\epsilon \\lambda_{2}^{2}}{2} {\\sigma_z} - \\epsilon \\lambda_{2} e^{i \\epsilon t} e^{i \\omega t} {{a}^\\dagger} {\\sigma_+} - \\epsilon \\lambda_{2} e^{- i \\epsilon t} e^{- i \\omega t} {a} {\\sigma_-} - g \\lambda_{1}^{2} e^{i \\epsilon t} e^{i \\omega t} {{a}^\\dagger} {\\sigma_+} - g \\lambda_{1}^{2} e^{i \\epsilon t} e^{i \\omega t} \\left({{a}^\\dagger}\\right)^{2} {a} {\\sigma_+} - 2 g \\lambda_{1}^{2} e^{i \\epsilon t} e^{- i \\omega t} {{a}^\\dagger} \\left({a}\\right)^{2} {\\sigma_+} - 2 g \\lambda_{1}^{2} e^{i \\epsilon t} e^{- i \\omega t} {a} {\\sigma_+} - g \\lambda_{1}^{2} e^{i \\epsilon t} e^{- 3 i \\omega t} \\left({a}\\right)^{3} {\\sigma_+} - g \\lambda_{1}^{2} e^{- i \\epsilon t} e^{3 i \\omega t} \\left({{a}^\\dagger}\\right)^{3} {\\sigma_-} - 2 g \\lambda_{1}^{2} e^{- i \\epsilon t} e^{i \\omega t} {{a}^\\dagger} {\\sigma_-} - 2 g \\lambda_{1}^{2} e^{- i \\epsilon t} e^{i \\omega t} \\left({{a}^\\dagger}\\right)^{2} {a} {\\sigma_-} - g \\lambda_{1}^{2} e^{- i \\epsilon t} e^{- i \\omega t} {{a}^\\dagger} \\left({a}\\right)^{2} {\\sigma_-} - g \\lambda_{1}^{2} e^{- i \\epsilon t} e^{- i \\omega t} {a} {\\sigma_-} - g \\lambda_{1} \\lambda_{2} e^{i \\epsilon t} e^{3 i \\omega t} \\left({{a}^\\dagger}\\right)^{3} {\\sigma_+} - 3 g \\lambda_{1} \\lambda_{2} e^{i \\epsilon t} e^{i \\omega t} {{a}^\\dagger} {\\sigma_+} - 3 g \\lambda_{1} \\lambda_{2} e^{i \\epsilon t} e^{i \\omega t} \\left({{a}^\\dagger}\\right)^{2} {a} {\\sigma_+} - 3 g \\lambda_{1} \\lambda_{2} e^{i \\epsilon t} e^{- i \\omega t} {{a}^\\dagger} \\left({a}\\right)^{2} {\\sigma_+} - 3 g \\lambda_{1} \\lambda_{2} e^{i \\epsilon t} e^{- i \\omega t} {a} {\\sigma_+} - g \\lambda_{1} \\lambda_{2} e^{i \\epsilon t} e^{- 3 i \\omega t} \\left({a}\\right)^{3} {\\sigma_+} - g \\lambda_{1} \\lambda_{2} e^{- i \\epsilon t} e^{3 i \\omega t} \\left({{a}^\\dagger}\\right)^{3} {\\sigma_-} - 3 g \\lambda_{1} \\lambda_{2} e^{- i \\epsilon t} e^{i \\omega t} {{a}^\\dagger} {\\sigma_-} - 3 g \\lambda_{1} \\lambda_{2} e^{- i \\epsilon t} e^{i \\omega t} \\left({{a}^\\dagger}\\right)^{2} {a} {\\sigma_-} - 3 g \\lambda_{1} \\lambda_{2} e^{- i \\epsilon t} e^{- i \\omega t} {{a}^\\dagger} \\left({a}\\right)^{2} {\\sigma_-} - 3 g \\lambda_{1} \\lambda_{2} e^{- i \\epsilon t} e^{- i \\omega t} {a} {\\sigma_-} - g \\lambda_{1} \\lambda_{2} e^{- i \\epsilon t} e^{- 3 i \\omega t} \\left({a}\\right)^{3} {\\sigma_-} + g \\lambda_{1} e^{2 i \\omega t} \\left({{a}^\\dagger}\\right)^{2} {\\sigma_z} + 2 g \\lambda_{1} {{a}^\\dagger} {a} {\\sigma_z} + g \\lambda_{1} {\\sigma_z} + g \\lambda_{1} e^{- 2 i \\omega t} \\left({a}\\right)^{2} {\\sigma_z} - g \\lambda_{2}^{2} e^{i \\epsilon t} e^{3 i \\omega t} \\left({{a}^\\dagger}\\right)^{3} {\\sigma_+} - 2 g \\lambda_{2}^{2} e^{i \\epsilon t} e^{i \\omega t} {{a}^\\dagger} {\\sigma_+} - 2 g \\lambda_{2}^{2} e^{i \\epsilon t} e^{i \\omega t} \\left({{a}^\\dagger}\\right)^{2} {a} {\\sigma_+} - g \\lambda_{2}^{2} e^{i \\epsilon t} e^{- i \\omega t} {{a}^\\dagger} \\left({a}\\right)^{2} {\\sigma_+} - g \\lambda_{2}^{2} e^{i \\epsilon t} e^{- i \\omega t} {a} {\\sigma_+} - g \\lambda_{2}^{2} e^{- i \\epsilon t} e^{i \\omega t} {{a}^\\dagger} {\\sigma_-} - g \\lambda_{2}^{2} e^{- i \\epsilon t} e^{i \\omega t} \\left({{a}^\\dagger}\\right)^{2} {a} {\\sigma_-} - 2 g \\lambda_{2}^{2} e^{- i \\epsilon t} e^{- i \\omega t} {{a}^\\dagger} \\left({a}\\right)^{2} {\\sigma_-} - 2 g \\lambda_{2}^{2} e^{- i \\epsilon t} e^{- i \\omega t} {a} {\\sigma_-} - g \\lambda_{2}^{2} e^{- i \\epsilon t} e^{- 3 i \\omega t} \\left({a}\\right)^{3} {\\sigma_-} + g \\lambda_{2} e^{2 i \\omega t} \\left({{a}^\\dagger}\\right)^{2} {\\sigma_z} + 2 g \\lambda_{2} {{a}^\\dagger} {a} {\\sigma_z} + g \\lambda_{2} {\\sigma_z} + g \\lambda_{2} e^{- 2 i \\omega t} \\left({a}\\right)^{2} {\\sigma_z} + g e^{i \\epsilon t} e^{i \\omega t} {{a}^\\dagger} {\\sigma_+} + g e^{i \\epsilon t} e^{- i \\omega t} {a} {\\sigma_+} + g e^{- i \\epsilon t} e^{i \\omega t} {{a}^\\dagger} {\\sigma_-} + g e^{- i \\epsilon t} e^{- i \\omega t} {a} {\\sigma_-} + \\lambda_{1}^{2} \\omega {{a}^\\dagger} {a} {\\sigma_z} + \\frac{\\lambda_{1}^{2} \\omega}{2} {\\sigma_z} + \\lambda_{1} \\omega e^{i \\epsilon t} e^{- i \\omega t} {a} {\\sigma_+} + \\lambda_{1} \\omega e^{- i \\epsilon t} e^{i \\omega t} {{a}^\\dagger} {\\sigma_-} - \\lambda_{2}^{2} \\omega {{a}^\\dagger} {a} {\\sigma_z} - \\frac{\\lambda_{2}^{2} \\omega}{2} {\\sigma_z} - \\lambda_{2} \\omega e^{i \\epsilon t} e^{i \\omega t} {{a}^\\dagger} {\\sigma_+} - \\lambda_{2} \\omega e^{- i \\epsilon t} e^{- i \\omega t} {a} {\\sigma_-}$$"
       ],
       "metadata": {},
       "output_type": "pyout",
       "png": "[encoded data removed]",
       "prompt_number": 47,
       "text": [
        "                         2                              2                     \n",
        "      2  \u2020           \u03b5\u22c5\u03bb\u2081 \u22c5False            2\u22c5\u2148\u22c5\u03c9\u22c5t \u239b \u2020\u239e                   -2\u22c5\n",
        "- \u03b5\u22c5\u03bb\u2081 \u22c5a \u22c5a\u22c5False - \u2500\u2500\u2500\u2500\u2500\u2500\u2500\u2500\u2500\u2500\u2500 - \u03b5\u22c5\u03bb\u2081\u22c5\u03bb\u2082\u22c5\u212f       \u22c5\u239da \u23a0 \u22c5False - \u03b5\u22c5\u03bb\u2081\u22c5\u03bb\u2082\u22c5\u212f   \n",
        "                          2                                                   \n",
        "\n",
        "                                                                              \n",
        "\u2148\u22c5\u03c9\u22c5t  2               \u2148\u22c5\u03b5\u22c5t  -\u2148\u22c5\u03c9\u22c5t                 -\u2148\u22c5\u03b5\u22c5t  \u2148\u22c5\u03c9\u22c5t  \u2020         \n",
        "     \u22c5a \u22c5False - \u03b5\u22c5\u03bb\u2081\u22c5\u212f     \u22c5\u212f      \u22c5a\u22c5False - \u03b5\u22c5\u03bb\u2081\u22c5\u212f      \u22c5\u212f     \u22c5a \u22c5False - \n",
        "                                                                              \n",
        "\n",
        "                       2                                                      \n",
        "    2  \u2020           \u03b5\u22c5\u03bb\u2082 \u22c5False         \u2148\u22c5\u03b5\u22c5t  \u2148\u22c5\u03c9\u22c5t  \u2020               -\u2148\u22c5\u03b5\u22c5t  -\n",
        "\u03b5\u22c5\u03bb\u2082 \u22c5a \u22c5a\u22c5False - \u2500\u2500\u2500\u2500\u2500\u2500\u2500\u2500\u2500\u2500\u2500 - \u03b5\u22c5\u03bb\u2082\u22c5\u212f     \u22c5\u212f     \u22c5a \u22c5False - \u03b5\u22c5\u03bb\u2082\u22c5\u212f      \u22c5\u212f \n",
        "                        2                                                     \n",
        "\n",
        "                                                                       2      \n",
        "\u2148\u22c5\u03c9\u22c5t               2  \u2148\u22c5\u03b5\u22c5t  \u2148\u22c5\u03c9\u22c5t  \u2020             2  \u2148\u22c5\u03b5\u22c5t  \u2148\u22c5\u03c9\u22c5t \u239b \u2020\u239e       \n",
        "     \u22c5a\u22c5False - g\u22c5\u03bb\u2081 \u22c5\u212f     \u22c5\u212f     \u22c5a \u22c5False - g\u22c5\u03bb\u2081 \u22c5\u212f     \u22c5\u212f     \u22c5\u239da \u23a0 \u22c5a\u22c5Fal\n",
        "                                                                              \n",
        "\n",
        "                                                                              \n",
        "           2  \u2148\u22c5\u03b5\u22c5t  -\u2148\u22c5\u03c9\u22c5t  \u2020  2               2  \u2148\u22c5\u03b5\u22c5t  -\u2148\u22c5\u03c9\u22c5t              \n",
        "se - 2\u22c5g\u22c5\u03bb\u2081 \u22c5\u212f     \u22c5\u212f      \u22c5a \u22c5a \u22c5False - 2\u22c5g\u22c5\u03bb\u2081 \u22c5\u212f     \u22c5\u212f      \u22c5a\u22c5False - g\u22c5\u03bb\n",
        "                                                                              \n",
        "\n",
        "                                                          3                   \n",
        " 2  \u2148\u22c5\u03b5\u22c5t  -3\u22c5\u2148\u22c5\u03c9\u22c5t  3             2  -\u2148\u22c5\u03b5\u22c5t  3\u22c5\u2148\u22c5\u03c9\u22c5t \u239b \u2020\u239e                2  -\n",
        "\u2081 \u22c5\u212f     \u22c5\u212f        \u22c5a \u22c5False - g\u22c5\u03bb\u2081 \u22c5\u212f      \u22c5\u212f       \u22c5\u239da \u23a0 \u22c5False - 2\u22c5g\u22c5\u03bb\u2081 \u22c5\u212f \n",
        "                                                                              \n",
        "\n",
        "                                                   2                          \n",
        "\u2148\u22c5\u03b5\u22c5t  \u2148\u22c5\u03c9\u22c5t  \u2020               2  -\u2148\u22c5\u03b5\u22c5t  \u2148\u22c5\u03c9\u22c5t \u239b \u2020\u239e                2  -\u2148\u22c5\u03b5\u22c5t  \n",
        "     \u22c5\u212f     \u22c5a \u22c5False - 2\u22c5g\u22c5\u03bb\u2081 \u22c5\u212f      \u22c5\u212f     \u22c5\u239da \u23a0 \u22c5a\u22c5False - g\u22c5\u03bb\u2081 \u22c5\u212f      \u22c5\u212f\n",
        "                                                                              \n",
        "\n",
        "                                                                              \n",
        "-\u2148\u22c5\u03c9\u22c5t  \u2020  2             2  -\u2148\u22c5\u03b5\u22c5t  -\u2148\u22c5\u03c9\u22c5t                    \u2148\u22c5\u03b5\u22c5t  3\u22c5\u2148\u22c5\u03c9\u22c5t \u239b\n",
        "      \u22c5a \u22c5a \u22c5False - g\u22c5\u03bb\u2081 \u22c5\u212f      \u22c5\u212f      \u22c5a\u22c5False - g\u22c5\u03bb\u2081\u22c5\u03bb\u2082\u22c5\u212f     \u22c5\u212f       \u22c5\u239d\n",
        "                                                                              \n",
        "\n",
        "   3                                                                        2 \n",
        " \u2020\u239e                     \u2148\u22c5\u03b5\u22c5t  \u2148\u22c5\u03c9\u22c5t  \u2020                    \u2148\u22c5\u03b5\u22c5t  \u2148\u22c5\u03c9\u22c5t \u239b \u2020\u239e  \n",
        "a \u23a0 \u22c5False - 3\u22c5g\u22c5\u03bb\u2081\u22c5\u03bb\u2082\u22c5\u212f     \u22c5\u212f     \u22c5a \u22c5False - 3\u22c5g\u22c5\u03bb\u2081\u22c5\u03bb\u2082\u22c5\u212f     \u22c5\u212f     \u22c5\u239da \u23a0 \u22c5\n",
        "                                                                              \n",
        "\n",
        "                                                                              \n",
        "                     \u2148\u22c5\u03b5\u22c5t  -\u2148\u22c5\u03c9\u22c5t  \u2020  2                    \u2148\u22c5\u03b5\u22c5t  -\u2148\u22c5\u03c9\u22c5t     \n",
        "a\u22c5False - 3\u22c5g\u22c5\u03bb\u2081\u22c5\u03bb\u2082\u22c5\u212f     \u22c5\u212f      \u22c5a \u22c5a \u22c5False - 3\u22c5g\u22c5\u03bb\u2081\u22c5\u03bb\u2082\u22c5\u212f     \u22c5\u212f      \u22c5a\u22c5Fa\n",
        "                                                                              \n",
        "\n",
        "                                                                       3      \n",
        "               \u2148\u22c5\u03b5\u22c5t  -3\u22c5\u2148\u22c5\u03c9\u22c5t  3                  -\u2148\u22c5\u03b5\u22c5t  3\u22c5\u2148\u22c5\u03c9\u22c5t \u239b \u2020\u239e       \n",
        "lse - g\u22c5\u03bb\u2081\u22c5\u03bb\u2082\u22c5\u212f     \u22c5\u212f        \u22c5a \u22c5False - g\u22c5\u03bb\u2081\u22c5\u03bb\u2082\u22c5\u212f      \u22c5\u212f       \u22c5\u239da \u23a0 \u22c5False\n",
        "                                                                              \n",
        "\n",
        "                                                                    2         \n",
        "              -\u2148\u22c5\u03b5\u22c5t  \u2148\u22c5\u03c9\u22c5t  \u2020                    -\u2148\u22c5\u03b5\u22c5t  \u2148\u22c5\u03c9\u22c5t \u239b \u2020\u239e          \n",
        " - 3\u22c5g\u22c5\u03bb\u2081\u22c5\u03bb\u2082\u22c5\u212f      \u22c5\u212f     \u22c5a \u22c5False - 3\u22c5g\u22c5\u03bb\u2081\u22c5\u03bb\u2082\u22c5\u212f      \u22c5\u212f     \u22c5\u239da \u23a0 \u22c5a\u22c5False \n",
        "                                                                              \n",
        "\n",
        "                                                                              \n",
        "             -\u2148\u22c5\u03b5\u22c5t  -\u2148\u22c5\u03c9\u22c5t  \u2020  2                    -\u2148\u22c5\u03b5\u22c5t  -\u2148\u22c5\u03c9\u22c5t           \n",
        "- 3\u22c5g\u22c5\u03bb\u2081\u22c5\u03bb\u2082\u22c5\u212f      \u22c5\u212f      \u22c5a \u22c5a \u22c5False - 3\u22c5g\u22c5\u03bb\u2081\u22c5\u03bb\u2082\u22c5\u212f      \u22c5\u212f      \u22c5a\u22c5False - \n",
        "                                                                              \n",
        "\n",
        "                                                       2                      \n",
        "         -\u2148\u22c5\u03b5\u22c5t  -3\u22c5\u2148\u22c5\u03c9\u22c5t  3               2\u22c5\u2148\u22c5\u03c9\u22c5t \u239b \u2020\u239e                  \u2020    \n",
        "g\u22c5\u03bb\u2081\u22c5\u03bb\u2082\u22c5\u212f      \u22c5\u212f        \u22c5a \u22c5False + g\u22c5\u03bb\u2081\u22c5\u212f       \u22c5\u239da \u23a0 \u22c5False + 2\u22c5g\u22c5\u03bb\u2081\u22c5a \u22c5a\u22c5F\n",
        "                                                                              \n",
        "\n",
        "                                                                        3     \n",
        "                          -2\u22c5\u2148\u22c5\u03c9\u22c5t  2             2  \u2148\u22c5\u03b5\u22c5t  3\u22c5\u2148\u22c5\u03c9\u22c5t \u239b \u2020\u239e      \n",
        "alse + g\u22c5\u03bb\u2081\u22c5False + g\u22c5\u03bb\u2081\u22c5\u212f        \u22c5a \u22c5False - g\u22c5\u03bb\u2082 \u22c5\u212f     \u22c5\u212f       \u22c5\u239da \u23a0 \u22c5Fals\n",
        "                                                                              \n",
        "\n",
        "                                                               2              \n",
        "          2  \u2148\u22c5\u03b5\u22c5t  \u2148\u22c5\u03c9\u22c5t  \u2020               2  \u2148\u22c5\u03b5\u22c5t  \u2148\u22c5\u03c9\u22c5t \u239b \u2020\u239e               \n",
        "e - 2\u22c5g\u22c5\u03bb\u2082 \u22c5\u212f     \u22c5\u212f     \u22c5a \u22c5False - 2\u22c5g\u22c5\u03bb\u2082 \u22c5\u212f     \u22c5\u212f     \u22c5\u239da \u23a0 \u22c5a\u22c5False - g\u22c5\u03bb\n",
        "                                                                              \n",
        "\n",
        "                                                                              \n",
        " 2  \u2148\u22c5\u03b5\u22c5t  -\u2148\u22c5\u03c9\u22c5t  \u2020  2             2  \u2148\u22c5\u03b5\u22c5t  -\u2148\u22c5\u03c9\u22c5t               2  -\u2148\u22c5\u03b5\u22c5t  \n",
        "\u2082 \u22c5\u212f     \u22c5\u212f      \u22c5a \u22c5a \u22c5False - g\u22c5\u03bb\u2082 \u22c5\u212f     \u22c5\u212f      \u22c5a\u22c5False - g\u22c5\u03bb\u2082 \u22c5\u212f      \u22c5\u212f\n",
        "                                                                              \n",
        "\n",
        "                                          2                                   \n",
        "\u2148\u22c5\u03c9\u22c5t  \u2020             2  -\u2148\u22c5\u03b5\u22c5t  \u2148\u22c5\u03c9\u22c5t \u239b \u2020\u239e                  2  -\u2148\u22c5\u03b5\u22c5t  -\u2148\u22c5\u03c9\u22c5t \n",
        "     \u22c5a \u22c5False - g\u22c5\u03bb\u2082 \u22c5\u212f      \u22c5\u212f     \u22c5\u239da \u23a0 \u22c5a\u22c5False - 2\u22c5g\u22c5\u03bb\u2082 \u22c5\u212f      \u22c5\u212f      \u22c5\n",
        "                                                                              \n",
        "\n",
        "                                                                              \n",
        " \u2020  2               2  -\u2148\u22c5\u03b5\u22c5t  -\u2148\u22c5\u03c9\u22c5t               2  -\u2148\u22c5\u03b5\u22c5t  -3\u22c5\u2148\u22c5\u03c9\u22c5t  3    \n",
        "a \u22c5a \u22c5False - 2\u22c5g\u22c5\u03bb\u2082 \u22c5\u212f      \u22c5\u212f      \u22c5a\u22c5False - g\u22c5\u03bb\u2082 \u22c5\u212f      \u22c5\u212f        \u22c5a \u22c5Fal\n",
        "                                                                              \n",
        "\n",
        "                       2                                                      \n",
        "           2\u22c5\u2148\u22c5\u03c9\u22c5t \u239b \u2020\u239e                  \u2020                              -2\u22c5\u2148\u22c5\u03c9\n",
        "se + g\u22c5\u03bb\u2082\u22c5\u212f       \u22c5\u239da \u23a0 \u22c5False + 2\u22c5g\u22c5\u03bb\u2082\u22c5a \u22c5a\u22c5False + g\u22c5\u03bb\u2082\u22c5False + g\u22c5\u03bb\u2082\u22c5\u212f      \n",
        "                                                                              \n",
        "\n",
        "                                                                              \n",
        "\u22c5t  2            \u2148\u22c5\u03b5\u22c5t  \u2148\u22c5\u03c9\u22c5t  \u2020            \u2148\u22c5\u03b5\u22c5t  -\u2148\u22c5\u03c9\u22c5t              -\u2148\u22c5\u03b5\u22c5t \n",
        "  \u22c5a \u22c5False + g\u22c5\u212f     \u22c5\u212f     \u22c5a \u22c5False + g\u22c5\u212f     \u22c5\u212f      \u22c5a\u22c5False + g\u22c5\u212f      \u22c5\n",
        "                                                                              \n",
        "\n",
        "                                                                   2          \n",
        " \u2148\u22c5\u03c9\u22c5t  \u2020            -\u2148\u22c5\u03b5\u22c5t  -\u2148\u22c5\u03c9\u22c5t             2    \u2020           \u03bb\u2081 \u22c5\u03c9\u22c5False  \n",
        "\u212f     \u22c5a \u22c5False + g\u22c5\u212f      \u22c5\u212f      \u22c5a\u22c5False + \u03bb\u2081 \u22c5\u03c9\u22c5a \u22c5a\u22c5False + \u2500\u2500\u2500\u2500\u2500\u2500\u2500\u2500\u2500\u2500\u2500 +\n",
        "                                                                      2       \n",
        "\n",
        "                                                                              \n",
        "       \u2148\u22c5\u03b5\u22c5t  -\u2148\u22c5\u03c9\u22c5t                 -\u2148\u22c5\u03b5\u22c5t  \u2148\u22c5\u03c9\u22c5t  \u2020           2    \u2020        \n",
        " \u03bb\u2081\u22c5\u03c9\u22c5\u212f     \u22c5\u212f      \u22c5a\u22c5False + \u03bb\u2081\u22c5\u03c9\u22c5\u212f      \u22c5\u212f     \u22c5a \u22c5False - \u03bb\u2082 \u22c5\u03c9\u22c5a \u22c5a\u22c5False\n",
        "                                                                              \n",
        "\n",
        "     2                                                                     \n",
        "   \u03bb\u2082 \u22c5\u03c9\u22c5False         \u2148\u22c5\u03b5\u22c5t  \u2148\u22c5\u03c9\u22c5t  \u2020               -\u2148\u22c5\u03b5\u22c5t  -\u2148\u22c5\u03c9\u22c5t        \n",
        " - \u2500\u2500\u2500\u2500\u2500\u2500\u2500\u2500\u2500\u2500\u2500 - \u03bb\u2082\u22c5\u03c9\u22c5\u212f     \u22c5\u212f     \u22c5a \u22c5False - \u03bb\u2082\u22c5\u03c9\u22c5\u212f      \u22c5\u212f      \u22c5a\u22c5False\n",
        "        2                                                                  "
       ]
      }
     ],
     "prompt_number": 47
    },
    {
     "cell_type": "code",
     "collapsed": false,
     "input": [
      "H6 = powsimp(H6)\n",
      "H7 = simplify_exp(H6)\n",
      "\n",
      "H7"
     ],
     "language": "python",
     "metadata": {},
     "outputs": [
      {
       "latex": [
        "$$- \\epsilon \\lambda_{1}^{2} {{a}^\\dagger} {a} {\\sigma_z} - \\frac{\\epsilon \\lambda_{1}^{2}}{2} {\\sigma_z} - \\epsilon \\lambda_{1} \\lambda_{2} e^{2 i \\omega t} \\left({{a}^\\dagger}\\right)^{2} {\\sigma_z} - \\epsilon \\lambda_{1} \\lambda_{2} e^{- 2 i \\omega t} \\left({a}\\right)^{2} {\\sigma_z} - \\epsilon \\lambda_{1} e^{i t \\left(- \\epsilon + \\omega\\right)} {{a}^\\dagger} {\\sigma_-} - \\epsilon \\lambda_{1} e^{i t \\left(\\epsilon - \\omega\\right)} {a} {\\sigma_+} - \\epsilon \\lambda_{2}^{2} {{a}^\\dagger} {a} {\\sigma_z} - \\frac{\\epsilon \\lambda_{2}^{2}}{2} {\\sigma_z} - \\epsilon \\lambda_{2} e^{i t \\left(\\epsilon + \\omega\\right)} {{a}^\\dagger} {\\sigma_+} - \\epsilon \\lambda_{2} e^{- i t \\left(\\epsilon + \\omega\\right)} {a} {\\sigma_-} - 2 g \\lambda_{1}^{2} e^{i t \\left(- \\epsilon + \\omega\\right)} {{a}^\\dagger} {\\sigma_-} - 2 g \\lambda_{1}^{2} e^{i t \\left(- \\epsilon + \\omega\\right)} \\left({{a}^\\dagger}\\right)^{2} {a} {\\sigma_-} - g \\lambda_{1}^{2} e^{i t \\left(- \\epsilon + 3 \\omega\\right)} \\left({{a}^\\dagger}\\right)^{3} {\\sigma_-} - g \\lambda_{1}^{2} e^{i t \\left(\\epsilon - 3 \\omega\\right)} \\left({a}\\right)^{3} {\\sigma_+} - 2 g \\lambda_{1}^{2} e^{i t \\left(\\epsilon - \\omega\\right)} {{a}^\\dagger} \\left({a}\\right)^{2} {\\sigma_+} - 2 g \\lambda_{1}^{2} e^{i t \\left(\\epsilon - \\omega\\right)} {a} {\\sigma_+} - g \\lambda_{1}^{2} e^{i t \\left(\\epsilon + \\omega\\right)} {{a}^\\dagger} {\\sigma_+} - g \\lambda_{1}^{2} e^{i t \\left(\\epsilon + \\omega\\right)} \\left({{a}^\\dagger}\\right)^{2} {a} {\\sigma_+} - g \\lambda_{1}^{2} e^{- i t \\left(\\epsilon + \\omega\\right)} {{a}^\\dagger} \\left({a}\\right)^{2} {\\sigma_-} - g \\lambda_{1}^{2} e^{- i t \\left(\\epsilon + \\omega\\right)} {a} {\\sigma_-} - 3 g \\lambda_{1} \\lambda_{2} e^{i t \\left(- \\epsilon + \\omega\\right)} {{a}^\\dagger} {\\sigma_-} - 3 g \\lambda_{1} \\lambda_{2} e^{i t \\left(- \\epsilon + \\omega\\right)} \\left({{a}^\\dagger}\\right)^{2} {a} {\\sigma_-} - g \\lambda_{1} \\lambda_{2} e^{i t \\left(- \\epsilon + 3 \\omega\\right)} \\left({{a}^\\dagger}\\right)^{3} {\\sigma_-} - g \\lambda_{1} \\lambda_{2} e^{i t \\left(\\epsilon - 3 \\omega\\right)} \\left({a}\\right)^{3} {\\sigma_+} - 3 g \\lambda_{1} \\lambda_{2} e^{i t \\left(\\epsilon - \\omega\\right)} {{a}^\\dagger} \\left({a}\\right)^{2} {\\sigma_+} - 3 g \\lambda_{1} \\lambda_{2} e^{i t \\left(\\epsilon - \\omega\\right)} {a} {\\sigma_+} - 3 g \\lambda_{1} \\lambda_{2} e^{i t \\left(\\epsilon + \\omega\\right)} {{a}^\\dagger} {\\sigma_+} - 3 g \\lambda_{1} \\lambda_{2} e^{i t \\left(\\epsilon + \\omega\\right)} \\left({{a}^\\dagger}\\right)^{2} {a} {\\sigma_+} - g \\lambda_{1} \\lambda_{2} e^{i t \\left(\\epsilon + 3 \\omega\\right)} \\left({{a}^\\dagger}\\right)^{3} {\\sigma_+} - g \\lambda_{1} \\lambda_{2} e^{- i t \\left(\\epsilon + 3 \\omega\\right)} \\left({a}\\right)^{3} {\\sigma_-} - 3 g \\lambda_{1} \\lambda_{2} e^{- i t \\left(\\epsilon + \\omega\\right)} {{a}^\\dagger} \\left({a}\\right)^{2} {\\sigma_-} - 3 g \\lambda_{1} \\lambda_{2} e^{- i t \\left(\\epsilon + \\omega\\right)} {a} {\\sigma_-} + g \\lambda_{1} e^{2 i \\omega t} \\left({{a}^\\dagger}\\right)^{2} {\\sigma_z} + 2 g \\lambda_{1} {{a}^\\dagger} {a} {\\sigma_z} + g \\lambda_{1} {\\sigma_z} + g \\lambda_{1} e^{- 2 i \\omega t} \\left({a}\\right)^{2} {\\sigma_z} - g \\lambda_{2}^{2} e^{i t \\left(- \\epsilon + \\omega\\right)} {{a}^\\dagger} {\\sigma_-} - g \\lambda_{2}^{2} e^{i t \\left(- \\epsilon + \\omega\\right)} \\left({{a}^\\dagger}\\right)^{2} {a} {\\sigma_-} - g \\lambda_{2}^{2} e^{i t \\left(\\epsilon - \\omega\\right)} {{a}^\\dagger} \\left({a}\\right)^{2} {\\sigma_+} - g \\lambda_{2}^{2} e^{i t \\left(\\epsilon - \\omega\\right)} {a} {\\sigma_+} - 2 g \\lambda_{2}^{2} e^{i t \\left(\\epsilon + \\omega\\right)} {{a}^\\dagger} {\\sigma_+} - 2 g \\lambda_{2}^{2} e^{i t \\left(\\epsilon + \\omega\\right)} \\left({{a}^\\dagger}\\right)^{2} {a} {\\sigma_+} - g \\lambda_{2}^{2} e^{i t \\left(\\epsilon + 3 \\omega\\right)} \\left({{a}^\\dagger}\\right)^{3} {\\sigma_+} - g \\lambda_{2}^{2} e^{- i t \\left(\\epsilon + 3 \\omega\\right)} \\left({a}\\right)^{3} {\\sigma_-} - 2 g \\lambda_{2}^{2} e^{- i t \\left(\\epsilon + \\omega\\right)} {{a}^\\dagger} \\left({a}\\right)^{2} {\\sigma_-} - 2 g \\lambda_{2}^{2} e^{- i t \\left(\\epsilon + \\omega\\right)} {a} {\\sigma_-} + g \\lambda_{2} e^{2 i \\omega t} \\left({{a}^\\dagger}\\right)^{2} {\\sigma_z} + 2 g \\lambda_{2} {{a}^\\dagger} {a} {\\sigma_z} + g \\lambda_{2} {\\sigma_z} + g \\lambda_{2} e^{- 2 i \\omega t} \\left({a}\\right)^{2} {\\sigma_z} + g e^{i t \\left(- \\epsilon + \\omega\\right)} {{a}^\\dagger} {\\sigma_-} + g e^{i t \\left(\\epsilon - \\omega\\right)} {a} {\\sigma_+} + g e^{i t \\left(\\epsilon + \\omega\\right)} {{a}^\\dagger} {\\sigma_+} + g e^{- i t \\left(\\epsilon + \\omega\\right)} {a} {\\sigma_-} + \\lambda_{1}^{2} \\omega {{a}^\\dagger} {a} {\\sigma_z} + \\frac{\\lambda_{1}^{2} \\omega}{2} {\\sigma_z} + \\lambda_{1} \\omega e^{i t \\left(- \\epsilon + \\omega\\right)} {{a}^\\dagger} {\\sigma_-} + \\lambda_{1} \\omega e^{i t \\left(\\epsilon - \\omega\\right)} {a} {\\sigma_+} - \\lambda_{2}^{2} \\omega {{a}^\\dagger} {a} {\\sigma_z} - \\frac{\\lambda_{2}^{2} \\omega}{2} {\\sigma_z} - \\lambda_{2} \\omega e^{i t \\left(\\epsilon + \\omega\\right)} {{a}^\\dagger} {\\sigma_+} - \\lambda_{2} \\omega e^{- i t \\left(\\epsilon + \\omega\\right)} {a} {\\sigma_-}$$"
       ],
       "metadata": {},
       "output_type": "pyout",
       "png": "[encoded data removed]",
       "prompt_number": 48,
       "text": [
        "                         2                              2                     \n",
        "      2  \u2020           \u03b5\u22c5\u03bb\u2081 \u22c5False            2\u22c5\u2148\u22c5\u03c9\u22c5t \u239b \u2020\u239e                   -2\u22c5\n",
        "- \u03b5\u22c5\u03bb\u2081 \u22c5a \u22c5a\u22c5False - \u2500\u2500\u2500\u2500\u2500\u2500\u2500\u2500\u2500\u2500\u2500 - \u03b5\u22c5\u03bb\u2081\u22c5\u03bb\u2082\u22c5\u212f       \u22c5\u239da \u23a0 \u22c5False - \u03b5\u22c5\u03bb\u2081\u22c5\u03bb\u2082\u22c5\u212f   \n",
        "                          2                                                   \n",
        "\n",
        "                                                                              \n",
        "\u2148\u22c5\u03c9\u22c5t  2               \u2148\u22c5t\u22c5(-\u03b5 + \u03c9)  \u2020               \u2148\u22c5t\u22c5(\u03b5 - \u03c9)              \n",
        "     \u22c5a \u22c5False - \u03b5\u22c5\u03bb\u2081\u22c5\u212f            \u22c5a \u22c5False - \u03b5\u22c5\u03bb\u2081\u22c5\u212f           \u22c5a\u22c5False - \u03b5\u22c5\u03bb\n",
        "                                                                              \n",
        "\n",
        "                    2                                                         \n",
        " 2  \u2020           \u03b5\u22c5\u03bb\u2082 \u22c5False         \u2148\u22c5t\u22c5(\u03b5 + \u03c9)  \u2020               -\u2148\u22c5t\u22c5(\u03b5 + \u03c9) \n",
        "\u2082 \u22c5a \u22c5a\u22c5False - \u2500\u2500\u2500\u2500\u2500\u2500\u2500\u2500\u2500\u2500\u2500 - \u03b5\u22c5\u03bb\u2082\u22c5\u212f           \u22c5a \u22c5False - \u03b5\u22c5\u03bb\u2082\u22c5\u212f            \u22c5\n",
        "                     2                                                        \n",
        "\n",
        "                                                                     2        \n",
        "                2  \u2148\u22c5t\u22c5(-\u03b5 + \u03c9)  \u2020               2  \u2148\u22c5t\u22c5(-\u03b5 + \u03c9) \u239b \u2020\u239e         \n",
        "a\u22c5False - 2\u22c5g\u22c5\u03bb\u2081 \u22c5\u212f            \u22c5a \u22c5False - 2\u22c5g\u22c5\u03bb\u2081 \u22c5\u212f            \u22c5\u239da \u23a0 \u22c5a\u22c5False\n",
        "                                                                              \n",
        "\n",
        "                             3                                                \n",
        "       2  \u2148\u22c5t\u22c5(-\u03b5 + 3\u22c5\u03c9) \u239b \u2020\u239e              2  \u2148\u22c5t\u22c5(\u03b5 - 3\u22c5\u03c9)  3               2\n",
        " - g\u22c5\u03bb\u2081 \u22c5\u212f              \u22c5\u239da \u23a0 \u22c5False - g\u22c5\u03bb\u2081 \u22c5\u212f             \u22c5a \u22c5False - 2\u22c5g\u22c5\u03bb\u2081 \n",
        "                                                                              \n",
        "\n",
        "                                                                              \n",
        "  \u2148\u22c5t\u22c5(\u03b5 - \u03c9)  \u2020  2               2  \u2148\u22c5t\u22c5(\u03b5 - \u03c9)               2  \u2148\u22c5t\u22c5(\u03b5 + \u03c9) \n",
        "\u22c5\u212f           \u22c5a \u22c5a \u22c5False - 2\u22c5g\u22c5\u03bb\u2081 \u22c5\u212f           \u22c5a\u22c5False - g\u22c5\u03bb\u2081 \u22c5\u212f           \u22c5\n",
        "                                                                              \n",
        "\n",
        "                                  2                                           \n",
        " \u2020             2  \u2148\u22c5t\u22c5(\u03b5 + \u03c9) \u239b \u2020\u239e                2  -\u2148\u22c5t\u22c5(\u03b5 + \u03c9)  \u2020  2       \n",
        "a \u22c5False - g\u22c5\u03bb\u2081 \u22c5\u212f           \u22c5\u239da \u23a0 \u22c5a\u22c5False - g\u22c5\u03bb\u2081 \u22c5\u212f            \u22c5a \u22c5a \u22c5False \n",
        "                                                                              \n",
        "\n",
        "                                                                              \n",
        "      2  -\u2148\u22c5t\u22c5(\u03b5 + \u03c9)                      \u2148\u22c5t\u22c5(-\u03b5 + \u03c9)  \u2020                    \n",
        "- g\u22c5\u03bb\u2081 \u22c5\u212f            \u22c5a\u22c5False - 3\u22c5g\u22c5\u03bb\u2081\u22c5\u03bb\u2082\u22c5\u212f            \u22c5a \u22c5False - 3\u22c5g\u22c5\u03bb\u2081\u22c5\u03bb\u2082\u22c5\u212f\n",
        "                                                                              \n",
        "\n",
        "                 2                                       3                    \n",
        "\u2148\u22c5t\u22c5(-\u03b5 + \u03c9) \u239b \u2020\u239e                     \u2148\u22c5t\u22c5(-\u03b5 + 3\u22c5\u03c9) \u239b \u2020\u239e                   \u2148\u22c5\n",
        "            \u22c5\u239da \u23a0 \u22c5a\u22c5False - g\u22c5\u03bb\u2081\u22c5\u03bb\u2082\u22c5\u212f              \u22c5\u239da \u23a0 \u22c5False - g\u22c5\u03bb\u2081\u22c5\u03bb\u2082\u22c5\u212f  \n",
        "                                                                              \n",
        "\n",
        "                                                                              \n",
        "t\u22c5(\u03b5 - 3\u22c5\u03c9)  3                    \u2148\u22c5t\u22c5(\u03b5 - \u03c9)  \u2020  2                    \u2148\u22c5t\u22c5(\u03b5 \n",
        "           \u22c5a \u22c5False - 3\u22c5g\u22c5\u03bb\u2081\u22c5\u03bb\u2082\u22c5\u212f           \u22c5a \u22c5a \u22c5False - 3\u22c5g\u22c5\u03bb\u2081\u22c5\u03bb\u2082\u22c5\u212f       \n",
        "                                                                              \n",
        "\n",
        "                                                                            2 \n",
        "- \u03c9)                      \u2148\u22c5t\u22c5(\u03b5 + \u03c9)  \u2020                    \u2148\u22c5t\u22c5(\u03b5 + \u03c9) \u239b \u2020\u239e  \n",
        "    \u22c5a\u22c5False - 3\u22c5g\u22c5\u03bb\u2081\u22c5\u03bb\u2082\u22c5\u212f           \u22c5a \u22c5False - 3\u22c5g\u22c5\u03bb\u2081\u22c5\u03bb\u2082\u22c5\u212f           \u22c5\u239da \u23a0 \u22c5\n",
        "                                                                              \n",
        "\n",
        "                                     3                                        \n",
        "                   \u2148\u22c5t\u22c5(\u03b5 + 3\u22c5\u03c9) \u239b \u2020\u239e                   -\u2148\u22c5t\u22c5(\u03b5 + 3\u22c5\u03c9)  3     \n",
        "a\u22c5False - g\u22c5\u03bb\u2081\u22c5\u03bb\u2082\u22c5\u212f             \u22c5\u239da \u23a0 \u22c5False - g\u22c5\u03bb\u2081\u22c5\u03bb\u2082\u22c5\u212f              \u22c5a \u22c5Fals\n",
        "                                                                              \n",
        "\n",
        "                                                                              \n",
        "               -\u2148\u22c5t\u22c5(\u03b5 + \u03c9)  \u2020  2                    -\u2148\u22c5t\u22c5(\u03b5 + \u03c9)             \n",
        "e - 3\u22c5g\u22c5\u03bb\u2081\u22c5\u03bb\u2082\u22c5\u212f            \u22c5a \u22c5a \u22c5False - 3\u22c5g\u22c5\u03bb\u2081\u22c5\u03bb\u2082\u22c5\u212f            \u22c5a\u22c5False + g\u22c5\n",
        "                                                                              \n",
        "\n",
        "                2                                                             \n",
        "    2\u22c5\u2148\u22c5\u03c9\u22c5t \u239b \u2020\u239e                  \u2020                              -2\u22c5\u2148\u22c5\u03c9\u22c5t  2  \n",
        "\u03bb\u2081\u22c5\u212f       \u22c5\u239da \u23a0 \u22c5False + 2\u22c5g\u22c5\u03bb\u2081\u22c5a \u22c5a\u22c5False + g\u22c5\u03bb\u2081\u22c5False + g\u22c5\u03bb\u2081\u22c5\u212f        \u22c5a \u22c5F\n",
        "                                                                              \n",
        "\n",
        "                                                              2               \n",
        "           2  \u2148\u22c5t\u22c5(-\u03b5 + \u03c9)  \u2020             2  \u2148\u22c5t\u22c5(-\u03b5 + \u03c9) \u239b \u2020\u239e                \n",
        "alse - g\u22c5\u03bb\u2082 \u22c5\u212f            \u22c5a \u22c5False - g\u22c5\u03bb\u2082 \u22c5\u212f            \u22c5\u239da \u23a0 \u22c5a\u22c5False - g\u22c5\u03bb\u2082\n",
        "                                                                              \n",
        "\n",
        "                                                                              \n",
        "2  \u2148\u22c5t\u22c5(\u03b5 - \u03c9)  \u2020  2             2  \u2148\u22c5t\u22c5(\u03b5 - \u03c9)                 2  \u2148\u22c5t\u22c5(\u03b5 + \u03c9)\n",
        " \u22c5\u212f           \u22c5a \u22c5a \u22c5False - g\u22c5\u03bb\u2082 \u22c5\u212f           \u22c5a\u22c5False - 2\u22c5g\u22c5\u03bb\u2082 \u22c5\u212f           \n",
        "                                                                              \n",
        "\n",
        "                                     2                                    3   \n",
        "  \u2020               2  \u2148\u22c5t\u22c5(\u03b5 + \u03c9) \u239b \u2020\u239e                2  \u2148\u22c5t\u22c5(\u03b5 + 3\u22c5\u03c9) \u239b \u2020\u239e    \n",
        "\u22c5a \u22c5False - 2\u22c5g\u22c5\u03bb\u2082 \u22c5\u212f           \u22c5\u239da \u23a0 \u22c5a\u22c5False - g\u22c5\u03bb\u2082 \u22c5\u212f             \u22c5\u239da \u23a0 \u22c5Fa\n",
        "                                                                              \n",
        "\n",
        "                                                                              \n",
        "          2  -\u2148\u22c5t\u22c5(\u03b5 + 3\u22c5\u03c9)  3               2  -\u2148\u22c5t\u22c5(\u03b5 + \u03c9)  \u2020  2            \n",
        "lse - g\u22c5\u03bb\u2082 \u22c5\u212f              \u22c5a \u22c5False - 2\u22c5g\u22c5\u03bb\u2082 \u22c5\u212f            \u22c5a \u22c5a \u22c5False - 2\u22c5g\n",
        "                                                                              \n",
        "\n",
        "                                               2                              \n",
        "   2  -\u2148\u22c5t\u22c5(\u03b5 + \u03c9)                 2\u22c5\u2148\u22c5\u03c9\u22c5t \u239b \u2020\u239e                  \u2020            \n",
        "\u22c5\u03bb\u2082 \u22c5\u212f            \u22c5a\u22c5False + g\u22c5\u03bb\u2082\u22c5\u212f       \u22c5\u239da \u23a0 \u22c5False + 2\u22c5g\u22c5\u03bb\u2082\u22c5a \u22c5a\u22c5False + g\n",
        "                                                                              \n",
        "\n",
        "                                                                              \n",
        "                  -2\u22c5\u2148\u22c5\u03c9\u22c5t  2            \u2148\u22c5t\u22c5(-\u03b5 + \u03c9)  \u2020            \u2148\u22c5t\u22c5(\u03b5 - \u03c9\n",
        "\u22c5\u03bb\u2082\u22c5False + g\u22c5\u03bb\u2082\u22c5\u212f        \u22c5a \u22c5False + g\u22c5\u212f            \u22c5a \u22c5False + g\u22c5\u212f          \n",
        "                                                                              \n",
        "\n",
        "                                                                              \n",
        ")              \u2148\u22c5t\u22c5(\u03b5 + \u03c9)  \u2020            -\u2148\u22c5t\u22c5(\u03b5 + \u03c9)             2    \u2020      \n",
        " \u22c5a\u22c5False + g\u22c5\u212f           \u22c5a \u22c5False + g\u22c5\u212f            \u22c5a\u22c5False + \u03bb\u2081 \u22c5\u03c9\u22c5a \u22c5a\u22c5Fal\n",
        "                                                                              \n",
        "\n",
        "       2                                                                      \n",
        "     \u03bb\u2081 \u22c5\u03c9\u22c5False         \u2148\u22c5t\u22c5(-\u03b5 + \u03c9)  \u2020               \u2148\u22c5t\u22c5(\u03b5 - \u03c9)            \n",
        "se + \u2500\u2500\u2500\u2500\u2500\u2500\u2500\u2500\u2500\u2500\u2500 + \u03bb\u2081\u22c5\u03c9\u22c5\u212f            \u22c5a \u22c5False + \u03bb\u2081\u22c5\u03c9\u22c5\u212f           \u22c5a\u22c5False - \u03bb\n",
        "          2                                                                   \n",
        "\n",
        "                    2                                                         \n",
        " 2    \u2020           \u03bb\u2082 \u22c5\u03c9\u22c5False         \u2148\u22c5t\u22c5(\u03b5 + \u03c9)  \u2020               -\u2148\u22c5t\u22c5(\u03b5 + \u03c9\n",
        "\u2082 \u22c5\u03c9\u22c5a \u22c5a\u22c5False - \u2500\u2500\u2500\u2500\u2500\u2500\u2500\u2500\u2500\u2500\u2500 - \u03bb\u2082\u22c5\u03c9\u22c5\u212f           \u22c5a \u22c5False - \u03bb\u2082\u22c5\u03c9\u22c5\u212f           \n",
        "                       2                                                      \n",
        "\n",
        "         \n",
        ")        \n",
        " \u22c5a\u22c5False\n",
        "         "
       ]
      }
     ],
     "prompt_number": 48
    },
    {
     "cell_type": "markdown",
     "metadata": {},
     "source": [
      "Since we have assumed that the detuning $\\Delta = \\epsilon-\\omega$ is much larger than the coupling frequency $g$, it is okay to ignore terms oscillating fast in the co-rotating system. i.e., $e^{\\pm i(\\epsilon-\\omega)t}, e^{\\pm i(\\epsilon+\\omega)t}, e^{\\pm i(\\epsilon+3\\omega)t}$."
     ]
    },
    {
     "cell_type": "code",
     "collapsed": false,
     "input": [
      "H8 = drop_terms_containing(H7, [exp(I * (e-w)* t), exp(I * (-e+w)* t),\n",
      "                                exp(I * (e+w)* t), exp(-I * (e+w)* t),\n",
      "                                exp(I * (e+3*w)* t), exp(-I * (e+3*w)* t),\n",
      "                                ])\n",
      "H8 = drop_c_number_terms(H8)\n",
      "H8"
     ],
     "language": "python",
     "metadata": {},
     "outputs": [
      {
       "latex": [
        "$$- \\epsilon \\lambda_{1}^{2} {{a}^\\dagger} {a} {\\sigma_z} - \\frac{\\epsilon \\lambda_{1}^{2}}{2} {\\sigma_z} - \\epsilon \\lambda_{1} \\lambda_{2} e^{2 i \\omega t} \\left({{a}^\\dagger}\\right)^{2} {\\sigma_z} - \\epsilon \\lambda_{1} \\lambda_{2} e^{- 2 i \\omega t} \\left({a}\\right)^{2} {\\sigma_z} - \\epsilon \\lambda_{2}^{2} {{a}^\\dagger} {a} {\\sigma_z} - \\frac{\\epsilon \\lambda_{2}^{2}}{2} {\\sigma_z} - g \\lambda_{1}^{2} e^{i t \\left(- \\epsilon + 3 \\omega\\right)} \\left({{a}^\\dagger}\\right)^{3} {\\sigma_-} - g \\lambda_{1}^{2} e^{i t \\left(\\epsilon - 3 \\omega\\right)} \\left({a}\\right)^{3} {\\sigma_+} - g \\lambda_{1} \\lambda_{2} e^{i t \\left(- \\epsilon + 3 \\omega\\right)} \\left({{a}^\\dagger}\\right)^{3} {\\sigma_-} - g \\lambda_{1} \\lambda_{2} e^{i t \\left(\\epsilon - 3 \\omega\\right)} \\left({a}\\right)^{3} {\\sigma_+} + g \\lambda_{1} e^{2 i \\omega t} \\left({{a}^\\dagger}\\right)^{2} {\\sigma_z} + 2 g \\lambda_{1} {{a}^\\dagger} {a} {\\sigma_z} + g \\lambda_{1} {\\sigma_z} + g \\lambda_{1} e^{- 2 i \\omega t} \\left({a}\\right)^{2} {\\sigma_z} + g \\lambda_{2} e^{2 i \\omega t} \\left({{a}^\\dagger}\\right)^{2} {\\sigma_z} + 2 g \\lambda_{2} {{a}^\\dagger} {a} {\\sigma_z} + g \\lambda_{2} {\\sigma_z} + g \\lambda_{2} e^{- 2 i \\omega t} \\left({a}\\right)^{2} {\\sigma_z} + \\lambda_{1}^{2} \\omega {{a}^\\dagger} {a} {\\sigma_z} + \\frac{\\lambda_{1}^{2} \\omega}{2} {\\sigma_z} - \\lambda_{2}^{2} \\omega {{a}^\\dagger} {a} {\\sigma_z} - \\frac{\\lambda_{2}^{2} \\omega}{2} {\\sigma_z}$$"
       ],
       "metadata": {},
       "output_type": "pyout",
       "png": "[encoded data removed]",
       "prompt_number": 49,
       "text": [
        "                         2                              2                     \n",
        "      2  \u2020           \u03b5\u22c5\u03bb\u2081 \u22c5False            2\u22c5\u2148\u22c5\u03c9\u22c5t \u239b \u2020\u239e                   -2\u22c5\n",
        "- \u03b5\u22c5\u03bb\u2081 \u22c5a \u22c5a\u22c5False - \u2500\u2500\u2500\u2500\u2500\u2500\u2500\u2500\u2500\u2500\u2500 - \u03b5\u22c5\u03bb\u2081\u22c5\u03bb\u2082\u22c5\u212f       \u22c5\u239da \u23a0 \u22c5False - \u03b5\u22c5\u03bb\u2081\u22c5\u03bb\u2082\u22c5\u212f   \n",
        "                          2                                                   \n",
        "\n",
        "                                        2                                   3 \n",
        "\u2148\u22c5\u03c9\u22c5t  2             2  \u2020           \u03b5\u22c5\u03bb\u2082 \u22c5False       2  \u2148\u22c5t\u22c5(-\u03b5 + 3\u22c5\u03c9) \u239b \u2020\u239e  \n",
        "     \u22c5a \u22c5False - \u03b5\u22c5\u03bb\u2082 \u22c5a \u22c5a\u22c5False - \u2500\u2500\u2500\u2500\u2500\u2500\u2500\u2500\u2500\u2500\u2500 - g\u22c5\u03bb\u2081 \u22c5\u212f              \u22c5\u239da \u23a0 \u22c5\n",
        "                                         2                                    \n",
        "\n",
        "                                                                    3         \n",
        "            2  \u2148\u22c5t\u22c5(\u03b5 - 3\u22c5\u03c9)  3                  \u2148\u22c5t\u22c5(-\u03b5 + 3\u22c5\u03c9) \u239b \u2020\u239e          \n",
        "False - g\u22c5\u03bb\u2081 \u22c5\u212f             \u22c5a \u22c5False - g\u22c5\u03bb\u2081\u22c5\u03bb\u2082\u22c5\u212f              \u22c5\u239da \u23a0 \u22c5False - \n",
        "                                                                              \n",
        "\n",
        "                                                    2                         \n",
        "         \u2148\u22c5t\u22c5(\u03b5 - 3\u22c5\u03c9)  3               2\u22c5\u2148\u22c5\u03c9\u22c5t \u239b \u2020\u239e                  \u2020       \n",
        "g\u22c5\u03bb\u2081\u22c5\u03bb\u2082\u22c5\u212f             \u22c5a \u22c5False + g\u22c5\u03bb\u2081\u22c5\u212f       \u22c5\u239da \u23a0 \u22c5False + 2\u22c5g\u22c5\u03bb\u2081\u22c5a \u22c5a\u22c5Fals\n",
        "                                                                              \n",
        "\n",
        "                                                             2                \n",
        "                       -2\u22c5\u2148\u22c5\u03c9\u22c5t  2               2\u22c5\u2148\u22c5\u03c9\u22c5t \u239b \u2020\u239e                 \n",
        "e + g\u22c5\u03bb\u2081\u22c5False + g\u22c5\u03bb\u2081\u22c5\u212f        \u22c5a \u22c5False + g\u22c5\u03bb\u2082\u22c5\u212f       \u22c5\u239da \u23a0 \u22c5False + 2\u22c5g\u22c5\u03bb\u2082\u22c5\n",
        "                                                                              \n",
        "\n",
        "                                                                         2    \n",
        " \u2020                              -2\u22c5\u2148\u22c5\u03c9\u22c5t  2           2    \u2020           \u03bb\u2081 \u22c5\u03c9\u22c5F\n",
        "a \u22c5a\u22c5False + g\u22c5\u03bb\u2082\u22c5False + g\u22c5\u03bb\u2082\u22c5\u212f        \u22c5a \u22c5False + \u03bb\u2081 \u22c5\u03c9\u22c5a \u22c5a\u22c5False + \u2500\u2500\u2500\u2500\u2500\u2500\u2500\n",
        "                                                                            2 \n",
        "\n",
        "                            2        \n",
        "alse     2    \u2020           \u03bb\u2082 \u22c5\u03c9\u22c5False\n",
        "\u2500\u2500\u2500\u2500 - \u03bb\u2082 \u22c5\u03c9\u22c5a \u22c5a\u22c5False - \u2500\u2500\u2500\u2500\u2500\u2500\u2500\u2500\u2500\u2500\u2500\n",
        "                               2     "
       ]
      }
     ],
     "prompt_number": 49
    },
    {
     "cell_type": "markdown",
     "metadata": {},
     "source": [
      "The terms associated with the exponents $e^{\\pm2i\\omega t}, e^{\\pm i(\\epsilon-3\\omega)}$ are not to be neglected in this case, because we are only with the large detuning condition $g\\ll |\\epsilon-\\omega|$. (For instance, if $\\omega\\ll g$, $e^{\\pm 2i\\omega t}$ term is oscillating slowly and cannot be ignored. In addition, even if $\\omega\\gg g$, this term has no significant effect whether or not we include in the sum. So, it is necessary that we include this term in the summation.)"
     ]
    },
    {
     "cell_type": "markdown",
     "metadata": {},
     "source": [
      "We move back to the lab frame:"
     ]
    },
    {
     "cell_type": "code",
     "collapsed": false,
     "input": [
      "H9  = hamiltonian_transformation(U3, H8)\n",
      "H10 = hamiltonian_transformation(U4, H9)\n",
      "\n",
      "H10 = qsimplify(H10.expand())\n",
      "\n",
      "H10"
     ],
     "language": "python",
     "metadata": {},
     "outputs": [
      {
       "latex": [
        "$$- \\epsilon \\lambda_{1}^{2} {{a}^\\dagger} {a} {\\sigma_z} - \\frac{\\epsilon \\lambda_{1}^{2}}{2} {\\sigma_z} - \\epsilon \\lambda_{1} \\lambda_{2} \\left({{a}^\\dagger}\\right)^{2} {\\sigma_z} - \\epsilon \\lambda_{1} \\lambda_{2} \\left({a}\\right)^{2} {\\sigma_z} - \\epsilon \\lambda_{2}^{2} {{a}^\\dagger} {a} {\\sigma_z} - \\frac{\\epsilon \\lambda_{2}^{2}}{2} {\\sigma_z} + \\frac{\\epsilon {\\sigma_z}}{2} - g \\lambda_{1}^{2} \\left({{a}^\\dagger}\\right)^{3} {\\sigma_-} - g \\lambda_{1}^{2} \\left({a}\\right)^{3} {\\sigma_+} - g \\lambda_{1} \\lambda_{2} \\left({{a}^\\dagger}\\right)^{3} {\\sigma_-} - g \\lambda_{1} \\lambda_{2} \\left({a}\\right)^{3} {\\sigma_+} + 2 g \\lambda_{1} {{a}^\\dagger} {a} {\\sigma_z} + g \\lambda_{1} \\left({{a}^\\dagger}\\right)^{2} {\\sigma_z} + g \\lambda_{1} \\left({a}\\right)^{2} {\\sigma_z} + g \\lambda_{1} {\\sigma_z} + 2 g \\lambda_{2} {{a}^\\dagger} {a} {\\sigma_z} + g \\lambda_{2} \\left({{a}^\\dagger}\\right)^{2} {\\sigma_z} + g \\lambda_{2} \\left({a}\\right)^{2} {\\sigma_z} + g \\lambda_{2} {\\sigma_z} + \\lambda_{1}^{2} \\omega {{a}^\\dagger} {a} {\\sigma_z} + \\frac{\\lambda_{1}^{2} \\omega}{2} {\\sigma_z} - \\lambda_{2}^{2} \\omega {{a}^\\dagger} {a} {\\sigma_z} - \\frac{\\lambda_{2}^{2} \\omega}{2} {\\sigma_z} + \\omega {{a}^\\dagger} {a}$$"
       ],
       "metadata": {},
       "output_type": "pyout",
       "png": "[encoded data removed]",
       "prompt_number": 50,
       "text": [
        "                         2                     2                              \n",
        "      2  \u2020           \u03b5\u22c5\u03bb\u2081 \u22c5False           \u239b \u2020\u239e                   2           \n",
        "- \u03b5\u22c5\u03bb\u2081 \u22c5a \u22c5a\u22c5False - \u2500\u2500\u2500\u2500\u2500\u2500\u2500\u2500\u2500\u2500\u2500 - \u03b5\u22c5\u03bb\u2081\u22c5\u03bb\u2082\u22c5\u239da \u23a0 \u22c5False - \u03b5\u22c5\u03bb\u2081\u22c5\u03bb\u2082\u22c5a \u22c5False - \u03b5\u22c5\n",
        "                          2                                                   \n",
        "\n",
        "                     2                             3                          \n",
        "  2  \u2020           \u03b5\u22c5\u03bb\u2082 \u22c5False   \u03b5\u22c5False       2 \u239b \u2020\u239e              2  3         \n",
        "\u03bb\u2082 \u22c5a \u22c5a\u22c5False - \u2500\u2500\u2500\u2500\u2500\u2500\u2500\u2500\u2500\u2500\u2500 + \u2500\u2500\u2500\u2500\u2500\u2500\u2500 - g\u22c5\u03bb\u2081 \u22c5\u239da \u23a0 \u22c5False - g\u22c5\u03bb\u2081 \u22c5a \u22c5False - \n",
        "                      2           2                                           \n",
        "\n",
        "            3                                                         2       \n",
        "        \u239b \u2020\u239e                   3                 \u2020                \u239b \u2020\u239e        \n",
        "g\u22c5\u03bb\u2081\u22c5\u03bb\u2082\u22c5\u239da \u23a0 \u22c5False - g\u22c5\u03bb\u2081\u22c5\u03bb\u2082\u22c5a \u22c5False + 2\u22c5g\u22c5\u03bb\u2081\u22c5a \u22c5a\u22c5False + g\u22c5\u03bb\u2081\u22c5\u239da \u23a0 \u22c5False \n",
        "                                                                              \n",
        "\n",
        "                                                            2                 \n",
        "        2                              \u2020                \u239b \u2020\u239e                2 \n",
        "+ g\u22c5\u03bb\u2081\u22c5a \u22c5False + g\u22c5\u03bb\u2081\u22c5False + 2\u22c5g\u22c5\u03bb\u2082\u22c5a \u22c5a\u22c5False + g\u22c5\u03bb\u2082\u22c5\u239da \u23a0 \u22c5False + g\u22c5\u03bb\u2082\u22c5a \u22c5\n",
        "                                                                              \n",
        "\n",
        "                                          2                                2  \n",
        "                       2    \u2020           \u03bb\u2081 \u22c5\u03c9\u22c5False     2    \u2020           \u03bb\u2082 \u22c5\u03c9\n",
        "False + g\u22c5\u03bb\u2082\u22c5False + \u03bb\u2081 \u22c5\u03c9\u22c5a \u22c5a\u22c5False + \u2500\u2500\u2500\u2500\u2500\u2500\u2500\u2500\u2500\u2500\u2500 - \u03bb\u2082 \u22c5\u03c9\u22c5a \u22c5a\u22c5False - \u2500\u2500\u2500\u2500\u2500\n",
        "                                             2                                \n",
        "\n",
        "               \n",
        "\u22c5False      \u2020  \n",
        "\u2500\u2500\u2500\u2500\u2500\u2500 + \u03c9\u22c5a \u22c5a\n",
        "2              "
       ]
      }
     ],
     "prompt_number": 50
    },
    {
     "cell_type": "code",
     "collapsed": false,
     "input": [
      "D_ = Symbol(\"\\Delta'\", real=True) # D_ = e + w = 2 * e - D"
     ],
     "language": "python",
     "metadata": {},
     "outputs": [],
     "prompt_number": 51
    },
    {
     "cell_type": "code",
     "collapsed": false,
     "input": [
      "H10.subs({l1: g/D, l2: g/D_})"
     ],
     "language": "python",
     "metadata": {},
     "outputs": [
      {
       "latex": [
        "$$\\frac{\\epsilon {\\sigma_z}}{2} + \\omega {{a}^\\dagger} {a} + \\frac{2 g^{2}}{\\Delta'} {{a}^\\dagger} {a} {\\sigma_z} + \\frac{g^{2} \\left({{a}^\\dagger}\\right)^{2}}{\\Delta'} {\\sigma_z} + \\frac{g^{2} \\left({a}\\right)^{2}}{\\Delta'} {\\sigma_z} + \\frac{g^{2} {\\sigma_z}}{\\Delta'} - \\frac{\\epsilon g^{2}}{\\Delta'^{2}} {{a}^\\dagger} {a} {\\sigma_z} - \\frac{\\epsilon g^{2} {\\sigma_z}}{2 \\Delta'^{2}} - \\frac{g^{2} \\omega}{\\Delta'^{2}} {{a}^\\dagger} {a} {\\sigma_z} - \\frac{g^{2} \\omega {\\sigma_z}}{2 \\Delta'^{2}} + \\frac{2 g^{2}}{\\Delta} {{a}^\\dagger} {a} {\\sigma_z} + \\frac{g^{2} \\left({{a}^\\dagger}\\right)^{2}}{\\Delta} {\\sigma_z} + \\frac{g^{2} \\left({a}\\right)^{2}}{\\Delta} {\\sigma_z} + \\frac{g^{2} {\\sigma_z}}{\\Delta} - \\frac{\\epsilon g^{2} \\left({{a}^\\dagger}\\right)^{2} {\\sigma_z}}{\\Delta \\Delta'} - \\frac{\\epsilon g^{2} \\left({a}\\right)^{2} {\\sigma_z}}{\\Delta \\Delta'} - \\frac{g^{3} \\left({{a}^\\dagger}\\right)^{3} {\\sigma_-}}{\\Delta \\Delta'} - \\frac{g^{3} \\left({a}\\right)^{3} {\\sigma_+}}{\\Delta \\Delta'} - \\frac{\\epsilon g^{2}}{\\Delta^{2}} {{a}^\\dagger} {a} {\\sigma_z} - \\frac{\\epsilon g^{2} {\\sigma_z}}{2 \\Delta^{2}} - \\frac{g^{3} \\left({{a}^\\dagger}\\right)^{3}}{\\Delta^{2}} {\\sigma_-} - \\frac{g^{3} \\left({a}\\right)^{3}}{\\Delta^{2}} {\\sigma_+} + \\frac{g^{2} \\omega}{\\Delta^{2}} {{a}^\\dagger} {a} {\\sigma_z} + \\frac{g^{2} \\omega {\\sigma_z}}{2 \\Delta^{2}}$$"
       ],
       "metadata": {},
       "output_type": "pyout",
       "png": "[encoded data removed]",
       "prompt_number": 52,
       "text": [
        "                                            2                                 \n",
        "                      2  \u2020            2 \u239b \u2020\u239e           2  2          2        \n",
        "\u03b5\u22c5False      \u2020     2\u22c5g \u22c5a \u22c5a\u22c5False   g \u22c5\u239da \u23a0 \u22c5False   g \u22c5a \u22c5False   g \u22c5False  \n",
        "\u2500\u2500\u2500\u2500\u2500\u2500\u2500 + \u03c9\u22c5a \u22c5a + \u2500\u2500\u2500\u2500\u2500\u2500\u2500\u2500\u2500\u2500\u2500\u2500\u2500\u2500\u2500 + \u2500\u2500\u2500\u2500\u2500\u2500\u2500\u2500\u2500\u2500\u2500\u2500\u2500\u2500 + \u2500\u2500\u2500\u2500\u2500\u2500\u2500\u2500\u2500\u2500\u2500 + \u2500\u2500\u2500\u2500\u2500\u2500\u2500\u2500 -\n",
        "   2                   \\Delta'          \\Delta'         \\Delta'     \\Delta'   \n",
        "                                                                              \n",
        "\n",
        "                                                                              \n",
        "    2  \u2020              2          2    \u2020            2              2  \u2020        \n",
        " \u03b5\u22c5g \u22c5a \u22c5a\u22c5False   \u03b5\u22c5g \u22c5False   g \u22c5\u03c9\u22c5a \u22c5a\u22c5False   g \u22c5\u03c9\u22c5False   2\u22c5g \u22c5a \u22c5a\u22c5False\n",
        " \u2500\u2500\u2500\u2500\u2500\u2500\u2500\u2500\u2500\u2500\u2500\u2500\u2500\u2500\u2500 - \u2500\u2500\u2500\u2500\u2500\u2500\u2500\u2500\u2500\u2500 - \u2500\u2500\u2500\u2500\u2500\u2500\u2500\u2500\u2500\u2500\u2500\u2500\u2500\u2500\u2500 - \u2500\u2500\u2500\u2500\u2500\u2500\u2500\u2500\u2500\u2500 + \u2500\u2500\u2500\u2500\u2500\u2500\u2500\u2500\u2500\u2500\u2500\u2500\u2500\u2500\u2500\n",
        "            2               2              2               2          \u0394       \n",
        "     \\Delta'       2\u22c5\\Delta'        \\Delta'       2\u22c5\\Delta'                   \n",
        "\n",
        "          2                                           2                       \n",
        "    2 \u239b \u2020\u239e           2  2          2            2 \u239b \u2020\u239e             2  2       \n",
        "   g \u22c5\u239da \u23a0 \u22c5False   g \u22c5a \u22c5False   g \u22c5False   \u03b5\u22c5g \u22c5\u239da \u23a0 \u22c5False   \u03b5\u22c5g \u22c5a \u22c5False \n",
        " + \u2500\u2500\u2500\u2500\u2500\u2500\u2500\u2500\u2500\u2500\u2500\u2500\u2500\u2500 + \u2500\u2500\u2500\u2500\u2500\u2500\u2500\u2500\u2500\u2500\u2500 + \u2500\u2500\u2500\u2500\u2500\u2500\u2500\u2500 - \u2500\u2500\u2500\u2500\u2500\u2500\u2500\u2500\u2500\u2500\u2500\u2500\u2500\u2500\u2500\u2500 - \u2500\u2500\u2500\u2500\u2500\u2500\u2500\u2500\u2500\u2500\u2500\u2500\u2500 \n",
        "         \u0394               \u0394           \u0394          \u0394\u22c5\\Delta'         \u0394\u22c5\\Delta'   \n",
        "                                                                              \n",
        "\n",
        "         3                                                             3      \n",
        "   3 \u239b \u2020\u239e           3  3            2  \u2020              2          3 \u239b \u2020\u239e       \n",
        "  g \u22c5\u239da \u23a0 \u22c5False   g \u22c5a \u22c5False   \u03b5\u22c5g \u22c5a \u22c5a\u22c5False   \u03b5\u22c5g \u22c5False   g \u22c5\u239da \u23a0 \u22c5False\n",
        "- \u2500\u2500\u2500\u2500\u2500\u2500\u2500\u2500\u2500\u2500\u2500\u2500\u2500\u2500 - \u2500\u2500\u2500\u2500\u2500\u2500\u2500\u2500\u2500\u2500\u2500 - \u2500\u2500\u2500\u2500\u2500\u2500\u2500\u2500\u2500\u2500\u2500\u2500\u2500\u2500\u2500 - \u2500\u2500\u2500\u2500\u2500\u2500\u2500\u2500\u2500\u2500 - \u2500\u2500\u2500\u2500\u2500\u2500\u2500\u2500\u2500\u2500\u2500\u2500\u2500\u2500\n",
        "    \u0394\u22c5\\Delta'       \u0394\u22c5\\Delta'            2               2             2      \n",
        "                                        \u0394             2\u22c5\u0394             \u0394       \n",
        "\n",
        "                                             \n",
        "    3  3          2    \u2020            2        \n",
        "   g \u22c5a \u22c5False   g \u22c5\u03c9\u22c5a \u22c5a\u22c5False   g \u22c5\u03c9\u22c5False\n",
        " - \u2500\u2500\u2500\u2500\u2500\u2500\u2500\u2500\u2500\u2500\u2500 + \u2500\u2500\u2500\u2500\u2500\u2500\u2500\u2500\u2500\u2500\u2500\u2500\u2500\u2500\u2500 + \u2500\u2500\u2500\u2500\u2500\u2500\u2500\u2500\u2500\u2500\n",
        "         2               2               2   \n",
        "        \u0394               \u0394             2\u22c5\u0394    "
       ]
      }
     ],
     "prompt_number": 52
    },
    {
     "cell_type": "code",
     "collapsed": false,
     "input": [
      "H11 = H10.subs({l1: g/D, l2: g/D_})\n",
      "H11"
     ],
     "language": "python",
     "metadata": {},
     "outputs": [
      {
       "latex": [
        "$$\\frac{\\epsilon {\\sigma_z}}{2} + \\omega {{a}^\\dagger} {a} + \\frac{2 g^{2}}{\\Delta'} {{a}^\\dagger} {a} {\\sigma_z} + \\frac{g^{2} \\left({{a}^\\dagger}\\right)^{2}}{\\Delta'} {\\sigma_z} + \\frac{g^{2} \\left({a}\\right)^{2}}{\\Delta'} {\\sigma_z} + \\frac{g^{2} {\\sigma_z}}{\\Delta'} - \\frac{\\epsilon g^{2}}{\\Delta'^{2}} {{a}^\\dagger} {a} {\\sigma_z} - \\frac{\\epsilon g^{2} {\\sigma_z}}{2 \\Delta'^{2}} - \\frac{g^{2} \\omega}{\\Delta'^{2}} {{a}^\\dagger} {a} {\\sigma_z} - \\frac{g^{2} \\omega {\\sigma_z}}{2 \\Delta'^{2}} + \\frac{2 g^{2}}{\\Delta} {{a}^\\dagger} {a} {\\sigma_z} + \\frac{g^{2} \\left({{a}^\\dagger}\\right)^{2}}{\\Delta} {\\sigma_z} + \\frac{g^{2} \\left({a}\\right)^{2}}{\\Delta} {\\sigma_z} + \\frac{g^{2} {\\sigma_z}}{\\Delta} - \\frac{\\epsilon g^{2} \\left({{a}^\\dagger}\\right)^{2} {\\sigma_z}}{\\Delta \\Delta'} - \\frac{\\epsilon g^{2} \\left({a}\\right)^{2} {\\sigma_z}}{\\Delta \\Delta'} - \\frac{g^{3} \\left({{a}^\\dagger}\\right)^{3} {\\sigma_-}}{\\Delta \\Delta'} - \\frac{g^{3} \\left({a}\\right)^{3} {\\sigma_+}}{\\Delta \\Delta'} - \\frac{\\epsilon g^{2}}{\\Delta^{2}} {{a}^\\dagger} {a} {\\sigma_z} - \\frac{\\epsilon g^{2} {\\sigma_z}}{2 \\Delta^{2}} - \\frac{g^{3} \\left({{a}^\\dagger}\\right)^{3}}{\\Delta^{2}} {\\sigma_-} - \\frac{g^{3} \\left({a}\\right)^{3}}{\\Delta^{2}} {\\sigma_+} + \\frac{g^{2} \\omega}{\\Delta^{2}} {{a}^\\dagger} {a} {\\sigma_z} + \\frac{g^{2} \\omega {\\sigma_z}}{2 \\Delta^{2}}$$"
       ],
       "metadata": {},
       "output_type": "pyout",
       "png": "[encoded data removed]",
       "prompt_number": 53,
       "text": [
        "                                            2                                 \n",
        "                      2  \u2020            2 \u239b \u2020\u239e           2  2          2        \n",
        "\u03b5\u22c5False      \u2020     2\u22c5g \u22c5a \u22c5a\u22c5False   g \u22c5\u239da \u23a0 \u22c5False   g \u22c5a \u22c5False   g \u22c5False  \n",
        "\u2500\u2500\u2500\u2500\u2500\u2500\u2500 + \u03c9\u22c5a \u22c5a + \u2500\u2500\u2500\u2500\u2500\u2500\u2500\u2500\u2500\u2500\u2500\u2500\u2500\u2500\u2500 + \u2500\u2500\u2500\u2500\u2500\u2500\u2500\u2500\u2500\u2500\u2500\u2500\u2500\u2500 + \u2500\u2500\u2500\u2500\u2500\u2500\u2500\u2500\u2500\u2500\u2500 + \u2500\u2500\u2500\u2500\u2500\u2500\u2500\u2500 -\n",
        "   2                   \\Delta'          \\Delta'         \\Delta'     \\Delta'   \n",
        "                                                                              \n",
        "\n",
        "                                                                              \n",
        "    2  \u2020              2          2    \u2020            2              2  \u2020        \n",
        " \u03b5\u22c5g \u22c5a \u22c5a\u22c5False   \u03b5\u22c5g \u22c5False   g \u22c5\u03c9\u22c5a \u22c5a\u22c5False   g \u22c5\u03c9\u22c5False   2\u22c5g \u22c5a \u22c5a\u22c5False\n",
        " \u2500\u2500\u2500\u2500\u2500\u2500\u2500\u2500\u2500\u2500\u2500\u2500\u2500\u2500\u2500 - \u2500\u2500\u2500\u2500\u2500\u2500\u2500\u2500\u2500\u2500 - \u2500\u2500\u2500\u2500\u2500\u2500\u2500\u2500\u2500\u2500\u2500\u2500\u2500\u2500\u2500 - \u2500\u2500\u2500\u2500\u2500\u2500\u2500\u2500\u2500\u2500 + \u2500\u2500\u2500\u2500\u2500\u2500\u2500\u2500\u2500\u2500\u2500\u2500\u2500\u2500\u2500\n",
        "            2               2              2               2          \u0394       \n",
        "     \\Delta'       2\u22c5\\Delta'        \\Delta'       2\u22c5\\Delta'                   \n",
        "\n",
        "          2                                           2                       \n",
        "    2 \u239b \u2020\u239e           2  2          2            2 \u239b \u2020\u239e             2  2       \n",
        "   g \u22c5\u239da \u23a0 \u22c5False   g \u22c5a \u22c5False   g \u22c5False   \u03b5\u22c5g \u22c5\u239da \u23a0 \u22c5False   \u03b5\u22c5g \u22c5a \u22c5False \n",
        " + \u2500\u2500\u2500\u2500\u2500\u2500\u2500\u2500\u2500\u2500\u2500\u2500\u2500\u2500 + \u2500\u2500\u2500\u2500\u2500\u2500\u2500\u2500\u2500\u2500\u2500 + \u2500\u2500\u2500\u2500\u2500\u2500\u2500\u2500 - \u2500\u2500\u2500\u2500\u2500\u2500\u2500\u2500\u2500\u2500\u2500\u2500\u2500\u2500\u2500\u2500 - \u2500\u2500\u2500\u2500\u2500\u2500\u2500\u2500\u2500\u2500\u2500\u2500\u2500 \n",
        "         \u0394               \u0394           \u0394          \u0394\u22c5\\Delta'         \u0394\u22c5\\Delta'   \n",
        "                                                                              \n",
        "\n",
        "         3                                                             3      \n",
        "   3 \u239b \u2020\u239e           3  3            2  \u2020              2          3 \u239b \u2020\u239e       \n",
        "  g \u22c5\u239da \u23a0 \u22c5False   g \u22c5a \u22c5False   \u03b5\u22c5g \u22c5a \u22c5a\u22c5False   \u03b5\u22c5g \u22c5False   g \u22c5\u239da \u23a0 \u22c5False\n",
        "- \u2500\u2500\u2500\u2500\u2500\u2500\u2500\u2500\u2500\u2500\u2500\u2500\u2500\u2500 - \u2500\u2500\u2500\u2500\u2500\u2500\u2500\u2500\u2500\u2500\u2500 - \u2500\u2500\u2500\u2500\u2500\u2500\u2500\u2500\u2500\u2500\u2500\u2500\u2500\u2500\u2500 - \u2500\u2500\u2500\u2500\u2500\u2500\u2500\u2500\u2500\u2500 - \u2500\u2500\u2500\u2500\u2500\u2500\u2500\u2500\u2500\u2500\u2500\u2500\u2500\u2500\n",
        "    \u0394\u22c5\\Delta'       \u0394\u22c5\\Delta'            2               2             2      \n",
        "                                        \u0394             2\u22c5\u0394             \u0394       \n",
        "\n",
        "                                             \n",
        "    3  3          2    \u2020            2        \n",
        "   g \u22c5a \u22c5False   g \u22c5\u03c9\u22c5a \u22c5a\u22c5False   g \u22c5\u03c9\u22c5False\n",
        " - \u2500\u2500\u2500\u2500\u2500\u2500\u2500\u2500\u2500\u2500\u2500 + \u2500\u2500\u2500\u2500\u2500\u2500\u2500\u2500\u2500\u2500\u2500\u2500\u2500\u2500\u2500 + \u2500\u2500\u2500\u2500\u2500\u2500\u2500\u2500\u2500\u2500\n",
        "         2               2               2   \n",
        "        \u0394               \u0394             2\u22c5\u0394    "
       ]
      }
     ],
     "prompt_number": 53
    },
    {
     "cell_type": "code",
     "collapsed": false,
     "input": [
      "H12 = collect(H11, [g**2*sz*e/(D*D_), \n",
      "                    g**2*sz/D_, g**2*sz/D])\n",
      "\n",
      "H12"
     ],
     "language": "python",
     "metadata": {},
     "outputs": [
      {
       "latex": [
        "$$\\frac{\\epsilon {\\sigma_z}}{2} + \\omega {{a}^\\dagger} {a} + \\frac{g^{2} {\\sigma_z}}{\\Delta'} \\left(1 + 2 {{a}^\\dagger} {a} + \\left({{a}^\\dagger}\\right)^{2} + \\left({a}\\right)^{2}\\right) + \\frac{g^{2} {\\sigma_z}}{\\Delta'^{2}} \\left(- \\frac{\\epsilon}{2} - \\epsilon {{a}^\\dagger} {a} - \\frac{\\omega}{2} - \\omega {{a}^\\dagger} {a}\\right) + \\frac{g^{2} {\\sigma_z}}{\\Delta} \\left(1 + 2 {{a}^\\dagger} {a} + \\left({{a}^\\dagger}\\right)^{2} + \\left({a}\\right)^{2}\\right) + \\frac{\\epsilon g^{2} {\\sigma_z}}{\\Delta \\Delta'} \\left(- \\left({{a}^\\dagger}\\right)^{2} - \\left({a}\\right)^{2}\\right) - \\frac{g^{3} \\left({{a}^\\dagger}\\right)^{3} {\\sigma_-}}{\\Delta \\Delta'} - \\frac{g^{3} \\left({a}\\right)^{3} {\\sigma_+}}{\\Delta \\Delta'} - \\frac{g^{3} \\left({{a}^\\dagger}\\right)^{3}}{\\Delta^{2}} {\\sigma_-} - \\frac{g^{3} \\left({a}\\right)^{3}}{\\Delta^{2}} {\\sigma_+} + \\frac{g^{2} {\\sigma_z}}{\\Delta^{2}} \\left(- \\frac{\\epsilon}{2} - \\epsilon {{a}^\\dagger} {a} + \\frac{\\omega}{2} + \\omega {{a}^\\dagger} {a}\\right)$$"
       ],
       "metadata": {},
       "output_type": "pyout",
       "png": "[encoded data removed]",
       "prompt_number": 54,
       "text": [
        "                            \u239b                 2     \u239e    2       \u239b  \u03b5      \u2020  \n",
        "                    2       \u239c       \u2020     \u239b \u2020\u239e     2\u239f   g \u22c5False\u22c5\u239c- \u2500 - \u03b5\u22c5a \u22c5a\n",
        "\u03b5\u22c5False      \u2020     g \u22c5False\u22c5\u239d1 + 2\u22c5a \u22c5a + \u239da \u23a0  + a \u23a0            \u239d  2         \n",
        "\u2500\u2500\u2500\u2500\u2500\u2500\u2500 + \u03c9\u22c5a \u22c5a + \u2500\u2500\u2500\u2500\u2500\u2500\u2500\u2500\u2500\u2500\u2500\u2500\u2500\u2500\u2500\u2500\u2500\u2500\u2500\u2500\u2500\u2500\u2500\u2500\u2500\u2500\u2500\u2500\u2500\u2500\u2500\u2500\u2500\u2500 + \u2500\u2500\u2500\u2500\u2500\u2500\u2500\u2500\u2500\u2500\u2500\u2500\u2500\u2500\u2500\u2500\u2500\u2500\u2500\u2500\u2500\u2500\n",
        "   2                            \\Delta'                                      2\n",
        "                                                                      \\Delta' \n",
        "\n",
        "   \u03c9      \u2020  \u239e            \u239b                 2     \u239e              \u239b      2     \n",
        " - \u2500 - \u03c9\u22c5a \u22c5a\u239f    2       \u239c       \u2020     \u239b \u2020\u239e     2\u239f      2       \u239c  \u239b \u2020\u239e     2\n",
        "   2         \u23a0   g \u22c5False\u22c5\u239d1 + 2\u22c5a \u22c5a + \u239da \u23a0  + a \u23a0   \u03b5\u22c5g \u22c5False\u22c5\u239d- \u239da \u23a0  - a \n",
        "\u2500\u2500\u2500\u2500\u2500\u2500\u2500\u2500\u2500\u2500\u2500\u2500\u2500\u2500 + \u2500\u2500\u2500\u2500\u2500\u2500\u2500\u2500\u2500\u2500\u2500\u2500\u2500\u2500\u2500\u2500\u2500\u2500\u2500\u2500\u2500\u2500\u2500\u2500\u2500\u2500\u2500\u2500\u2500\u2500\u2500\u2500\u2500\u2500 + \u2500\u2500\u2500\u2500\u2500\u2500\u2500\u2500\u2500\u2500\u2500\u2500\u2500\u2500\u2500\u2500\u2500\u2500\u2500\u2500\u2500\u2500\u2500\u2500\n",
        "                                 \u0394                            \u0394\u22c5\\Delta'       \n",
        "                                                                              \n",
        "\n",
        "\u239e          3                              3                        2       \u239b  \n",
        "\u239f    3 \u239b \u2020\u239e           3  3          3 \u239b \u2020\u239e           3  3         g \u22c5False\u22c5\u239c- \n",
        "\u23a0   g \u22c5\u239da \u23a0 \u22c5False   g \u22c5a \u22c5False   g \u22c5\u239da \u23a0 \u22c5False   g \u22c5a \u22c5False            \u239d  \n",
        "\u2500 - \u2500\u2500\u2500\u2500\u2500\u2500\u2500\u2500\u2500\u2500\u2500\u2500\u2500\u2500 - \u2500\u2500\u2500\u2500\u2500\u2500\u2500\u2500\u2500\u2500\u2500 - \u2500\u2500\u2500\u2500\u2500\u2500\u2500\u2500\u2500\u2500\u2500\u2500\u2500\u2500 - \u2500\u2500\u2500\u2500\u2500\u2500\u2500\u2500\u2500\u2500\u2500 + \u2500\u2500\u2500\u2500\u2500\u2500\u2500\u2500\u2500\u2500\u2500\u2500\n",
        "      \u0394\u22c5\\Delta'       \u0394\u22c5\\Delta'           2               2                   \n",
        "                                         \u0394               \u0394                    \n",
        "\n",
        "\u03b5      \u2020     \u03c9      \u2020  \u239e\n",
        "\u2500 - \u03b5\u22c5a \u22c5a + \u2500 + \u03c9\u22c5a \u22c5a\u239f\n",
        "2            2         \u23a0\n",
        "\u2500\u2500\u2500\u2500\u2500\u2500\u2500\u2500\u2500\u2500\u2500\u2500\u2500\u2500\u2500\u2500\u2500\u2500\u2500\u2500\u2500\u2500\u2500\u2500\n",
        "      2                 \n",
        "     \u0394                  "
       ]
      }
     ],
     "prompt_number": 54
    },
    {
     "cell_type": "markdown",
     "metadata": {},
     "source": [
      "The terms containing $a^3, (a^\\dagger)^3$ has a higher order of $\\lambda_1 = g/\\Delta, \\lambda_2 = g/(2\\epsilon-\\Delta)$, so that these can be ignored:"
     ]
    },
    {
     "cell_type": "code",
     "collapsed": false,
     "input": [
      "H13 = drop_terms_containing(H12, [a**3, Dagger(a)**3]); H13"
     ],
     "language": "python",
     "metadata": {},
     "outputs": [
      {
       "latex": [
        "$$\\frac{\\epsilon {\\sigma_z}}{2} + \\omega {{a}^\\dagger} {a} + \\frac{g^{2} {\\sigma_z}}{\\Delta'} \\left(1 + 2 {{a}^\\dagger} {a} + \\left({{a}^\\dagger}\\right)^{2} + \\left({a}\\right)^{2}\\right) + \\frac{g^{2} {\\sigma_z}}{\\Delta'^{2}} \\left(- \\frac{\\epsilon}{2} - \\epsilon {{a}^\\dagger} {a} - \\frac{\\omega}{2} - \\omega {{a}^\\dagger} {a}\\right) + \\frac{g^{2} {\\sigma_z}}{\\Delta} \\left(1 + 2 {{a}^\\dagger} {a} + \\left({{a}^\\dagger}\\right)^{2} + \\left({a}\\right)^{2}\\right) + \\frac{\\epsilon g^{2} {\\sigma_z}}{\\Delta \\Delta'} \\left(- \\left({{a}^\\dagger}\\right)^{2} - \\left({a}\\right)^{2}\\right) + \\frac{g^{2} {\\sigma_z}}{\\Delta^{2}} \\left(- \\frac{\\epsilon}{2} - \\epsilon {{a}^\\dagger} {a} + \\frac{\\omega}{2} + \\omega {{a}^\\dagger} {a}\\right)$$"
       ],
       "metadata": {},
       "output_type": "pyout",
       "png": "[encoded data removed]",
       "prompt_number": 55,
       "text": [
        "                            \u239b                 2     \u239e    2       \u239b  \u03b5      \u2020  \n",
        "                    2       \u239c       \u2020     \u239b \u2020\u239e     2\u239f   g \u22c5False\u22c5\u239c- \u2500 - \u03b5\u22c5a \u22c5a\n",
        "\u03b5\u22c5False      \u2020     g \u22c5False\u22c5\u239d1 + 2\u22c5a \u22c5a + \u239da \u23a0  + a \u23a0            \u239d  2         \n",
        "\u2500\u2500\u2500\u2500\u2500\u2500\u2500 + \u03c9\u22c5a \u22c5a + \u2500\u2500\u2500\u2500\u2500\u2500\u2500\u2500\u2500\u2500\u2500\u2500\u2500\u2500\u2500\u2500\u2500\u2500\u2500\u2500\u2500\u2500\u2500\u2500\u2500\u2500\u2500\u2500\u2500\u2500\u2500\u2500\u2500\u2500 + \u2500\u2500\u2500\u2500\u2500\u2500\u2500\u2500\u2500\u2500\u2500\u2500\u2500\u2500\u2500\u2500\u2500\u2500\u2500\u2500\u2500\u2500\n",
        "   2                            \\Delta'                                      2\n",
        "                                                                      \\Delta' \n",
        "\n",
        "   \u03c9      \u2020  \u239e            \u239b                 2     \u239e              \u239b      2     \n",
        " - \u2500 - \u03c9\u22c5a \u22c5a\u239f    2       \u239c       \u2020     \u239b \u2020\u239e     2\u239f      2       \u239c  \u239b \u2020\u239e     2\n",
        "   2         \u23a0   g \u22c5False\u22c5\u239d1 + 2\u22c5a \u22c5a + \u239da \u23a0  + a \u23a0   \u03b5\u22c5g \u22c5False\u22c5\u239d- \u239da \u23a0  - a \n",
        "\u2500\u2500\u2500\u2500\u2500\u2500\u2500\u2500\u2500\u2500\u2500\u2500\u2500\u2500 + \u2500\u2500\u2500\u2500\u2500\u2500\u2500\u2500\u2500\u2500\u2500\u2500\u2500\u2500\u2500\u2500\u2500\u2500\u2500\u2500\u2500\u2500\u2500\u2500\u2500\u2500\u2500\u2500\u2500\u2500\u2500\u2500\u2500\u2500 + \u2500\u2500\u2500\u2500\u2500\u2500\u2500\u2500\u2500\u2500\u2500\u2500\u2500\u2500\u2500\u2500\u2500\u2500\u2500\u2500\u2500\u2500\u2500\u2500\n",
        "                                 \u0394                            \u0394\u22c5\\Delta'       \n",
        "                                                                              \n",
        "\n",
        "\u239e    2       \u239b  \u03b5      \u2020     \u03c9      \u2020  \u239e\n",
        "\u239f   g \u22c5False\u22c5\u239c- \u2500 - \u03b5\u22c5a \u22c5a + \u2500 + \u03c9\u22c5a \u22c5a\u239f\n",
        "\u23a0            \u239d  2            2         \u23a0\n",
        "\u2500 + \u2500\u2500\u2500\u2500\u2500\u2500\u2500\u2500\u2500\u2500\u2500\u2500\u2500\u2500\u2500\u2500\u2500\u2500\u2500\u2500\u2500\u2500\u2500\u2500\u2500\u2500\u2500\u2500\u2500\u2500\u2500\u2500\u2500\u2500\u2500\u2500\n",
        "                      2                 \n",
        "                     \u0394                  "
       ]
      }
     ],
     "prompt_number": 55
    },
    {
     "cell_type": "markdown",
     "metadata": {},
     "source": [
      "We use the familiar relation of fractions:\n",
      "\\begin{align}\n",
      "\\frac{\\epsilon}{\\Delta \\Delta' }\n",
      "=\\frac{\\epsilon}{\\Delta(2\\epsilon-\\Delta)}\n",
      "=\\frac{1}{2\\Delta} + \\frac{1}{2(2\\epsilon-\\Delta)}\n",
      "=\\frac{1}{2\\Delta} + \\frac{1}{2\\Delta'}\n",
      "\\end{align}"
     ]
    },
    {
     "cell_type": "code",
     "collapsed": false,
     "input": [
      "H14 = H13.subs(e / (D * D_), 1/(2*D) + 1/(2*D_))\n",
      "H14"
     ],
     "language": "python",
     "metadata": {},
     "outputs": [
      {
       "latex": [
        "$$\\frac{\\epsilon {\\sigma_z}}{2} + g^{2} \\left(\\frac{1}{2 \\Delta'} + \\frac{1}{2 \\Delta}\\right) {\\sigma_z} \\left(- \\left({{a}^\\dagger}\\right)^{2} - \\left({a}\\right)^{2}\\right) + \\omega {{a}^\\dagger} {a} + \\frac{g^{2} {\\sigma_z}}{\\Delta'} \\left(1 + 2 {{a}^\\dagger} {a} + \\left({{a}^\\dagger}\\right)^{2} + \\left({a}\\right)^{2}\\right) + \\frac{g^{2} {\\sigma_z}}{\\Delta'^{2}} \\left(- \\frac{\\epsilon}{2} - \\epsilon {{a}^\\dagger} {a} - \\frac{\\omega}{2} - \\omega {{a}^\\dagger} {a}\\right) + \\frac{g^{2} {\\sigma_z}}{\\Delta} \\left(1 + 2 {{a}^\\dagger} {a} + \\left({{a}^\\dagger}\\right)^{2} + \\left({a}\\right)^{2}\\right) + \\frac{g^{2} {\\sigma_z}}{\\Delta^{2}} \\left(- \\frac{\\epsilon}{2} - \\epsilon {{a}^\\dagger} {a} + \\frac{\\omega}{2} + \\omega {{a}^\\dagger} {a}\\right)$$"
       ],
       "metadata": {},
       "output_type": "pyout",
       "png": "[encoded data removed]",
       "prompt_number": 56,
       "text": [
        "                                                                        \u239b     \n",
        "                                     \u239b      2     \u239e             2       \u239c     \n",
        "\u03b5\u22c5False    2 \u239b    1        1 \u239e       \u239c  \u239b \u2020\u239e     2\u239f      \u2020     g \u22c5False\u22c5\u239d1 + 2\n",
        "\u2500\u2500\u2500\u2500\u2500\u2500\u2500 + g \u22c5\u239c\u2500\u2500\u2500\u2500\u2500\u2500\u2500\u2500\u2500 + \u2500\u2500\u2500\u239f\u22c5False\u22c5\u239d- \u239da \u23a0  - a \u23a0 + \u03c9\u22c5a \u22c5a + \u2500\u2500\u2500\u2500\u2500\u2500\u2500\u2500\u2500\u2500\u2500\u2500\u2500\u2500\u2500\n",
        "   2         \u239d2\u22c5\\Delta'   2\u22c5\u0394\u23a0                                              \\D\n",
        "                                                                              \n",
        "\n",
        "            2     \u239e    2       \u239b  \u03b5      \u2020     \u03c9      \u2020  \u239e            \u239b       \n",
        "  \u2020     \u239b \u2020\u239e     2\u239f   g \u22c5False\u22c5\u239c- \u2500 - \u03b5\u22c5a \u22c5a - \u2500 - \u03c9\u22c5a \u22c5a\u239f    2       \u239c       \n",
        "\u22c5a \u22c5a + \u239da \u23a0  + a \u23a0            \u239d  2            2         \u23a0   g \u22c5False\u22c5\u239d1 + 2\u22c5a\n",
        "\u2500\u2500\u2500\u2500\u2500\u2500\u2500\u2500\u2500\u2500\u2500\u2500\u2500\u2500\u2500\u2500\u2500\u2500\u2500 + \u2500\u2500\u2500\u2500\u2500\u2500\u2500\u2500\u2500\u2500\u2500\u2500\u2500\u2500\u2500\u2500\u2500\u2500\u2500\u2500\u2500\u2500\u2500\u2500\u2500\u2500\u2500\u2500\u2500\u2500\u2500\u2500\u2500\u2500\u2500\u2500 + \u2500\u2500\u2500\u2500\u2500\u2500\u2500\u2500\u2500\u2500\u2500\u2500\u2500\u2500\u2500\u2500\u2500\n",
        "elta'                                      2                                 \u0394\n",
        "                                    \\Delta'                                   \n",
        "\n",
        "          2     \u239e    2       \u239b  \u03b5      \u2020     \u03c9      \u2020  \u239e\n",
        "\u2020     \u239b \u2020\u239e     2\u239f   g \u22c5False\u22c5\u239c- \u2500 - \u03b5\u22c5a \u22c5a + \u2500 + \u03c9\u22c5a \u22c5a\u239f\n",
        " \u22c5a + \u239da \u23a0  + a \u23a0            \u239d  2            2         \u23a0\n",
        "\u2500\u2500\u2500\u2500\u2500\u2500\u2500\u2500\u2500\u2500\u2500\u2500\u2500\u2500\u2500\u2500\u2500 + \u2500\u2500\u2500\u2500\u2500\u2500\u2500\u2500\u2500\u2500\u2500\u2500\u2500\u2500\u2500\u2500\u2500\u2500\u2500\u2500\u2500\u2500\u2500\u2500\u2500\u2500\u2500\u2500\u2500\u2500\u2500\u2500\u2500\u2500\u2500\u2500\n",
        "                                      2                 \n",
        "                                     \u0394                  "
       ]
      }
     ],
     "prompt_number": 56
    },
    {
     "cell_type": "code",
     "collapsed": false,
     "input": [
      "H15 = Add(*[simplify(Mul(*[f.factor() for f in t.args])) for t in H14.args]).subs({e-w: D, e+w: D_})\n",
      "H15"
     ],
     "language": "python",
     "metadata": {},
     "outputs": [
      {
       "latex": [
        "$$\\frac{\\epsilon {\\sigma_z}}{2} + \\omega {{a}^\\dagger} {a} - \\frac{g^{2} {\\sigma_z}}{2 \\Delta'} \\left(1 + 2 {{a}^\\dagger} {a}\\right) + \\frac{g^{2} {\\sigma_z}}{\\Delta'} \\left(1 + 2 {{a}^\\dagger} {a} + \\left({{a}^\\dagger}\\right)^{2} + \\left({a}\\right)^{2}\\right) - \\frac{g^{2} {\\sigma_z}}{2 \\Delta} \\left(1 + 2 {{a}^\\dagger} {a}\\right) + \\frac{g^{2} {\\sigma_z}}{\\Delta} \\left(1 + 2 {{a}^\\dagger} {a} + \\left({{a}^\\dagger}\\right)^{2} + \\left({a}\\right)^{2}\\right) - \\frac{g^{2} {\\sigma_z}}{2 \\Delta \\Delta'} \\left(\\Delta + \\Delta'\\right) \\left(\\left({{a}^\\dagger}\\right)^{2} + \\left({a}\\right)^{2}\\right)$$"
       ],
       "metadata": {},
       "output_type": "pyout",
       "png": "[encoded data removed]",
       "prompt_number": 57,
       "text": [
        "                                                    \u239b                 2     \u239e \n",
        "                    2       \u239b       \u2020  \u239e    2       \u239c       \u2020     \u239b \u2020\u239e     2\u239f \n",
        "\u03b5\u22c5False      \u2020     g \u22c5False\u22c5\u239d1 + 2\u22c5a \u22c5a\u23a0   g \u22c5False\u22c5\u239d1 + 2\u22c5a \u22c5a + \u239da \u23a0  + a \u23a0 \n",
        "\u2500\u2500\u2500\u2500\u2500\u2500\u2500 + \u03c9\u22c5a \u22c5a - \u2500\u2500\u2500\u2500\u2500\u2500\u2500\u2500\u2500\u2500\u2500\u2500\u2500\u2500\u2500\u2500\u2500\u2500\u2500\u2500\u2500 + \u2500\u2500\u2500\u2500\u2500\u2500\u2500\u2500\u2500\u2500\u2500\u2500\u2500\u2500\u2500\u2500\u2500\u2500\u2500\u2500\u2500\u2500\u2500\u2500\u2500\u2500\u2500\u2500\u2500\u2500\u2500\u2500\u2500\u2500 \n",
        "   2                     2\u22c5\\Delta'                      \\Delta'               \n",
        "\n",
        "                                   \u239b                 2     \u239e                  \n",
        "   2       \u239b       \u2020  \u239e    2       \u239c       \u2020     \u239b \u2020\u239e     2\u239f    2             \n",
        "  g \u22c5False\u22c5\u239d1 + 2\u22c5a \u22c5a\u23a0   g \u22c5False\u22c5\u239d1 + 2\u22c5a \u22c5a + \u239da \u23a0  + a \u23a0   g \u22c5(\u0394 + \\Delta'\n",
        "- \u2500\u2500\u2500\u2500\u2500\u2500\u2500\u2500\u2500\u2500\u2500\u2500\u2500\u2500\u2500\u2500\u2500\u2500\u2500\u2500\u2500 + \u2500\u2500\u2500\u2500\u2500\u2500\u2500\u2500\u2500\u2500\u2500\u2500\u2500\u2500\u2500\u2500\u2500\u2500\u2500\u2500\u2500\u2500\u2500\u2500\u2500\u2500\u2500\u2500\u2500\u2500\u2500\u2500\u2500\u2500 - \u2500\u2500\u2500\u2500\u2500\u2500\u2500\u2500\u2500\u2500\u2500\u2500\u2500\u2500\u2500\n",
        "           2\u22c5\u0394                            \u0394                                2\u22c5\u0394\n",
        "\n",
        "        \u239b    2     \u239e\n",
        "        \u239c\u239b \u2020\u239e     2\u239f\n",
        ")\u22c5False\u22c5\u239d\u239da \u23a0  + a \u23a0\n",
        "\u2500\u2500\u2500\u2500\u2500\u2500\u2500\u2500\u2500\u2500\u2500\u2500\u2500\u2500\u2500\u2500\u2500\u2500\u2500\u2500\n",
        "\u22c5\\Delta'            "
       ]
      }
     ],
     "prompt_number": 57
    },
    {
     "cell_type": "markdown",
     "metadata": {},
     "source": [
      "for simplicity, let $A = a^\\dagger + a$"
     ]
    },
    {
     "cell_type": "code",
     "collapsed": false,
     "input": [
      "A = Operator('A')  # a + Dagger(a)\n",
      "Asq = qsimplify(((a + Dagger(a))**2).expand())"
     ],
     "language": "python",
     "metadata": {},
     "outputs": [],
     "prompt_number": 58
    },
    {
     "cell_type": "code",
     "collapsed": false,
     "input": [
      "H16 = H15.subs({Asq: A**2,\n",
      "                1 + 2 * Dagger(a) * a: A**2 - a**2 - Dagger(a)**2}).expand()\n",
      "H16"
     ],
     "language": "python",
     "metadata": {},
     "outputs": [
      {
       "latex": [
        "$$\\frac{\\epsilon {\\sigma_z}}{2} + \\omega {{a}^\\dagger} {a} + \\frac{g^{2} {\\sigma_z} \\left(A\\right)^{2}}{2 \\Delta'} + \\frac{g^{2} {\\sigma_z} \\left(A\\right)^{2}}{2 \\Delta}$$"
       ],
       "metadata": {},
       "output_type": "pyout",
       "png": "[encoded data removed]",
       "prompt_number": 59,
       "text": [
        "                    2        2    2        2\n",
        "\u03b5\u22c5False      \u2020     g \u22c5False\u22c5A    g \u22c5False\u22c5A \n",
        "\u2500\u2500\u2500\u2500\u2500\u2500\u2500 + \u03c9\u22c5a \u22c5a + \u2500\u2500\u2500\u2500\u2500\u2500\u2500\u2500\u2500\u2500\u2500 + \u2500\u2500\u2500\u2500\u2500\u2500\u2500\u2500\u2500\u2500\u2500\n",
        "   2                2\u22c5\\Delta'        2\u22c5\u0394    "
       ]
      }
     ],
     "prompt_number": 59
    },
    {
     "cell_type": "code",
     "collapsed": false,
     "input": [
      "H17 = collect(H16, g**2*sz*A).subs({A: a + Dagger(a),\n",
      "                                    D_: 2 * e - D})\n",
      "\n",
      "Eq(Symbol(\"H_disp\"), H17)"
     ],
     "language": "python",
     "metadata": {},
     "outputs": [
      {
       "latex": [
        "$$H_{disp} = \\frac{\\epsilon {\\sigma_z}}{2} + g^{2} \\left(\\frac{1}{- 2 \\Delta + 4 \\epsilon} + \\frac{1}{2 \\Delta}\\right) {\\sigma_z} \\left({{a}^\\dagger} + {a}\\right)^{2} + \\omega {{a}^\\dagger} {a}$$"
       ],
       "metadata": {},
       "output_type": "pyout",
       "png": "[encoded data removed]",
       "prompt_number": 60,
       "text": [
        "                                                         2         \n",
        "         \u03b5\u22c5False    2 \u239b     1          1 \u239e       \u239b \u2020    \u239e       \u2020  \n",
        "H_disp = \u2500\u2500\u2500\u2500\u2500\u2500\u2500 + g \u22c5\u239c\u2500\u2500\u2500\u2500\u2500\u2500\u2500\u2500\u2500\u2500\u2500\u2500 + \u2500\u2500\u2500\u239f\u22c5False\u22c5\u239da  + a\u23a0  + \u03c9\u22c5a \u22c5a\n",
        "            2         \u239d2\u22c5(-\u0394 + 2\u22c5\u03b5)   2\u22c5\u0394\u23a0                         "
       ]
      }
     ],
     "prompt_number": 60
    },
    {
     "cell_type": "markdown",
     "metadata": {},
     "source": [
      "This is the dispersive Hamiltonian obtained without regard to the RWA Hamiltonian in the beginning. The prefactor of the coupling has a contribution arising not only from $\\lambda_1 = g/\\Delta$, but also from $\\lambda_2=g/(2\\epsilon-\\Delta)$. Also, the coupling is proportional to $(a^\\dagger + a)^2$. "
     ]
    },
    {
     "cell_type": "markdown",
     "metadata": {},
     "source": [
      "This Hamiltonian is not diagonal in the eigenbasis of the uncoupled Hamiltonian $H_0$. Nevertheless, it is still possible to interpret this result as a qubit-state dependent frequency shift."
     ]
    },
    {
     "cell_type": "markdown",
     "metadata": {},
     "source": [
      "Interpreting $\\hbar\\omega a^\\dagger a$ as the Hamiltonian of a particle with unit mass in the potential $\\frac{1}{2}\\omega^2 x^2$, where $x=\\sqrt{\\frac{\\hbar}{2\\omega}}(a^\\dagger+a)$. The qubit-oscillator coupling modifies the potential curvature $\\omega^2$, such that the oscillator frequency undergoes a shift according to\n",
      "\\begin{align}\n",
      "\\omega \\ \\rightarrow \\ \\overline{\\omega} = \\omega\\sqrt{1\\pm \\frac{2g^2}{\\omega} \\left( \\frac{1}{\\Delta} + \\frac{1}{2\\epsilon-\\Delta}\\right)}.\n",
      "\\end{align}\n",
      "where the $\\pm$ sign depends on the qubit state."
     ]
    },
    {
     "cell_type": "markdown",
     "metadata": {},
     "source": [
      "In the experimentally interesting parameter regime where $g<\\omega$, we can expand this expression to obtain\n",
      "\\begin{align}\n",
      "\\overline{\\omega} = \\omega \\pm g^2 \\left( \\frac{1}{\\Delta} + \\frac{1}{2\\epsilon-\\Delta}\\right).\n",
      "\\end{align}"
     ]
    },
    {
     "cell_type": "heading",
     "level": 3,
     "metadata": {},
     "source": [
      "Version Information"
     ]
    },
    {
     "cell_type": "code",
     "collapsed": false,
     "input": [
      "%reload_ext version_information\n",
      "\n",
      "%version_information sympy, sympsi"
     ],
     "language": "python",
     "metadata": {},
     "outputs": [
      {
       "html": [
        "<table><tr><th>Software</th><th>Version</th></tr><tr><td>Python</td><td>3.4.1 (default, Sep 20 2014, 19:44:17) [GCC 4.2.1 Compatible Apple LLVM 5.1 (clang-503.0.40)]</td></tr><tr><td>IPython</td><td>2.3.0</td></tr><tr><td>OS</td><td>posix [darwin]</td></tr><tr><td>sympy</td><td>0.7.5-git</td></tr><tr><td>sympsi</td><td>0.1.0.dev-11eaf6c</td></tr><tr><td colspan='2'>Fri Oct 24 15:12:56 2014 JST</td></tr></table>"
       ],
       "json": [
        "{\"Software versions\": [{\"module\": \"Python\", \"version\": \"3.4.1 (default, Sep 20 2014, 19:44:17) [GCC 4.2.1 Compatible Apple LLVM 5.1 (clang-503.0.40)]\"}, {\"module\": \"IPython\", \"version\": \"2.3.0\"}, {\"module\": \"OS\", \"version\": \"posix [darwin]\"}, {\"module\": \"sympy\", \"version\": \"0.7.5-git\"}, {\"module\": \"sympsi\", \"version\": \"0.1.0.dev-11eaf6c\"}]}"
       ],
       "latex": [
        "\\begin{tabular}{|l|l|}\\hline\n",
        "{\\bf Software} & {\\bf Version} \\\\ \\hline\\hline\n",
        "Python & 3.4.1 (default, Sep 20 2014, 19:44:17) [GCC 4.2.1 Compatible Apple LLVM 5.1 (clang-503.0.40)] \\\\ \\hline\n",
        "IPython & 2.3.0 \\\\ \\hline\n",
        "OS & posix [darwin] \\\\ \\hline\n",
        "sympy & 0.7.5-git \\\\ \\hline\n",
        "sympsi & 0.1.0.dev-11eaf6c \\\\ \\hline\n",
        "\\hline \\multicolumn{2}{|l|}{Fri Oct 24 15:12:56 2014 JST} \\\\ \\hline\n",
        "\\end{tabular}\n"
       ],
       "metadata": {},
       "output_type": "pyout",
       "prompt_number": 1,
       "text": [
        "Software versions\n",
        "Python 3.4.1 (default, Sep 20 2014, 19:44:17) [GCC 4.2.1 Compatible Apple LLVM 5.1 (clang-503.0.40)]\n",
        "IPython 2.3.0\n",
        "OS posix [darwin]\n",
        "sympy 0.7.5-git\n",
        "sympsi 0.1.0.dev-11eaf6c\n",
        "<tr><td colspan='2'>Fri Oct 24 15:12:56 2014 JST</td></tr>"
       ]
      }
     ],
     "prompt_number": 1
    }
   ],
   "metadata": {}
  }
 ]
}